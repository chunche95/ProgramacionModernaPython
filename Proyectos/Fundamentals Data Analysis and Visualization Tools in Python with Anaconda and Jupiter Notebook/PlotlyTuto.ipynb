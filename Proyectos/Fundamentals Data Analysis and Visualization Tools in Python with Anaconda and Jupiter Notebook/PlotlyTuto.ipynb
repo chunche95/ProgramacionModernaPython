{
 "cells": [
  {
   "cell_type": "code",
   "execution_count": 6,
   "metadata": {},
   "outputs": [],
   "source": [
    "import plotly.express as px\n",
    "import pandas as pd\n",
    "import numpy as np"
   ]
  },
  {
   "cell_type": "code",
   "execution_count": 8,
   "metadata": {},
   "outputs": [
    {
     "data": {
      "text/html": [
       "<div>\n",
       "<style scoped>\n",
       "    .dataframe tbody tr th:only-of-type {\n",
       "        vertical-align: middle;\n",
       "    }\n",
       "\n",
       "    .dataframe tbody tr th {\n",
       "        vertical-align: top;\n",
       "    }\n",
       "\n",
       "    .dataframe thead th {\n",
       "        text-align: right;\n",
       "    }\n",
       "</style>\n",
       "<table border=\"1\" class=\"dataframe\">\n",
       "  <thead>\n",
       "    <tr style=\"text-align: right;\">\n",
       "      <th></th>\n",
       "      <th>Name</th>\n",
       "      <th>Type 1</th>\n",
       "      <th>Type 2</th>\n",
       "      <th>Total</th>\n",
       "      <th>HP</th>\n",
       "      <th>Attack</th>\n",
       "      <th>Defense</th>\n",
       "      <th>Sp. Atk</th>\n",
       "      <th>Sp. Def</th>\n",
       "      <th>Speed</th>\n",
       "      <th>Stage</th>\n",
       "      <th>Legendary</th>\n",
       "    </tr>\n",
       "    <tr>\n",
       "      <th>#</th>\n",
       "      <th></th>\n",
       "      <th></th>\n",
       "      <th></th>\n",
       "      <th></th>\n",
       "      <th></th>\n",
       "      <th></th>\n",
       "      <th></th>\n",
       "      <th></th>\n",
       "      <th></th>\n",
       "      <th></th>\n",
       "      <th></th>\n",
       "      <th></th>\n",
       "    </tr>\n",
       "  </thead>\n",
       "  <tbody>\n",
       "    <tr>\n",
       "      <th>1</th>\n",
       "      <td>Bulbasaur</td>\n",
       "      <td>Grass</td>\n",
       "      <td>Poison</td>\n",
       "      <td>318</td>\n",
       "      <td>45</td>\n",
       "      <td>49</td>\n",
       "      <td>49</td>\n",
       "      <td>65</td>\n",
       "      <td>65</td>\n",
       "      <td>45</td>\n",
       "      <td>1</td>\n",
       "      <td>False</td>\n",
       "    </tr>\n",
       "    <tr>\n",
       "      <th>2</th>\n",
       "      <td>Ivysaur</td>\n",
       "      <td>Grass</td>\n",
       "      <td>Poison</td>\n",
       "      <td>405</td>\n",
       "      <td>60</td>\n",
       "      <td>62</td>\n",
       "      <td>63</td>\n",
       "      <td>80</td>\n",
       "      <td>80</td>\n",
       "      <td>60</td>\n",
       "      <td>2</td>\n",
       "      <td>False</td>\n",
       "    </tr>\n",
       "    <tr>\n",
       "      <th>3</th>\n",
       "      <td>Venusaur</td>\n",
       "      <td>Grass</td>\n",
       "      <td>Poison</td>\n",
       "      <td>525</td>\n",
       "      <td>80</td>\n",
       "      <td>82</td>\n",
       "      <td>83</td>\n",
       "      <td>100</td>\n",
       "      <td>100</td>\n",
       "      <td>80</td>\n",
       "      <td>3</td>\n",
       "      <td>False</td>\n",
       "    </tr>\n",
       "    <tr>\n",
       "      <th>4</th>\n",
       "      <td>Charmander</td>\n",
       "      <td>Fire</td>\n",
       "      <td>NaN</td>\n",
       "      <td>309</td>\n",
       "      <td>39</td>\n",
       "      <td>52</td>\n",
       "      <td>43</td>\n",
       "      <td>60</td>\n",
       "      <td>50</td>\n",
       "      <td>65</td>\n",
       "      <td>1</td>\n",
       "      <td>False</td>\n",
       "    </tr>\n",
       "    <tr>\n",
       "      <th>5</th>\n",
       "      <td>Charmeleon</td>\n",
       "      <td>Fire</td>\n",
       "      <td>NaN</td>\n",
       "      <td>405</td>\n",
       "      <td>58</td>\n",
       "      <td>64</td>\n",
       "      <td>58</td>\n",
       "      <td>80</td>\n",
       "      <td>65</td>\n",
       "      <td>80</td>\n",
       "      <td>2</td>\n",
       "      <td>False</td>\n",
       "    </tr>\n",
       "  </tbody>\n",
       "</table>\n",
       "</div>"
      ],
      "text/plain": [
       "         Name Type 1  Type 2  Total  HP  Attack  Defense  Sp. Atk  Sp. Def  \\\n",
       "#                                                                            \n",
       "1   Bulbasaur  Grass  Poison    318  45      49       49       65       65   \n",
       "2     Ivysaur  Grass  Poison    405  60      62       63       80       80   \n",
       "3    Venusaur  Grass  Poison    525  80      82       83      100      100   \n",
       "4  Charmander   Fire     NaN    309  39      52       43       60       50   \n",
       "5  Charmeleon   Fire     NaN    405  58      64       58       80       65   \n",
       "\n",
       "   Speed  Stage  Legendary  \n",
       "#                           \n",
       "1     45      1      False  \n",
       "2     60      2      False  \n",
       "3     80      3      False  \n",
       "4     65      1      False  \n",
       "5     80      2      False  "
      ]
     },
     "execution_count": 8,
     "metadata": {},
     "output_type": "execute_result"
    }
   ],
   "source": [
    "df = pd.read_csv('Pokemon.csv', index_col=0, encoding = 'unicode_escape')\n",
    "df.head()"
   ]
  },
  {
   "cell_type": "code",
   "execution_count": 10,
   "metadata": {},
   "outputs": [
    {
     "data": {
      "application/vnd.plotly.v1+json": {
       "config": {
        "plotlyServerURL": "https://plot.ly"
       },
       "data": [
        {
         "hovertemplate": "Attack=%{x}<br>Defense=%{y}<extra></extra>",
         "legendgroup": "",
         "marker": {
          "color": "#636efa",
          "symbol": "circle"
         },
         "mode": "markers",
         "name": "",
         "orientation": "v",
         "showlegend": false,
         "type": "scatter",
         "x": [
          49,
          62,
          82,
          52,
          64,
          84,
          48,
          63,
          83,
          30,
          20,
          45,
          35,
          25,
          90,
          45,
          60,
          80,
          56,
          81,
          60,
          90,
          60,
          85,
          55,
          90,
          75,
          100,
          47,
          62,
          92,
          57,
          72,
          102,
          45,
          70,
          41,
          76,
          45,
          70,
          45,
          80,
          50,
          65,
          80,
          70,
          95,
          55,
          65,
          55,
          80,
          45,
          70,
          52,
          82,
          80,
          105,
          70,
          110,
          50,
          65,
          95,
          20,
          35,
          50,
          80,
          100,
          130,
          75,
          90,
          105,
          40,
          70,
          80,
          95,
          120,
          85,
          100,
          65,
          75,
          35,
          60,
          65,
          85,
          110,
          45,
          70,
          80,
          105,
          65,
          95,
          35,
          50,
          65,
          45,
          48,
          73,
          105,
          130,
          30,
          50,
          40,
          95,
          50,
          80,
          120,
          105,
          55,
          65,
          90,
          85,
          130,
          5,
          55,
          95,
          40,
          65,
          67,
          92,
          45,
          75,
          45,
          110,
          50,
          83,
          95,
          125,
          100,
          10,
          125,
          85,
          48,
          55,
          65,
          65,
          130,
          60,
          40,
          60,
          80,
          115,
          105,
          110,
          85,
          90,
          100,
          64,
          84,
          134,
          110,
          100
         ],
         "xaxis": "x",
         "y": [
          49,
          63,
          83,
          43,
          58,
          78,
          65,
          80,
          100,
          35,
          55,
          50,
          30,
          50,
          40,
          40,
          55,
          75,
          35,
          60,
          30,
          65,
          44,
          69,
          40,
          55,
          85,
          110,
          52,
          67,
          87,
          40,
          57,
          77,
          48,
          73,
          40,
          75,
          20,
          45,
          35,
          70,
          55,
          70,
          85,
          55,
          80,
          50,
          60,
          25,
          50,
          35,
          60,
          48,
          78,
          35,
          60,
          45,
          80,
          40,
          65,
          95,
          15,
          30,
          45,
          50,
          70,
          80,
          35,
          50,
          65,
          35,
          65,
          100,
          115,
          130,
          55,
          70,
          65,
          110,
          70,
          95,
          55,
          45,
          70,
          55,
          80,
          50,
          75,
          100,
          180,
          30,
          45,
          60,
          160,
          45,
          70,
          90,
          115,
          50,
          70,
          80,
          85,
          95,
          110,
          53,
          79,
          75,
          95,
          120,
          95,
          120,
          5,
          115,
          80,
          70,
          95,
          60,
          65,
          55,
          85,
          65,
          80,
          35,
          57,
          57,
          100,
          95,
          55,
          79,
          80,
          48,
          50,
          60,
          60,
          60,
          70,
          100,
          125,
          90,
          105,
          65,
          65,
          100,
          85,
          90,
          45,
          65,
          95,
          90,
          100
         ],
         "yaxis": "y"
        }
       ],
       "layout": {
        "legend": {
         "tracegroupgap": 0
        },
        "margin": {
         "t": 60
        },
        "template": {
         "data": {
          "bar": [
           {
            "error_x": {
             "color": "#2a3f5f"
            },
            "error_y": {
             "color": "#2a3f5f"
            },
            "marker": {
             "line": {
              "color": "#E5ECF6",
              "width": 0.5
             }
            },
            "type": "bar"
           }
          ],
          "barpolar": [
           {
            "marker": {
             "line": {
              "color": "#E5ECF6",
              "width": 0.5
             }
            },
            "type": "barpolar"
           }
          ],
          "carpet": [
           {
            "aaxis": {
             "endlinecolor": "#2a3f5f",
             "gridcolor": "white",
             "linecolor": "white",
             "minorgridcolor": "white",
             "startlinecolor": "#2a3f5f"
            },
            "baxis": {
             "endlinecolor": "#2a3f5f",
             "gridcolor": "white",
             "linecolor": "white",
             "minorgridcolor": "white",
             "startlinecolor": "#2a3f5f"
            },
            "type": "carpet"
           }
          ],
          "choropleth": [
           {
            "colorbar": {
             "outlinewidth": 0,
             "ticks": ""
            },
            "type": "choropleth"
           }
          ],
          "contour": [
           {
            "colorbar": {
             "outlinewidth": 0,
             "ticks": ""
            },
            "colorscale": [
             [
              0,
              "#0d0887"
             ],
             [
              0.1111111111111111,
              "#46039f"
             ],
             [
              0.2222222222222222,
              "#7201a8"
             ],
             [
              0.3333333333333333,
              "#9c179e"
             ],
             [
              0.4444444444444444,
              "#bd3786"
             ],
             [
              0.5555555555555556,
              "#d8576b"
             ],
             [
              0.6666666666666666,
              "#ed7953"
             ],
             [
              0.7777777777777778,
              "#fb9f3a"
             ],
             [
              0.8888888888888888,
              "#fdca26"
             ],
             [
              1,
              "#f0f921"
             ]
            ],
            "type": "contour"
           }
          ],
          "contourcarpet": [
           {
            "colorbar": {
             "outlinewidth": 0,
             "ticks": ""
            },
            "type": "contourcarpet"
           }
          ],
          "heatmap": [
           {
            "colorbar": {
             "outlinewidth": 0,
             "ticks": ""
            },
            "colorscale": [
             [
              0,
              "#0d0887"
             ],
             [
              0.1111111111111111,
              "#46039f"
             ],
             [
              0.2222222222222222,
              "#7201a8"
             ],
             [
              0.3333333333333333,
              "#9c179e"
             ],
             [
              0.4444444444444444,
              "#bd3786"
             ],
             [
              0.5555555555555556,
              "#d8576b"
             ],
             [
              0.6666666666666666,
              "#ed7953"
             ],
             [
              0.7777777777777778,
              "#fb9f3a"
             ],
             [
              0.8888888888888888,
              "#fdca26"
             ],
             [
              1,
              "#f0f921"
             ]
            ],
            "type": "heatmap"
           }
          ],
          "heatmapgl": [
           {
            "colorbar": {
             "outlinewidth": 0,
             "ticks": ""
            },
            "colorscale": [
             [
              0,
              "#0d0887"
             ],
             [
              0.1111111111111111,
              "#46039f"
             ],
             [
              0.2222222222222222,
              "#7201a8"
             ],
             [
              0.3333333333333333,
              "#9c179e"
             ],
             [
              0.4444444444444444,
              "#bd3786"
             ],
             [
              0.5555555555555556,
              "#d8576b"
             ],
             [
              0.6666666666666666,
              "#ed7953"
             ],
             [
              0.7777777777777778,
              "#fb9f3a"
             ],
             [
              0.8888888888888888,
              "#fdca26"
             ],
             [
              1,
              "#f0f921"
             ]
            ],
            "type": "heatmapgl"
           }
          ],
          "histogram": [
           {
            "marker": {
             "colorbar": {
              "outlinewidth": 0,
              "ticks": ""
             }
            },
            "type": "histogram"
           }
          ],
          "histogram2d": [
           {
            "colorbar": {
             "outlinewidth": 0,
             "ticks": ""
            },
            "colorscale": [
             [
              0,
              "#0d0887"
             ],
             [
              0.1111111111111111,
              "#46039f"
             ],
             [
              0.2222222222222222,
              "#7201a8"
             ],
             [
              0.3333333333333333,
              "#9c179e"
             ],
             [
              0.4444444444444444,
              "#bd3786"
             ],
             [
              0.5555555555555556,
              "#d8576b"
             ],
             [
              0.6666666666666666,
              "#ed7953"
             ],
             [
              0.7777777777777778,
              "#fb9f3a"
             ],
             [
              0.8888888888888888,
              "#fdca26"
             ],
             [
              1,
              "#f0f921"
             ]
            ],
            "type": "histogram2d"
           }
          ],
          "histogram2dcontour": [
           {
            "colorbar": {
             "outlinewidth": 0,
             "ticks": ""
            },
            "colorscale": [
             [
              0,
              "#0d0887"
             ],
             [
              0.1111111111111111,
              "#46039f"
             ],
             [
              0.2222222222222222,
              "#7201a8"
             ],
             [
              0.3333333333333333,
              "#9c179e"
             ],
             [
              0.4444444444444444,
              "#bd3786"
             ],
             [
              0.5555555555555556,
              "#d8576b"
             ],
             [
              0.6666666666666666,
              "#ed7953"
             ],
             [
              0.7777777777777778,
              "#fb9f3a"
             ],
             [
              0.8888888888888888,
              "#fdca26"
             ],
             [
              1,
              "#f0f921"
             ]
            ],
            "type": "histogram2dcontour"
           }
          ],
          "mesh3d": [
           {
            "colorbar": {
             "outlinewidth": 0,
             "ticks": ""
            },
            "type": "mesh3d"
           }
          ],
          "parcoords": [
           {
            "line": {
             "colorbar": {
              "outlinewidth": 0,
              "ticks": ""
             }
            },
            "type": "parcoords"
           }
          ],
          "pie": [
           {
            "automargin": true,
            "type": "pie"
           }
          ],
          "scatter": [
           {
            "marker": {
             "colorbar": {
              "outlinewidth": 0,
              "ticks": ""
             }
            },
            "type": "scatter"
           }
          ],
          "scatter3d": [
           {
            "line": {
             "colorbar": {
              "outlinewidth": 0,
              "ticks": ""
             }
            },
            "marker": {
             "colorbar": {
              "outlinewidth": 0,
              "ticks": ""
             }
            },
            "type": "scatter3d"
           }
          ],
          "scattercarpet": [
           {
            "marker": {
             "colorbar": {
              "outlinewidth": 0,
              "ticks": ""
             }
            },
            "type": "scattercarpet"
           }
          ],
          "scattergeo": [
           {
            "marker": {
             "colorbar": {
              "outlinewidth": 0,
              "ticks": ""
             }
            },
            "type": "scattergeo"
           }
          ],
          "scattergl": [
           {
            "marker": {
             "colorbar": {
              "outlinewidth": 0,
              "ticks": ""
             }
            },
            "type": "scattergl"
           }
          ],
          "scattermapbox": [
           {
            "marker": {
             "colorbar": {
              "outlinewidth": 0,
              "ticks": ""
             }
            },
            "type": "scattermapbox"
           }
          ],
          "scatterpolar": [
           {
            "marker": {
             "colorbar": {
              "outlinewidth": 0,
              "ticks": ""
             }
            },
            "type": "scatterpolar"
           }
          ],
          "scatterpolargl": [
           {
            "marker": {
             "colorbar": {
              "outlinewidth": 0,
              "ticks": ""
             }
            },
            "type": "scatterpolargl"
           }
          ],
          "scatterternary": [
           {
            "marker": {
             "colorbar": {
              "outlinewidth": 0,
              "ticks": ""
             }
            },
            "type": "scatterternary"
           }
          ],
          "surface": [
           {
            "colorbar": {
             "outlinewidth": 0,
             "ticks": ""
            },
            "colorscale": [
             [
              0,
              "#0d0887"
             ],
             [
              0.1111111111111111,
              "#46039f"
             ],
             [
              0.2222222222222222,
              "#7201a8"
             ],
             [
              0.3333333333333333,
              "#9c179e"
             ],
             [
              0.4444444444444444,
              "#bd3786"
             ],
             [
              0.5555555555555556,
              "#d8576b"
             ],
             [
              0.6666666666666666,
              "#ed7953"
             ],
             [
              0.7777777777777778,
              "#fb9f3a"
             ],
             [
              0.8888888888888888,
              "#fdca26"
             ],
             [
              1,
              "#f0f921"
             ]
            ],
            "type": "surface"
           }
          ],
          "table": [
           {
            "cells": {
             "fill": {
              "color": "#EBF0F8"
             },
             "line": {
              "color": "white"
             }
            },
            "header": {
             "fill": {
              "color": "#C8D4E3"
             },
             "line": {
              "color": "white"
             }
            },
            "type": "table"
           }
          ]
         },
         "layout": {
          "annotationdefaults": {
           "arrowcolor": "#2a3f5f",
           "arrowhead": 0,
           "arrowwidth": 1
          },
          "autotypenumbers": "strict",
          "coloraxis": {
           "colorbar": {
            "outlinewidth": 0,
            "ticks": ""
           }
          },
          "colorscale": {
           "diverging": [
            [
             0,
             "#8e0152"
            ],
            [
             0.1,
             "#c51b7d"
            ],
            [
             0.2,
             "#de77ae"
            ],
            [
             0.3,
             "#f1b6da"
            ],
            [
             0.4,
             "#fde0ef"
            ],
            [
             0.5,
             "#f7f7f7"
            ],
            [
             0.6,
             "#e6f5d0"
            ],
            [
             0.7,
             "#b8e186"
            ],
            [
             0.8,
             "#7fbc41"
            ],
            [
             0.9,
             "#4d9221"
            ],
            [
             1,
             "#276419"
            ]
           ],
           "sequential": [
            [
             0,
             "#0d0887"
            ],
            [
             0.1111111111111111,
             "#46039f"
            ],
            [
             0.2222222222222222,
             "#7201a8"
            ],
            [
             0.3333333333333333,
             "#9c179e"
            ],
            [
             0.4444444444444444,
             "#bd3786"
            ],
            [
             0.5555555555555556,
             "#d8576b"
            ],
            [
             0.6666666666666666,
             "#ed7953"
            ],
            [
             0.7777777777777778,
             "#fb9f3a"
            ],
            [
             0.8888888888888888,
             "#fdca26"
            ],
            [
             1,
             "#f0f921"
            ]
           ],
           "sequentialminus": [
            [
             0,
             "#0d0887"
            ],
            [
             0.1111111111111111,
             "#46039f"
            ],
            [
             0.2222222222222222,
             "#7201a8"
            ],
            [
             0.3333333333333333,
             "#9c179e"
            ],
            [
             0.4444444444444444,
             "#bd3786"
            ],
            [
             0.5555555555555556,
             "#d8576b"
            ],
            [
             0.6666666666666666,
             "#ed7953"
            ],
            [
             0.7777777777777778,
             "#fb9f3a"
            ],
            [
             0.8888888888888888,
             "#fdca26"
            ],
            [
             1,
             "#f0f921"
            ]
           ]
          },
          "colorway": [
           "#636efa",
           "#EF553B",
           "#00cc96",
           "#ab63fa",
           "#FFA15A",
           "#19d3f3",
           "#FF6692",
           "#B6E880",
           "#FF97FF",
           "#FECB52"
          ],
          "font": {
           "color": "#2a3f5f"
          },
          "geo": {
           "bgcolor": "white",
           "lakecolor": "white",
           "landcolor": "#E5ECF6",
           "showlakes": true,
           "showland": true,
           "subunitcolor": "white"
          },
          "hoverlabel": {
           "align": "left"
          },
          "hovermode": "closest",
          "mapbox": {
           "style": "light"
          },
          "paper_bgcolor": "white",
          "plot_bgcolor": "#E5ECF6",
          "polar": {
           "angularaxis": {
            "gridcolor": "white",
            "linecolor": "white",
            "ticks": ""
           },
           "bgcolor": "#E5ECF6",
           "radialaxis": {
            "gridcolor": "white",
            "linecolor": "white",
            "ticks": ""
           }
          },
          "scene": {
           "xaxis": {
            "backgroundcolor": "#E5ECF6",
            "gridcolor": "white",
            "gridwidth": 2,
            "linecolor": "white",
            "showbackground": true,
            "ticks": "",
            "zerolinecolor": "white"
           },
           "yaxis": {
            "backgroundcolor": "#E5ECF6",
            "gridcolor": "white",
            "gridwidth": 2,
            "linecolor": "white",
            "showbackground": true,
            "ticks": "",
            "zerolinecolor": "white"
           },
           "zaxis": {
            "backgroundcolor": "#E5ECF6",
            "gridcolor": "white",
            "gridwidth": 2,
            "linecolor": "white",
            "showbackground": true,
            "ticks": "",
            "zerolinecolor": "white"
           }
          },
          "shapedefaults": {
           "line": {
            "color": "#2a3f5f"
           }
          },
          "ternary": {
           "aaxis": {
            "gridcolor": "white",
            "linecolor": "white",
            "ticks": ""
           },
           "baxis": {
            "gridcolor": "white",
            "linecolor": "white",
            "ticks": ""
           },
           "bgcolor": "#E5ECF6",
           "caxis": {
            "gridcolor": "white",
            "linecolor": "white",
            "ticks": ""
           }
          },
          "title": {
           "x": 0.05
          },
          "xaxis": {
           "automargin": true,
           "gridcolor": "white",
           "linecolor": "white",
           "ticks": "",
           "title": {
            "standoff": 15
           },
           "zerolinecolor": "white",
           "zerolinewidth": 2
          },
          "yaxis": {
           "automargin": true,
           "gridcolor": "white",
           "linecolor": "white",
           "ticks": "",
           "title": {
            "standoff": 15
           },
           "zerolinecolor": "white",
           "zerolinewidth": 2
          }
         }
        },
        "xaxis": {
         "anchor": "y",
         "domain": [
          0,
          1
         ],
         "title": {
          "text": "Attack"
         }
        },
        "yaxis": {
         "anchor": "x",
         "domain": [
          0,
          1
         ],
         "title": {
          "text": "Defense"
         }
        }
       }
      },
      "text/html": [
       "<div>                            <div id=\"9bf33499-3ea8-4a2d-b15f-a395f5d85909\" class=\"plotly-graph-div\" style=\"height:525px; width:100%;\"></div>            <script type=\"text/javascript\">                require([\"plotly\"], function(Plotly) {                    window.PLOTLYENV=window.PLOTLYENV || {};                                    if (document.getElementById(\"9bf33499-3ea8-4a2d-b15f-a395f5d85909\")) {                    Plotly.newPlot(                        \"9bf33499-3ea8-4a2d-b15f-a395f5d85909\",                        [{\"hovertemplate\": \"Attack=%{x}<br>Defense=%{y}<extra></extra>\", \"legendgroup\": \"\", \"marker\": {\"color\": \"#636efa\", \"symbol\": \"circle\"}, \"mode\": \"markers\", \"name\": \"\", \"orientation\": \"v\", \"showlegend\": false, \"type\": \"scatter\", \"x\": [49, 62, 82, 52, 64, 84, 48, 63, 83, 30, 20, 45, 35, 25, 90, 45, 60, 80, 56, 81, 60, 90, 60, 85, 55, 90, 75, 100, 47, 62, 92, 57, 72, 102, 45, 70, 41, 76, 45, 70, 45, 80, 50, 65, 80, 70, 95, 55, 65, 55, 80, 45, 70, 52, 82, 80, 105, 70, 110, 50, 65, 95, 20, 35, 50, 80, 100, 130, 75, 90, 105, 40, 70, 80, 95, 120, 85, 100, 65, 75, 35, 60, 65, 85, 110, 45, 70, 80, 105, 65, 95, 35, 50, 65, 45, 48, 73, 105, 130, 30, 50, 40, 95, 50, 80, 120, 105, 55, 65, 90, 85, 130, 5, 55, 95, 40, 65, 67, 92, 45, 75, 45, 110, 50, 83, 95, 125, 100, 10, 125, 85, 48, 55, 65, 65, 130, 60, 40, 60, 80, 115, 105, 110, 85, 90, 100, 64, 84, 134, 110, 100], \"xaxis\": \"x\", \"y\": [49, 63, 83, 43, 58, 78, 65, 80, 100, 35, 55, 50, 30, 50, 40, 40, 55, 75, 35, 60, 30, 65, 44, 69, 40, 55, 85, 110, 52, 67, 87, 40, 57, 77, 48, 73, 40, 75, 20, 45, 35, 70, 55, 70, 85, 55, 80, 50, 60, 25, 50, 35, 60, 48, 78, 35, 60, 45, 80, 40, 65, 95, 15, 30, 45, 50, 70, 80, 35, 50, 65, 35, 65, 100, 115, 130, 55, 70, 65, 110, 70, 95, 55, 45, 70, 55, 80, 50, 75, 100, 180, 30, 45, 60, 160, 45, 70, 90, 115, 50, 70, 80, 85, 95, 110, 53, 79, 75, 95, 120, 95, 120, 5, 115, 80, 70, 95, 60, 65, 55, 85, 65, 80, 35, 57, 57, 100, 95, 55, 79, 80, 48, 50, 60, 60, 60, 70, 100, 125, 90, 105, 65, 65, 100, 85, 90, 45, 65, 95, 90, 100], \"yaxis\": \"y\"}],                        {\"legend\": {\"tracegroupgap\": 0}, \"margin\": {\"t\": 60}, \"template\": {\"data\": {\"bar\": [{\"error_x\": {\"color\": \"#2a3f5f\"}, \"error_y\": {\"color\": \"#2a3f5f\"}, \"marker\": {\"line\": {\"color\": \"#E5ECF6\", \"width\": 0.5}}, \"type\": \"bar\"}], \"barpolar\": [{\"marker\": {\"line\": {\"color\": \"#E5ECF6\", \"width\": 0.5}}, \"type\": \"barpolar\"}], \"carpet\": [{\"aaxis\": {\"endlinecolor\": \"#2a3f5f\", \"gridcolor\": \"white\", \"linecolor\": \"white\", \"minorgridcolor\": \"white\", \"startlinecolor\": \"#2a3f5f\"}, \"baxis\": {\"endlinecolor\": \"#2a3f5f\", \"gridcolor\": \"white\", \"linecolor\": \"white\", \"minorgridcolor\": \"white\", \"startlinecolor\": \"#2a3f5f\"}, \"type\": \"carpet\"}], \"choropleth\": [{\"colorbar\": {\"outlinewidth\": 0, \"ticks\": \"\"}, \"type\": \"choropleth\"}], \"contour\": [{\"colorbar\": {\"outlinewidth\": 0, \"ticks\": \"\"}, \"colorscale\": [[0.0, \"#0d0887\"], [0.1111111111111111, \"#46039f\"], [0.2222222222222222, \"#7201a8\"], [0.3333333333333333, \"#9c179e\"], [0.4444444444444444, \"#bd3786\"], [0.5555555555555556, \"#d8576b\"], [0.6666666666666666, \"#ed7953\"], [0.7777777777777778, \"#fb9f3a\"], [0.8888888888888888, \"#fdca26\"], [1.0, \"#f0f921\"]], \"type\": \"contour\"}], \"contourcarpet\": [{\"colorbar\": {\"outlinewidth\": 0, \"ticks\": \"\"}, \"type\": \"contourcarpet\"}], \"heatmap\": [{\"colorbar\": {\"outlinewidth\": 0, \"ticks\": \"\"}, \"colorscale\": [[0.0, \"#0d0887\"], [0.1111111111111111, \"#46039f\"], [0.2222222222222222, \"#7201a8\"], [0.3333333333333333, \"#9c179e\"], [0.4444444444444444, \"#bd3786\"], [0.5555555555555556, \"#d8576b\"], [0.6666666666666666, \"#ed7953\"], [0.7777777777777778, \"#fb9f3a\"], [0.8888888888888888, \"#fdca26\"], [1.0, \"#f0f921\"]], \"type\": \"heatmap\"}], \"heatmapgl\": [{\"colorbar\": {\"outlinewidth\": 0, \"ticks\": \"\"}, \"colorscale\": [[0.0, \"#0d0887\"], [0.1111111111111111, \"#46039f\"], [0.2222222222222222, \"#7201a8\"], [0.3333333333333333, \"#9c179e\"], [0.4444444444444444, \"#bd3786\"], [0.5555555555555556, \"#d8576b\"], [0.6666666666666666, \"#ed7953\"], [0.7777777777777778, \"#fb9f3a\"], [0.8888888888888888, \"#fdca26\"], [1.0, \"#f0f921\"]], \"type\": \"heatmapgl\"}], \"histogram\": [{\"marker\": {\"colorbar\": {\"outlinewidth\": 0, \"ticks\": \"\"}}, \"type\": \"histogram\"}], \"histogram2d\": [{\"colorbar\": {\"outlinewidth\": 0, \"ticks\": \"\"}, \"colorscale\": [[0.0, \"#0d0887\"], [0.1111111111111111, \"#46039f\"], [0.2222222222222222, \"#7201a8\"], [0.3333333333333333, \"#9c179e\"], [0.4444444444444444, \"#bd3786\"], [0.5555555555555556, \"#d8576b\"], [0.6666666666666666, \"#ed7953\"], [0.7777777777777778, \"#fb9f3a\"], [0.8888888888888888, \"#fdca26\"], [1.0, \"#f0f921\"]], \"type\": \"histogram2d\"}], \"histogram2dcontour\": [{\"colorbar\": {\"outlinewidth\": 0, \"ticks\": \"\"}, \"colorscale\": [[0.0, \"#0d0887\"], [0.1111111111111111, \"#46039f\"], [0.2222222222222222, \"#7201a8\"], [0.3333333333333333, \"#9c179e\"], [0.4444444444444444, \"#bd3786\"], [0.5555555555555556, \"#d8576b\"], [0.6666666666666666, \"#ed7953\"], [0.7777777777777778, \"#fb9f3a\"], [0.8888888888888888, \"#fdca26\"], [1.0, \"#f0f921\"]], \"type\": \"histogram2dcontour\"}], \"mesh3d\": [{\"colorbar\": {\"outlinewidth\": 0, \"ticks\": \"\"}, \"type\": \"mesh3d\"}], \"parcoords\": [{\"line\": {\"colorbar\": {\"outlinewidth\": 0, \"ticks\": \"\"}}, \"type\": \"parcoords\"}], \"pie\": [{\"automargin\": true, \"type\": \"pie\"}], \"scatter\": [{\"marker\": {\"colorbar\": {\"outlinewidth\": 0, \"ticks\": \"\"}}, \"type\": \"scatter\"}], \"scatter3d\": [{\"line\": {\"colorbar\": {\"outlinewidth\": 0, \"ticks\": \"\"}}, \"marker\": {\"colorbar\": {\"outlinewidth\": 0, \"ticks\": \"\"}}, \"type\": \"scatter3d\"}], \"scattercarpet\": [{\"marker\": {\"colorbar\": {\"outlinewidth\": 0, \"ticks\": \"\"}}, \"type\": \"scattercarpet\"}], \"scattergeo\": [{\"marker\": {\"colorbar\": {\"outlinewidth\": 0, \"ticks\": \"\"}}, \"type\": \"scattergeo\"}], \"scattergl\": [{\"marker\": {\"colorbar\": {\"outlinewidth\": 0, \"ticks\": \"\"}}, \"type\": \"scattergl\"}], \"scattermapbox\": [{\"marker\": {\"colorbar\": {\"outlinewidth\": 0, \"ticks\": \"\"}}, \"type\": \"scattermapbox\"}], \"scatterpolar\": [{\"marker\": {\"colorbar\": {\"outlinewidth\": 0, \"ticks\": \"\"}}, \"type\": \"scatterpolar\"}], \"scatterpolargl\": [{\"marker\": {\"colorbar\": {\"outlinewidth\": 0, \"ticks\": \"\"}}, \"type\": \"scatterpolargl\"}], \"scatterternary\": [{\"marker\": {\"colorbar\": {\"outlinewidth\": 0, \"ticks\": \"\"}}, \"type\": \"scatterternary\"}], \"surface\": [{\"colorbar\": {\"outlinewidth\": 0, \"ticks\": \"\"}, \"colorscale\": [[0.0, \"#0d0887\"], [0.1111111111111111, \"#46039f\"], [0.2222222222222222, \"#7201a8\"], [0.3333333333333333, \"#9c179e\"], [0.4444444444444444, \"#bd3786\"], [0.5555555555555556, \"#d8576b\"], [0.6666666666666666, \"#ed7953\"], [0.7777777777777778, \"#fb9f3a\"], [0.8888888888888888, \"#fdca26\"], [1.0, \"#f0f921\"]], \"type\": \"surface\"}], \"table\": [{\"cells\": {\"fill\": {\"color\": \"#EBF0F8\"}, \"line\": {\"color\": \"white\"}}, \"header\": {\"fill\": {\"color\": \"#C8D4E3\"}, \"line\": {\"color\": \"white\"}}, \"type\": \"table\"}]}, \"layout\": {\"annotationdefaults\": {\"arrowcolor\": \"#2a3f5f\", \"arrowhead\": 0, \"arrowwidth\": 1}, \"autotypenumbers\": \"strict\", \"coloraxis\": {\"colorbar\": {\"outlinewidth\": 0, \"ticks\": \"\"}}, \"colorscale\": {\"diverging\": [[0, \"#8e0152\"], [0.1, \"#c51b7d\"], [0.2, \"#de77ae\"], [0.3, \"#f1b6da\"], [0.4, \"#fde0ef\"], [0.5, \"#f7f7f7\"], [0.6, \"#e6f5d0\"], [0.7, \"#b8e186\"], [0.8, \"#7fbc41\"], [0.9, \"#4d9221\"], [1, \"#276419\"]], \"sequential\": [[0.0, \"#0d0887\"], [0.1111111111111111, \"#46039f\"], [0.2222222222222222, \"#7201a8\"], [0.3333333333333333, \"#9c179e\"], [0.4444444444444444, \"#bd3786\"], [0.5555555555555556, \"#d8576b\"], [0.6666666666666666, \"#ed7953\"], [0.7777777777777778, \"#fb9f3a\"], [0.8888888888888888, \"#fdca26\"], [1.0, \"#f0f921\"]], \"sequentialminus\": [[0.0, \"#0d0887\"], [0.1111111111111111, \"#46039f\"], [0.2222222222222222, \"#7201a8\"], [0.3333333333333333, \"#9c179e\"], [0.4444444444444444, \"#bd3786\"], [0.5555555555555556, \"#d8576b\"], [0.6666666666666666, \"#ed7953\"], [0.7777777777777778, \"#fb9f3a\"], [0.8888888888888888, \"#fdca26\"], [1.0, \"#f0f921\"]]}, \"colorway\": [\"#636efa\", \"#EF553B\", \"#00cc96\", \"#ab63fa\", \"#FFA15A\", \"#19d3f3\", \"#FF6692\", \"#B6E880\", \"#FF97FF\", \"#FECB52\"], \"font\": {\"color\": \"#2a3f5f\"}, \"geo\": {\"bgcolor\": \"white\", \"lakecolor\": \"white\", \"landcolor\": \"#E5ECF6\", \"showlakes\": true, \"showland\": true, \"subunitcolor\": \"white\"}, \"hoverlabel\": {\"align\": \"left\"}, \"hovermode\": \"closest\", \"mapbox\": {\"style\": \"light\"}, \"paper_bgcolor\": \"white\", \"plot_bgcolor\": \"#E5ECF6\", \"polar\": {\"angularaxis\": {\"gridcolor\": \"white\", \"linecolor\": \"white\", \"ticks\": \"\"}, \"bgcolor\": \"#E5ECF6\", \"radialaxis\": {\"gridcolor\": \"white\", \"linecolor\": \"white\", \"ticks\": \"\"}}, \"scene\": {\"xaxis\": {\"backgroundcolor\": \"#E5ECF6\", \"gridcolor\": \"white\", \"gridwidth\": 2, \"linecolor\": \"white\", \"showbackground\": true, \"ticks\": \"\", \"zerolinecolor\": \"white\"}, \"yaxis\": {\"backgroundcolor\": \"#E5ECF6\", \"gridcolor\": \"white\", \"gridwidth\": 2, \"linecolor\": \"white\", \"showbackground\": true, \"ticks\": \"\", \"zerolinecolor\": \"white\"}, \"zaxis\": {\"backgroundcolor\": \"#E5ECF6\", \"gridcolor\": \"white\", \"gridwidth\": 2, \"linecolor\": \"white\", \"showbackground\": true, \"ticks\": \"\", \"zerolinecolor\": \"white\"}}, \"shapedefaults\": {\"line\": {\"color\": \"#2a3f5f\"}}, \"ternary\": {\"aaxis\": {\"gridcolor\": \"white\", \"linecolor\": \"white\", \"ticks\": \"\"}, \"baxis\": {\"gridcolor\": \"white\", \"linecolor\": \"white\", \"ticks\": \"\"}, \"bgcolor\": \"#E5ECF6\", \"caxis\": {\"gridcolor\": \"white\", \"linecolor\": \"white\", \"ticks\": \"\"}}, \"title\": {\"x\": 0.05}, \"xaxis\": {\"automargin\": true, \"gridcolor\": \"white\", \"linecolor\": \"white\", \"ticks\": \"\", \"title\": {\"standoff\": 15}, \"zerolinecolor\": \"white\", \"zerolinewidth\": 2}, \"yaxis\": {\"automargin\": true, \"gridcolor\": \"white\", \"linecolor\": \"white\", \"ticks\": \"\", \"title\": {\"standoff\": 15}, \"zerolinecolor\": \"white\", \"zerolinewidth\": 2}}}, \"xaxis\": {\"anchor\": \"y\", \"domain\": [0.0, 1.0], \"title\": {\"text\": \"Attack\"}}, \"yaxis\": {\"anchor\": \"x\", \"domain\": [0.0, 1.0], \"title\": {\"text\": \"Defense\"}}},                        {\"responsive\": true}                    ).then(function(){\n",
       "                            \n",
       "var gd = document.getElementById('9bf33499-3ea8-4a2d-b15f-a395f5d85909');\n",
       "var x = new MutationObserver(function (mutations, observer) {{\n",
       "        var display = window.getComputedStyle(gd).display;\n",
       "        if (!display || display === 'none') {{\n",
       "            console.log([gd, 'removed!']);\n",
       "            Plotly.purge(gd);\n",
       "            observer.disconnect();\n",
       "        }}\n",
       "}});\n",
       "\n",
       "// Listen for the removal of the full notebook cells\n",
       "var notebookContainer = gd.closest('#notebook-container');\n",
       "if (notebookContainer) {{\n",
       "    x.observe(notebookContainer, {childList: true});\n",
       "}}\n",
       "\n",
       "// Listen for the clearing of the current output cell\n",
       "var outputEl = gd.closest('.output');\n",
       "if (outputEl) {{\n",
       "    x.observe(outputEl, {childList: true});\n",
       "}}\n",
       "\n",
       "                        })                };                });            </script>        </div>"
      ]
     },
     "metadata": {},
     "output_type": "display_data"
    }
   ],
   "source": [
    "fig = px.scatter(df, x='Attack', y = 'Defense')\n",
    "fig.show()"
   ]
  },
  {
   "cell_type": "code",
   "execution_count": 12,
   "metadata": {},
   "outputs": [
    {
     "data": {
      "application/vnd.plotly.v1+json": {
       "config": {
        "plotlyServerURL": "https://plot.ly"
       },
       "data": [
        {
         "customdata": [
          [
           "Bulbasaur"
          ],
          [
           "Ivysaur"
          ],
          [
           "Venusaur"
          ],
          [
           "Charmander"
          ],
          [
           "Charmeleon"
          ],
          [
           "Charizard"
          ],
          [
           "Squirtle"
          ],
          [
           "Wartortle"
          ],
          [
           "Blastoise"
          ],
          [
           "Caterpie"
          ],
          [
           "Metapod"
          ],
          [
           "Butterfree"
          ],
          [
           "Weedle"
          ],
          [
           "Kakuna"
          ],
          [
           "Beedrill"
          ],
          [
           "Pidgey"
          ],
          [
           "Pidgeotto"
          ],
          [
           "Pidgeot"
          ],
          [
           "Rattata"
          ],
          [
           "Raticate"
          ],
          [
           "Spearow"
          ],
          [
           "Fearow"
          ],
          [
           "Ekans"
          ],
          [
           "Arbok"
          ],
          [
           "Pikachu"
          ],
          [
           "Raichu"
          ],
          [
           "Sandshrew"
          ],
          [
           "Sandslash"
          ],
          [
           "NidoranªÛ"
          ],
          [
           "Nidorina"
          ],
          [
           "Nidoqueen"
          ],
          [
           "Nidoranªâ"
          ],
          [
           "Nidorino"
          ],
          [
           "Nidoking"
          ],
          [
           "Clefairy"
          ],
          [
           "Clefable"
          ],
          [
           "Vulpix"
          ],
          [
           "Ninetales"
          ],
          [
           "Jigglypuff"
          ],
          [
           "Wigglytuff"
          ],
          [
           "Zubat"
          ],
          [
           "Golbat"
          ],
          [
           "Oddish"
          ],
          [
           "Gloom"
          ],
          [
           "Vileplume"
          ],
          [
           "Paras"
          ],
          [
           "Parasect"
          ],
          [
           "Venonat"
          ],
          [
           "Venomoth"
          ],
          [
           "Diglett"
          ],
          [
           "Dugtrio"
          ],
          [
           "Meowth"
          ],
          [
           "Persian"
          ],
          [
           "Psyduck"
          ],
          [
           "Golduck"
          ],
          [
           "Mankey"
          ],
          [
           "Primeape"
          ],
          [
           "Growlithe"
          ],
          [
           "Arcanine"
          ],
          [
           "Poliwag"
          ],
          [
           "Poliwhirl"
          ],
          [
           "Poliwrath"
          ],
          [
           "Abra"
          ],
          [
           "Kadabra"
          ],
          [
           "Alakazam"
          ],
          [
           "Machop"
          ],
          [
           "Machoke"
          ],
          [
           "Machamp"
          ],
          [
           "Bellsprout"
          ],
          [
           "Weepinbell"
          ],
          [
           "Victreebel"
          ],
          [
           "Tentacool"
          ],
          [
           "Tentacruel"
          ],
          [
           "Geodude"
          ],
          [
           "Graveler"
          ],
          [
           "Golem"
          ],
          [
           "Ponyta"
          ],
          [
           "Rapidash"
          ],
          [
           "Slowpoke"
          ],
          [
           "Slowbro"
          ],
          [
           "Magnemite"
          ],
          [
           "Magneton"
          ],
          [
           "Farfetch'd"
          ],
          [
           "Doduo"
          ],
          [
           "Dodrio"
          ],
          [
           "Seel"
          ],
          [
           "Dewgong"
          ],
          [
           "Grimer"
          ],
          [
           "Muk"
          ],
          [
           "Shellder"
          ],
          [
           "Cloyster"
          ],
          [
           "Gastly"
          ],
          [
           "Haunter"
          ],
          [
           "Gengar"
          ],
          [
           "Onix"
          ],
          [
           "Drowzee"
          ],
          [
           "Hypno"
          ],
          [
           "Krabby"
          ],
          [
           "Kingler"
          ],
          [
           "Voltorb"
          ],
          [
           "Electrode"
          ],
          [
           "Exeggcute"
          ],
          [
           "Exeggutor"
          ],
          [
           "Cubone"
          ],
          [
           "Marowak"
          ],
          [
           "Hitmonlee"
          ],
          [
           "Hitmonchan"
          ],
          [
           "Lickitung"
          ],
          [
           "Koffing"
          ],
          [
           "Weezing"
          ],
          [
           "Rhyhorn"
          ],
          [
           "Rhydon"
          ],
          [
           "Chansey"
          ],
          [
           "Tangela"
          ],
          [
           "Kangaskhan"
          ],
          [
           "Horsea"
          ],
          [
           "Seadra"
          ],
          [
           "Goldeen"
          ],
          [
           "Seaking"
          ],
          [
           "Staryu"
          ],
          [
           "Starmie"
          ],
          [
           "Mr. Mime"
          ],
          [
           "Scyther"
          ],
          [
           "Jynx"
          ],
          [
           "Electabuzz"
          ],
          [
           "Magmar"
          ],
          [
           "Pinsir"
          ],
          [
           "Tauros"
          ],
          [
           "Magikarp"
          ],
          [
           "Gyarados"
          ],
          [
           "Lapras"
          ],
          [
           "Ditto"
          ],
          [
           "Eevee"
          ],
          [
           "Vaporeon"
          ],
          [
           "Jolteon"
          ],
          [
           "Flareon"
          ],
          [
           "Porygon"
          ],
          [
           "Omanyte"
          ],
          [
           "Omastar"
          ],
          [
           "Kabuto"
          ],
          [
           "Kabutops"
          ],
          [
           "Aerodactyl"
          ],
          [
           "Snorlax"
          ],
          [
           "Articuno"
          ],
          [
           "Zapdos"
          ],
          [
           "Moltres"
          ],
          [
           "Dratini"
          ],
          [
           "Dragonair"
          ],
          [
           "Dragonite"
          ],
          [
           "Mewtwo"
          ],
          [
           "Mew"
          ]
         ],
         "hovertemplate": "Attack=%{x}<br>Defense=%{y}<br>Name=%{customdata[0]}<br>Stage=%{marker.color}<extra></extra>",
         "legendgroup": "",
         "marker": {
          "color": [
           1,
           2,
           3,
           1,
           2,
           3,
           1,
           2,
           3,
           1,
           2,
           3,
           1,
           2,
           3,
           1,
           2,
           3,
           1,
           2,
           1,
           2,
           1,
           2,
           1,
           2,
           1,
           2,
           1,
           2,
           3,
           1,
           2,
           3,
           1,
           2,
           1,
           2,
           1,
           2,
           1,
           2,
           1,
           2,
           3,
           1,
           2,
           1,
           2,
           1,
           2,
           1,
           2,
           1,
           2,
           1,
           2,
           1,
           2,
           1,
           2,
           3,
           1,
           2,
           3,
           1,
           2,
           3,
           1,
           2,
           3,
           1,
           2,
           1,
           2,
           3,
           1,
           2,
           1,
           2,
           1,
           2,
           1,
           1,
           2,
           1,
           2,
           1,
           2,
           1,
           2,
           1,
           2,
           3,
           1,
           1,
           2,
           1,
           2,
           1,
           2,
           1,
           2,
           1,
           2,
           1,
           1,
           1,
           1,
           2,
           1,
           2,
           1,
           1,
           1,
           1,
           2,
           1,
           2,
           1,
           2,
           1,
           1,
           1,
           1,
           1,
           1,
           1,
           1,
           2,
           1,
           1,
           1,
           2,
           2,
           2,
           1,
           1,
           2,
           1,
           2,
           1,
           1,
           1,
           1,
           1,
           1,
           2,
           3,
           1,
           1
          ],
          "coloraxis": "coloraxis",
          "symbol": "circle"
         },
         "mode": "markers",
         "name": "",
         "orientation": "v",
         "showlegend": false,
         "type": "scatter",
         "x": [
          49,
          62,
          82,
          52,
          64,
          84,
          48,
          63,
          83,
          30,
          20,
          45,
          35,
          25,
          90,
          45,
          60,
          80,
          56,
          81,
          60,
          90,
          60,
          85,
          55,
          90,
          75,
          100,
          47,
          62,
          92,
          57,
          72,
          102,
          45,
          70,
          41,
          76,
          45,
          70,
          45,
          80,
          50,
          65,
          80,
          70,
          95,
          55,
          65,
          55,
          80,
          45,
          70,
          52,
          82,
          80,
          105,
          70,
          110,
          50,
          65,
          95,
          20,
          35,
          50,
          80,
          100,
          130,
          75,
          90,
          105,
          40,
          70,
          80,
          95,
          120,
          85,
          100,
          65,
          75,
          35,
          60,
          65,
          85,
          110,
          45,
          70,
          80,
          105,
          65,
          95,
          35,
          50,
          65,
          45,
          48,
          73,
          105,
          130,
          30,
          50,
          40,
          95,
          50,
          80,
          120,
          105,
          55,
          65,
          90,
          85,
          130,
          5,
          55,
          95,
          40,
          65,
          67,
          92,
          45,
          75,
          45,
          110,
          50,
          83,
          95,
          125,
          100,
          10,
          125,
          85,
          48,
          55,
          65,
          65,
          130,
          60,
          40,
          60,
          80,
          115,
          105,
          110,
          85,
          90,
          100,
          64,
          84,
          134,
          110,
          100
         ],
         "xaxis": "x",
         "y": [
          49,
          63,
          83,
          43,
          58,
          78,
          65,
          80,
          100,
          35,
          55,
          50,
          30,
          50,
          40,
          40,
          55,
          75,
          35,
          60,
          30,
          65,
          44,
          69,
          40,
          55,
          85,
          110,
          52,
          67,
          87,
          40,
          57,
          77,
          48,
          73,
          40,
          75,
          20,
          45,
          35,
          70,
          55,
          70,
          85,
          55,
          80,
          50,
          60,
          25,
          50,
          35,
          60,
          48,
          78,
          35,
          60,
          45,
          80,
          40,
          65,
          95,
          15,
          30,
          45,
          50,
          70,
          80,
          35,
          50,
          65,
          35,
          65,
          100,
          115,
          130,
          55,
          70,
          65,
          110,
          70,
          95,
          55,
          45,
          70,
          55,
          80,
          50,
          75,
          100,
          180,
          30,
          45,
          60,
          160,
          45,
          70,
          90,
          115,
          50,
          70,
          80,
          85,
          95,
          110,
          53,
          79,
          75,
          95,
          120,
          95,
          120,
          5,
          115,
          80,
          70,
          95,
          60,
          65,
          55,
          85,
          65,
          80,
          35,
          57,
          57,
          100,
          95,
          55,
          79,
          80,
          48,
          50,
          60,
          60,
          60,
          70,
          100,
          125,
          90,
          105,
          65,
          65,
          100,
          85,
          90,
          45,
          65,
          95,
          90,
          100
         ],
         "yaxis": "y"
        }
       ],
       "layout": {
        "coloraxis": {
         "colorbar": {
          "title": {
           "text": "Stage"
          }
         },
         "colorscale": [
          [
           0,
           "#0d0887"
          ],
          [
           0.1111111111111111,
           "#46039f"
          ],
          [
           0.2222222222222222,
           "#7201a8"
          ],
          [
           0.3333333333333333,
           "#9c179e"
          ],
          [
           0.4444444444444444,
           "#bd3786"
          ],
          [
           0.5555555555555556,
           "#d8576b"
          ],
          [
           0.6666666666666666,
           "#ed7953"
          ],
          [
           0.7777777777777778,
           "#fb9f3a"
          ],
          [
           0.8888888888888888,
           "#fdca26"
          ],
          [
           1,
           "#f0f921"
          ]
         ]
        },
        "legend": {
         "tracegroupgap": 0
        },
        "margin": {
         "t": 60
        },
        "template": {
         "data": {
          "bar": [
           {
            "error_x": {
             "color": "#2a3f5f"
            },
            "error_y": {
             "color": "#2a3f5f"
            },
            "marker": {
             "line": {
              "color": "#E5ECF6",
              "width": 0.5
             }
            },
            "type": "bar"
           }
          ],
          "barpolar": [
           {
            "marker": {
             "line": {
              "color": "#E5ECF6",
              "width": 0.5
             }
            },
            "type": "barpolar"
           }
          ],
          "carpet": [
           {
            "aaxis": {
             "endlinecolor": "#2a3f5f",
             "gridcolor": "white",
             "linecolor": "white",
             "minorgridcolor": "white",
             "startlinecolor": "#2a3f5f"
            },
            "baxis": {
             "endlinecolor": "#2a3f5f",
             "gridcolor": "white",
             "linecolor": "white",
             "minorgridcolor": "white",
             "startlinecolor": "#2a3f5f"
            },
            "type": "carpet"
           }
          ],
          "choropleth": [
           {
            "colorbar": {
             "outlinewidth": 0,
             "ticks": ""
            },
            "type": "choropleth"
           }
          ],
          "contour": [
           {
            "colorbar": {
             "outlinewidth": 0,
             "ticks": ""
            },
            "colorscale": [
             [
              0,
              "#0d0887"
             ],
             [
              0.1111111111111111,
              "#46039f"
             ],
             [
              0.2222222222222222,
              "#7201a8"
             ],
             [
              0.3333333333333333,
              "#9c179e"
             ],
             [
              0.4444444444444444,
              "#bd3786"
             ],
             [
              0.5555555555555556,
              "#d8576b"
             ],
             [
              0.6666666666666666,
              "#ed7953"
             ],
             [
              0.7777777777777778,
              "#fb9f3a"
             ],
             [
              0.8888888888888888,
              "#fdca26"
             ],
             [
              1,
              "#f0f921"
             ]
            ],
            "type": "contour"
           }
          ],
          "contourcarpet": [
           {
            "colorbar": {
             "outlinewidth": 0,
             "ticks": ""
            },
            "type": "contourcarpet"
           }
          ],
          "heatmap": [
           {
            "colorbar": {
             "outlinewidth": 0,
             "ticks": ""
            },
            "colorscale": [
             [
              0,
              "#0d0887"
             ],
             [
              0.1111111111111111,
              "#46039f"
             ],
             [
              0.2222222222222222,
              "#7201a8"
             ],
             [
              0.3333333333333333,
              "#9c179e"
             ],
             [
              0.4444444444444444,
              "#bd3786"
             ],
             [
              0.5555555555555556,
              "#d8576b"
             ],
             [
              0.6666666666666666,
              "#ed7953"
             ],
             [
              0.7777777777777778,
              "#fb9f3a"
             ],
             [
              0.8888888888888888,
              "#fdca26"
             ],
             [
              1,
              "#f0f921"
             ]
            ],
            "type": "heatmap"
           }
          ],
          "heatmapgl": [
           {
            "colorbar": {
             "outlinewidth": 0,
             "ticks": ""
            },
            "colorscale": [
             [
              0,
              "#0d0887"
             ],
             [
              0.1111111111111111,
              "#46039f"
             ],
             [
              0.2222222222222222,
              "#7201a8"
             ],
             [
              0.3333333333333333,
              "#9c179e"
             ],
             [
              0.4444444444444444,
              "#bd3786"
             ],
             [
              0.5555555555555556,
              "#d8576b"
             ],
             [
              0.6666666666666666,
              "#ed7953"
             ],
             [
              0.7777777777777778,
              "#fb9f3a"
             ],
             [
              0.8888888888888888,
              "#fdca26"
             ],
             [
              1,
              "#f0f921"
             ]
            ],
            "type": "heatmapgl"
           }
          ],
          "histogram": [
           {
            "marker": {
             "colorbar": {
              "outlinewidth": 0,
              "ticks": ""
             }
            },
            "type": "histogram"
           }
          ],
          "histogram2d": [
           {
            "colorbar": {
             "outlinewidth": 0,
             "ticks": ""
            },
            "colorscale": [
             [
              0,
              "#0d0887"
             ],
             [
              0.1111111111111111,
              "#46039f"
             ],
             [
              0.2222222222222222,
              "#7201a8"
             ],
             [
              0.3333333333333333,
              "#9c179e"
             ],
             [
              0.4444444444444444,
              "#bd3786"
             ],
             [
              0.5555555555555556,
              "#d8576b"
             ],
             [
              0.6666666666666666,
              "#ed7953"
             ],
             [
              0.7777777777777778,
              "#fb9f3a"
             ],
             [
              0.8888888888888888,
              "#fdca26"
             ],
             [
              1,
              "#f0f921"
             ]
            ],
            "type": "histogram2d"
           }
          ],
          "histogram2dcontour": [
           {
            "colorbar": {
             "outlinewidth": 0,
             "ticks": ""
            },
            "colorscale": [
             [
              0,
              "#0d0887"
             ],
             [
              0.1111111111111111,
              "#46039f"
             ],
             [
              0.2222222222222222,
              "#7201a8"
             ],
             [
              0.3333333333333333,
              "#9c179e"
             ],
             [
              0.4444444444444444,
              "#bd3786"
             ],
             [
              0.5555555555555556,
              "#d8576b"
             ],
             [
              0.6666666666666666,
              "#ed7953"
             ],
             [
              0.7777777777777778,
              "#fb9f3a"
             ],
             [
              0.8888888888888888,
              "#fdca26"
             ],
             [
              1,
              "#f0f921"
             ]
            ],
            "type": "histogram2dcontour"
           }
          ],
          "mesh3d": [
           {
            "colorbar": {
             "outlinewidth": 0,
             "ticks": ""
            },
            "type": "mesh3d"
           }
          ],
          "parcoords": [
           {
            "line": {
             "colorbar": {
              "outlinewidth": 0,
              "ticks": ""
             }
            },
            "type": "parcoords"
           }
          ],
          "pie": [
           {
            "automargin": true,
            "type": "pie"
           }
          ],
          "scatter": [
           {
            "marker": {
             "colorbar": {
              "outlinewidth": 0,
              "ticks": ""
             }
            },
            "type": "scatter"
           }
          ],
          "scatter3d": [
           {
            "line": {
             "colorbar": {
              "outlinewidth": 0,
              "ticks": ""
             }
            },
            "marker": {
             "colorbar": {
              "outlinewidth": 0,
              "ticks": ""
             }
            },
            "type": "scatter3d"
           }
          ],
          "scattercarpet": [
           {
            "marker": {
             "colorbar": {
              "outlinewidth": 0,
              "ticks": ""
             }
            },
            "type": "scattercarpet"
           }
          ],
          "scattergeo": [
           {
            "marker": {
             "colorbar": {
              "outlinewidth": 0,
              "ticks": ""
             }
            },
            "type": "scattergeo"
           }
          ],
          "scattergl": [
           {
            "marker": {
             "colorbar": {
              "outlinewidth": 0,
              "ticks": ""
             }
            },
            "type": "scattergl"
           }
          ],
          "scattermapbox": [
           {
            "marker": {
             "colorbar": {
              "outlinewidth": 0,
              "ticks": ""
             }
            },
            "type": "scattermapbox"
           }
          ],
          "scatterpolar": [
           {
            "marker": {
             "colorbar": {
              "outlinewidth": 0,
              "ticks": ""
             }
            },
            "type": "scatterpolar"
           }
          ],
          "scatterpolargl": [
           {
            "marker": {
             "colorbar": {
              "outlinewidth": 0,
              "ticks": ""
             }
            },
            "type": "scatterpolargl"
           }
          ],
          "scatterternary": [
           {
            "marker": {
             "colorbar": {
              "outlinewidth": 0,
              "ticks": ""
             }
            },
            "type": "scatterternary"
           }
          ],
          "surface": [
           {
            "colorbar": {
             "outlinewidth": 0,
             "ticks": ""
            },
            "colorscale": [
             [
              0,
              "#0d0887"
             ],
             [
              0.1111111111111111,
              "#46039f"
             ],
             [
              0.2222222222222222,
              "#7201a8"
             ],
             [
              0.3333333333333333,
              "#9c179e"
             ],
             [
              0.4444444444444444,
              "#bd3786"
             ],
             [
              0.5555555555555556,
              "#d8576b"
             ],
             [
              0.6666666666666666,
              "#ed7953"
             ],
             [
              0.7777777777777778,
              "#fb9f3a"
             ],
             [
              0.8888888888888888,
              "#fdca26"
             ],
             [
              1,
              "#f0f921"
             ]
            ],
            "type": "surface"
           }
          ],
          "table": [
           {
            "cells": {
             "fill": {
              "color": "#EBF0F8"
             },
             "line": {
              "color": "white"
             }
            },
            "header": {
             "fill": {
              "color": "#C8D4E3"
             },
             "line": {
              "color": "white"
             }
            },
            "type": "table"
           }
          ]
         },
         "layout": {
          "annotationdefaults": {
           "arrowcolor": "#2a3f5f",
           "arrowhead": 0,
           "arrowwidth": 1
          },
          "autotypenumbers": "strict",
          "coloraxis": {
           "colorbar": {
            "outlinewidth": 0,
            "ticks": ""
           }
          },
          "colorscale": {
           "diverging": [
            [
             0,
             "#8e0152"
            ],
            [
             0.1,
             "#c51b7d"
            ],
            [
             0.2,
             "#de77ae"
            ],
            [
             0.3,
             "#f1b6da"
            ],
            [
             0.4,
             "#fde0ef"
            ],
            [
             0.5,
             "#f7f7f7"
            ],
            [
             0.6,
             "#e6f5d0"
            ],
            [
             0.7,
             "#b8e186"
            ],
            [
             0.8,
             "#7fbc41"
            ],
            [
             0.9,
             "#4d9221"
            ],
            [
             1,
             "#276419"
            ]
           ],
           "sequential": [
            [
             0,
             "#0d0887"
            ],
            [
             0.1111111111111111,
             "#46039f"
            ],
            [
             0.2222222222222222,
             "#7201a8"
            ],
            [
             0.3333333333333333,
             "#9c179e"
            ],
            [
             0.4444444444444444,
             "#bd3786"
            ],
            [
             0.5555555555555556,
             "#d8576b"
            ],
            [
             0.6666666666666666,
             "#ed7953"
            ],
            [
             0.7777777777777778,
             "#fb9f3a"
            ],
            [
             0.8888888888888888,
             "#fdca26"
            ],
            [
             1,
             "#f0f921"
            ]
           ],
           "sequentialminus": [
            [
             0,
             "#0d0887"
            ],
            [
             0.1111111111111111,
             "#46039f"
            ],
            [
             0.2222222222222222,
             "#7201a8"
            ],
            [
             0.3333333333333333,
             "#9c179e"
            ],
            [
             0.4444444444444444,
             "#bd3786"
            ],
            [
             0.5555555555555556,
             "#d8576b"
            ],
            [
             0.6666666666666666,
             "#ed7953"
            ],
            [
             0.7777777777777778,
             "#fb9f3a"
            ],
            [
             0.8888888888888888,
             "#fdca26"
            ],
            [
             1,
             "#f0f921"
            ]
           ]
          },
          "colorway": [
           "#636efa",
           "#EF553B",
           "#00cc96",
           "#ab63fa",
           "#FFA15A",
           "#19d3f3",
           "#FF6692",
           "#B6E880",
           "#FF97FF",
           "#FECB52"
          ],
          "font": {
           "color": "#2a3f5f"
          },
          "geo": {
           "bgcolor": "white",
           "lakecolor": "white",
           "landcolor": "#E5ECF6",
           "showlakes": true,
           "showland": true,
           "subunitcolor": "white"
          },
          "hoverlabel": {
           "align": "left"
          },
          "hovermode": "closest",
          "mapbox": {
           "style": "light"
          },
          "paper_bgcolor": "white",
          "plot_bgcolor": "#E5ECF6",
          "polar": {
           "angularaxis": {
            "gridcolor": "white",
            "linecolor": "white",
            "ticks": ""
           },
           "bgcolor": "#E5ECF6",
           "radialaxis": {
            "gridcolor": "white",
            "linecolor": "white",
            "ticks": ""
           }
          },
          "scene": {
           "xaxis": {
            "backgroundcolor": "#E5ECF6",
            "gridcolor": "white",
            "gridwidth": 2,
            "linecolor": "white",
            "showbackground": true,
            "ticks": "",
            "zerolinecolor": "white"
           },
           "yaxis": {
            "backgroundcolor": "#E5ECF6",
            "gridcolor": "white",
            "gridwidth": 2,
            "linecolor": "white",
            "showbackground": true,
            "ticks": "",
            "zerolinecolor": "white"
           },
           "zaxis": {
            "backgroundcolor": "#E5ECF6",
            "gridcolor": "white",
            "gridwidth": 2,
            "linecolor": "white",
            "showbackground": true,
            "ticks": "",
            "zerolinecolor": "white"
           }
          },
          "shapedefaults": {
           "line": {
            "color": "#2a3f5f"
           }
          },
          "ternary": {
           "aaxis": {
            "gridcolor": "white",
            "linecolor": "white",
            "ticks": ""
           },
           "baxis": {
            "gridcolor": "white",
            "linecolor": "white",
            "ticks": ""
           },
           "bgcolor": "#E5ECF6",
           "caxis": {
            "gridcolor": "white",
            "linecolor": "white",
            "ticks": ""
           }
          },
          "title": {
           "x": 0.05
          },
          "xaxis": {
           "automargin": true,
           "gridcolor": "white",
           "linecolor": "white",
           "ticks": "",
           "title": {
            "standoff": 15
           },
           "zerolinecolor": "white",
           "zerolinewidth": 2
          },
          "yaxis": {
           "automargin": true,
           "gridcolor": "white",
           "linecolor": "white",
           "ticks": "",
           "title": {
            "standoff": 15
           },
           "zerolinecolor": "white",
           "zerolinewidth": 2
          }
         }
        },
        "xaxis": {
         "anchor": "y",
         "domain": [
          0,
          1
         ],
         "title": {
          "text": "Attack"
         }
        },
        "yaxis": {
         "anchor": "x",
         "domain": [
          0,
          1
         ],
         "title": {
          "text": "Defense"
         }
        }
       }
      },
      "text/html": [
       "<div>                            <div id=\"7779084a-6c21-477e-a94e-73f4eeccbcd1\" class=\"plotly-graph-div\" style=\"height:525px; width:100%;\"></div>            <script type=\"text/javascript\">                require([\"plotly\"], function(Plotly) {                    window.PLOTLYENV=window.PLOTLYENV || {};                                    if (document.getElementById(\"7779084a-6c21-477e-a94e-73f4eeccbcd1\")) {                    Plotly.newPlot(                        \"7779084a-6c21-477e-a94e-73f4eeccbcd1\",                        [{\"customdata\": [[\"Bulbasaur\"], [\"Ivysaur\"], [\"Venusaur\"], [\"Charmander\"], [\"Charmeleon\"], [\"Charizard\"], [\"Squirtle\"], [\"Wartortle\"], [\"Blastoise\"], [\"Caterpie\"], [\"Metapod\"], [\"Butterfree\"], [\"Weedle\"], [\"Kakuna\"], [\"Beedrill\"], [\"Pidgey\"], [\"Pidgeotto\"], [\"Pidgeot\"], [\"Rattata\"], [\"Raticate\"], [\"Spearow\"], [\"Fearow\"], [\"Ekans\"], [\"Arbok\"], [\"Pikachu\"], [\"Raichu\"], [\"Sandshrew\"], [\"Sandslash\"], [\"Nidoran\\u0089\\u00aa\\u00db\"], [\"Nidorina\"], [\"Nidoqueen\"], [\"Nidoran\\u0089\\u00aa\\u00e2\"], [\"Nidorino\"], [\"Nidoking\"], [\"Clefairy\"], [\"Clefable\"], [\"Vulpix\"], [\"Ninetales\"], [\"Jigglypuff\"], [\"Wigglytuff\"], [\"Zubat\"], [\"Golbat\"], [\"Oddish\"], [\"Gloom\"], [\"Vileplume\"], [\"Paras\"], [\"Parasect\"], [\"Venonat\"], [\"Venomoth\"], [\"Diglett\"], [\"Dugtrio\"], [\"Meowth\"], [\"Persian\"], [\"Psyduck\"], [\"Golduck\"], [\"Mankey\"], [\"Primeape\"], [\"Growlithe\"], [\"Arcanine\"], [\"Poliwag\"], [\"Poliwhirl\"], [\"Poliwrath\"], [\"Abra\"], [\"Kadabra\"], [\"Alakazam\"], [\"Machop\"], [\"Machoke\"], [\"Machamp\"], [\"Bellsprout\"], [\"Weepinbell\"], [\"Victreebel\"], [\"Tentacool\"], [\"Tentacruel\"], [\"Geodude\"], [\"Graveler\"], [\"Golem\"], [\"Ponyta\"], [\"Rapidash\"], [\"Slowpoke\"], [\"Slowbro\"], [\"Magnemite\"], [\"Magneton\"], [\"Farfetch'd\"], [\"Doduo\"], [\"Dodrio\"], [\"Seel\"], [\"Dewgong\"], [\"Grimer\"], [\"Muk\"], [\"Shellder\"], [\"Cloyster\"], [\"Gastly\"], [\"Haunter\"], [\"Gengar\"], [\"Onix\"], [\"Drowzee\"], [\"Hypno\"], [\"Krabby\"], [\"Kingler\"], [\"Voltorb\"], [\"Electrode\"], [\"Exeggcute\"], [\"Exeggutor\"], [\"Cubone\"], [\"Marowak\"], [\"Hitmonlee\"], [\"Hitmonchan\"], [\"Lickitung\"], [\"Koffing\"], [\"Weezing\"], [\"Rhyhorn\"], [\"Rhydon\"], [\"Chansey\"], [\"Tangela\"], [\"Kangaskhan\"], [\"Horsea\"], [\"Seadra\"], [\"Goldeen\"], [\"Seaking\"], [\"Staryu\"], [\"Starmie\"], [\"Mr. Mime\"], [\"Scyther\"], [\"Jynx\"], [\"Electabuzz\"], [\"Magmar\"], [\"Pinsir\"], [\"Tauros\"], [\"Magikarp\"], [\"Gyarados\"], [\"Lapras\"], [\"Ditto\"], [\"Eevee\"], [\"Vaporeon\"], [\"Jolteon\"], [\"Flareon\"], [\"Porygon\"], [\"Omanyte\"], [\"Omastar\"], [\"Kabuto\"], [\"Kabutops\"], [\"Aerodactyl\"], [\"Snorlax\"], [\"Articuno\"], [\"Zapdos\"], [\"Moltres\"], [\"Dratini\"], [\"Dragonair\"], [\"Dragonite\"], [\"Mewtwo\"], [\"Mew\"]], \"hovertemplate\": \"Attack=%{x}<br>Defense=%{y}<br>Name=%{customdata[0]}<br>Stage=%{marker.color}<extra></extra>\", \"legendgroup\": \"\", \"marker\": {\"color\": [1, 2, 3, 1, 2, 3, 1, 2, 3, 1, 2, 3, 1, 2, 3, 1, 2, 3, 1, 2, 1, 2, 1, 2, 1, 2, 1, 2, 1, 2, 3, 1, 2, 3, 1, 2, 1, 2, 1, 2, 1, 2, 1, 2, 3, 1, 2, 1, 2, 1, 2, 1, 2, 1, 2, 1, 2, 1, 2, 1, 2, 3, 1, 2, 3, 1, 2, 3, 1, 2, 3, 1, 2, 1, 2, 3, 1, 2, 1, 2, 1, 2, 1, 1, 2, 1, 2, 1, 2, 1, 2, 1, 2, 3, 1, 1, 2, 1, 2, 1, 2, 1, 2, 1, 2, 1, 1, 1, 1, 2, 1, 2, 1, 1, 1, 1, 2, 1, 2, 1, 2, 1, 1, 1, 1, 1, 1, 1, 1, 2, 1, 1, 1, 2, 2, 2, 1, 1, 2, 1, 2, 1, 1, 1, 1, 1, 1, 2, 3, 1, 1], \"coloraxis\": \"coloraxis\", \"symbol\": \"circle\"}, \"mode\": \"markers\", \"name\": \"\", \"orientation\": \"v\", \"showlegend\": false, \"type\": \"scatter\", \"x\": [49, 62, 82, 52, 64, 84, 48, 63, 83, 30, 20, 45, 35, 25, 90, 45, 60, 80, 56, 81, 60, 90, 60, 85, 55, 90, 75, 100, 47, 62, 92, 57, 72, 102, 45, 70, 41, 76, 45, 70, 45, 80, 50, 65, 80, 70, 95, 55, 65, 55, 80, 45, 70, 52, 82, 80, 105, 70, 110, 50, 65, 95, 20, 35, 50, 80, 100, 130, 75, 90, 105, 40, 70, 80, 95, 120, 85, 100, 65, 75, 35, 60, 65, 85, 110, 45, 70, 80, 105, 65, 95, 35, 50, 65, 45, 48, 73, 105, 130, 30, 50, 40, 95, 50, 80, 120, 105, 55, 65, 90, 85, 130, 5, 55, 95, 40, 65, 67, 92, 45, 75, 45, 110, 50, 83, 95, 125, 100, 10, 125, 85, 48, 55, 65, 65, 130, 60, 40, 60, 80, 115, 105, 110, 85, 90, 100, 64, 84, 134, 110, 100], \"xaxis\": \"x\", \"y\": [49, 63, 83, 43, 58, 78, 65, 80, 100, 35, 55, 50, 30, 50, 40, 40, 55, 75, 35, 60, 30, 65, 44, 69, 40, 55, 85, 110, 52, 67, 87, 40, 57, 77, 48, 73, 40, 75, 20, 45, 35, 70, 55, 70, 85, 55, 80, 50, 60, 25, 50, 35, 60, 48, 78, 35, 60, 45, 80, 40, 65, 95, 15, 30, 45, 50, 70, 80, 35, 50, 65, 35, 65, 100, 115, 130, 55, 70, 65, 110, 70, 95, 55, 45, 70, 55, 80, 50, 75, 100, 180, 30, 45, 60, 160, 45, 70, 90, 115, 50, 70, 80, 85, 95, 110, 53, 79, 75, 95, 120, 95, 120, 5, 115, 80, 70, 95, 60, 65, 55, 85, 65, 80, 35, 57, 57, 100, 95, 55, 79, 80, 48, 50, 60, 60, 60, 70, 100, 125, 90, 105, 65, 65, 100, 85, 90, 45, 65, 95, 90, 100], \"yaxis\": \"y\"}],                        {\"coloraxis\": {\"colorbar\": {\"title\": {\"text\": \"Stage\"}}, \"colorscale\": [[0.0, \"#0d0887\"], [0.1111111111111111, \"#46039f\"], [0.2222222222222222, \"#7201a8\"], [0.3333333333333333, \"#9c179e\"], [0.4444444444444444, \"#bd3786\"], [0.5555555555555556, \"#d8576b\"], [0.6666666666666666, \"#ed7953\"], [0.7777777777777778, \"#fb9f3a\"], [0.8888888888888888, \"#fdca26\"], [1.0, \"#f0f921\"]]}, \"legend\": {\"tracegroupgap\": 0}, \"margin\": {\"t\": 60}, \"template\": {\"data\": {\"bar\": [{\"error_x\": {\"color\": \"#2a3f5f\"}, \"error_y\": {\"color\": \"#2a3f5f\"}, \"marker\": {\"line\": {\"color\": \"#E5ECF6\", \"width\": 0.5}}, \"type\": \"bar\"}], \"barpolar\": [{\"marker\": {\"line\": {\"color\": \"#E5ECF6\", \"width\": 0.5}}, \"type\": \"barpolar\"}], \"carpet\": [{\"aaxis\": {\"endlinecolor\": \"#2a3f5f\", \"gridcolor\": \"white\", \"linecolor\": \"white\", \"minorgridcolor\": \"white\", \"startlinecolor\": \"#2a3f5f\"}, \"baxis\": {\"endlinecolor\": \"#2a3f5f\", \"gridcolor\": \"white\", \"linecolor\": \"white\", \"minorgridcolor\": \"white\", \"startlinecolor\": \"#2a3f5f\"}, \"type\": \"carpet\"}], \"choropleth\": [{\"colorbar\": {\"outlinewidth\": 0, \"ticks\": \"\"}, \"type\": \"choropleth\"}], \"contour\": [{\"colorbar\": {\"outlinewidth\": 0, \"ticks\": \"\"}, \"colorscale\": [[0.0, \"#0d0887\"], [0.1111111111111111, \"#46039f\"], [0.2222222222222222, \"#7201a8\"], [0.3333333333333333, \"#9c179e\"], [0.4444444444444444, \"#bd3786\"], [0.5555555555555556, \"#d8576b\"], [0.6666666666666666, \"#ed7953\"], [0.7777777777777778, \"#fb9f3a\"], [0.8888888888888888, \"#fdca26\"], [1.0, \"#f0f921\"]], \"type\": \"contour\"}], \"contourcarpet\": [{\"colorbar\": {\"outlinewidth\": 0, \"ticks\": \"\"}, \"type\": \"contourcarpet\"}], \"heatmap\": [{\"colorbar\": {\"outlinewidth\": 0, \"ticks\": \"\"}, \"colorscale\": [[0.0, \"#0d0887\"], [0.1111111111111111, \"#46039f\"], [0.2222222222222222, \"#7201a8\"], [0.3333333333333333, \"#9c179e\"], [0.4444444444444444, \"#bd3786\"], [0.5555555555555556, \"#d8576b\"], [0.6666666666666666, \"#ed7953\"], [0.7777777777777778, \"#fb9f3a\"], [0.8888888888888888, \"#fdca26\"], [1.0, \"#f0f921\"]], \"type\": \"heatmap\"}], \"heatmapgl\": [{\"colorbar\": {\"outlinewidth\": 0, \"ticks\": \"\"}, \"colorscale\": [[0.0, \"#0d0887\"], [0.1111111111111111, \"#46039f\"], [0.2222222222222222, \"#7201a8\"], [0.3333333333333333, \"#9c179e\"], [0.4444444444444444, \"#bd3786\"], [0.5555555555555556, \"#d8576b\"], [0.6666666666666666, \"#ed7953\"], [0.7777777777777778, \"#fb9f3a\"], [0.8888888888888888, \"#fdca26\"], [1.0, \"#f0f921\"]], \"type\": \"heatmapgl\"}], \"histogram\": [{\"marker\": {\"colorbar\": {\"outlinewidth\": 0, \"ticks\": \"\"}}, \"type\": \"histogram\"}], \"histogram2d\": [{\"colorbar\": {\"outlinewidth\": 0, \"ticks\": \"\"}, \"colorscale\": [[0.0, \"#0d0887\"], [0.1111111111111111, \"#46039f\"], [0.2222222222222222, \"#7201a8\"], [0.3333333333333333, \"#9c179e\"], [0.4444444444444444, \"#bd3786\"], [0.5555555555555556, \"#d8576b\"], [0.6666666666666666, \"#ed7953\"], [0.7777777777777778, \"#fb9f3a\"], [0.8888888888888888, \"#fdca26\"], [1.0, \"#f0f921\"]], \"type\": \"histogram2d\"}], \"histogram2dcontour\": [{\"colorbar\": {\"outlinewidth\": 0, \"ticks\": \"\"}, \"colorscale\": [[0.0, \"#0d0887\"], [0.1111111111111111, \"#46039f\"], [0.2222222222222222, \"#7201a8\"], [0.3333333333333333, \"#9c179e\"], [0.4444444444444444, \"#bd3786\"], [0.5555555555555556, \"#d8576b\"], [0.6666666666666666, \"#ed7953\"], [0.7777777777777778, \"#fb9f3a\"], [0.8888888888888888, \"#fdca26\"], [1.0, \"#f0f921\"]], \"type\": \"histogram2dcontour\"}], \"mesh3d\": [{\"colorbar\": {\"outlinewidth\": 0, \"ticks\": \"\"}, \"type\": \"mesh3d\"}], \"parcoords\": [{\"line\": {\"colorbar\": {\"outlinewidth\": 0, \"ticks\": \"\"}}, \"type\": \"parcoords\"}], \"pie\": [{\"automargin\": true, \"type\": \"pie\"}], \"scatter\": [{\"marker\": {\"colorbar\": {\"outlinewidth\": 0, \"ticks\": \"\"}}, \"type\": \"scatter\"}], \"scatter3d\": [{\"line\": {\"colorbar\": {\"outlinewidth\": 0, \"ticks\": \"\"}}, \"marker\": {\"colorbar\": {\"outlinewidth\": 0, \"ticks\": \"\"}}, \"type\": \"scatter3d\"}], \"scattercarpet\": [{\"marker\": {\"colorbar\": {\"outlinewidth\": 0, \"ticks\": \"\"}}, \"type\": \"scattercarpet\"}], \"scattergeo\": [{\"marker\": {\"colorbar\": {\"outlinewidth\": 0, \"ticks\": \"\"}}, \"type\": \"scattergeo\"}], \"scattergl\": [{\"marker\": {\"colorbar\": {\"outlinewidth\": 0, \"ticks\": \"\"}}, \"type\": \"scattergl\"}], \"scattermapbox\": [{\"marker\": {\"colorbar\": {\"outlinewidth\": 0, \"ticks\": \"\"}}, \"type\": \"scattermapbox\"}], \"scatterpolar\": [{\"marker\": {\"colorbar\": {\"outlinewidth\": 0, \"ticks\": \"\"}}, \"type\": \"scatterpolar\"}], \"scatterpolargl\": [{\"marker\": {\"colorbar\": {\"outlinewidth\": 0, \"ticks\": \"\"}}, \"type\": \"scatterpolargl\"}], \"scatterternary\": [{\"marker\": {\"colorbar\": {\"outlinewidth\": 0, \"ticks\": \"\"}}, \"type\": \"scatterternary\"}], \"surface\": [{\"colorbar\": {\"outlinewidth\": 0, \"ticks\": \"\"}, \"colorscale\": [[0.0, \"#0d0887\"], [0.1111111111111111, \"#46039f\"], [0.2222222222222222, \"#7201a8\"], [0.3333333333333333, \"#9c179e\"], [0.4444444444444444, \"#bd3786\"], [0.5555555555555556, \"#d8576b\"], [0.6666666666666666, \"#ed7953\"], [0.7777777777777778, \"#fb9f3a\"], [0.8888888888888888, \"#fdca26\"], [1.0, \"#f0f921\"]], \"type\": \"surface\"}], \"table\": [{\"cells\": {\"fill\": {\"color\": \"#EBF0F8\"}, \"line\": {\"color\": \"white\"}}, \"header\": {\"fill\": {\"color\": \"#C8D4E3\"}, \"line\": {\"color\": \"white\"}}, \"type\": \"table\"}]}, \"layout\": {\"annotationdefaults\": {\"arrowcolor\": \"#2a3f5f\", \"arrowhead\": 0, \"arrowwidth\": 1}, \"autotypenumbers\": \"strict\", \"coloraxis\": {\"colorbar\": {\"outlinewidth\": 0, \"ticks\": \"\"}}, \"colorscale\": {\"diverging\": [[0, \"#8e0152\"], [0.1, \"#c51b7d\"], [0.2, \"#de77ae\"], [0.3, \"#f1b6da\"], [0.4, \"#fde0ef\"], [0.5, \"#f7f7f7\"], [0.6, \"#e6f5d0\"], [0.7, \"#b8e186\"], [0.8, \"#7fbc41\"], [0.9, \"#4d9221\"], [1, \"#276419\"]], \"sequential\": [[0.0, \"#0d0887\"], [0.1111111111111111, \"#46039f\"], [0.2222222222222222, \"#7201a8\"], [0.3333333333333333, \"#9c179e\"], [0.4444444444444444, \"#bd3786\"], [0.5555555555555556, \"#d8576b\"], [0.6666666666666666, \"#ed7953\"], [0.7777777777777778, \"#fb9f3a\"], [0.8888888888888888, \"#fdca26\"], [1.0, \"#f0f921\"]], \"sequentialminus\": [[0.0, \"#0d0887\"], [0.1111111111111111, \"#46039f\"], [0.2222222222222222, \"#7201a8\"], [0.3333333333333333, \"#9c179e\"], [0.4444444444444444, \"#bd3786\"], [0.5555555555555556, \"#d8576b\"], [0.6666666666666666, \"#ed7953\"], [0.7777777777777778, \"#fb9f3a\"], [0.8888888888888888, \"#fdca26\"], [1.0, \"#f0f921\"]]}, \"colorway\": [\"#636efa\", \"#EF553B\", \"#00cc96\", \"#ab63fa\", \"#FFA15A\", \"#19d3f3\", \"#FF6692\", \"#B6E880\", \"#FF97FF\", \"#FECB52\"], \"font\": {\"color\": \"#2a3f5f\"}, \"geo\": {\"bgcolor\": \"white\", \"lakecolor\": \"white\", \"landcolor\": \"#E5ECF6\", \"showlakes\": true, \"showland\": true, \"subunitcolor\": \"white\"}, \"hoverlabel\": {\"align\": \"left\"}, \"hovermode\": \"closest\", \"mapbox\": {\"style\": \"light\"}, \"paper_bgcolor\": \"white\", \"plot_bgcolor\": \"#E5ECF6\", \"polar\": {\"angularaxis\": {\"gridcolor\": \"white\", \"linecolor\": \"white\", \"ticks\": \"\"}, \"bgcolor\": \"#E5ECF6\", \"radialaxis\": {\"gridcolor\": \"white\", \"linecolor\": \"white\", \"ticks\": \"\"}}, \"scene\": {\"xaxis\": {\"backgroundcolor\": \"#E5ECF6\", \"gridcolor\": \"white\", \"gridwidth\": 2, \"linecolor\": \"white\", \"showbackground\": true, \"ticks\": \"\", \"zerolinecolor\": \"white\"}, \"yaxis\": {\"backgroundcolor\": \"#E5ECF6\", \"gridcolor\": \"white\", \"gridwidth\": 2, \"linecolor\": \"white\", \"showbackground\": true, \"ticks\": \"\", \"zerolinecolor\": \"white\"}, \"zaxis\": {\"backgroundcolor\": \"#E5ECF6\", \"gridcolor\": \"white\", \"gridwidth\": 2, \"linecolor\": \"white\", \"showbackground\": true, \"ticks\": \"\", \"zerolinecolor\": \"white\"}}, \"shapedefaults\": {\"line\": {\"color\": \"#2a3f5f\"}}, \"ternary\": {\"aaxis\": {\"gridcolor\": \"white\", \"linecolor\": \"white\", \"ticks\": \"\"}, \"baxis\": {\"gridcolor\": \"white\", \"linecolor\": \"white\", \"ticks\": \"\"}, \"bgcolor\": \"#E5ECF6\", \"caxis\": {\"gridcolor\": \"white\", \"linecolor\": \"white\", \"ticks\": \"\"}}, \"title\": {\"x\": 0.05}, \"xaxis\": {\"automargin\": true, \"gridcolor\": \"white\", \"linecolor\": \"white\", \"ticks\": \"\", \"title\": {\"standoff\": 15}, \"zerolinecolor\": \"white\", \"zerolinewidth\": 2}, \"yaxis\": {\"automargin\": true, \"gridcolor\": \"white\", \"linecolor\": \"white\", \"ticks\": \"\", \"title\": {\"standoff\": 15}, \"zerolinecolor\": \"white\", \"zerolinewidth\": 2}}}, \"xaxis\": {\"anchor\": \"y\", \"domain\": [0.0, 1.0], \"title\": {\"text\": \"Attack\"}}, \"yaxis\": {\"anchor\": \"x\", \"domain\": [0.0, 1.0], \"title\": {\"text\": \"Defense\"}}},                        {\"responsive\": true}                    ).then(function(){\n",
       "                            \n",
       "var gd = document.getElementById('7779084a-6c21-477e-a94e-73f4eeccbcd1');\n",
       "var x = new MutationObserver(function (mutations, observer) {{\n",
       "        var display = window.getComputedStyle(gd).display;\n",
       "        if (!display || display === 'none') {{\n",
       "            console.log([gd, 'removed!']);\n",
       "            Plotly.purge(gd);\n",
       "            observer.disconnect();\n",
       "        }}\n",
       "}});\n",
       "\n",
       "// Listen for the removal of the full notebook cells\n",
       "var notebookContainer = gd.closest('#notebook-container');\n",
       "if (notebookContainer) {{\n",
       "    x.observe(notebookContainer, {childList: true});\n",
       "}}\n",
       "\n",
       "// Listen for the clearing of the current output cell\n",
       "var outputEl = gd.closest('.output');\n",
       "if (outputEl) {{\n",
       "    x.observe(outputEl, {childList: true});\n",
       "}}\n",
       "\n",
       "                        })                };                });            </script>        </div>"
      ]
     },
     "metadata": {},
     "output_type": "display_data"
    }
   ],
   "source": [
    "fig = px.scatter(df, x='Attack', y = 'Defense', color='Stage', hover_data = ['Name'])\n",
    "fig.show()"
   ]
  },
  {
   "cell_type": "code",
   "execution_count": 13,
   "metadata": {},
   "outputs": [
    {
     "data": {
      "application/vnd.plotly.v1+json": {
       "config": {
        "plotlyServerURL": "https://plot.ly"
       },
       "data": [
        {
         "customdata": [
          [
           "Bulbasaur"
          ],
          [
           "Ivysaur"
          ],
          [
           "Venusaur"
          ],
          [
           "Oddish"
          ],
          [
           "Gloom"
          ],
          [
           "Vileplume"
          ],
          [
           "Bellsprout"
          ],
          [
           "Weepinbell"
          ],
          [
           "Victreebel"
          ],
          [
           "Exeggcute"
          ],
          [
           "Exeggutor"
          ],
          [
           "Tangela"
          ]
         ],
         "hovertemplate": "Type 1=Grass<br>Attack=%{x}<br>Defense=%{y}<br>Total=%{marker.size}<br>Name=%{customdata[0]}<extra></extra>",
         "legendgroup": "Grass",
         "marker": {
          "color": "#636efa",
          "size": [
           318,
           405,
           525,
           320,
           395,
           490,
           300,
           390,
           490,
           325,
           520,
           435
          ],
          "sizemode": "area",
          "sizeref": 1.7,
          "symbol": "circle"
         },
         "mode": "markers",
         "name": "Grass",
         "orientation": "v",
         "showlegend": true,
         "type": "scatter",
         "x": [
          49,
          62,
          82,
          50,
          65,
          80,
          75,
          90,
          105,
          40,
          95,
          55
         ],
         "xaxis": "x",
         "y": [
          49,
          63,
          83,
          55,
          70,
          85,
          35,
          50,
          65,
          80,
          85,
          115
         ],
         "yaxis": "y"
        },
        {
         "customdata": [
          [
           "Charmander"
          ],
          [
           "Charmeleon"
          ],
          [
           "Charizard"
          ],
          [
           "Vulpix"
          ],
          [
           "Ninetales"
          ],
          [
           "Growlithe"
          ],
          [
           "Arcanine"
          ],
          [
           "Ponyta"
          ],
          [
           "Rapidash"
          ],
          [
           "Magmar"
          ],
          [
           "Flareon"
          ],
          [
           "Moltres"
          ]
         ],
         "hovertemplate": "Type 1=Fire<br>Attack=%{x}<br>Defense=%{y}<br>Total=%{marker.size}<br>Name=%{customdata[0]}<extra></extra>",
         "legendgroup": "Fire",
         "marker": {
          "color": "#EF553B",
          "size": [
           309,
           405,
           534,
           299,
           505,
           350,
           555,
           410,
           500,
           495,
           525,
           580
          ],
          "sizemode": "area",
          "sizeref": 1.7,
          "symbol": "circle"
         },
         "mode": "markers",
         "name": "Fire",
         "orientation": "v",
         "showlegend": true,
         "type": "scatter",
         "x": [
          52,
          64,
          84,
          41,
          76,
          70,
          110,
          85,
          100,
          95,
          130,
          100
         ],
         "xaxis": "x",
         "y": [
          43,
          58,
          78,
          40,
          75,
          45,
          80,
          55,
          70,
          57,
          60,
          90
         ],
         "yaxis": "y"
        },
        {
         "customdata": [
          [
           "Squirtle"
          ],
          [
           "Wartortle"
          ],
          [
           "Blastoise"
          ],
          [
           "Psyduck"
          ],
          [
           "Golduck"
          ],
          [
           "Poliwag"
          ],
          [
           "Poliwhirl"
          ],
          [
           "Poliwrath"
          ],
          [
           "Tentacool"
          ],
          [
           "Tentacruel"
          ],
          [
           "Slowpoke"
          ],
          [
           "Slowbro"
          ],
          [
           "Seel"
          ],
          [
           "Dewgong"
          ],
          [
           "Shellder"
          ],
          [
           "Cloyster"
          ],
          [
           "Krabby"
          ],
          [
           "Kingler"
          ],
          [
           "Horsea"
          ],
          [
           "Seadra"
          ],
          [
           "Goldeen"
          ],
          [
           "Seaking"
          ],
          [
           "Staryu"
          ],
          [
           "Starmie"
          ],
          [
           "Magikarp"
          ],
          [
           "Gyarados"
          ],
          [
           "Lapras"
          ],
          [
           "Vaporeon"
          ]
         ],
         "hovertemplate": "Type 1=Water<br>Attack=%{x}<br>Defense=%{y}<br>Total=%{marker.size}<br>Name=%{customdata[0]}<extra></extra>",
         "legendgroup": "Water",
         "marker": {
          "color": "#00cc96",
          "size": [
           314,
           405,
           530,
           320,
           500,
           300,
           385,
           510,
           335,
           515,
           315,
           490,
           325,
           475,
           305,
           525,
           325,
           475,
           295,
           440,
           320,
           450,
           340,
           520,
           200,
           540,
           535,
           525
          ],
          "sizemode": "area",
          "sizeref": 1.7,
          "symbol": "circle"
         },
         "mode": "markers",
         "name": "Water",
         "orientation": "v",
         "showlegend": true,
         "type": "scatter",
         "x": [
          48,
          63,
          83,
          52,
          82,
          50,
          65,
          95,
          40,
          70,
          65,
          75,
          45,
          70,
          65,
          95,
          105,
          130,
          40,
          65,
          67,
          92,
          45,
          75,
          10,
          125,
          85,
          65
         ],
         "xaxis": "x",
         "y": [
          65,
          80,
          100,
          48,
          78,
          40,
          65,
          95,
          35,
          65,
          65,
          110,
          55,
          80,
          100,
          180,
          90,
          115,
          70,
          95,
          60,
          65,
          55,
          85,
          55,
          79,
          80,
          60
         ],
         "yaxis": "y"
        },
        {
         "customdata": [
          [
           "Caterpie"
          ],
          [
           "Metapod"
          ],
          [
           "Butterfree"
          ],
          [
           "Weedle"
          ],
          [
           "Kakuna"
          ],
          [
           "Beedrill"
          ],
          [
           "Paras"
          ],
          [
           "Parasect"
          ],
          [
           "Venonat"
          ],
          [
           "Venomoth"
          ],
          [
           "Scyther"
          ],
          [
           "Pinsir"
          ]
         ],
         "hovertemplate": "Type 1=Bug<br>Attack=%{x}<br>Defense=%{y}<br>Total=%{marker.size}<br>Name=%{customdata[0]}<extra></extra>",
         "legendgroup": "Bug",
         "marker": {
          "color": "#ab63fa",
          "size": [
           195,
           205,
           395,
           195,
           205,
           395,
           285,
           405,
           305,
           450,
           500,
           500
          ],
          "sizemode": "area",
          "sizeref": 1.7,
          "symbol": "circle"
         },
         "mode": "markers",
         "name": "Bug",
         "orientation": "v",
         "showlegend": true,
         "type": "scatter",
         "x": [
          30,
          20,
          45,
          35,
          25,
          90,
          70,
          95,
          55,
          65,
          110,
          125
         ],
         "xaxis": "x",
         "y": [
          35,
          55,
          50,
          30,
          50,
          40,
          55,
          80,
          50,
          60,
          80,
          100
         ],
         "yaxis": "y"
        },
        {
         "customdata": [
          [
           "Pidgey"
          ],
          [
           "Pidgeotto"
          ],
          [
           "Pidgeot"
          ],
          [
           "Rattata"
          ],
          [
           "Raticate"
          ],
          [
           "Spearow"
          ],
          [
           "Fearow"
          ],
          [
           "Jigglypuff"
          ],
          [
           "Wigglytuff"
          ],
          [
           "Meowth"
          ],
          [
           "Persian"
          ],
          [
           "Farfetch'd"
          ],
          [
           "Doduo"
          ],
          [
           "Dodrio"
          ],
          [
           "Lickitung"
          ],
          [
           "Chansey"
          ],
          [
           "Kangaskhan"
          ],
          [
           "Tauros"
          ],
          [
           "Ditto"
          ],
          [
           "Eevee"
          ],
          [
           "Porygon"
          ],
          [
           "Snorlax"
          ]
         ],
         "hovertemplate": "Type 1=Normal<br>Attack=%{x}<br>Defense=%{y}<br>Total=%{marker.size}<br>Name=%{customdata[0]}<extra></extra>",
         "legendgroup": "Normal",
         "marker": {
          "color": "#FFA15A",
          "size": [
           251,
           349,
           479,
           253,
           413,
           262,
           442,
           270,
           435,
           290,
           440,
           352,
           310,
           460,
           385,
           450,
           490,
           490,
           288,
           325,
           395,
           540
          ],
          "sizemode": "area",
          "sizeref": 1.7,
          "symbol": "circle"
         },
         "mode": "markers",
         "name": "Normal",
         "orientation": "v",
         "showlegend": true,
         "type": "scatter",
         "x": [
          45,
          60,
          80,
          56,
          81,
          60,
          90,
          45,
          70,
          45,
          70,
          65,
          85,
          110,
          55,
          5,
          95,
          100,
          48,
          55,
          60,
          110
         ],
         "xaxis": "x",
         "y": [
          40,
          55,
          75,
          35,
          60,
          30,
          65,
          20,
          45,
          35,
          60,
          55,
          45,
          70,
          75,
          5,
          80,
          95,
          48,
          50,
          70,
          65
         ],
         "yaxis": "y"
        },
        {
         "customdata": [
          [
           "Ekans"
          ],
          [
           "Arbok"
          ],
          [
           "NidoranªÛ"
          ],
          [
           "Nidorina"
          ],
          [
           "Nidoqueen"
          ],
          [
           "Nidoranªâ"
          ],
          [
           "Nidorino"
          ],
          [
           "Nidoking"
          ],
          [
           "Zubat"
          ],
          [
           "Golbat"
          ],
          [
           "Grimer"
          ],
          [
           "Muk"
          ],
          [
           "Koffing"
          ],
          [
           "Weezing"
          ]
         ],
         "hovertemplate": "Type 1=Poison<br>Attack=%{x}<br>Defense=%{y}<br>Total=%{marker.size}<br>Name=%{customdata[0]}<extra></extra>",
         "legendgroup": "Poison",
         "marker": {
          "color": "#19d3f3",
          "size": [
           288,
           438,
           275,
           365,
           505,
           273,
           365,
           505,
           245,
           455,
           325,
           500,
           340,
           490
          ],
          "sizemode": "area",
          "sizeref": 1.7,
          "symbol": "circle"
         },
         "mode": "markers",
         "name": "Poison",
         "orientation": "v",
         "showlegend": true,
         "type": "scatter",
         "x": [
          60,
          85,
          47,
          62,
          92,
          57,
          72,
          102,
          45,
          80,
          80,
          105,
          65,
          90
         ],
         "xaxis": "x",
         "y": [
          44,
          69,
          52,
          67,
          87,
          40,
          57,
          77,
          35,
          70,
          50,
          75,
          95,
          120
         ],
         "yaxis": "y"
        },
        {
         "customdata": [
          [
           "Pikachu"
          ],
          [
           "Raichu"
          ],
          [
           "Magnemite"
          ],
          [
           "Magneton"
          ],
          [
           "Voltorb"
          ],
          [
           "Electrode"
          ],
          [
           "Electabuzz"
          ],
          [
           "Jolteon"
          ],
          [
           "Zapdos"
          ]
         ],
         "hovertemplate": "Type 1=Electric<br>Attack=%{x}<br>Defense=%{y}<br>Total=%{marker.size}<br>Name=%{customdata[0]}<extra></extra>",
         "legendgroup": "Electric",
         "marker": {
          "color": "#FF6692",
          "size": [
           320,
           485,
           325,
           465,
           330,
           480,
           490,
           525,
           580
          ],
          "sizemode": "area",
          "sizeref": 1.7,
          "symbol": "circle"
         },
         "mode": "markers",
         "name": "Electric",
         "orientation": "v",
         "showlegend": true,
         "type": "scatter",
         "x": [
          55,
          90,
          35,
          60,
          30,
          50,
          83,
          65,
          90
         ],
         "xaxis": "x",
         "y": [
          40,
          55,
          70,
          95,
          50,
          70,
          57,
          60,
          85
         ],
         "yaxis": "y"
        },
        {
         "customdata": [
          [
           "Sandshrew"
          ],
          [
           "Sandslash"
          ],
          [
           "Diglett"
          ],
          [
           "Dugtrio"
          ],
          [
           "Cubone"
          ],
          [
           "Marowak"
          ],
          [
           "Rhyhorn"
          ],
          [
           "Rhydon"
          ]
         ],
         "hovertemplate": "Type 1=Ground<br>Attack=%{x}<br>Defense=%{y}<br>Total=%{marker.size}<br>Name=%{customdata[0]}<extra></extra>",
         "legendgroup": "Ground",
         "marker": {
          "color": "#B6E880",
          "size": [
           300,
           450,
           265,
           405,
           320,
           425,
           345,
           485
          ],
          "sizemode": "area",
          "sizeref": 1.7,
          "symbol": "circle"
         },
         "mode": "markers",
         "name": "Ground",
         "orientation": "v",
         "showlegend": true,
         "type": "scatter",
         "x": [
          75,
          100,
          55,
          80,
          50,
          80,
          85,
          130
         ],
         "xaxis": "x",
         "y": [
          85,
          110,
          25,
          50,
          95,
          110,
          95,
          120
         ],
         "yaxis": "y"
        },
        {
         "customdata": [
          [
           "Clefairy"
          ],
          [
           "Clefable"
          ]
         ],
         "hovertemplate": "Type 1=Fairy<br>Attack=%{x}<br>Defense=%{y}<br>Total=%{marker.size}<br>Name=%{customdata[0]}<extra></extra>",
         "legendgroup": "Fairy",
         "marker": {
          "color": "#FF97FF",
          "size": [
           323,
           483
          ],
          "sizemode": "area",
          "sizeref": 1.7,
          "symbol": "circle"
         },
         "mode": "markers",
         "name": "Fairy",
         "orientation": "v",
         "showlegend": true,
         "type": "scatter",
         "x": [
          45,
          70
         ],
         "xaxis": "x",
         "y": [
          48,
          73
         ],
         "yaxis": "y"
        },
        {
         "customdata": [
          [
           "Mankey"
          ],
          [
           "Primeape"
          ],
          [
           "Machop"
          ],
          [
           "Machoke"
          ],
          [
           "Machamp"
          ],
          [
           "Hitmonlee"
          ],
          [
           "Hitmonchan"
          ]
         ],
         "hovertemplate": "Type 1=Fighting<br>Attack=%{x}<br>Defense=%{y}<br>Total=%{marker.size}<br>Name=%{customdata[0]}<extra></extra>",
         "legendgroup": "Fighting",
         "marker": {
          "color": "#FECB52",
          "size": [
           305,
           455,
           305,
           405,
           505,
           455,
           455
          ],
          "sizemode": "area",
          "sizeref": 1.7,
          "symbol": "circle"
         },
         "mode": "markers",
         "name": "Fighting",
         "orientation": "v",
         "showlegend": true,
         "type": "scatter",
         "x": [
          80,
          105,
          80,
          100,
          130,
          120,
          105
         ],
         "xaxis": "x",
         "y": [
          35,
          60,
          50,
          70,
          80,
          53,
          79
         ],
         "yaxis": "y"
        },
        {
         "customdata": [
          [
           "Abra"
          ],
          [
           "Kadabra"
          ],
          [
           "Alakazam"
          ],
          [
           "Drowzee"
          ],
          [
           "Hypno"
          ],
          [
           "Mr. Mime"
          ],
          [
           "Mewtwo"
          ],
          [
           "Mew"
          ]
         ],
         "hovertemplate": "Type 1=Psychic<br>Attack=%{x}<br>Defense=%{y}<br>Total=%{marker.size}<br>Name=%{customdata[0]}<extra></extra>",
         "legendgroup": "Psychic",
         "marker": {
          "color": "#636efa",
          "size": [
           310,
           400,
           500,
           328,
           483,
           460,
           680,
           600
          ],
          "sizemode": "area",
          "sizeref": 1.7,
          "symbol": "circle"
         },
         "mode": "markers",
         "name": "Psychic",
         "orientation": "v",
         "showlegend": true,
         "type": "scatter",
         "x": [
          20,
          35,
          50,
          48,
          73,
          45,
          110,
          100
         ],
         "xaxis": "x",
         "y": [
          15,
          30,
          45,
          45,
          70,
          65,
          90,
          100
         ],
         "yaxis": "y"
        },
        {
         "customdata": [
          [
           "Geodude"
          ],
          [
           "Graveler"
          ],
          [
           "Golem"
          ],
          [
           "Onix"
          ],
          [
           "Omanyte"
          ],
          [
           "Omastar"
          ],
          [
           "Kabuto"
          ],
          [
           "Kabutops"
          ],
          [
           "Aerodactyl"
          ]
         ],
         "hovertemplate": "Type 1=Rock<br>Attack=%{x}<br>Defense=%{y}<br>Total=%{marker.size}<br>Name=%{customdata[0]}<extra></extra>",
         "legendgroup": "Rock",
         "marker": {
          "color": "#EF553B",
          "size": [
           300,
           390,
           495,
           385,
           355,
           495,
           355,
           495,
           515
          ],
          "sizemode": "area",
          "sizeref": 1.7,
          "symbol": "circle"
         },
         "mode": "markers",
         "name": "Rock",
         "orientation": "v",
         "showlegend": true,
         "type": "scatter",
         "x": [
          80,
          95,
          120,
          45,
          40,
          60,
          80,
          115,
          105
         ],
         "xaxis": "x",
         "y": [
          100,
          115,
          130,
          160,
          100,
          125,
          90,
          105,
          65
         ],
         "yaxis": "y"
        },
        {
         "customdata": [
          [
           "Gastly"
          ],
          [
           "Haunter"
          ],
          [
           "Gengar"
          ]
         ],
         "hovertemplate": "Type 1=Ghost<br>Attack=%{x}<br>Defense=%{y}<br>Total=%{marker.size}<br>Name=%{customdata[0]}<extra></extra>",
         "legendgroup": "Ghost",
         "marker": {
          "color": "#00cc96",
          "size": [
           310,
           405,
           500
          ],
          "sizemode": "area",
          "sizeref": 1.7,
          "symbol": "circle"
         },
         "mode": "markers",
         "name": "Ghost",
         "orientation": "v",
         "showlegend": true,
         "type": "scatter",
         "x": [
          35,
          50,
          65
         ],
         "xaxis": "x",
         "y": [
          30,
          45,
          60
         ],
         "yaxis": "y"
        },
        {
         "customdata": [
          [
           "Jynx"
          ],
          [
           "Articuno"
          ]
         ],
         "hovertemplate": "Type 1=Ice<br>Attack=%{x}<br>Defense=%{y}<br>Total=%{marker.size}<br>Name=%{customdata[0]}<extra></extra>",
         "legendgroup": "Ice",
         "marker": {
          "color": "#ab63fa",
          "size": [
           455,
           580
          ],
          "sizemode": "area",
          "sizeref": 1.7,
          "symbol": "circle"
         },
         "mode": "markers",
         "name": "Ice",
         "orientation": "v",
         "showlegend": true,
         "type": "scatter",
         "x": [
          50,
          85
         ],
         "xaxis": "x",
         "y": [
          35,
          100
         ],
         "yaxis": "y"
        },
        {
         "customdata": [
          [
           "Dratini"
          ],
          [
           "Dragonair"
          ],
          [
           "Dragonite"
          ]
         ],
         "hovertemplate": "Type 1=Dragon<br>Attack=%{x}<br>Defense=%{y}<br>Total=%{marker.size}<br>Name=%{customdata[0]}<extra></extra>",
         "legendgroup": "Dragon",
         "marker": {
          "color": "#FFA15A",
          "size": [
           300,
           420,
           600
          ],
          "sizemode": "area",
          "sizeref": 1.7,
          "symbol": "circle"
         },
         "mode": "markers",
         "name": "Dragon",
         "orientation": "v",
         "showlegend": true,
         "type": "scatter",
         "x": [
          64,
          84,
          134
         ],
         "xaxis": "x",
         "y": [
          45,
          65,
          95
         ],
         "yaxis": "y"
        }
       ],
       "layout": {
        "legend": {
         "itemsizing": "constant",
         "title": {
          "text": "Type 1"
         },
         "tracegroupgap": 0
        },
        "margin": {
         "t": 60
        },
        "template": {
         "data": {
          "bar": [
           {
            "error_x": {
             "color": "#2a3f5f"
            },
            "error_y": {
             "color": "#2a3f5f"
            },
            "marker": {
             "line": {
              "color": "#E5ECF6",
              "width": 0.5
             }
            },
            "type": "bar"
           }
          ],
          "barpolar": [
           {
            "marker": {
             "line": {
              "color": "#E5ECF6",
              "width": 0.5
             }
            },
            "type": "barpolar"
           }
          ],
          "carpet": [
           {
            "aaxis": {
             "endlinecolor": "#2a3f5f",
             "gridcolor": "white",
             "linecolor": "white",
             "minorgridcolor": "white",
             "startlinecolor": "#2a3f5f"
            },
            "baxis": {
             "endlinecolor": "#2a3f5f",
             "gridcolor": "white",
             "linecolor": "white",
             "minorgridcolor": "white",
             "startlinecolor": "#2a3f5f"
            },
            "type": "carpet"
           }
          ],
          "choropleth": [
           {
            "colorbar": {
             "outlinewidth": 0,
             "ticks": ""
            },
            "type": "choropleth"
           }
          ],
          "contour": [
           {
            "colorbar": {
             "outlinewidth": 0,
             "ticks": ""
            },
            "colorscale": [
             [
              0,
              "#0d0887"
             ],
             [
              0.1111111111111111,
              "#46039f"
             ],
             [
              0.2222222222222222,
              "#7201a8"
             ],
             [
              0.3333333333333333,
              "#9c179e"
             ],
             [
              0.4444444444444444,
              "#bd3786"
             ],
             [
              0.5555555555555556,
              "#d8576b"
             ],
             [
              0.6666666666666666,
              "#ed7953"
             ],
             [
              0.7777777777777778,
              "#fb9f3a"
             ],
             [
              0.8888888888888888,
              "#fdca26"
             ],
             [
              1,
              "#f0f921"
             ]
            ],
            "type": "contour"
           }
          ],
          "contourcarpet": [
           {
            "colorbar": {
             "outlinewidth": 0,
             "ticks": ""
            },
            "type": "contourcarpet"
           }
          ],
          "heatmap": [
           {
            "colorbar": {
             "outlinewidth": 0,
             "ticks": ""
            },
            "colorscale": [
             [
              0,
              "#0d0887"
             ],
             [
              0.1111111111111111,
              "#46039f"
             ],
             [
              0.2222222222222222,
              "#7201a8"
             ],
             [
              0.3333333333333333,
              "#9c179e"
             ],
             [
              0.4444444444444444,
              "#bd3786"
             ],
             [
              0.5555555555555556,
              "#d8576b"
             ],
             [
              0.6666666666666666,
              "#ed7953"
             ],
             [
              0.7777777777777778,
              "#fb9f3a"
             ],
             [
              0.8888888888888888,
              "#fdca26"
             ],
             [
              1,
              "#f0f921"
             ]
            ],
            "type": "heatmap"
           }
          ],
          "heatmapgl": [
           {
            "colorbar": {
             "outlinewidth": 0,
             "ticks": ""
            },
            "colorscale": [
             [
              0,
              "#0d0887"
             ],
             [
              0.1111111111111111,
              "#46039f"
             ],
             [
              0.2222222222222222,
              "#7201a8"
             ],
             [
              0.3333333333333333,
              "#9c179e"
             ],
             [
              0.4444444444444444,
              "#bd3786"
             ],
             [
              0.5555555555555556,
              "#d8576b"
             ],
             [
              0.6666666666666666,
              "#ed7953"
             ],
             [
              0.7777777777777778,
              "#fb9f3a"
             ],
             [
              0.8888888888888888,
              "#fdca26"
             ],
             [
              1,
              "#f0f921"
             ]
            ],
            "type": "heatmapgl"
           }
          ],
          "histogram": [
           {
            "marker": {
             "colorbar": {
              "outlinewidth": 0,
              "ticks": ""
             }
            },
            "type": "histogram"
           }
          ],
          "histogram2d": [
           {
            "colorbar": {
             "outlinewidth": 0,
             "ticks": ""
            },
            "colorscale": [
             [
              0,
              "#0d0887"
             ],
             [
              0.1111111111111111,
              "#46039f"
             ],
             [
              0.2222222222222222,
              "#7201a8"
             ],
             [
              0.3333333333333333,
              "#9c179e"
             ],
             [
              0.4444444444444444,
              "#bd3786"
             ],
             [
              0.5555555555555556,
              "#d8576b"
             ],
             [
              0.6666666666666666,
              "#ed7953"
             ],
             [
              0.7777777777777778,
              "#fb9f3a"
             ],
             [
              0.8888888888888888,
              "#fdca26"
             ],
             [
              1,
              "#f0f921"
             ]
            ],
            "type": "histogram2d"
           }
          ],
          "histogram2dcontour": [
           {
            "colorbar": {
             "outlinewidth": 0,
             "ticks": ""
            },
            "colorscale": [
             [
              0,
              "#0d0887"
             ],
             [
              0.1111111111111111,
              "#46039f"
             ],
             [
              0.2222222222222222,
              "#7201a8"
             ],
             [
              0.3333333333333333,
              "#9c179e"
             ],
             [
              0.4444444444444444,
              "#bd3786"
             ],
             [
              0.5555555555555556,
              "#d8576b"
             ],
             [
              0.6666666666666666,
              "#ed7953"
             ],
             [
              0.7777777777777778,
              "#fb9f3a"
             ],
             [
              0.8888888888888888,
              "#fdca26"
             ],
             [
              1,
              "#f0f921"
             ]
            ],
            "type": "histogram2dcontour"
           }
          ],
          "mesh3d": [
           {
            "colorbar": {
             "outlinewidth": 0,
             "ticks": ""
            },
            "type": "mesh3d"
           }
          ],
          "parcoords": [
           {
            "line": {
             "colorbar": {
              "outlinewidth": 0,
              "ticks": ""
             }
            },
            "type": "parcoords"
           }
          ],
          "pie": [
           {
            "automargin": true,
            "type": "pie"
           }
          ],
          "scatter": [
           {
            "marker": {
             "colorbar": {
              "outlinewidth": 0,
              "ticks": ""
             }
            },
            "type": "scatter"
           }
          ],
          "scatter3d": [
           {
            "line": {
             "colorbar": {
              "outlinewidth": 0,
              "ticks": ""
             }
            },
            "marker": {
             "colorbar": {
              "outlinewidth": 0,
              "ticks": ""
             }
            },
            "type": "scatter3d"
           }
          ],
          "scattercarpet": [
           {
            "marker": {
             "colorbar": {
              "outlinewidth": 0,
              "ticks": ""
             }
            },
            "type": "scattercarpet"
           }
          ],
          "scattergeo": [
           {
            "marker": {
             "colorbar": {
              "outlinewidth": 0,
              "ticks": ""
             }
            },
            "type": "scattergeo"
           }
          ],
          "scattergl": [
           {
            "marker": {
             "colorbar": {
              "outlinewidth": 0,
              "ticks": ""
             }
            },
            "type": "scattergl"
           }
          ],
          "scattermapbox": [
           {
            "marker": {
             "colorbar": {
              "outlinewidth": 0,
              "ticks": ""
             }
            },
            "type": "scattermapbox"
           }
          ],
          "scatterpolar": [
           {
            "marker": {
             "colorbar": {
              "outlinewidth": 0,
              "ticks": ""
             }
            },
            "type": "scatterpolar"
           }
          ],
          "scatterpolargl": [
           {
            "marker": {
             "colorbar": {
              "outlinewidth": 0,
              "ticks": ""
             }
            },
            "type": "scatterpolargl"
           }
          ],
          "scatterternary": [
           {
            "marker": {
             "colorbar": {
              "outlinewidth": 0,
              "ticks": ""
             }
            },
            "type": "scatterternary"
           }
          ],
          "surface": [
           {
            "colorbar": {
             "outlinewidth": 0,
             "ticks": ""
            },
            "colorscale": [
             [
              0,
              "#0d0887"
             ],
             [
              0.1111111111111111,
              "#46039f"
             ],
             [
              0.2222222222222222,
              "#7201a8"
             ],
             [
              0.3333333333333333,
              "#9c179e"
             ],
             [
              0.4444444444444444,
              "#bd3786"
             ],
             [
              0.5555555555555556,
              "#d8576b"
             ],
             [
              0.6666666666666666,
              "#ed7953"
             ],
             [
              0.7777777777777778,
              "#fb9f3a"
             ],
             [
              0.8888888888888888,
              "#fdca26"
             ],
             [
              1,
              "#f0f921"
             ]
            ],
            "type": "surface"
           }
          ],
          "table": [
           {
            "cells": {
             "fill": {
              "color": "#EBF0F8"
             },
             "line": {
              "color": "white"
             }
            },
            "header": {
             "fill": {
              "color": "#C8D4E3"
             },
             "line": {
              "color": "white"
             }
            },
            "type": "table"
           }
          ]
         },
         "layout": {
          "annotationdefaults": {
           "arrowcolor": "#2a3f5f",
           "arrowhead": 0,
           "arrowwidth": 1
          },
          "autotypenumbers": "strict",
          "coloraxis": {
           "colorbar": {
            "outlinewidth": 0,
            "ticks": ""
           }
          },
          "colorscale": {
           "diverging": [
            [
             0,
             "#8e0152"
            ],
            [
             0.1,
             "#c51b7d"
            ],
            [
             0.2,
             "#de77ae"
            ],
            [
             0.3,
             "#f1b6da"
            ],
            [
             0.4,
             "#fde0ef"
            ],
            [
             0.5,
             "#f7f7f7"
            ],
            [
             0.6,
             "#e6f5d0"
            ],
            [
             0.7,
             "#b8e186"
            ],
            [
             0.8,
             "#7fbc41"
            ],
            [
             0.9,
             "#4d9221"
            ],
            [
             1,
             "#276419"
            ]
           ],
           "sequential": [
            [
             0,
             "#0d0887"
            ],
            [
             0.1111111111111111,
             "#46039f"
            ],
            [
             0.2222222222222222,
             "#7201a8"
            ],
            [
             0.3333333333333333,
             "#9c179e"
            ],
            [
             0.4444444444444444,
             "#bd3786"
            ],
            [
             0.5555555555555556,
             "#d8576b"
            ],
            [
             0.6666666666666666,
             "#ed7953"
            ],
            [
             0.7777777777777778,
             "#fb9f3a"
            ],
            [
             0.8888888888888888,
             "#fdca26"
            ],
            [
             1,
             "#f0f921"
            ]
           ],
           "sequentialminus": [
            [
             0,
             "#0d0887"
            ],
            [
             0.1111111111111111,
             "#46039f"
            ],
            [
             0.2222222222222222,
             "#7201a8"
            ],
            [
             0.3333333333333333,
             "#9c179e"
            ],
            [
             0.4444444444444444,
             "#bd3786"
            ],
            [
             0.5555555555555556,
             "#d8576b"
            ],
            [
             0.6666666666666666,
             "#ed7953"
            ],
            [
             0.7777777777777778,
             "#fb9f3a"
            ],
            [
             0.8888888888888888,
             "#fdca26"
            ],
            [
             1,
             "#f0f921"
            ]
           ]
          },
          "colorway": [
           "#636efa",
           "#EF553B",
           "#00cc96",
           "#ab63fa",
           "#FFA15A",
           "#19d3f3",
           "#FF6692",
           "#B6E880",
           "#FF97FF",
           "#FECB52"
          ],
          "font": {
           "color": "#2a3f5f"
          },
          "geo": {
           "bgcolor": "white",
           "lakecolor": "white",
           "landcolor": "#E5ECF6",
           "showlakes": true,
           "showland": true,
           "subunitcolor": "white"
          },
          "hoverlabel": {
           "align": "left"
          },
          "hovermode": "closest",
          "mapbox": {
           "style": "light"
          },
          "paper_bgcolor": "white",
          "plot_bgcolor": "#E5ECF6",
          "polar": {
           "angularaxis": {
            "gridcolor": "white",
            "linecolor": "white",
            "ticks": ""
           },
           "bgcolor": "#E5ECF6",
           "radialaxis": {
            "gridcolor": "white",
            "linecolor": "white",
            "ticks": ""
           }
          },
          "scene": {
           "xaxis": {
            "backgroundcolor": "#E5ECF6",
            "gridcolor": "white",
            "gridwidth": 2,
            "linecolor": "white",
            "showbackground": true,
            "ticks": "",
            "zerolinecolor": "white"
           },
           "yaxis": {
            "backgroundcolor": "#E5ECF6",
            "gridcolor": "white",
            "gridwidth": 2,
            "linecolor": "white",
            "showbackground": true,
            "ticks": "",
            "zerolinecolor": "white"
           },
           "zaxis": {
            "backgroundcolor": "#E5ECF6",
            "gridcolor": "white",
            "gridwidth": 2,
            "linecolor": "white",
            "showbackground": true,
            "ticks": "",
            "zerolinecolor": "white"
           }
          },
          "shapedefaults": {
           "line": {
            "color": "#2a3f5f"
           }
          },
          "ternary": {
           "aaxis": {
            "gridcolor": "white",
            "linecolor": "white",
            "ticks": ""
           },
           "baxis": {
            "gridcolor": "white",
            "linecolor": "white",
            "ticks": ""
           },
           "bgcolor": "#E5ECF6",
           "caxis": {
            "gridcolor": "white",
            "linecolor": "white",
            "ticks": ""
           }
          },
          "title": {
           "x": 0.05
          },
          "xaxis": {
           "automargin": true,
           "gridcolor": "white",
           "linecolor": "white",
           "ticks": "",
           "title": {
            "standoff": 15
           },
           "zerolinecolor": "white",
           "zerolinewidth": 2
          },
          "yaxis": {
           "automargin": true,
           "gridcolor": "white",
           "linecolor": "white",
           "ticks": "",
           "title": {
            "standoff": 15
           },
           "zerolinecolor": "white",
           "zerolinewidth": 2
          }
         }
        },
        "xaxis": {
         "anchor": "y",
         "domain": [
          0,
          1
         ],
         "title": {
          "text": "Attack"
         }
        },
        "yaxis": {
         "anchor": "x",
         "domain": [
          0,
          1
         ],
         "title": {
          "text": "Defense"
         }
        }
       }
      },
      "text/html": [
       "<div>                            <div id=\"4dc08f23-3e1b-46e3-bdf9-aebd98565196\" class=\"plotly-graph-div\" style=\"height:525px; width:100%;\"></div>            <script type=\"text/javascript\">                require([\"plotly\"], function(Plotly) {                    window.PLOTLYENV=window.PLOTLYENV || {};                                    if (document.getElementById(\"4dc08f23-3e1b-46e3-bdf9-aebd98565196\")) {                    Plotly.newPlot(                        \"4dc08f23-3e1b-46e3-bdf9-aebd98565196\",                        [{\"customdata\": [[\"Bulbasaur\"], [\"Ivysaur\"], [\"Venusaur\"], [\"Oddish\"], [\"Gloom\"], [\"Vileplume\"], [\"Bellsprout\"], [\"Weepinbell\"], [\"Victreebel\"], [\"Exeggcute\"], [\"Exeggutor\"], [\"Tangela\"]], \"hovertemplate\": \"Type 1=Grass<br>Attack=%{x}<br>Defense=%{y}<br>Total=%{marker.size}<br>Name=%{customdata[0]}<extra></extra>\", \"legendgroup\": \"Grass\", \"marker\": {\"color\": \"#636efa\", \"size\": [318, 405, 525, 320, 395, 490, 300, 390, 490, 325, 520, 435], \"sizemode\": \"area\", \"sizeref\": 1.7, \"symbol\": \"circle\"}, \"mode\": \"markers\", \"name\": \"Grass\", \"orientation\": \"v\", \"showlegend\": true, \"type\": \"scatter\", \"x\": [49, 62, 82, 50, 65, 80, 75, 90, 105, 40, 95, 55], \"xaxis\": \"x\", \"y\": [49, 63, 83, 55, 70, 85, 35, 50, 65, 80, 85, 115], \"yaxis\": \"y\"}, {\"customdata\": [[\"Charmander\"], [\"Charmeleon\"], [\"Charizard\"], [\"Vulpix\"], [\"Ninetales\"], [\"Growlithe\"], [\"Arcanine\"], [\"Ponyta\"], [\"Rapidash\"], [\"Magmar\"], [\"Flareon\"], [\"Moltres\"]], \"hovertemplate\": \"Type 1=Fire<br>Attack=%{x}<br>Defense=%{y}<br>Total=%{marker.size}<br>Name=%{customdata[0]}<extra></extra>\", \"legendgroup\": \"Fire\", \"marker\": {\"color\": \"#EF553B\", \"size\": [309, 405, 534, 299, 505, 350, 555, 410, 500, 495, 525, 580], \"sizemode\": \"area\", \"sizeref\": 1.7, \"symbol\": \"circle\"}, \"mode\": \"markers\", \"name\": \"Fire\", \"orientation\": \"v\", \"showlegend\": true, \"type\": \"scatter\", \"x\": [52, 64, 84, 41, 76, 70, 110, 85, 100, 95, 130, 100], \"xaxis\": \"x\", \"y\": [43, 58, 78, 40, 75, 45, 80, 55, 70, 57, 60, 90], \"yaxis\": \"y\"}, {\"customdata\": [[\"Squirtle\"], [\"Wartortle\"], [\"Blastoise\"], [\"Psyduck\"], [\"Golduck\"], [\"Poliwag\"], [\"Poliwhirl\"], [\"Poliwrath\"], [\"Tentacool\"], [\"Tentacruel\"], [\"Slowpoke\"], [\"Slowbro\"], [\"Seel\"], [\"Dewgong\"], [\"Shellder\"], [\"Cloyster\"], [\"Krabby\"], [\"Kingler\"], [\"Horsea\"], [\"Seadra\"], [\"Goldeen\"], [\"Seaking\"], [\"Staryu\"], [\"Starmie\"], [\"Magikarp\"], [\"Gyarados\"], [\"Lapras\"], [\"Vaporeon\"]], \"hovertemplate\": \"Type 1=Water<br>Attack=%{x}<br>Defense=%{y}<br>Total=%{marker.size}<br>Name=%{customdata[0]}<extra></extra>\", \"legendgroup\": \"Water\", \"marker\": {\"color\": \"#00cc96\", \"size\": [314, 405, 530, 320, 500, 300, 385, 510, 335, 515, 315, 490, 325, 475, 305, 525, 325, 475, 295, 440, 320, 450, 340, 520, 200, 540, 535, 525], \"sizemode\": \"area\", \"sizeref\": 1.7, \"symbol\": \"circle\"}, \"mode\": \"markers\", \"name\": \"Water\", \"orientation\": \"v\", \"showlegend\": true, \"type\": \"scatter\", \"x\": [48, 63, 83, 52, 82, 50, 65, 95, 40, 70, 65, 75, 45, 70, 65, 95, 105, 130, 40, 65, 67, 92, 45, 75, 10, 125, 85, 65], \"xaxis\": \"x\", \"y\": [65, 80, 100, 48, 78, 40, 65, 95, 35, 65, 65, 110, 55, 80, 100, 180, 90, 115, 70, 95, 60, 65, 55, 85, 55, 79, 80, 60], \"yaxis\": \"y\"}, {\"customdata\": [[\"Caterpie\"], [\"Metapod\"], [\"Butterfree\"], [\"Weedle\"], [\"Kakuna\"], [\"Beedrill\"], [\"Paras\"], [\"Parasect\"], [\"Venonat\"], [\"Venomoth\"], [\"Scyther\"], [\"Pinsir\"]], \"hovertemplate\": \"Type 1=Bug<br>Attack=%{x}<br>Defense=%{y}<br>Total=%{marker.size}<br>Name=%{customdata[0]}<extra></extra>\", \"legendgroup\": \"Bug\", \"marker\": {\"color\": \"#ab63fa\", \"size\": [195, 205, 395, 195, 205, 395, 285, 405, 305, 450, 500, 500], \"sizemode\": \"area\", \"sizeref\": 1.7, \"symbol\": \"circle\"}, \"mode\": \"markers\", \"name\": \"Bug\", \"orientation\": \"v\", \"showlegend\": true, \"type\": \"scatter\", \"x\": [30, 20, 45, 35, 25, 90, 70, 95, 55, 65, 110, 125], \"xaxis\": \"x\", \"y\": [35, 55, 50, 30, 50, 40, 55, 80, 50, 60, 80, 100], \"yaxis\": \"y\"}, {\"customdata\": [[\"Pidgey\"], [\"Pidgeotto\"], [\"Pidgeot\"], [\"Rattata\"], [\"Raticate\"], [\"Spearow\"], [\"Fearow\"], [\"Jigglypuff\"], [\"Wigglytuff\"], [\"Meowth\"], [\"Persian\"], [\"Farfetch'd\"], [\"Doduo\"], [\"Dodrio\"], [\"Lickitung\"], [\"Chansey\"], [\"Kangaskhan\"], [\"Tauros\"], [\"Ditto\"], [\"Eevee\"], [\"Porygon\"], [\"Snorlax\"]], \"hovertemplate\": \"Type 1=Normal<br>Attack=%{x}<br>Defense=%{y}<br>Total=%{marker.size}<br>Name=%{customdata[0]}<extra></extra>\", \"legendgroup\": \"Normal\", \"marker\": {\"color\": \"#FFA15A\", \"size\": [251, 349, 479, 253, 413, 262, 442, 270, 435, 290, 440, 352, 310, 460, 385, 450, 490, 490, 288, 325, 395, 540], \"sizemode\": \"area\", \"sizeref\": 1.7, \"symbol\": \"circle\"}, \"mode\": \"markers\", \"name\": \"Normal\", \"orientation\": \"v\", \"showlegend\": true, \"type\": \"scatter\", \"x\": [45, 60, 80, 56, 81, 60, 90, 45, 70, 45, 70, 65, 85, 110, 55, 5, 95, 100, 48, 55, 60, 110], \"xaxis\": \"x\", \"y\": [40, 55, 75, 35, 60, 30, 65, 20, 45, 35, 60, 55, 45, 70, 75, 5, 80, 95, 48, 50, 70, 65], \"yaxis\": \"y\"}, {\"customdata\": [[\"Ekans\"], [\"Arbok\"], [\"Nidoran\\u0089\\u00aa\\u00db\"], [\"Nidorina\"], [\"Nidoqueen\"], [\"Nidoran\\u0089\\u00aa\\u00e2\"], [\"Nidorino\"], [\"Nidoking\"], [\"Zubat\"], [\"Golbat\"], [\"Grimer\"], [\"Muk\"], [\"Koffing\"], [\"Weezing\"]], \"hovertemplate\": \"Type 1=Poison<br>Attack=%{x}<br>Defense=%{y}<br>Total=%{marker.size}<br>Name=%{customdata[0]}<extra></extra>\", \"legendgroup\": \"Poison\", \"marker\": {\"color\": \"#19d3f3\", \"size\": [288, 438, 275, 365, 505, 273, 365, 505, 245, 455, 325, 500, 340, 490], \"sizemode\": \"area\", \"sizeref\": 1.7, \"symbol\": \"circle\"}, \"mode\": \"markers\", \"name\": \"Poison\", \"orientation\": \"v\", \"showlegend\": true, \"type\": \"scatter\", \"x\": [60, 85, 47, 62, 92, 57, 72, 102, 45, 80, 80, 105, 65, 90], \"xaxis\": \"x\", \"y\": [44, 69, 52, 67, 87, 40, 57, 77, 35, 70, 50, 75, 95, 120], \"yaxis\": \"y\"}, {\"customdata\": [[\"Pikachu\"], [\"Raichu\"], [\"Magnemite\"], [\"Magneton\"], [\"Voltorb\"], [\"Electrode\"], [\"Electabuzz\"], [\"Jolteon\"], [\"Zapdos\"]], \"hovertemplate\": \"Type 1=Electric<br>Attack=%{x}<br>Defense=%{y}<br>Total=%{marker.size}<br>Name=%{customdata[0]}<extra></extra>\", \"legendgroup\": \"Electric\", \"marker\": {\"color\": \"#FF6692\", \"size\": [320, 485, 325, 465, 330, 480, 490, 525, 580], \"sizemode\": \"area\", \"sizeref\": 1.7, \"symbol\": \"circle\"}, \"mode\": \"markers\", \"name\": \"Electric\", \"orientation\": \"v\", \"showlegend\": true, \"type\": \"scatter\", \"x\": [55, 90, 35, 60, 30, 50, 83, 65, 90], \"xaxis\": \"x\", \"y\": [40, 55, 70, 95, 50, 70, 57, 60, 85], \"yaxis\": \"y\"}, {\"customdata\": [[\"Sandshrew\"], [\"Sandslash\"], [\"Diglett\"], [\"Dugtrio\"], [\"Cubone\"], [\"Marowak\"], [\"Rhyhorn\"], [\"Rhydon\"]], \"hovertemplate\": \"Type 1=Ground<br>Attack=%{x}<br>Defense=%{y}<br>Total=%{marker.size}<br>Name=%{customdata[0]}<extra></extra>\", \"legendgroup\": \"Ground\", \"marker\": {\"color\": \"#B6E880\", \"size\": [300, 450, 265, 405, 320, 425, 345, 485], \"sizemode\": \"area\", \"sizeref\": 1.7, \"symbol\": \"circle\"}, \"mode\": \"markers\", \"name\": \"Ground\", \"orientation\": \"v\", \"showlegend\": true, \"type\": \"scatter\", \"x\": [75, 100, 55, 80, 50, 80, 85, 130], \"xaxis\": \"x\", \"y\": [85, 110, 25, 50, 95, 110, 95, 120], \"yaxis\": \"y\"}, {\"customdata\": [[\"Clefairy\"], [\"Clefable\"]], \"hovertemplate\": \"Type 1=Fairy<br>Attack=%{x}<br>Defense=%{y}<br>Total=%{marker.size}<br>Name=%{customdata[0]}<extra></extra>\", \"legendgroup\": \"Fairy\", \"marker\": {\"color\": \"#FF97FF\", \"size\": [323, 483], \"sizemode\": \"area\", \"sizeref\": 1.7, \"symbol\": \"circle\"}, \"mode\": \"markers\", \"name\": \"Fairy\", \"orientation\": \"v\", \"showlegend\": true, \"type\": \"scatter\", \"x\": [45, 70], \"xaxis\": \"x\", \"y\": [48, 73], \"yaxis\": \"y\"}, {\"customdata\": [[\"Mankey\"], [\"Primeape\"], [\"Machop\"], [\"Machoke\"], [\"Machamp\"], [\"Hitmonlee\"], [\"Hitmonchan\"]], \"hovertemplate\": \"Type 1=Fighting<br>Attack=%{x}<br>Defense=%{y}<br>Total=%{marker.size}<br>Name=%{customdata[0]}<extra></extra>\", \"legendgroup\": \"Fighting\", \"marker\": {\"color\": \"#FECB52\", \"size\": [305, 455, 305, 405, 505, 455, 455], \"sizemode\": \"area\", \"sizeref\": 1.7, \"symbol\": \"circle\"}, \"mode\": \"markers\", \"name\": \"Fighting\", \"orientation\": \"v\", \"showlegend\": true, \"type\": \"scatter\", \"x\": [80, 105, 80, 100, 130, 120, 105], \"xaxis\": \"x\", \"y\": [35, 60, 50, 70, 80, 53, 79], \"yaxis\": \"y\"}, {\"customdata\": [[\"Abra\"], [\"Kadabra\"], [\"Alakazam\"], [\"Drowzee\"], [\"Hypno\"], [\"Mr. Mime\"], [\"Mewtwo\"], [\"Mew\"]], \"hovertemplate\": \"Type 1=Psychic<br>Attack=%{x}<br>Defense=%{y}<br>Total=%{marker.size}<br>Name=%{customdata[0]}<extra></extra>\", \"legendgroup\": \"Psychic\", \"marker\": {\"color\": \"#636efa\", \"size\": [310, 400, 500, 328, 483, 460, 680, 600], \"sizemode\": \"area\", \"sizeref\": 1.7, \"symbol\": \"circle\"}, \"mode\": \"markers\", \"name\": \"Psychic\", \"orientation\": \"v\", \"showlegend\": true, \"type\": \"scatter\", \"x\": [20, 35, 50, 48, 73, 45, 110, 100], \"xaxis\": \"x\", \"y\": [15, 30, 45, 45, 70, 65, 90, 100], \"yaxis\": \"y\"}, {\"customdata\": [[\"Geodude\"], [\"Graveler\"], [\"Golem\"], [\"Onix\"], [\"Omanyte\"], [\"Omastar\"], [\"Kabuto\"], [\"Kabutops\"], [\"Aerodactyl\"]], \"hovertemplate\": \"Type 1=Rock<br>Attack=%{x}<br>Defense=%{y}<br>Total=%{marker.size}<br>Name=%{customdata[0]}<extra></extra>\", \"legendgroup\": \"Rock\", \"marker\": {\"color\": \"#EF553B\", \"size\": [300, 390, 495, 385, 355, 495, 355, 495, 515], \"sizemode\": \"area\", \"sizeref\": 1.7, \"symbol\": \"circle\"}, \"mode\": \"markers\", \"name\": \"Rock\", \"orientation\": \"v\", \"showlegend\": true, \"type\": \"scatter\", \"x\": [80, 95, 120, 45, 40, 60, 80, 115, 105], \"xaxis\": \"x\", \"y\": [100, 115, 130, 160, 100, 125, 90, 105, 65], \"yaxis\": \"y\"}, {\"customdata\": [[\"Gastly\"], [\"Haunter\"], [\"Gengar\"]], \"hovertemplate\": \"Type 1=Ghost<br>Attack=%{x}<br>Defense=%{y}<br>Total=%{marker.size}<br>Name=%{customdata[0]}<extra></extra>\", \"legendgroup\": \"Ghost\", \"marker\": {\"color\": \"#00cc96\", \"size\": [310, 405, 500], \"sizemode\": \"area\", \"sizeref\": 1.7, \"symbol\": \"circle\"}, \"mode\": \"markers\", \"name\": \"Ghost\", \"orientation\": \"v\", \"showlegend\": true, \"type\": \"scatter\", \"x\": [35, 50, 65], \"xaxis\": \"x\", \"y\": [30, 45, 60], \"yaxis\": \"y\"}, {\"customdata\": [[\"Jynx\"], [\"Articuno\"]], \"hovertemplate\": \"Type 1=Ice<br>Attack=%{x}<br>Defense=%{y}<br>Total=%{marker.size}<br>Name=%{customdata[0]}<extra></extra>\", \"legendgroup\": \"Ice\", \"marker\": {\"color\": \"#ab63fa\", \"size\": [455, 580], \"sizemode\": \"area\", \"sizeref\": 1.7, \"symbol\": \"circle\"}, \"mode\": \"markers\", \"name\": \"Ice\", \"orientation\": \"v\", \"showlegend\": true, \"type\": \"scatter\", \"x\": [50, 85], \"xaxis\": \"x\", \"y\": [35, 100], \"yaxis\": \"y\"}, {\"customdata\": [[\"Dratini\"], [\"Dragonair\"], [\"Dragonite\"]], \"hovertemplate\": \"Type 1=Dragon<br>Attack=%{x}<br>Defense=%{y}<br>Total=%{marker.size}<br>Name=%{customdata[0]}<extra></extra>\", \"legendgroup\": \"Dragon\", \"marker\": {\"color\": \"#FFA15A\", \"size\": [300, 420, 600], \"sizemode\": \"area\", \"sizeref\": 1.7, \"symbol\": \"circle\"}, \"mode\": \"markers\", \"name\": \"Dragon\", \"orientation\": \"v\", \"showlegend\": true, \"type\": \"scatter\", \"x\": [64, 84, 134], \"xaxis\": \"x\", \"y\": [45, 65, 95], \"yaxis\": \"y\"}],                        {\"legend\": {\"itemsizing\": \"constant\", \"title\": {\"text\": \"Type 1\"}, \"tracegroupgap\": 0}, \"margin\": {\"t\": 60}, \"template\": {\"data\": {\"bar\": [{\"error_x\": {\"color\": \"#2a3f5f\"}, \"error_y\": {\"color\": \"#2a3f5f\"}, \"marker\": {\"line\": {\"color\": \"#E5ECF6\", \"width\": 0.5}}, \"type\": \"bar\"}], \"barpolar\": [{\"marker\": {\"line\": {\"color\": \"#E5ECF6\", \"width\": 0.5}}, \"type\": \"barpolar\"}], \"carpet\": [{\"aaxis\": {\"endlinecolor\": \"#2a3f5f\", \"gridcolor\": \"white\", \"linecolor\": \"white\", \"minorgridcolor\": \"white\", \"startlinecolor\": \"#2a3f5f\"}, \"baxis\": {\"endlinecolor\": \"#2a3f5f\", \"gridcolor\": \"white\", \"linecolor\": \"white\", \"minorgridcolor\": \"white\", \"startlinecolor\": \"#2a3f5f\"}, \"type\": \"carpet\"}], \"choropleth\": [{\"colorbar\": {\"outlinewidth\": 0, \"ticks\": \"\"}, \"type\": \"choropleth\"}], \"contour\": [{\"colorbar\": {\"outlinewidth\": 0, \"ticks\": \"\"}, \"colorscale\": [[0.0, \"#0d0887\"], [0.1111111111111111, \"#46039f\"], [0.2222222222222222, \"#7201a8\"], [0.3333333333333333, \"#9c179e\"], [0.4444444444444444, \"#bd3786\"], [0.5555555555555556, \"#d8576b\"], [0.6666666666666666, \"#ed7953\"], [0.7777777777777778, \"#fb9f3a\"], [0.8888888888888888, \"#fdca26\"], [1.0, \"#f0f921\"]], \"type\": \"contour\"}], \"contourcarpet\": [{\"colorbar\": {\"outlinewidth\": 0, \"ticks\": \"\"}, \"type\": \"contourcarpet\"}], \"heatmap\": [{\"colorbar\": {\"outlinewidth\": 0, \"ticks\": \"\"}, \"colorscale\": [[0.0, \"#0d0887\"], [0.1111111111111111, \"#46039f\"], [0.2222222222222222, \"#7201a8\"], [0.3333333333333333, \"#9c179e\"], [0.4444444444444444, \"#bd3786\"], [0.5555555555555556, \"#d8576b\"], [0.6666666666666666, \"#ed7953\"], [0.7777777777777778, \"#fb9f3a\"], [0.8888888888888888, \"#fdca26\"], [1.0, \"#f0f921\"]], \"type\": \"heatmap\"}], \"heatmapgl\": [{\"colorbar\": {\"outlinewidth\": 0, \"ticks\": \"\"}, \"colorscale\": [[0.0, \"#0d0887\"], [0.1111111111111111, \"#46039f\"], [0.2222222222222222, \"#7201a8\"], [0.3333333333333333, \"#9c179e\"], [0.4444444444444444, \"#bd3786\"], [0.5555555555555556, \"#d8576b\"], [0.6666666666666666, \"#ed7953\"], [0.7777777777777778, \"#fb9f3a\"], [0.8888888888888888, \"#fdca26\"], [1.0, \"#f0f921\"]], \"type\": \"heatmapgl\"}], \"histogram\": [{\"marker\": {\"colorbar\": {\"outlinewidth\": 0, \"ticks\": \"\"}}, \"type\": \"histogram\"}], \"histogram2d\": [{\"colorbar\": {\"outlinewidth\": 0, \"ticks\": \"\"}, \"colorscale\": [[0.0, \"#0d0887\"], [0.1111111111111111, \"#46039f\"], [0.2222222222222222, \"#7201a8\"], [0.3333333333333333, \"#9c179e\"], [0.4444444444444444, \"#bd3786\"], [0.5555555555555556, \"#d8576b\"], [0.6666666666666666, \"#ed7953\"], [0.7777777777777778, \"#fb9f3a\"], [0.8888888888888888, \"#fdca26\"], [1.0, \"#f0f921\"]], \"type\": \"histogram2d\"}], \"histogram2dcontour\": [{\"colorbar\": {\"outlinewidth\": 0, \"ticks\": \"\"}, \"colorscale\": [[0.0, \"#0d0887\"], [0.1111111111111111, \"#46039f\"], [0.2222222222222222, \"#7201a8\"], [0.3333333333333333, \"#9c179e\"], [0.4444444444444444, \"#bd3786\"], [0.5555555555555556, \"#d8576b\"], [0.6666666666666666, \"#ed7953\"], [0.7777777777777778, \"#fb9f3a\"], [0.8888888888888888, \"#fdca26\"], [1.0, \"#f0f921\"]], \"type\": \"histogram2dcontour\"}], \"mesh3d\": [{\"colorbar\": {\"outlinewidth\": 0, \"ticks\": \"\"}, \"type\": \"mesh3d\"}], \"parcoords\": [{\"line\": {\"colorbar\": {\"outlinewidth\": 0, \"ticks\": \"\"}}, \"type\": \"parcoords\"}], \"pie\": [{\"automargin\": true, \"type\": \"pie\"}], \"scatter\": [{\"marker\": {\"colorbar\": {\"outlinewidth\": 0, \"ticks\": \"\"}}, \"type\": \"scatter\"}], \"scatter3d\": [{\"line\": {\"colorbar\": {\"outlinewidth\": 0, \"ticks\": \"\"}}, \"marker\": {\"colorbar\": {\"outlinewidth\": 0, \"ticks\": \"\"}}, \"type\": \"scatter3d\"}], \"scattercarpet\": [{\"marker\": {\"colorbar\": {\"outlinewidth\": 0, \"ticks\": \"\"}}, \"type\": \"scattercarpet\"}], \"scattergeo\": [{\"marker\": {\"colorbar\": {\"outlinewidth\": 0, \"ticks\": \"\"}}, \"type\": \"scattergeo\"}], \"scattergl\": [{\"marker\": {\"colorbar\": {\"outlinewidth\": 0, \"ticks\": \"\"}}, \"type\": \"scattergl\"}], \"scattermapbox\": [{\"marker\": {\"colorbar\": {\"outlinewidth\": 0, \"ticks\": \"\"}}, \"type\": \"scattermapbox\"}], \"scatterpolar\": [{\"marker\": {\"colorbar\": {\"outlinewidth\": 0, \"ticks\": \"\"}}, \"type\": \"scatterpolar\"}], \"scatterpolargl\": [{\"marker\": {\"colorbar\": {\"outlinewidth\": 0, \"ticks\": \"\"}}, \"type\": \"scatterpolargl\"}], \"scatterternary\": [{\"marker\": {\"colorbar\": {\"outlinewidth\": 0, \"ticks\": \"\"}}, \"type\": \"scatterternary\"}], \"surface\": [{\"colorbar\": {\"outlinewidth\": 0, \"ticks\": \"\"}, \"colorscale\": [[0.0, \"#0d0887\"], [0.1111111111111111, \"#46039f\"], [0.2222222222222222, \"#7201a8\"], [0.3333333333333333, \"#9c179e\"], [0.4444444444444444, \"#bd3786\"], [0.5555555555555556, \"#d8576b\"], [0.6666666666666666, \"#ed7953\"], [0.7777777777777778, \"#fb9f3a\"], [0.8888888888888888, \"#fdca26\"], [1.0, \"#f0f921\"]], \"type\": \"surface\"}], \"table\": [{\"cells\": {\"fill\": {\"color\": \"#EBF0F8\"}, \"line\": {\"color\": \"white\"}}, \"header\": {\"fill\": {\"color\": \"#C8D4E3\"}, \"line\": {\"color\": \"white\"}}, \"type\": \"table\"}]}, \"layout\": {\"annotationdefaults\": {\"arrowcolor\": \"#2a3f5f\", \"arrowhead\": 0, \"arrowwidth\": 1}, \"autotypenumbers\": \"strict\", \"coloraxis\": {\"colorbar\": {\"outlinewidth\": 0, \"ticks\": \"\"}}, \"colorscale\": {\"diverging\": [[0, \"#8e0152\"], [0.1, \"#c51b7d\"], [0.2, \"#de77ae\"], [0.3, \"#f1b6da\"], [0.4, \"#fde0ef\"], [0.5, \"#f7f7f7\"], [0.6, \"#e6f5d0\"], [0.7, \"#b8e186\"], [0.8, \"#7fbc41\"], [0.9, \"#4d9221\"], [1, \"#276419\"]], \"sequential\": [[0.0, \"#0d0887\"], [0.1111111111111111, \"#46039f\"], [0.2222222222222222, \"#7201a8\"], [0.3333333333333333, \"#9c179e\"], [0.4444444444444444, \"#bd3786\"], [0.5555555555555556, \"#d8576b\"], [0.6666666666666666, \"#ed7953\"], [0.7777777777777778, \"#fb9f3a\"], [0.8888888888888888, \"#fdca26\"], [1.0, \"#f0f921\"]], \"sequentialminus\": [[0.0, \"#0d0887\"], [0.1111111111111111, \"#46039f\"], [0.2222222222222222, \"#7201a8\"], [0.3333333333333333, \"#9c179e\"], [0.4444444444444444, \"#bd3786\"], [0.5555555555555556, \"#d8576b\"], [0.6666666666666666, \"#ed7953\"], [0.7777777777777778, \"#fb9f3a\"], [0.8888888888888888, \"#fdca26\"], [1.0, \"#f0f921\"]]}, \"colorway\": [\"#636efa\", \"#EF553B\", \"#00cc96\", \"#ab63fa\", \"#FFA15A\", \"#19d3f3\", \"#FF6692\", \"#B6E880\", \"#FF97FF\", \"#FECB52\"], \"font\": {\"color\": \"#2a3f5f\"}, \"geo\": {\"bgcolor\": \"white\", \"lakecolor\": \"white\", \"landcolor\": \"#E5ECF6\", \"showlakes\": true, \"showland\": true, \"subunitcolor\": \"white\"}, \"hoverlabel\": {\"align\": \"left\"}, \"hovermode\": \"closest\", \"mapbox\": {\"style\": \"light\"}, \"paper_bgcolor\": \"white\", \"plot_bgcolor\": \"#E5ECF6\", \"polar\": {\"angularaxis\": {\"gridcolor\": \"white\", \"linecolor\": \"white\", \"ticks\": \"\"}, \"bgcolor\": \"#E5ECF6\", \"radialaxis\": {\"gridcolor\": \"white\", \"linecolor\": \"white\", \"ticks\": \"\"}}, \"scene\": {\"xaxis\": {\"backgroundcolor\": \"#E5ECF6\", \"gridcolor\": \"white\", \"gridwidth\": 2, \"linecolor\": \"white\", \"showbackground\": true, \"ticks\": \"\", \"zerolinecolor\": \"white\"}, \"yaxis\": {\"backgroundcolor\": \"#E5ECF6\", \"gridcolor\": \"white\", \"gridwidth\": 2, \"linecolor\": \"white\", \"showbackground\": true, \"ticks\": \"\", \"zerolinecolor\": \"white\"}, \"zaxis\": {\"backgroundcolor\": \"#E5ECF6\", \"gridcolor\": \"white\", \"gridwidth\": 2, \"linecolor\": \"white\", \"showbackground\": true, \"ticks\": \"\", \"zerolinecolor\": \"white\"}}, \"shapedefaults\": {\"line\": {\"color\": \"#2a3f5f\"}}, \"ternary\": {\"aaxis\": {\"gridcolor\": \"white\", \"linecolor\": \"white\", \"ticks\": \"\"}, \"baxis\": {\"gridcolor\": \"white\", \"linecolor\": \"white\", \"ticks\": \"\"}, \"bgcolor\": \"#E5ECF6\", \"caxis\": {\"gridcolor\": \"white\", \"linecolor\": \"white\", \"ticks\": \"\"}}, \"title\": {\"x\": 0.05}, \"xaxis\": {\"automargin\": true, \"gridcolor\": \"white\", \"linecolor\": \"white\", \"ticks\": \"\", \"title\": {\"standoff\": 15}, \"zerolinecolor\": \"white\", \"zerolinewidth\": 2}, \"yaxis\": {\"automargin\": true, \"gridcolor\": \"white\", \"linecolor\": \"white\", \"ticks\": \"\", \"title\": {\"standoff\": 15}, \"zerolinecolor\": \"white\", \"zerolinewidth\": 2}}}, \"xaxis\": {\"anchor\": \"y\", \"domain\": [0.0, 1.0], \"title\": {\"text\": \"Attack\"}}, \"yaxis\": {\"anchor\": \"x\", \"domain\": [0.0, 1.0], \"title\": {\"text\": \"Defense\"}}},                        {\"responsive\": true}                    ).then(function(){\n",
       "                            \n",
       "var gd = document.getElementById('4dc08f23-3e1b-46e3-bdf9-aebd98565196');\n",
       "var x = new MutationObserver(function (mutations, observer) {{\n",
       "        var display = window.getComputedStyle(gd).display;\n",
       "        if (!display || display === 'none') {{\n",
       "            console.log([gd, 'removed!']);\n",
       "            Plotly.purge(gd);\n",
       "            observer.disconnect();\n",
       "        }}\n",
       "}});\n",
       "\n",
       "// Listen for the removal of the full notebook cells\n",
       "var notebookContainer = gd.closest('#notebook-container');\n",
       "if (notebookContainer) {{\n",
       "    x.observe(notebookContainer, {childList: true});\n",
       "}}\n",
       "\n",
       "// Listen for the clearing of the current output cell\n",
       "var outputEl = gd.closest('.output');\n",
       "if (outputEl) {{\n",
       "    x.observe(outputEl, {childList: true});\n",
       "}}\n",
       "\n",
       "                        })                };                });            </script>        </div>"
      ]
     },
     "metadata": {},
     "output_type": "display_data"
    }
   ],
   "source": [
    "fig = px.scatter(df, x='Attack', y = 'Defense', color= 'Type 1', size='Total', hover_data=['Name'])\n",
    "fig.show()"
   ]
  },
  {
   "cell_type": "code",
   "execution_count": 14,
   "metadata": {},
   "outputs": [
    {
     "data": {
      "application/vnd.plotly.v1+json": {
       "config": {
        "plotlyServerURL": "https://plot.ly"
       },
       "data": [
        {
         "customdata": [
          [
           "Bulbasaur"
          ],
          [
           "Ivysaur"
          ],
          [
           "Venusaur"
          ],
          [
           "Charmander"
          ],
          [
           "Charmeleon"
          ],
          [
           "Charizard"
          ],
          [
           "Squirtle"
          ],
          [
           "Wartortle"
          ],
          [
           "Blastoise"
          ],
          [
           "Caterpie"
          ],
          [
           "Metapod"
          ],
          [
           "Butterfree"
          ],
          [
           "Weedle"
          ],
          [
           "Kakuna"
          ],
          [
           "Beedrill"
          ],
          [
           "Pidgey"
          ],
          [
           "Pidgeotto"
          ],
          [
           "Pidgeot"
          ],
          [
           "Rattata"
          ],
          [
           "Raticate"
          ],
          [
           "Spearow"
          ],
          [
           "Fearow"
          ],
          [
           "Ekans"
          ],
          [
           "Arbok"
          ],
          [
           "Pikachu"
          ],
          [
           "Raichu"
          ],
          [
           "Sandshrew"
          ],
          [
           "Sandslash"
          ],
          [
           "NidoranªÛ"
          ],
          [
           "Nidorina"
          ],
          [
           "Nidoqueen"
          ],
          [
           "Nidoranªâ"
          ],
          [
           "Nidorino"
          ],
          [
           "Nidoking"
          ],
          [
           "Clefairy"
          ],
          [
           "Clefable"
          ],
          [
           "Vulpix"
          ],
          [
           "Ninetales"
          ],
          [
           "Jigglypuff"
          ],
          [
           "Wigglytuff"
          ],
          [
           "Zubat"
          ],
          [
           "Golbat"
          ],
          [
           "Oddish"
          ],
          [
           "Gloom"
          ],
          [
           "Vileplume"
          ],
          [
           "Paras"
          ],
          [
           "Parasect"
          ],
          [
           "Venonat"
          ],
          [
           "Venomoth"
          ],
          [
           "Diglett"
          ],
          [
           "Dugtrio"
          ],
          [
           "Meowth"
          ],
          [
           "Persian"
          ],
          [
           "Psyduck"
          ],
          [
           "Golduck"
          ],
          [
           "Mankey"
          ],
          [
           "Primeape"
          ],
          [
           "Growlithe"
          ],
          [
           "Arcanine"
          ],
          [
           "Poliwag"
          ],
          [
           "Poliwhirl"
          ],
          [
           "Poliwrath"
          ],
          [
           "Abra"
          ],
          [
           "Kadabra"
          ],
          [
           "Alakazam"
          ],
          [
           "Machop"
          ],
          [
           "Machoke"
          ],
          [
           "Machamp"
          ],
          [
           "Bellsprout"
          ],
          [
           "Weepinbell"
          ],
          [
           "Victreebel"
          ],
          [
           "Tentacool"
          ],
          [
           "Tentacruel"
          ],
          [
           "Geodude"
          ],
          [
           "Graveler"
          ],
          [
           "Golem"
          ],
          [
           "Ponyta"
          ],
          [
           "Rapidash"
          ],
          [
           "Slowpoke"
          ],
          [
           "Slowbro"
          ],
          [
           "Magnemite"
          ],
          [
           "Magneton"
          ],
          [
           "Farfetch'd"
          ],
          [
           "Doduo"
          ],
          [
           "Dodrio"
          ],
          [
           "Seel"
          ],
          [
           "Dewgong"
          ],
          [
           "Grimer"
          ],
          [
           "Muk"
          ],
          [
           "Shellder"
          ],
          [
           "Cloyster"
          ],
          [
           "Gastly"
          ],
          [
           "Haunter"
          ],
          [
           "Gengar"
          ],
          [
           "Onix"
          ],
          [
           "Drowzee"
          ],
          [
           "Hypno"
          ],
          [
           "Krabby"
          ],
          [
           "Kingler"
          ],
          [
           "Voltorb"
          ],
          [
           "Electrode"
          ],
          [
           "Exeggcute"
          ],
          [
           "Exeggutor"
          ],
          [
           "Cubone"
          ],
          [
           "Marowak"
          ],
          [
           "Hitmonlee"
          ],
          [
           "Hitmonchan"
          ],
          [
           "Lickitung"
          ],
          [
           "Koffing"
          ],
          [
           "Weezing"
          ],
          [
           "Rhyhorn"
          ],
          [
           "Rhydon"
          ],
          [
           "Chansey"
          ],
          [
           "Tangela"
          ],
          [
           "Kangaskhan"
          ],
          [
           "Horsea"
          ],
          [
           "Seadra"
          ],
          [
           "Goldeen"
          ],
          [
           "Seaking"
          ],
          [
           "Staryu"
          ],
          [
           "Starmie"
          ],
          [
           "Mr. Mime"
          ],
          [
           "Scyther"
          ],
          [
           "Jynx"
          ],
          [
           "Electabuzz"
          ],
          [
           "Magmar"
          ],
          [
           "Pinsir"
          ],
          [
           "Tauros"
          ],
          [
           "Magikarp"
          ],
          [
           "Gyarados"
          ],
          [
           "Lapras"
          ],
          [
           "Ditto"
          ],
          [
           "Eevee"
          ],
          [
           "Vaporeon"
          ],
          [
           "Jolteon"
          ],
          [
           "Flareon"
          ],
          [
           "Porygon"
          ],
          [
           "Omanyte"
          ],
          [
           "Omastar"
          ],
          [
           "Kabuto"
          ],
          [
           "Kabutops"
          ],
          [
           "Aerodactyl"
          ],
          [
           "Snorlax"
          ],
          [
           "Articuno"
          ],
          [
           "Zapdos"
          ],
          [
           "Moltres"
          ],
          [
           "Dratini"
          ],
          [
           "Dragonair"
          ],
          [
           "Dragonite"
          ],
          [
           "Mewtwo"
          ],
          [
           "Mew"
          ]
         ],
         "hovertemplate": "Pokemon Rank=%{x}<br>Total Score=%{y}<br>Name=%{customdata[0]}<extra></extra>",
         "legendgroup": "",
         "line": {
          "color": "#636efa",
          "dash": "solid"
         },
         "mode": "lines",
         "name": "",
         "orientation": "v",
         "showlegend": false,
         "type": "scatter",
         "x": [
          0,
          1,
          2,
          3,
          4,
          5,
          6,
          7,
          8,
          9,
          10,
          11,
          12,
          13,
          14,
          15,
          16,
          17,
          18,
          19,
          20,
          21,
          22,
          23,
          24,
          25,
          26,
          27,
          28,
          29,
          30,
          31,
          32,
          33,
          34,
          35,
          36,
          37,
          38,
          39,
          40,
          41,
          42,
          43,
          44,
          45,
          46,
          47,
          48,
          49,
          50,
          51,
          52,
          53,
          54,
          55,
          56,
          57,
          58,
          59,
          60,
          61,
          62,
          63,
          64,
          65,
          66,
          67,
          68,
          69,
          70,
          71,
          72,
          73,
          74,
          75,
          76,
          77,
          78,
          79,
          80,
          81,
          82,
          83,
          84,
          85,
          86,
          87,
          88,
          89,
          90,
          91,
          92,
          93,
          94,
          95,
          96,
          97,
          98,
          99,
          100,
          101,
          102,
          103,
          104,
          105,
          106,
          107,
          108,
          109,
          110,
          111,
          112,
          113,
          114,
          115,
          116,
          117,
          118,
          119,
          120,
          121,
          122,
          123,
          124,
          125,
          126,
          127,
          128,
          129,
          130,
          131,
          132,
          133,
          134,
          135,
          136,
          137,
          138,
          139,
          140,
          141,
          142,
          143,
          144,
          145,
          146,
          147,
          148,
          149,
          150
         ],
         "xaxis": "x",
         "y": [
          195,
          195,
          200,
          205,
          205,
          245,
          251,
          253,
          262,
          265,
          270,
          273,
          275,
          285,
          288,
          288,
          290,
          295,
          299,
          300,
          300,
          300,
          300,
          300,
          305,
          305,
          305,
          305,
          309,
          310,
          310,
          310,
          314,
          315,
          318,
          320,
          320,
          320,
          320,
          320,
          323,
          325,
          325,
          325,
          325,
          325,
          325,
          328,
          330,
          335,
          340,
          340,
          345,
          349,
          350,
          352,
          355,
          355,
          365,
          365,
          385,
          385,
          385,
          390,
          390,
          395,
          395,
          395,
          395,
          400,
          405,
          405,
          405,
          405,
          405,
          405,
          405,
          410,
          413,
          420,
          425,
          435,
          435,
          438,
          440,
          440,
          442,
          450,
          450,
          450,
          450,
          455,
          455,
          455,
          455,
          455,
          460,
          460,
          465,
          475,
          475,
          479,
          480,
          483,
          483,
          485,
          485,
          490,
          490,
          490,
          490,
          490,
          490,
          490,
          495,
          495,
          495,
          495,
          500,
          500,
          500,
          500,
          500,
          500,
          500,
          505,
          505,
          505,
          505,
          510,
          515,
          515,
          520,
          520,
          525,
          525,
          525,
          525,
          525,
          530,
          534,
          535,
          540,
          540,
          555,
          580,
          580,
          580,
          600,
          600,
          680
         ],
         "yaxis": "y"
        }
       ],
       "layout": {
        "legend": {
         "tracegroupgap": 0
        },
        "margin": {
         "t": 60
        },
        "template": {
         "data": {
          "bar": [
           {
            "error_x": {
             "color": "#2a3f5f"
            },
            "error_y": {
             "color": "#2a3f5f"
            },
            "marker": {
             "line": {
              "color": "#E5ECF6",
              "width": 0.5
             }
            },
            "type": "bar"
           }
          ],
          "barpolar": [
           {
            "marker": {
             "line": {
              "color": "#E5ECF6",
              "width": 0.5
             }
            },
            "type": "barpolar"
           }
          ],
          "carpet": [
           {
            "aaxis": {
             "endlinecolor": "#2a3f5f",
             "gridcolor": "white",
             "linecolor": "white",
             "minorgridcolor": "white",
             "startlinecolor": "#2a3f5f"
            },
            "baxis": {
             "endlinecolor": "#2a3f5f",
             "gridcolor": "white",
             "linecolor": "white",
             "minorgridcolor": "white",
             "startlinecolor": "#2a3f5f"
            },
            "type": "carpet"
           }
          ],
          "choropleth": [
           {
            "colorbar": {
             "outlinewidth": 0,
             "ticks": ""
            },
            "type": "choropleth"
           }
          ],
          "contour": [
           {
            "colorbar": {
             "outlinewidth": 0,
             "ticks": ""
            },
            "colorscale": [
             [
              0,
              "#0d0887"
             ],
             [
              0.1111111111111111,
              "#46039f"
             ],
             [
              0.2222222222222222,
              "#7201a8"
             ],
             [
              0.3333333333333333,
              "#9c179e"
             ],
             [
              0.4444444444444444,
              "#bd3786"
             ],
             [
              0.5555555555555556,
              "#d8576b"
             ],
             [
              0.6666666666666666,
              "#ed7953"
             ],
             [
              0.7777777777777778,
              "#fb9f3a"
             ],
             [
              0.8888888888888888,
              "#fdca26"
             ],
             [
              1,
              "#f0f921"
             ]
            ],
            "type": "contour"
           }
          ],
          "contourcarpet": [
           {
            "colorbar": {
             "outlinewidth": 0,
             "ticks": ""
            },
            "type": "contourcarpet"
           }
          ],
          "heatmap": [
           {
            "colorbar": {
             "outlinewidth": 0,
             "ticks": ""
            },
            "colorscale": [
             [
              0,
              "#0d0887"
             ],
             [
              0.1111111111111111,
              "#46039f"
             ],
             [
              0.2222222222222222,
              "#7201a8"
             ],
             [
              0.3333333333333333,
              "#9c179e"
             ],
             [
              0.4444444444444444,
              "#bd3786"
             ],
             [
              0.5555555555555556,
              "#d8576b"
             ],
             [
              0.6666666666666666,
              "#ed7953"
             ],
             [
              0.7777777777777778,
              "#fb9f3a"
             ],
             [
              0.8888888888888888,
              "#fdca26"
             ],
             [
              1,
              "#f0f921"
             ]
            ],
            "type": "heatmap"
           }
          ],
          "heatmapgl": [
           {
            "colorbar": {
             "outlinewidth": 0,
             "ticks": ""
            },
            "colorscale": [
             [
              0,
              "#0d0887"
             ],
             [
              0.1111111111111111,
              "#46039f"
             ],
             [
              0.2222222222222222,
              "#7201a8"
             ],
             [
              0.3333333333333333,
              "#9c179e"
             ],
             [
              0.4444444444444444,
              "#bd3786"
             ],
             [
              0.5555555555555556,
              "#d8576b"
             ],
             [
              0.6666666666666666,
              "#ed7953"
             ],
             [
              0.7777777777777778,
              "#fb9f3a"
             ],
             [
              0.8888888888888888,
              "#fdca26"
             ],
             [
              1,
              "#f0f921"
             ]
            ],
            "type": "heatmapgl"
           }
          ],
          "histogram": [
           {
            "marker": {
             "colorbar": {
              "outlinewidth": 0,
              "ticks": ""
             }
            },
            "type": "histogram"
           }
          ],
          "histogram2d": [
           {
            "colorbar": {
             "outlinewidth": 0,
             "ticks": ""
            },
            "colorscale": [
             [
              0,
              "#0d0887"
             ],
             [
              0.1111111111111111,
              "#46039f"
             ],
             [
              0.2222222222222222,
              "#7201a8"
             ],
             [
              0.3333333333333333,
              "#9c179e"
             ],
             [
              0.4444444444444444,
              "#bd3786"
             ],
             [
              0.5555555555555556,
              "#d8576b"
             ],
             [
              0.6666666666666666,
              "#ed7953"
             ],
             [
              0.7777777777777778,
              "#fb9f3a"
             ],
             [
              0.8888888888888888,
              "#fdca26"
             ],
             [
              1,
              "#f0f921"
             ]
            ],
            "type": "histogram2d"
           }
          ],
          "histogram2dcontour": [
           {
            "colorbar": {
             "outlinewidth": 0,
             "ticks": ""
            },
            "colorscale": [
             [
              0,
              "#0d0887"
             ],
             [
              0.1111111111111111,
              "#46039f"
             ],
             [
              0.2222222222222222,
              "#7201a8"
             ],
             [
              0.3333333333333333,
              "#9c179e"
             ],
             [
              0.4444444444444444,
              "#bd3786"
             ],
             [
              0.5555555555555556,
              "#d8576b"
             ],
             [
              0.6666666666666666,
              "#ed7953"
             ],
             [
              0.7777777777777778,
              "#fb9f3a"
             ],
             [
              0.8888888888888888,
              "#fdca26"
             ],
             [
              1,
              "#f0f921"
             ]
            ],
            "type": "histogram2dcontour"
           }
          ],
          "mesh3d": [
           {
            "colorbar": {
             "outlinewidth": 0,
             "ticks": ""
            },
            "type": "mesh3d"
           }
          ],
          "parcoords": [
           {
            "line": {
             "colorbar": {
              "outlinewidth": 0,
              "ticks": ""
             }
            },
            "type": "parcoords"
           }
          ],
          "pie": [
           {
            "automargin": true,
            "type": "pie"
           }
          ],
          "scatter": [
           {
            "marker": {
             "colorbar": {
              "outlinewidth": 0,
              "ticks": ""
             }
            },
            "type": "scatter"
           }
          ],
          "scatter3d": [
           {
            "line": {
             "colorbar": {
              "outlinewidth": 0,
              "ticks": ""
             }
            },
            "marker": {
             "colorbar": {
              "outlinewidth": 0,
              "ticks": ""
             }
            },
            "type": "scatter3d"
           }
          ],
          "scattercarpet": [
           {
            "marker": {
             "colorbar": {
              "outlinewidth": 0,
              "ticks": ""
             }
            },
            "type": "scattercarpet"
           }
          ],
          "scattergeo": [
           {
            "marker": {
             "colorbar": {
              "outlinewidth": 0,
              "ticks": ""
             }
            },
            "type": "scattergeo"
           }
          ],
          "scattergl": [
           {
            "marker": {
             "colorbar": {
              "outlinewidth": 0,
              "ticks": ""
             }
            },
            "type": "scattergl"
           }
          ],
          "scattermapbox": [
           {
            "marker": {
             "colorbar": {
              "outlinewidth": 0,
              "ticks": ""
             }
            },
            "type": "scattermapbox"
           }
          ],
          "scatterpolar": [
           {
            "marker": {
             "colorbar": {
              "outlinewidth": 0,
              "ticks": ""
             }
            },
            "type": "scatterpolar"
           }
          ],
          "scatterpolargl": [
           {
            "marker": {
             "colorbar": {
              "outlinewidth": 0,
              "ticks": ""
             }
            },
            "type": "scatterpolargl"
           }
          ],
          "scatterternary": [
           {
            "marker": {
             "colorbar": {
              "outlinewidth": 0,
              "ticks": ""
             }
            },
            "type": "scatterternary"
           }
          ],
          "surface": [
           {
            "colorbar": {
             "outlinewidth": 0,
             "ticks": ""
            },
            "colorscale": [
             [
              0,
              "#0d0887"
             ],
             [
              0.1111111111111111,
              "#46039f"
             ],
             [
              0.2222222222222222,
              "#7201a8"
             ],
             [
              0.3333333333333333,
              "#9c179e"
             ],
             [
              0.4444444444444444,
              "#bd3786"
             ],
             [
              0.5555555555555556,
              "#d8576b"
             ],
             [
              0.6666666666666666,
              "#ed7953"
             ],
             [
              0.7777777777777778,
              "#fb9f3a"
             ],
             [
              0.8888888888888888,
              "#fdca26"
             ],
             [
              1,
              "#f0f921"
             ]
            ],
            "type": "surface"
           }
          ],
          "table": [
           {
            "cells": {
             "fill": {
              "color": "#EBF0F8"
             },
             "line": {
              "color": "white"
             }
            },
            "header": {
             "fill": {
              "color": "#C8D4E3"
             },
             "line": {
              "color": "white"
             }
            },
            "type": "table"
           }
          ]
         },
         "layout": {
          "annotationdefaults": {
           "arrowcolor": "#2a3f5f",
           "arrowhead": 0,
           "arrowwidth": 1
          },
          "autotypenumbers": "strict",
          "coloraxis": {
           "colorbar": {
            "outlinewidth": 0,
            "ticks": ""
           }
          },
          "colorscale": {
           "diverging": [
            [
             0,
             "#8e0152"
            ],
            [
             0.1,
             "#c51b7d"
            ],
            [
             0.2,
             "#de77ae"
            ],
            [
             0.3,
             "#f1b6da"
            ],
            [
             0.4,
             "#fde0ef"
            ],
            [
             0.5,
             "#f7f7f7"
            ],
            [
             0.6,
             "#e6f5d0"
            ],
            [
             0.7,
             "#b8e186"
            ],
            [
             0.8,
             "#7fbc41"
            ],
            [
             0.9,
             "#4d9221"
            ],
            [
             1,
             "#276419"
            ]
           ],
           "sequential": [
            [
             0,
             "#0d0887"
            ],
            [
             0.1111111111111111,
             "#46039f"
            ],
            [
             0.2222222222222222,
             "#7201a8"
            ],
            [
             0.3333333333333333,
             "#9c179e"
            ],
            [
             0.4444444444444444,
             "#bd3786"
            ],
            [
             0.5555555555555556,
             "#d8576b"
            ],
            [
             0.6666666666666666,
             "#ed7953"
            ],
            [
             0.7777777777777778,
             "#fb9f3a"
            ],
            [
             0.8888888888888888,
             "#fdca26"
            ],
            [
             1,
             "#f0f921"
            ]
           ],
           "sequentialminus": [
            [
             0,
             "#0d0887"
            ],
            [
             0.1111111111111111,
             "#46039f"
            ],
            [
             0.2222222222222222,
             "#7201a8"
            ],
            [
             0.3333333333333333,
             "#9c179e"
            ],
            [
             0.4444444444444444,
             "#bd3786"
            ],
            [
             0.5555555555555556,
             "#d8576b"
            ],
            [
             0.6666666666666666,
             "#ed7953"
            ],
            [
             0.7777777777777778,
             "#fb9f3a"
            ],
            [
             0.8888888888888888,
             "#fdca26"
            ],
            [
             1,
             "#f0f921"
            ]
           ]
          },
          "colorway": [
           "#636efa",
           "#EF553B",
           "#00cc96",
           "#ab63fa",
           "#FFA15A",
           "#19d3f3",
           "#FF6692",
           "#B6E880",
           "#FF97FF",
           "#FECB52"
          ],
          "font": {
           "color": "#2a3f5f"
          },
          "geo": {
           "bgcolor": "white",
           "lakecolor": "white",
           "landcolor": "#E5ECF6",
           "showlakes": true,
           "showland": true,
           "subunitcolor": "white"
          },
          "hoverlabel": {
           "align": "left"
          },
          "hovermode": "closest",
          "mapbox": {
           "style": "light"
          },
          "paper_bgcolor": "white",
          "plot_bgcolor": "#E5ECF6",
          "polar": {
           "angularaxis": {
            "gridcolor": "white",
            "linecolor": "white",
            "ticks": ""
           },
           "bgcolor": "#E5ECF6",
           "radialaxis": {
            "gridcolor": "white",
            "linecolor": "white",
            "ticks": ""
           }
          },
          "scene": {
           "xaxis": {
            "backgroundcolor": "#E5ECF6",
            "gridcolor": "white",
            "gridwidth": 2,
            "linecolor": "white",
            "showbackground": true,
            "ticks": "",
            "zerolinecolor": "white"
           },
           "yaxis": {
            "backgroundcolor": "#E5ECF6",
            "gridcolor": "white",
            "gridwidth": 2,
            "linecolor": "white",
            "showbackground": true,
            "ticks": "",
            "zerolinecolor": "white"
           },
           "zaxis": {
            "backgroundcolor": "#E5ECF6",
            "gridcolor": "white",
            "gridwidth": 2,
            "linecolor": "white",
            "showbackground": true,
            "ticks": "",
            "zerolinecolor": "white"
           }
          },
          "shapedefaults": {
           "line": {
            "color": "#2a3f5f"
           }
          },
          "ternary": {
           "aaxis": {
            "gridcolor": "white",
            "linecolor": "white",
            "ticks": ""
           },
           "baxis": {
            "gridcolor": "white",
            "linecolor": "white",
            "ticks": ""
           },
           "bgcolor": "#E5ECF6",
           "caxis": {
            "gridcolor": "white",
            "linecolor": "white",
            "ticks": ""
           }
          },
          "title": {
           "x": 0.05
          },
          "xaxis": {
           "automargin": true,
           "gridcolor": "white",
           "linecolor": "white",
           "ticks": "",
           "title": {
            "standoff": 15
           },
           "zerolinecolor": "white",
           "zerolinewidth": 2
          },
          "yaxis": {
           "automargin": true,
           "gridcolor": "white",
           "linecolor": "white",
           "ticks": "",
           "title": {
            "standoff": 15
           },
           "zerolinecolor": "white",
           "zerolinewidth": 2
          }
         }
        },
        "xaxis": {
         "anchor": "y",
         "domain": [
          0,
          1
         ],
         "title": {
          "text": "Pokemon Rank"
         }
        },
        "yaxis": {
         "anchor": "x",
         "domain": [
          0,
          1
         ],
         "title": {
          "text": "Total Score"
         }
        }
       }
      },
      "text/html": [
       "<div>                            <div id=\"c297ab77-3a03-4ea6-b521-e3773ebdc043\" class=\"plotly-graph-div\" style=\"height:525px; width:100%;\"></div>            <script type=\"text/javascript\">                require([\"plotly\"], function(Plotly) {                    window.PLOTLYENV=window.PLOTLYENV || {};                                    if (document.getElementById(\"c297ab77-3a03-4ea6-b521-e3773ebdc043\")) {                    Plotly.newPlot(                        \"c297ab77-3a03-4ea6-b521-e3773ebdc043\",                        [{\"customdata\": [[\"Bulbasaur\"], [\"Ivysaur\"], [\"Venusaur\"], [\"Charmander\"], [\"Charmeleon\"], [\"Charizard\"], [\"Squirtle\"], [\"Wartortle\"], [\"Blastoise\"], [\"Caterpie\"], [\"Metapod\"], [\"Butterfree\"], [\"Weedle\"], [\"Kakuna\"], [\"Beedrill\"], [\"Pidgey\"], [\"Pidgeotto\"], [\"Pidgeot\"], [\"Rattata\"], [\"Raticate\"], [\"Spearow\"], [\"Fearow\"], [\"Ekans\"], [\"Arbok\"], [\"Pikachu\"], [\"Raichu\"], [\"Sandshrew\"], [\"Sandslash\"], [\"Nidoran\\u0089\\u00aa\\u00db\"], [\"Nidorina\"], [\"Nidoqueen\"], [\"Nidoran\\u0089\\u00aa\\u00e2\"], [\"Nidorino\"], [\"Nidoking\"], [\"Clefairy\"], [\"Clefable\"], [\"Vulpix\"], [\"Ninetales\"], [\"Jigglypuff\"], [\"Wigglytuff\"], [\"Zubat\"], [\"Golbat\"], [\"Oddish\"], [\"Gloom\"], [\"Vileplume\"], [\"Paras\"], [\"Parasect\"], [\"Venonat\"], [\"Venomoth\"], [\"Diglett\"], [\"Dugtrio\"], [\"Meowth\"], [\"Persian\"], [\"Psyduck\"], [\"Golduck\"], [\"Mankey\"], [\"Primeape\"], [\"Growlithe\"], [\"Arcanine\"], [\"Poliwag\"], [\"Poliwhirl\"], [\"Poliwrath\"], [\"Abra\"], [\"Kadabra\"], [\"Alakazam\"], [\"Machop\"], [\"Machoke\"], [\"Machamp\"], [\"Bellsprout\"], [\"Weepinbell\"], [\"Victreebel\"], [\"Tentacool\"], [\"Tentacruel\"], [\"Geodude\"], [\"Graveler\"], [\"Golem\"], [\"Ponyta\"], [\"Rapidash\"], [\"Slowpoke\"], [\"Slowbro\"], [\"Magnemite\"], [\"Magneton\"], [\"Farfetch'd\"], [\"Doduo\"], [\"Dodrio\"], [\"Seel\"], [\"Dewgong\"], [\"Grimer\"], [\"Muk\"], [\"Shellder\"], [\"Cloyster\"], [\"Gastly\"], [\"Haunter\"], [\"Gengar\"], [\"Onix\"], [\"Drowzee\"], [\"Hypno\"], [\"Krabby\"], [\"Kingler\"], [\"Voltorb\"], [\"Electrode\"], [\"Exeggcute\"], [\"Exeggutor\"], [\"Cubone\"], [\"Marowak\"], [\"Hitmonlee\"], [\"Hitmonchan\"], [\"Lickitung\"], [\"Koffing\"], [\"Weezing\"], [\"Rhyhorn\"], [\"Rhydon\"], [\"Chansey\"], [\"Tangela\"], [\"Kangaskhan\"], [\"Horsea\"], [\"Seadra\"], [\"Goldeen\"], [\"Seaking\"], [\"Staryu\"], [\"Starmie\"], [\"Mr. Mime\"], [\"Scyther\"], [\"Jynx\"], [\"Electabuzz\"], [\"Magmar\"], [\"Pinsir\"], [\"Tauros\"], [\"Magikarp\"], [\"Gyarados\"], [\"Lapras\"], [\"Ditto\"], [\"Eevee\"], [\"Vaporeon\"], [\"Jolteon\"], [\"Flareon\"], [\"Porygon\"], [\"Omanyte\"], [\"Omastar\"], [\"Kabuto\"], [\"Kabutops\"], [\"Aerodactyl\"], [\"Snorlax\"], [\"Articuno\"], [\"Zapdos\"], [\"Moltres\"], [\"Dratini\"], [\"Dragonair\"], [\"Dragonite\"], [\"Mewtwo\"], [\"Mew\"]], \"hovertemplate\": \"Pokemon Rank=%{x}<br>Total Score=%{y}<br>Name=%{customdata[0]}<extra></extra>\", \"legendgroup\": \"\", \"line\": {\"color\": \"#636efa\", \"dash\": \"solid\"}, \"mode\": \"lines\", \"name\": \"\", \"orientation\": \"v\", \"showlegend\": false, \"type\": \"scatter\", \"x\": [0, 1, 2, 3, 4, 5, 6, 7, 8, 9, 10, 11, 12, 13, 14, 15, 16, 17, 18, 19, 20, 21, 22, 23, 24, 25, 26, 27, 28, 29, 30, 31, 32, 33, 34, 35, 36, 37, 38, 39, 40, 41, 42, 43, 44, 45, 46, 47, 48, 49, 50, 51, 52, 53, 54, 55, 56, 57, 58, 59, 60, 61, 62, 63, 64, 65, 66, 67, 68, 69, 70, 71, 72, 73, 74, 75, 76, 77, 78, 79, 80, 81, 82, 83, 84, 85, 86, 87, 88, 89, 90, 91, 92, 93, 94, 95, 96, 97, 98, 99, 100, 101, 102, 103, 104, 105, 106, 107, 108, 109, 110, 111, 112, 113, 114, 115, 116, 117, 118, 119, 120, 121, 122, 123, 124, 125, 126, 127, 128, 129, 130, 131, 132, 133, 134, 135, 136, 137, 138, 139, 140, 141, 142, 143, 144, 145, 146, 147, 148, 149, 150], \"xaxis\": \"x\", \"y\": [195, 195, 200, 205, 205, 245, 251, 253, 262, 265, 270, 273, 275, 285, 288, 288, 290, 295, 299, 300, 300, 300, 300, 300, 305, 305, 305, 305, 309, 310, 310, 310, 314, 315, 318, 320, 320, 320, 320, 320, 323, 325, 325, 325, 325, 325, 325, 328, 330, 335, 340, 340, 345, 349, 350, 352, 355, 355, 365, 365, 385, 385, 385, 390, 390, 395, 395, 395, 395, 400, 405, 405, 405, 405, 405, 405, 405, 410, 413, 420, 425, 435, 435, 438, 440, 440, 442, 450, 450, 450, 450, 455, 455, 455, 455, 455, 460, 460, 465, 475, 475, 479, 480, 483, 483, 485, 485, 490, 490, 490, 490, 490, 490, 490, 495, 495, 495, 495, 500, 500, 500, 500, 500, 500, 500, 505, 505, 505, 505, 510, 515, 515, 520, 520, 525, 525, 525, 525, 525, 530, 534, 535, 540, 540, 555, 580, 580, 580, 600, 600, 680], \"yaxis\": \"y\"}],                        {\"legend\": {\"tracegroupgap\": 0}, \"margin\": {\"t\": 60}, \"template\": {\"data\": {\"bar\": [{\"error_x\": {\"color\": \"#2a3f5f\"}, \"error_y\": {\"color\": \"#2a3f5f\"}, \"marker\": {\"line\": {\"color\": \"#E5ECF6\", \"width\": 0.5}}, \"type\": \"bar\"}], \"barpolar\": [{\"marker\": {\"line\": {\"color\": \"#E5ECF6\", \"width\": 0.5}}, \"type\": \"barpolar\"}], \"carpet\": [{\"aaxis\": {\"endlinecolor\": \"#2a3f5f\", \"gridcolor\": \"white\", \"linecolor\": \"white\", \"minorgridcolor\": \"white\", \"startlinecolor\": \"#2a3f5f\"}, \"baxis\": {\"endlinecolor\": \"#2a3f5f\", \"gridcolor\": \"white\", \"linecolor\": \"white\", \"minorgridcolor\": \"white\", \"startlinecolor\": \"#2a3f5f\"}, \"type\": \"carpet\"}], \"choropleth\": [{\"colorbar\": {\"outlinewidth\": 0, \"ticks\": \"\"}, \"type\": \"choropleth\"}], \"contour\": [{\"colorbar\": {\"outlinewidth\": 0, \"ticks\": \"\"}, \"colorscale\": [[0.0, \"#0d0887\"], [0.1111111111111111, \"#46039f\"], [0.2222222222222222, \"#7201a8\"], [0.3333333333333333, \"#9c179e\"], [0.4444444444444444, \"#bd3786\"], [0.5555555555555556, \"#d8576b\"], [0.6666666666666666, \"#ed7953\"], [0.7777777777777778, \"#fb9f3a\"], [0.8888888888888888, \"#fdca26\"], [1.0, \"#f0f921\"]], \"type\": \"contour\"}], \"contourcarpet\": [{\"colorbar\": {\"outlinewidth\": 0, \"ticks\": \"\"}, \"type\": \"contourcarpet\"}], \"heatmap\": [{\"colorbar\": {\"outlinewidth\": 0, \"ticks\": \"\"}, \"colorscale\": [[0.0, \"#0d0887\"], [0.1111111111111111, \"#46039f\"], [0.2222222222222222, \"#7201a8\"], [0.3333333333333333, \"#9c179e\"], [0.4444444444444444, \"#bd3786\"], [0.5555555555555556, \"#d8576b\"], [0.6666666666666666, \"#ed7953\"], [0.7777777777777778, \"#fb9f3a\"], [0.8888888888888888, \"#fdca26\"], [1.0, \"#f0f921\"]], \"type\": \"heatmap\"}], \"heatmapgl\": [{\"colorbar\": {\"outlinewidth\": 0, \"ticks\": \"\"}, \"colorscale\": [[0.0, \"#0d0887\"], [0.1111111111111111, \"#46039f\"], [0.2222222222222222, \"#7201a8\"], [0.3333333333333333, \"#9c179e\"], [0.4444444444444444, \"#bd3786\"], [0.5555555555555556, \"#d8576b\"], [0.6666666666666666, \"#ed7953\"], [0.7777777777777778, \"#fb9f3a\"], [0.8888888888888888, \"#fdca26\"], [1.0, \"#f0f921\"]], \"type\": \"heatmapgl\"}], \"histogram\": [{\"marker\": {\"colorbar\": {\"outlinewidth\": 0, \"ticks\": \"\"}}, \"type\": \"histogram\"}], \"histogram2d\": [{\"colorbar\": {\"outlinewidth\": 0, \"ticks\": \"\"}, \"colorscale\": [[0.0, \"#0d0887\"], [0.1111111111111111, \"#46039f\"], [0.2222222222222222, \"#7201a8\"], [0.3333333333333333, \"#9c179e\"], [0.4444444444444444, \"#bd3786\"], [0.5555555555555556, \"#d8576b\"], [0.6666666666666666, \"#ed7953\"], [0.7777777777777778, \"#fb9f3a\"], [0.8888888888888888, \"#fdca26\"], [1.0, \"#f0f921\"]], \"type\": \"histogram2d\"}], \"histogram2dcontour\": [{\"colorbar\": {\"outlinewidth\": 0, \"ticks\": \"\"}, \"colorscale\": [[0.0, \"#0d0887\"], [0.1111111111111111, \"#46039f\"], [0.2222222222222222, \"#7201a8\"], [0.3333333333333333, \"#9c179e\"], [0.4444444444444444, \"#bd3786\"], [0.5555555555555556, \"#d8576b\"], [0.6666666666666666, \"#ed7953\"], [0.7777777777777778, \"#fb9f3a\"], [0.8888888888888888, \"#fdca26\"], [1.0, \"#f0f921\"]], \"type\": \"histogram2dcontour\"}], \"mesh3d\": [{\"colorbar\": {\"outlinewidth\": 0, \"ticks\": \"\"}, \"type\": \"mesh3d\"}], \"parcoords\": [{\"line\": {\"colorbar\": {\"outlinewidth\": 0, \"ticks\": \"\"}}, \"type\": \"parcoords\"}], \"pie\": [{\"automargin\": true, \"type\": \"pie\"}], \"scatter\": [{\"marker\": {\"colorbar\": {\"outlinewidth\": 0, \"ticks\": \"\"}}, \"type\": \"scatter\"}], \"scatter3d\": [{\"line\": {\"colorbar\": {\"outlinewidth\": 0, \"ticks\": \"\"}}, \"marker\": {\"colorbar\": {\"outlinewidth\": 0, \"ticks\": \"\"}}, \"type\": \"scatter3d\"}], \"scattercarpet\": [{\"marker\": {\"colorbar\": {\"outlinewidth\": 0, \"ticks\": \"\"}}, \"type\": \"scattercarpet\"}], \"scattergeo\": [{\"marker\": {\"colorbar\": {\"outlinewidth\": 0, \"ticks\": \"\"}}, \"type\": \"scattergeo\"}], \"scattergl\": [{\"marker\": {\"colorbar\": {\"outlinewidth\": 0, \"ticks\": \"\"}}, \"type\": \"scattergl\"}], \"scattermapbox\": [{\"marker\": {\"colorbar\": {\"outlinewidth\": 0, \"ticks\": \"\"}}, \"type\": \"scattermapbox\"}], \"scatterpolar\": [{\"marker\": {\"colorbar\": {\"outlinewidth\": 0, \"ticks\": \"\"}}, \"type\": \"scatterpolar\"}], \"scatterpolargl\": [{\"marker\": {\"colorbar\": {\"outlinewidth\": 0, \"ticks\": \"\"}}, \"type\": \"scatterpolargl\"}], \"scatterternary\": [{\"marker\": {\"colorbar\": {\"outlinewidth\": 0, \"ticks\": \"\"}}, \"type\": \"scatterternary\"}], \"surface\": [{\"colorbar\": {\"outlinewidth\": 0, \"ticks\": \"\"}, \"colorscale\": [[0.0, \"#0d0887\"], [0.1111111111111111, \"#46039f\"], [0.2222222222222222, \"#7201a8\"], [0.3333333333333333, \"#9c179e\"], [0.4444444444444444, \"#bd3786\"], [0.5555555555555556, \"#d8576b\"], [0.6666666666666666, \"#ed7953\"], [0.7777777777777778, \"#fb9f3a\"], [0.8888888888888888, \"#fdca26\"], [1.0, \"#f0f921\"]], \"type\": \"surface\"}], \"table\": [{\"cells\": {\"fill\": {\"color\": \"#EBF0F8\"}, \"line\": {\"color\": \"white\"}}, \"header\": {\"fill\": {\"color\": \"#C8D4E3\"}, \"line\": {\"color\": \"white\"}}, \"type\": \"table\"}]}, \"layout\": {\"annotationdefaults\": {\"arrowcolor\": \"#2a3f5f\", \"arrowhead\": 0, \"arrowwidth\": 1}, \"autotypenumbers\": \"strict\", \"coloraxis\": {\"colorbar\": {\"outlinewidth\": 0, \"ticks\": \"\"}}, \"colorscale\": {\"diverging\": [[0, \"#8e0152\"], [0.1, \"#c51b7d\"], [0.2, \"#de77ae\"], [0.3, \"#f1b6da\"], [0.4, \"#fde0ef\"], [0.5, \"#f7f7f7\"], [0.6, \"#e6f5d0\"], [0.7, \"#b8e186\"], [0.8, \"#7fbc41\"], [0.9, \"#4d9221\"], [1, \"#276419\"]], \"sequential\": [[0.0, \"#0d0887\"], [0.1111111111111111, \"#46039f\"], [0.2222222222222222, \"#7201a8\"], [0.3333333333333333, \"#9c179e\"], [0.4444444444444444, \"#bd3786\"], [0.5555555555555556, \"#d8576b\"], [0.6666666666666666, \"#ed7953\"], [0.7777777777777778, \"#fb9f3a\"], [0.8888888888888888, \"#fdca26\"], [1.0, \"#f0f921\"]], \"sequentialminus\": [[0.0, \"#0d0887\"], [0.1111111111111111, \"#46039f\"], [0.2222222222222222, \"#7201a8\"], [0.3333333333333333, \"#9c179e\"], [0.4444444444444444, \"#bd3786\"], [0.5555555555555556, \"#d8576b\"], [0.6666666666666666, \"#ed7953\"], [0.7777777777777778, \"#fb9f3a\"], [0.8888888888888888, \"#fdca26\"], [1.0, \"#f0f921\"]]}, \"colorway\": [\"#636efa\", \"#EF553B\", \"#00cc96\", \"#ab63fa\", \"#FFA15A\", \"#19d3f3\", \"#FF6692\", \"#B6E880\", \"#FF97FF\", \"#FECB52\"], \"font\": {\"color\": \"#2a3f5f\"}, \"geo\": {\"bgcolor\": \"white\", \"lakecolor\": \"white\", \"landcolor\": \"#E5ECF6\", \"showlakes\": true, \"showland\": true, \"subunitcolor\": \"white\"}, \"hoverlabel\": {\"align\": \"left\"}, \"hovermode\": \"closest\", \"mapbox\": {\"style\": \"light\"}, \"paper_bgcolor\": \"white\", \"plot_bgcolor\": \"#E5ECF6\", \"polar\": {\"angularaxis\": {\"gridcolor\": \"white\", \"linecolor\": \"white\", \"ticks\": \"\"}, \"bgcolor\": \"#E5ECF6\", \"radialaxis\": {\"gridcolor\": \"white\", \"linecolor\": \"white\", \"ticks\": \"\"}}, \"scene\": {\"xaxis\": {\"backgroundcolor\": \"#E5ECF6\", \"gridcolor\": \"white\", \"gridwidth\": 2, \"linecolor\": \"white\", \"showbackground\": true, \"ticks\": \"\", \"zerolinecolor\": \"white\"}, \"yaxis\": {\"backgroundcolor\": \"#E5ECF6\", \"gridcolor\": \"white\", \"gridwidth\": 2, \"linecolor\": \"white\", \"showbackground\": true, \"ticks\": \"\", \"zerolinecolor\": \"white\"}, \"zaxis\": {\"backgroundcolor\": \"#E5ECF6\", \"gridcolor\": \"white\", \"gridwidth\": 2, \"linecolor\": \"white\", \"showbackground\": true, \"ticks\": \"\", \"zerolinecolor\": \"white\"}}, \"shapedefaults\": {\"line\": {\"color\": \"#2a3f5f\"}}, \"ternary\": {\"aaxis\": {\"gridcolor\": \"white\", \"linecolor\": \"white\", \"ticks\": \"\"}, \"baxis\": {\"gridcolor\": \"white\", \"linecolor\": \"white\", \"ticks\": \"\"}, \"bgcolor\": \"#E5ECF6\", \"caxis\": {\"gridcolor\": \"white\", \"linecolor\": \"white\", \"ticks\": \"\"}}, \"title\": {\"x\": 0.05}, \"xaxis\": {\"automargin\": true, \"gridcolor\": \"white\", \"linecolor\": \"white\", \"ticks\": \"\", \"title\": {\"standoff\": 15}, \"zerolinecolor\": \"white\", \"zerolinewidth\": 2}, \"yaxis\": {\"automargin\": true, \"gridcolor\": \"white\", \"linecolor\": \"white\", \"ticks\": \"\", \"title\": {\"standoff\": 15}, \"zerolinecolor\": \"white\", \"zerolinewidth\": 2}}}, \"xaxis\": {\"anchor\": \"y\", \"domain\": [0.0, 1.0], \"title\": {\"text\": \"Pokemon Rank\"}}, \"yaxis\": {\"anchor\": \"x\", \"domain\": [0.0, 1.0], \"title\": {\"text\": \"Total Score\"}}},                        {\"responsive\": true}                    ).then(function(){\n",
       "                            \n",
       "var gd = document.getElementById('c297ab77-3a03-4ea6-b521-e3773ebdc043');\n",
       "var x = new MutationObserver(function (mutations, observer) {{\n",
       "        var display = window.getComputedStyle(gd).display;\n",
       "        if (!display || display === 'none') {{\n",
       "            console.log([gd, 'removed!']);\n",
       "            Plotly.purge(gd);\n",
       "            observer.disconnect();\n",
       "        }}\n",
       "}});\n",
       "\n",
       "// Listen for the removal of the full notebook cells\n",
       "var notebookContainer = gd.closest('#notebook-container');\n",
       "if (notebookContainer) {{\n",
       "    x.observe(notebookContainer, {childList: true});\n",
       "}}\n",
       "\n",
       "// Listen for the clearing of the current output cell\n",
       "var outputEl = gd.closest('.output');\n",
       "if (outputEl) {{\n",
       "    x.observe(outputEl, {childList: true});\n",
       "}}\n",
       "\n",
       "                        })                };                });            </script>        </div>"
      ]
     },
     "metadata": {},
     "output_type": "display_data"
    }
   ],
   "source": [
    "x = list(range(df.shape[0]))\n",
    "y = df['Total'].sort_values()\n",
    "\n",
    "fig = px.line(df, x, y, labels={'x':'Pokemon Rank', 'y':'Total Score'}, hover_data=['Name'])\n",
    "fig.show()"
   ]
  },
  {
   "cell_type": "code",
   "execution_count": 17,
   "metadata": {},
   "outputs": [
    {
     "data": {
      "application/vnd.plotly.v1+json": {
       "config": {
        "plotlyServerURL": "https://plot.ly"
       },
       "data": [
        {
         "alignmentgroup": "True",
         "hovertemplate": "variable=%{x}<br>value=%{y}<extra></extra>",
         "legendgroup": "",
         "marker": {
          "color": "#636efa"
         },
         "name": "",
         "notched": false,
         "offsetgroup": "",
         "orientation": "v",
         "showlegend": false,
         "type": "box",
         "x": [
          "HP",
          "HP",
          "HP",
          "HP",
          "HP",
          "HP",
          "HP",
          "HP",
          "HP",
          "HP",
          "HP",
          "HP",
          "HP",
          "HP",
          "HP",
          "HP",
          "HP",
          "HP",
          "HP",
          "HP",
          "HP",
          "HP",
          "HP",
          "HP",
          "HP",
          "HP",
          "HP",
          "HP",
          "HP",
          "HP",
          "HP",
          "HP",
          "HP",
          "HP",
          "HP",
          "HP",
          "HP",
          "HP",
          "HP",
          "HP",
          "HP",
          "HP",
          "HP",
          "HP",
          "HP",
          "HP",
          "HP",
          "HP",
          "HP",
          "HP",
          "HP",
          "HP",
          "HP",
          "HP",
          "HP",
          "HP",
          "HP",
          "HP",
          "HP",
          "HP",
          "HP",
          "HP",
          "HP",
          "HP",
          "HP",
          "HP",
          "HP",
          "HP",
          "HP",
          "HP",
          "HP",
          "HP",
          "HP",
          "HP",
          "HP",
          "HP",
          "HP",
          "HP",
          "HP",
          "HP",
          "HP",
          "HP",
          "HP",
          "HP",
          "HP",
          "HP",
          "HP",
          "HP",
          "HP",
          "HP",
          "HP",
          "HP",
          "HP",
          "HP",
          "HP",
          "HP",
          "HP",
          "HP",
          "HP",
          "HP",
          "HP",
          "HP",
          "HP",
          "HP",
          "HP",
          "HP",
          "HP",
          "HP",
          "HP",
          "HP",
          "HP",
          "HP",
          "HP",
          "HP",
          "HP",
          "HP",
          "HP",
          "HP",
          "HP",
          "HP",
          "HP",
          "HP",
          "HP",
          "HP",
          "HP",
          "HP",
          "HP",
          "HP",
          "HP",
          "HP",
          "HP",
          "HP",
          "HP",
          "HP",
          "HP",
          "HP",
          "HP",
          "HP",
          "HP",
          "HP",
          "HP",
          "HP",
          "HP",
          "HP",
          "HP",
          "HP",
          "HP",
          "HP",
          "HP",
          "HP",
          "HP",
          "Attack",
          "Attack",
          "Attack",
          "Attack",
          "Attack",
          "Attack",
          "Attack",
          "Attack",
          "Attack",
          "Attack",
          "Attack",
          "Attack",
          "Attack",
          "Attack",
          "Attack",
          "Attack",
          "Attack",
          "Attack",
          "Attack",
          "Attack",
          "Attack",
          "Attack",
          "Attack",
          "Attack",
          "Attack",
          "Attack",
          "Attack",
          "Attack",
          "Attack",
          "Attack",
          "Attack",
          "Attack",
          "Attack",
          "Attack",
          "Attack",
          "Attack",
          "Attack",
          "Attack",
          "Attack",
          "Attack",
          "Attack",
          "Attack",
          "Attack",
          "Attack",
          "Attack",
          "Attack",
          "Attack",
          "Attack",
          "Attack",
          "Attack",
          "Attack",
          "Attack",
          "Attack",
          "Attack",
          "Attack",
          "Attack",
          "Attack",
          "Attack",
          "Attack",
          "Attack",
          "Attack",
          "Attack",
          "Attack",
          "Attack",
          "Attack",
          "Attack",
          "Attack",
          "Attack",
          "Attack",
          "Attack",
          "Attack",
          "Attack",
          "Attack",
          "Attack",
          "Attack",
          "Attack",
          "Attack",
          "Attack",
          "Attack",
          "Attack",
          "Attack",
          "Attack",
          "Attack",
          "Attack",
          "Attack",
          "Attack",
          "Attack",
          "Attack",
          "Attack",
          "Attack",
          "Attack",
          "Attack",
          "Attack",
          "Attack",
          "Attack",
          "Attack",
          "Attack",
          "Attack",
          "Attack",
          "Attack",
          "Attack",
          "Attack",
          "Attack",
          "Attack",
          "Attack",
          "Attack",
          "Attack",
          "Attack",
          "Attack",
          "Attack",
          "Attack",
          "Attack",
          "Attack",
          "Attack",
          "Attack",
          "Attack",
          "Attack",
          "Attack",
          "Attack",
          "Attack",
          "Attack",
          "Attack",
          "Attack",
          "Attack",
          "Attack",
          "Attack",
          "Attack",
          "Attack",
          "Attack",
          "Attack",
          "Attack",
          "Attack",
          "Attack",
          "Attack",
          "Attack",
          "Attack",
          "Attack",
          "Attack",
          "Attack",
          "Attack",
          "Attack",
          "Attack",
          "Attack",
          "Attack",
          "Attack",
          "Attack",
          "Attack",
          "Attack",
          "Attack",
          "Attack",
          "Attack",
          "Defense",
          "Defense",
          "Defense",
          "Defense",
          "Defense",
          "Defense",
          "Defense",
          "Defense",
          "Defense",
          "Defense",
          "Defense",
          "Defense",
          "Defense",
          "Defense",
          "Defense",
          "Defense",
          "Defense",
          "Defense",
          "Defense",
          "Defense",
          "Defense",
          "Defense",
          "Defense",
          "Defense",
          "Defense",
          "Defense",
          "Defense",
          "Defense",
          "Defense",
          "Defense",
          "Defense",
          "Defense",
          "Defense",
          "Defense",
          "Defense",
          "Defense",
          "Defense",
          "Defense",
          "Defense",
          "Defense",
          "Defense",
          "Defense",
          "Defense",
          "Defense",
          "Defense",
          "Defense",
          "Defense",
          "Defense",
          "Defense",
          "Defense",
          "Defense",
          "Defense",
          "Defense",
          "Defense",
          "Defense",
          "Defense",
          "Defense",
          "Defense",
          "Defense",
          "Defense",
          "Defense",
          "Defense",
          "Defense",
          "Defense",
          "Defense",
          "Defense",
          "Defense",
          "Defense",
          "Defense",
          "Defense",
          "Defense",
          "Defense",
          "Defense",
          "Defense",
          "Defense",
          "Defense",
          "Defense",
          "Defense",
          "Defense",
          "Defense",
          "Defense",
          "Defense",
          "Defense",
          "Defense",
          "Defense",
          "Defense",
          "Defense",
          "Defense",
          "Defense",
          "Defense",
          "Defense",
          "Defense",
          "Defense",
          "Defense",
          "Defense",
          "Defense",
          "Defense",
          "Defense",
          "Defense",
          "Defense",
          "Defense",
          "Defense",
          "Defense",
          "Defense",
          "Defense",
          "Defense",
          "Defense",
          "Defense",
          "Defense",
          "Defense",
          "Defense",
          "Defense",
          "Defense",
          "Defense",
          "Defense",
          "Defense",
          "Defense",
          "Defense",
          "Defense",
          "Defense",
          "Defense",
          "Defense",
          "Defense",
          "Defense",
          "Defense",
          "Defense",
          "Defense",
          "Defense",
          "Defense",
          "Defense",
          "Defense",
          "Defense",
          "Defense",
          "Defense",
          "Defense",
          "Defense",
          "Defense",
          "Defense",
          "Defense",
          "Defense",
          "Defense",
          "Defense",
          "Defense",
          "Defense",
          "Defense",
          "Defense",
          "Defense",
          "Defense",
          "Defense",
          "Defense",
          "Defense",
          "Sp. Atk",
          "Sp. Atk",
          "Sp. Atk",
          "Sp. Atk",
          "Sp. Atk",
          "Sp. Atk",
          "Sp. Atk",
          "Sp. Atk",
          "Sp. Atk",
          "Sp. Atk",
          "Sp. Atk",
          "Sp. Atk",
          "Sp. Atk",
          "Sp. Atk",
          "Sp. Atk",
          "Sp. Atk",
          "Sp. Atk",
          "Sp. Atk",
          "Sp. Atk",
          "Sp. Atk",
          "Sp. Atk",
          "Sp. Atk",
          "Sp. Atk",
          "Sp. Atk",
          "Sp. Atk",
          "Sp. Atk",
          "Sp. Atk",
          "Sp. Atk",
          "Sp. Atk",
          "Sp. Atk",
          "Sp. Atk",
          "Sp. Atk",
          "Sp. Atk",
          "Sp. Atk",
          "Sp. Atk",
          "Sp. Atk",
          "Sp. Atk",
          "Sp. Atk",
          "Sp. Atk",
          "Sp. Atk",
          "Sp. Atk",
          "Sp. Atk",
          "Sp. Atk",
          "Sp. Atk",
          "Sp. Atk",
          "Sp. Atk",
          "Sp. Atk",
          "Sp. Atk",
          "Sp. Atk",
          "Sp. Atk",
          "Sp. Atk",
          "Sp. Atk",
          "Sp. Atk",
          "Sp. Atk",
          "Sp. Atk",
          "Sp. Atk",
          "Sp. Atk",
          "Sp. Atk",
          "Sp. Atk",
          "Sp. Atk",
          "Sp. Atk",
          "Sp. Atk",
          "Sp. Atk",
          "Sp. Atk",
          "Sp. Atk",
          "Sp. Atk",
          "Sp. Atk",
          "Sp. Atk",
          "Sp. Atk",
          "Sp. Atk",
          "Sp. Atk",
          "Sp. Atk",
          "Sp. Atk",
          "Sp. Atk",
          "Sp. Atk",
          "Sp. Atk",
          "Sp. Atk",
          "Sp. Atk",
          "Sp. Atk",
          "Sp. Atk",
          "Sp. Atk",
          "Sp. Atk",
          "Sp. Atk",
          "Sp. Atk",
          "Sp. Atk",
          "Sp. Atk",
          "Sp. Atk",
          "Sp. Atk",
          "Sp. Atk",
          "Sp. Atk",
          "Sp. Atk",
          "Sp. Atk",
          "Sp. Atk",
          "Sp. Atk",
          "Sp. Atk",
          "Sp. Atk",
          "Sp. Atk",
          "Sp. Atk",
          "Sp. Atk",
          "Sp. Atk",
          "Sp. Atk",
          "Sp. Atk",
          "Sp. Atk",
          "Sp. Atk",
          "Sp. Atk",
          "Sp. Atk",
          "Sp. Atk",
          "Sp. Atk",
          "Sp. Atk",
          "Sp. Atk",
          "Sp. Atk",
          "Sp. Atk",
          "Sp. Atk",
          "Sp. Atk",
          "Sp. Atk",
          "Sp. Atk",
          "Sp. Atk",
          "Sp. Atk",
          "Sp. Atk",
          "Sp. Atk",
          "Sp. Atk",
          "Sp. Atk",
          "Sp. Atk",
          "Sp. Atk",
          "Sp. Atk",
          "Sp. Atk",
          "Sp. Atk",
          "Sp. Atk",
          "Sp. Atk",
          "Sp. Atk",
          "Sp. Atk",
          "Sp. Atk",
          "Sp. Atk",
          "Sp. Atk",
          "Sp. Atk",
          "Sp. Atk",
          "Sp. Atk",
          "Sp. Atk",
          "Sp. Atk",
          "Sp. Atk",
          "Sp. Atk",
          "Sp. Atk",
          "Sp. Atk",
          "Sp. Atk",
          "Sp. Atk",
          "Sp. Atk",
          "Sp. Atk",
          "Sp. Atk",
          "Sp. Atk",
          "Sp. Atk",
          "Sp. Atk",
          "Sp. Def",
          "Sp. Def",
          "Sp. Def",
          "Sp. Def",
          "Sp. Def",
          "Sp. Def",
          "Sp. Def",
          "Sp. Def",
          "Sp. Def",
          "Sp. Def",
          "Sp. Def",
          "Sp. Def",
          "Sp. Def",
          "Sp. Def",
          "Sp. Def",
          "Sp. Def",
          "Sp. Def",
          "Sp. Def",
          "Sp. Def",
          "Sp. Def",
          "Sp. Def",
          "Sp. Def",
          "Sp. Def",
          "Sp. Def",
          "Sp. Def",
          "Sp. Def",
          "Sp. Def",
          "Sp. Def",
          "Sp. Def",
          "Sp. Def",
          "Sp. Def",
          "Sp. Def",
          "Sp. Def",
          "Sp. Def",
          "Sp. Def",
          "Sp. Def",
          "Sp. Def",
          "Sp. Def",
          "Sp. Def",
          "Sp. Def",
          "Sp. Def",
          "Sp. Def",
          "Sp. Def",
          "Sp. Def",
          "Sp. Def",
          "Sp. Def",
          "Sp. Def",
          "Sp. Def",
          "Sp. Def",
          "Sp. Def",
          "Sp. Def",
          "Sp. Def",
          "Sp. Def",
          "Sp. Def",
          "Sp. Def",
          "Sp. Def",
          "Sp. Def",
          "Sp. Def",
          "Sp. Def",
          "Sp. Def",
          "Sp. Def",
          "Sp. Def",
          "Sp. Def",
          "Sp. Def",
          "Sp. Def",
          "Sp. Def",
          "Sp. Def",
          "Sp. Def",
          "Sp. Def",
          "Sp. Def",
          "Sp. Def",
          "Sp. Def",
          "Sp. Def",
          "Sp. Def",
          "Sp. Def",
          "Sp. Def",
          "Sp. Def",
          "Sp. Def",
          "Sp. Def",
          "Sp. Def",
          "Sp. Def",
          "Sp. Def",
          "Sp. Def",
          "Sp. Def",
          "Sp. Def",
          "Sp. Def",
          "Sp. Def",
          "Sp. Def",
          "Sp. Def",
          "Sp. Def",
          "Sp. Def",
          "Sp. Def",
          "Sp. Def",
          "Sp. Def",
          "Sp. Def",
          "Sp. Def",
          "Sp. Def",
          "Sp. Def",
          "Sp. Def",
          "Sp. Def",
          "Sp. Def",
          "Sp. Def",
          "Sp. Def",
          "Sp. Def",
          "Sp. Def",
          "Sp. Def",
          "Sp. Def",
          "Sp. Def",
          "Sp. Def",
          "Sp. Def",
          "Sp. Def",
          "Sp. Def",
          "Sp. Def",
          "Sp. Def",
          "Sp. Def",
          "Sp. Def",
          "Sp. Def",
          "Sp. Def",
          "Sp. Def",
          "Sp. Def",
          "Sp. Def",
          "Sp. Def",
          "Sp. Def",
          "Sp. Def",
          "Sp. Def",
          "Sp. Def",
          "Sp. Def",
          "Sp. Def",
          "Sp. Def",
          "Sp. Def",
          "Sp. Def",
          "Sp. Def",
          "Sp. Def",
          "Sp. Def",
          "Sp. Def",
          "Sp. Def",
          "Sp. Def",
          "Sp. Def",
          "Sp. Def",
          "Sp. Def",
          "Sp. Def",
          "Sp. Def",
          "Sp. Def",
          "Sp. Def",
          "Sp. Def",
          "Sp. Def",
          "Sp. Def",
          "Sp. Def",
          "Sp. Def",
          "Sp. Def",
          "Sp. Def",
          "Speed",
          "Speed",
          "Speed",
          "Speed",
          "Speed",
          "Speed",
          "Speed",
          "Speed",
          "Speed",
          "Speed",
          "Speed",
          "Speed",
          "Speed",
          "Speed",
          "Speed",
          "Speed",
          "Speed",
          "Speed",
          "Speed",
          "Speed",
          "Speed",
          "Speed",
          "Speed",
          "Speed",
          "Speed",
          "Speed",
          "Speed",
          "Speed",
          "Speed",
          "Speed",
          "Speed",
          "Speed",
          "Speed",
          "Speed",
          "Speed",
          "Speed",
          "Speed",
          "Speed",
          "Speed",
          "Speed",
          "Speed",
          "Speed",
          "Speed",
          "Speed",
          "Speed",
          "Speed",
          "Speed",
          "Speed",
          "Speed",
          "Speed",
          "Speed",
          "Speed",
          "Speed",
          "Speed",
          "Speed",
          "Speed",
          "Speed",
          "Speed",
          "Speed",
          "Speed",
          "Speed",
          "Speed",
          "Speed",
          "Speed",
          "Speed",
          "Speed",
          "Speed",
          "Speed",
          "Speed",
          "Speed",
          "Speed",
          "Speed",
          "Speed",
          "Speed",
          "Speed",
          "Speed",
          "Speed",
          "Speed",
          "Speed",
          "Speed",
          "Speed",
          "Speed",
          "Speed",
          "Speed",
          "Speed",
          "Speed",
          "Speed",
          "Speed",
          "Speed",
          "Speed",
          "Speed",
          "Speed",
          "Speed",
          "Speed",
          "Speed",
          "Speed",
          "Speed",
          "Speed",
          "Speed",
          "Speed",
          "Speed",
          "Speed",
          "Speed",
          "Speed",
          "Speed",
          "Speed",
          "Speed",
          "Speed",
          "Speed",
          "Speed",
          "Speed",
          "Speed",
          "Speed",
          "Speed",
          "Speed",
          "Speed",
          "Speed",
          "Speed",
          "Speed",
          "Speed",
          "Speed",
          "Speed",
          "Speed",
          "Speed",
          "Speed",
          "Speed",
          "Speed",
          "Speed",
          "Speed",
          "Speed",
          "Speed",
          "Speed",
          "Speed",
          "Speed",
          "Speed",
          "Speed",
          "Speed",
          "Speed",
          "Speed",
          "Speed",
          "Speed",
          "Speed",
          "Speed",
          "Speed",
          "Speed",
          "Speed",
          "Speed",
          "Speed",
          "Speed",
          "Speed",
          "Speed"
         ],
         "x0": " ",
         "xaxis": "x",
         "y": [
          45,
          60,
          80,
          39,
          58,
          78,
          44,
          59,
          79,
          45,
          50,
          60,
          40,
          45,
          65,
          40,
          63,
          83,
          30,
          55,
          40,
          65,
          35,
          60,
          35,
          60,
          50,
          75,
          55,
          70,
          90,
          46,
          61,
          81,
          70,
          95,
          38,
          73,
          115,
          140,
          40,
          75,
          45,
          60,
          75,
          35,
          60,
          60,
          70,
          10,
          35,
          40,
          65,
          50,
          80,
          40,
          65,
          55,
          90,
          40,
          65,
          90,
          25,
          40,
          55,
          70,
          80,
          90,
          50,
          65,
          80,
          40,
          80,
          40,
          55,
          80,
          50,
          65,
          90,
          95,
          25,
          50,
          52,
          35,
          60,
          65,
          90,
          80,
          105,
          30,
          50,
          30,
          45,
          60,
          35,
          60,
          85,
          30,
          55,
          40,
          60,
          60,
          95,
          50,
          60,
          50,
          50,
          90,
          40,
          65,
          80,
          105,
          250,
          65,
          105,
          30,
          55,
          45,
          80,
          30,
          60,
          40,
          70,
          65,
          65,
          65,
          65,
          75,
          20,
          95,
          130,
          48,
          55,
          130,
          65,
          65,
          65,
          35,
          70,
          30,
          60,
          80,
          160,
          90,
          90,
          90,
          41,
          61,
          91,
          106,
          100,
          49,
          62,
          82,
          52,
          64,
          84,
          48,
          63,
          83,
          30,
          20,
          45,
          35,
          25,
          90,
          45,
          60,
          80,
          56,
          81,
          60,
          90,
          60,
          85,
          55,
          90,
          75,
          100,
          47,
          62,
          92,
          57,
          72,
          102,
          45,
          70,
          41,
          76,
          45,
          70,
          45,
          80,
          50,
          65,
          80,
          70,
          95,
          55,
          65,
          55,
          80,
          45,
          70,
          52,
          82,
          80,
          105,
          70,
          110,
          50,
          65,
          95,
          20,
          35,
          50,
          80,
          100,
          130,
          75,
          90,
          105,
          40,
          70,
          80,
          95,
          120,
          85,
          100,
          65,
          75,
          35,
          60,
          65,
          85,
          110,
          45,
          70,
          80,
          105,
          65,
          95,
          35,
          50,
          65,
          45,
          48,
          73,
          105,
          130,
          30,
          50,
          40,
          95,
          50,
          80,
          120,
          105,
          55,
          65,
          90,
          85,
          130,
          5,
          55,
          95,
          40,
          65,
          67,
          92,
          45,
          75,
          45,
          110,
          50,
          83,
          95,
          125,
          100,
          10,
          125,
          85,
          48,
          55,
          65,
          65,
          130,
          60,
          40,
          60,
          80,
          115,
          105,
          110,
          85,
          90,
          100,
          64,
          84,
          134,
          110,
          100,
          49,
          63,
          83,
          43,
          58,
          78,
          65,
          80,
          100,
          35,
          55,
          50,
          30,
          50,
          40,
          40,
          55,
          75,
          35,
          60,
          30,
          65,
          44,
          69,
          40,
          55,
          85,
          110,
          52,
          67,
          87,
          40,
          57,
          77,
          48,
          73,
          40,
          75,
          20,
          45,
          35,
          70,
          55,
          70,
          85,
          55,
          80,
          50,
          60,
          25,
          50,
          35,
          60,
          48,
          78,
          35,
          60,
          45,
          80,
          40,
          65,
          95,
          15,
          30,
          45,
          50,
          70,
          80,
          35,
          50,
          65,
          35,
          65,
          100,
          115,
          130,
          55,
          70,
          65,
          110,
          70,
          95,
          55,
          45,
          70,
          55,
          80,
          50,
          75,
          100,
          180,
          30,
          45,
          60,
          160,
          45,
          70,
          90,
          115,
          50,
          70,
          80,
          85,
          95,
          110,
          53,
          79,
          75,
          95,
          120,
          95,
          120,
          5,
          115,
          80,
          70,
          95,
          60,
          65,
          55,
          85,
          65,
          80,
          35,
          57,
          57,
          100,
          95,
          55,
          79,
          80,
          48,
          50,
          60,
          60,
          60,
          70,
          100,
          125,
          90,
          105,
          65,
          65,
          100,
          85,
          90,
          45,
          65,
          95,
          90,
          100,
          65,
          80,
          100,
          60,
          80,
          109,
          50,
          65,
          85,
          20,
          25,
          90,
          20,
          25,
          45,
          35,
          50,
          70,
          25,
          50,
          31,
          61,
          40,
          65,
          50,
          90,
          20,
          45,
          40,
          55,
          75,
          40,
          55,
          85,
          60,
          95,
          50,
          81,
          45,
          85,
          30,
          65,
          75,
          85,
          110,
          45,
          60,
          40,
          90,
          35,
          50,
          40,
          65,
          65,
          95,
          35,
          60,
          70,
          100,
          40,
          50,
          70,
          105,
          120,
          135,
          35,
          50,
          65,
          70,
          85,
          100,
          50,
          80,
          30,
          45,
          55,
          65,
          80,
          40,
          100,
          95,
          120,
          58,
          35,
          60,
          45,
          70,
          40,
          65,
          45,
          85,
          100,
          115,
          130,
          30,
          43,
          73,
          25,
          50,
          55,
          80,
          60,
          125,
          40,
          50,
          35,
          35,
          60,
          60,
          85,
          30,
          45,
          35,
          100,
          40,
          70,
          95,
          35,
          65,
          70,
          100,
          100,
          55,
          115,
          95,
          100,
          55,
          40,
          15,
          60,
          85,
          48,
          45,
          110,
          110,
          95,
          85,
          90,
          115,
          55,
          65,
          60,
          65,
          95,
          125,
          125,
          50,
          70,
          100,
          154,
          100,
          65,
          80,
          100,
          50,
          65,
          85,
          64,
          80,
          105,
          20,
          25,
          80,
          20,
          25,
          80,
          35,
          50,
          70,
          35,
          70,
          31,
          61,
          54,
          79,
          50,
          80,
          30,
          55,
          40,
          55,
          85,
          40,
          55,
          75,
          65,
          90,
          65,
          100,
          25,
          50,
          40,
          75,
          65,
          75,
          90,
          55,
          80,
          55,
          75,
          45,
          70,
          40,
          65,
          50,
          80,
          45,
          70,
          50,
          80,
          40,
          50,
          90,
          55,
          70,
          95,
          35,
          60,
          85,
          30,
          45,
          70,
          100,
          120,
          30,
          45,
          65,
          65,
          80,
          40,
          80,
          55,
          70,
          62,
          35,
          60,
          70,
          95,
          50,
          100,
          25,
          45,
          35,
          55,
          75,
          45,
          90,
          115,
          25,
          50,
          55,
          80,
          45,
          65,
          50,
          80,
          110,
          110,
          75,
          45,
          70,
          30,
          45,
          105,
          40,
          80,
          25,
          45,
          50,
          80,
          55,
          85,
          120,
          80,
          95,
          85,
          85,
          70,
          70,
          20,
          100,
          95,
          48,
          65,
          95,
          95,
          110,
          75,
          55,
          70,
          45,
          70,
          75,
          110,
          125,
          90,
          85,
          50,
          70,
          100,
          90,
          100,
          45,
          60,
          80,
          65,
          80,
          100,
          43,
          58,
          78,
          45,
          30,
          70,
          50,
          35,
          75,
          56,
          71,
          101,
          72,
          97,
          70,
          100,
          55,
          80,
          90,
          110,
          40,
          65,
          41,
          56,
          76,
          50,
          65,
          85,
          35,
          60,
          65,
          100,
          20,
          45,
          55,
          90,
          30,
          40,
          50,
          25,
          30,
          45,
          90,
          95,
          120,
          90,
          115,
          55,
          85,
          70,
          95,
          60,
          95,
          90,
          90,
          70,
          90,
          105,
          120,
          35,
          45,
          55,
          40,
          55,
          70,
          70,
          100,
          20,
          35,
          45,
          90,
          105,
          15,
          30,
          45,
          70,
          60,
          75,
          100,
          45,
          70,
          25,
          50,
          40,
          70,
          80,
          95,
          110,
          70,
          42,
          67,
          50,
          75,
          100,
          140,
          40,
          55,
          35,
          45,
          87,
          76,
          30,
          35,
          60,
          25,
          40,
          50,
          60,
          90,
          60,
          85,
          63,
          68,
          85,
          115,
          90,
          105,
          95,
          105,
          93,
          85,
          110,
          80,
          81,
          60,
          48,
          55,
          65,
          130,
          65,
          40,
          35,
          55,
          55,
          80,
          130,
          30,
          85,
          100,
          90,
          50,
          70,
          80,
          130,
          100
         ],
         "y0": " ",
         "yaxis": "y"
        }
       ],
       "layout": {
        "boxmode": "group",
        "legend": {
         "tracegroupgap": 0
        },
        "margin": {
         "t": 60
        },
        "template": {
         "data": {
          "bar": [
           {
            "error_x": {
             "color": "#2a3f5f"
            },
            "error_y": {
             "color": "#2a3f5f"
            },
            "marker": {
             "line": {
              "color": "#E5ECF6",
              "width": 0.5
             }
            },
            "type": "bar"
           }
          ],
          "barpolar": [
           {
            "marker": {
             "line": {
              "color": "#E5ECF6",
              "width": 0.5
             }
            },
            "type": "barpolar"
           }
          ],
          "carpet": [
           {
            "aaxis": {
             "endlinecolor": "#2a3f5f",
             "gridcolor": "white",
             "linecolor": "white",
             "minorgridcolor": "white",
             "startlinecolor": "#2a3f5f"
            },
            "baxis": {
             "endlinecolor": "#2a3f5f",
             "gridcolor": "white",
             "linecolor": "white",
             "minorgridcolor": "white",
             "startlinecolor": "#2a3f5f"
            },
            "type": "carpet"
           }
          ],
          "choropleth": [
           {
            "colorbar": {
             "outlinewidth": 0,
             "ticks": ""
            },
            "type": "choropleth"
           }
          ],
          "contour": [
           {
            "colorbar": {
             "outlinewidth": 0,
             "ticks": ""
            },
            "colorscale": [
             [
              0,
              "#0d0887"
             ],
             [
              0.1111111111111111,
              "#46039f"
             ],
             [
              0.2222222222222222,
              "#7201a8"
             ],
             [
              0.3333333333333333,
              "#9c179e"
             ],
             [
              0.4444444444444444,
              "#bd3786"
             ],
             [
              0.5555555555555556,
              "#d8576b"
             ],
             [
              0.6666666666666666,
              "#ed7953"
             ],
             [
              0.7777777777777778,
              "#fb9f3a"
             ],
             [
              0.8888888888888888,
              "#fdca26"
             ],
             [
              1,
              "#f0f921"
             ]
            ],
            "type": "contour"
           }
          ],
          "contourcarpet": [
           {
            "colorbar": {
             "outlinewidth": 0,
             "ticks": ""
            },
            "type": "contourcarpet"
           }
          ],
          "heatmap": [
           {
            "colorbar": {
             "outlinewidth": 0,
             "ticks": ""
            },
            "colorscale": [
             [
              0,
              "#0d0887"
             ],
             [
              0.1111111111111111,
              "#46039f"
             ],
             [
              0.2222222222222222,
              "#7201a8"
             ],
             [
              0.3333333333333333,
              "#9c179e"
             ],
             [
              0.4444444444444444,
              "#bd3786"
             ],
             [
              0.5555555555555556,
              "#d8576b"
             ],
             [
              0.6666666666666666,
              "#ed7953"
             ],
             [
              0.7777777777777778,
              "#fb9f3a"
             ],
             [
              0.8888888888888888,
              "#fdca26"
             ],
             [
              1,
              "#f0f921"
             ]
            ],
            "type": "heatmap"
           }
          ],
          "heatmapgl": [
           {
            "colorbar": {
             "outlinewidth": 0,
             "ticks": ""
            },
            "colorscale": [
             [
              0,
              "#0d0887"
             ],
             [
              0.1111111111111111,
              "#46039f"
             ],
             [
              0.2222222222222222,
              "#7201a8"
             ],
             [
              0.3333333333333333,
              "#9c179e"
             ],
             [
              0.4444444444444444,
              "#bd3786"
             ],
             [
              0.5555555555555556,
              "#d8576b"
             ],
             [
              0.6666666666666666,
              "#ed7953"
             ],
             [
              0.7777777777777778,
              "#fb9f3a"
             ],
             [
              0.8888888888888888,
              "#fdca26"
             ],
             [
              1,
              "#f0f921"
             ]
            ],
            "type": "heatmapgl"
           }
          ],
          "histogram": [
           {
            "marker": {
             "colorbar": {
              "outlinewidth": 0,
              "ticks": ""
             }
            },
            "type": "histogram"
           }
          ],
          "histogram2d": [
           {
            "colorbar": {
             "outlinewidth": 0,
             "ticks": ""
            },
            "colorscale": [
             [
              0,
              "#0d0887"
             ],
             [
              0.1111111111111111,
              "#46039f"
             ],
             [
              0.2222222222222222,
              "#7201a8"
             ],
             [
              0.3333333333333333,
              "#9c179e"
             ],
             [
              0.4444444444444444,
              "#bd3786"
             ],
             [
              0.5555555555555556,
              "#d8576b"
             ],
             [
              0.6666666666666666,
              "#ed7953"
             ],
             [
              0.7777777777777778,
              "#fb9f3a"
             ],
             [
              0.8888888888888888,
              "#fdca26"
             ],
             [
              1,
              "#f0f921"
             ]
            ],
            "type": "histogram2d"
           }
          ],
          "histogram2dcontour": [
           {
            "colorbar": {
             "outlinewidth": 0,
             "ticks": ""
            },
            "colorscale": [
             [
              0,
              "#0d0887"
             ],
             [
              0.1111111111111111,
              "#46039f"
             ],
             [
              0.2222222222222222,
              "#7201a8"
             ],
             [
              0.3333333333333333,
              "#9c179e"
             ],
             [
              0.4444444444444444,
              "#bd3786"
             ],
             [
              0.5555555555555556,
              "#d8576b"
             ],
             [
              0.6666666666666666,
              "#ed7953"
             ],
             [
              0.7777777777777778,
              "#fb9f3a"
             ],
             [
              0.8888888888888888,
              "#fdca26"
             ],
             [
              1,
              "#f0f921"
             ]
            ],
            "type": "histogram2dcontour"
           }
          ],
          "mesh3d": [
           {
            "colorbar": {
             "outlinewidth": 0,
             "ticks": ""
            },
            "type": "mesh3d"
           }
          ],
          "parcoords": [
           {
            "line": {
             "colorbar": {
              "outlinewidth": 0,
              "ticks": ""
             }
            },
            "type": "parcoords"
           }
          ],
          "pie": [
           {
            "automargin": true,
            "type": "pie"
           }
          ],
          "scatter": [
           {
            "marker": {
             "colorbar": {
              "outlinewidth": 0,
              "ticks": ""
             }
            },
            "type": "scatter"
           }
          ],
          "scatter3d": [
           {
            "line": {
             "colorbar": {
              "outlinewidth": 0,
              "ticks": ""
             }
            },
            "marker": {
             "colorbar": {
              "outlinewidth": 0,
              "ticks": ""
             }
            },
            "type": "scatter3d"
           }
          ],
          "scattercarpet": [
           {
            "marker": {
             "colorbar": {
              "outlinewidth": 0,
              "ticks": ""
             }
            },
            "type": "scattercarpet"
           }
          ],
          "scattergeo": [
           {
            "marker": {
             "colorbar": {
              "outlinewidth": 0,
              "ticks": ""
             }
            },
            "type": "scattergeo"
           }
          ],
          "scattergl": [
           {
            "marker": {
             "colorbar": {
              "outlinewidth": 0,
              "ticks": ""
             }
            },
            "type": "scattergl"
           }
          ],
          "scattermapbox": [
           {
            "marker": {
             "colorbar": {
              "outlinewidth": 0,
              "ticks": ""
             }
            },
            "type": "scattermapbox"
           }
          ],
          "scatterpolar": [
           {
            "marker": {
             "colorbar": {
              "outlinewidth": 0,
              "ticks": ""
             }
            },
            "type": "scatterpolar"
           }
          ],
          "scatterpolargl": [
           {
            "marker": {
             "colorbar": {
              "outlinewidth": 0,
              "ticks": ""
             }
            },
            "type": "scatterpolargl"
           }
          ],
          "scatterternary": [
           {
            "marker": {
             "colorbar": {
              "outlinewidth": 0,
              "ticks": ""
             }
            },
            "type": "scatterternary"
           }
          ],
          "surface": [
           {
            "colorbar": {
             "outlinewidth": 0,
             "ticks": ""
            },
            "colorscale": [
             [
              0,
              "#0d0887"
             ],
             [
              0.1111111111111111,
              "#46039f"
             ],
             [
              0.2222222222222222,
              "#7201a8"
             ],
             [
              0.3333333333333333,
              "#9c179e"
             ],
             [
              0.4444444444444444,
              "#bd3786"
             ],
             [
              0.5555555555555556,
              "#d8576b"
             ],
             [
              0.6666666666666666,
              "#ed7953"
             ],
             [
              0.7777777777777778,
              "#fb9f3a"
             ],
             [
              0.8888888888888888,
              "#fdca26"
             ],
             [
              1,
              "#f0f921"
             ]
            ],
            "type": "surface"
           }
          ],
          "table": [
           {
            "cells": {
             "fill": {
              "color": "#EBF0F8"
             },
             "line": {
              "color": "white"
             }
            },
            "header": {
             "fill": {
              "color": "#C8D4E3"
             },
             "line": {
              "color": "white"
             }
            },
            "type": "table"
           }
          ]
         },
         "layout": {
          "annotationdefaults": {
           "arrowcolor": "#2a3f5f",
           "arrowhead": 0,
           "arrowwidth": 1
          },
          "autotypenumbers": "strict",
          "coloraxis": {
           "colorbar": {
            "outlinewidth": 0,
            "ticks": ""
           }
          },
          "colorscale": {
           "diverging": [
            [
             0,
             "#8e0152"
            ],
            [
             0.1,
             "#c51b7d"
            ],
            [
             0.2,
             "#de77ae"
            ],
            [
             0.3,
             "#f1b6da"
            ],
            [
             0.4,
             "#fde0ef"
            ],
            [
             0.5,
             "#f7f7f7"
            ],
            [
             0.6,
             "#e6f5d0"
            ],
            [
             0.7,
             "#b8e186"
            ],
            [
             0.8,
             "#7fbc41"
            ],
            [
             0.9,
             "#4d9221"
            ],
            [
             1,
             "#276419"
            ]
           ],
           "sequential": [
            [
             0,
             "#0d0887"
            ],
            [
             0.1111111111111111,
             "#46039f"
            ],
            [
             0.2222222222222222,
             "#7201a8"
            ],
            [
             0.3333333333333333,
             "#9c179e"
            ],
            [
             0.4444444444444444,
             "#bd3786"
            ],
            [
             0.5555555555555556,
             "#d8576b"
            ],
            [
             0.6666666666666666,
             "#ed7953"
            ],
            [
             0.7777777777777778,
             "#fb9f3a"
            ],
            [
             0.8888888888888888,
             "#fdca26"
            ],
            [
             1,
             "#f0f921"
            ]
           ],
           "sequentialminus": [
            [
             0,
             "#0d0887"
            ],
            [
             0.1111111111111111,
             "#46039f"
            ],
            [
             0.2222222222222222,
             "#7201a8"
            ],
            [
             0.3333333333333333,
             "#9c179e"
            ],
            [
             0.4444444444444444,
             "#bd3786"
            ],
            [
             0.5555555555555556,
             "#d8576b"
            ],
            [
             0.6666666666666666,
             "#ed7953"
            ],
            [
             0.7777777777777778,
             "#fb9f3a"
            ],
            [
             0.8888888888888888,
             "#fdca26"
            ],
            [
             1,
             "#f0f921"
            ]
           ]
          },
          "colorway": [
           "#636efa",
           "#EF553B",
           "#00cc96",
           "#ab63fa",
           "#FFA15A",
           "#19d3f3",
           "#FF6692",
           "#B6E880",
           "#FF97FF",
           "#FECB52"
          ],
          "font": {
           "color": "#2a3f5f"
          },
          "geo": {
           "bgcolor": "white",
           "lakecolor": "white",
           "landcolor": "#E5ECF6",
           "showlakes": true,
           "showland": true,
           "subunitcolor": "white"
          },
          "hoverlabel": {
           "align": "left"
          },
          "hovermode": "closest",
          "mapbox": {
           "style": "light"
          },
          "paper_bgcolor": "white",
          "plot_bgcolor": "#E5ECF6",
          "polar": {
           "angularaxis": {
            "gridcolor": "white",
            "linecolor": "white",
            "ticks": ""
           },
           "bgcolor": "#E5ECF6",
           "radialaxis": {
            "gridcolor": "white",
            "linecolor": "white",
            "ticks": ""
           }
          },
          "scene": {
           "xaxis": {
            "backgroundcolor": "#E5ECF6",
            "gridcolor": "white",
            "gridwidth": 2,
            "linecolor": "white",
            "showbackground": true,
            "ticks": "",
            "zerolinecolor": "white"
           },
           "yaxis": {
            "backgroundcolor": "#E5ECF6",
            "gridcolor": "white",
            "gridwidth": 2,
            "linecolor": "white",
            "showbackground": true,
            "ticks": "",
            "zerolinecolor": "white"
           },
           "zaxis": {
            "backgroundcolor": "#E5ECF6",
            "gridcolor": "white",
            "gridwidth": 2,
            "linecolor": "white",
            "showbackground": true,
            "ticks": "",
            "zerolinecolor": "white"
           }
          },
          "shapedefaults": {
           "line": {
            "color": "#2a3f5f"
           }
          },
          "ternary": {
           "aaxis": {
            "gridcolor": "white",
            "linecolor": "white",
            "ticks": ""
           },
           "baxis": {
            "gridcolor": "white",
            "linecolor": "white",
            "ticks": ""
           },
           "bgcolor": "#E5ECF6",
           "caxis": {
            "gridcolor": "white",
            "linecolor": "white",
            "ticks": ""
           }
          },
          "title": {
           "x": 0.05
          },
          "xaxis": {
           "automargin": true,
           "gridcolor": "white",
           "linecolor": "white",
           "ticks": "",
           "title": {
            "standoff": 15
           },
           "zerolinecolor": "white",
           "zerolinewidth": 2
          },
          "yaxis": {
           "automargin": true,
           "gridcolor": "white",
           "linecolor": "white",
           "ticks": "",
           "title": {
            "standoff": 15
           },
           "zerolinecolor": "white",
           "zerolinewidth": 2
          }
         }
        },
        "xaxis": {
         "anchor": "y",
         "domain": [
          0,
          1
         ],
         "title": {
          "text": "variable"
         }
        },
        "yaxis": {
         "anchor": "x",
         "domain": [
          0,
          1
         ],
         "title": {
          "text": "value"
         }
        }
       }
      },
      "text/html": [
       "<div>                            <div id=\"1bd47929-8597-4f43-95c0-e7a1b8d788f4\" class=\"plotly-graph-div\" style=\"height:525px; width:100%;\"></div>            <script type=\"text/javascript\">                require([\"plotly\"], function(Plotly) {                    window.PLOTLYENV=window.PLOTLYENV || {};                                    if (document.getElementById(\"1bd47929-8597-4f43-95c0-e7a1b8d788f4\")) {                    Plotly.newPlot(                        \"1bd47929-8597-4f43-95c0-e7a1b8d788f4\",                        [{\"alignmentgroup\": \"True\", \"hovertemplate\": \"variable=%{x}<br>value=%{y}<extra></extra>\", \"legendgroup\": \"\", \"marker\": {\"color\": \"#636efa\"}, \"name\": \"\", \"notched\": false, \"offsetgroup\": \"\", \"orientation\": \"v\", \"showlegend\": false, \"type\": \"box\", \"x\": [\"HP\", \"HP\", \"HP\", \"HP\", \"HP\", \"HP\", \"HP\", \"HP\", \"HP\", \"HP\", \"HP\", \"HP\", \"HP\", \"HP\", \"HP\", \"HP\", \"HP\", \"HP\", \"HP\", \"HP\", \"HP\", \"HP\", \"HP\", \"HP\", \"HP\", \"HP\", \"HP\", \"HP\", \"HP\", \"HP\", \"HP\", \"HP\", \"HP\", \"HP\", \"HP\", \"HP\", \"HP\", \"HP\", \"HP\", \"HP\", \"HP\", \"HP\", \"HP\", \"HP\", \"HP\", \"HP\", \"HP\", \"HP\", \"HP\", \"HP\", \"HP\", \"HP\", \"HP\", \"HP\", \"HP\", \"HP\", \"HP\", \"HP\", \"HP\", \"HP\", \"HP\", \"HP\", \"HP\", \"HP\", \"HP\", \"HP\", \"HP\", \"HP\", \"HP\", \"HP\", \"HP\", \"HP\", \"HP\", \"HP\", \"HP\", \"HP\", \"HP\", \"HP\", \"HP\", \"HP\", \"HP\", \"HP\", \"HP\", \"HP\", \"HP\", \"HP\", \"HP\", \"HP\", \"HP\", \"HP\", \"HP\", \"HP\", \"HP\", \"HP\", \"HP\", \"HP\", \"HP\", \"HP\", \"HP\", \"HP\", \"HP\", \"HP\", \"HP\", \"HP\", \"HP\", \"HP\", \"HP\", \"HP\", \"HP\", \"HP\", \"HP\", \"HP\", \"HP\", \"HP\", \"HP\", \"HP\", \"HP\", \"HP\", \"HP\", \"HP\", \"HP\", \"HP\", \"HP\", \"HP\", \"HP\", \"HP\", \"HP\", \"HP\", \"HP\", \"HP\", \"HP\", \"HP\", \"HP\", \"HP\", \"HP\", \"HP\", \"HP\", \"HP\", \"HP\", \"HP\", \"HP\", \"HP\", \"HP\", \"HP\", \"HP\", \"HP\", \"HP\", \"HP\", \"HP\", \"HP\", \"HP\", \"Attack\", \"Attack\", \"Attack\", \"Attack\", \"Attack\", \"Attack\", \"Attack\", \"Attack\", \"Attack\", \"Attack\", \"Attack\", \"Attack\", \"Attack\", \"Attack\", \"Attack\", \"Attack\", \"Attack\", \"Attack\", \"Attack\", \"Attack\", \"Attack\", \"Attack\", \"Attack\", \"Attack\", \"Attack\", \"Attack\", \"Attack\", \"Attack\", \"Attack\", \"Attack\", \"Attack\", \"Attack\", \"Attack\", \"Attack\", \"Attack\", \"Attack\", \"Attack\", \"Attack\", \"Attack\", \"Attack\", \"Attack\", \"Attack\", \"Attack\", \"Attack\", \"Attack\", \"Attack\", \"Attack\", \"Attack\", \"Attack\", \"Attack\", \"Attack\", \"Attack\", \"Attack\", \"Attack\", \"Attack\", \"Attack\", \"Attack\", \"Attack\", \"Attack\", \"Attack\", \"Attack\", \"Attack\", \"Attack\", \"Attack\", \"Attack\", \"Attack\", \"Attack\", \"Attack\", \"Attack\", \"Attack\", \"Attack\", \"Attack\", \"Attack\", \"Attack\", \"Attack\", \"Attack\", \"Attack\", \"Attack\", \"Attack\", \"Attack\", \"Attack\", \"Attack\", \"Attack\", \"Attack\", \"Attack\", \"Attack\", \"Attack\", \"Attack\", \"Attack\", \"Attack\", \"Attack\", \"Attack\", \"Attack\", \"Attack\", \"Attack\", \"Attack\", \"Attack\", \"Attack\", \"Attack\", \"Attack\", \"Attack\", \"Attack\", \"Attack\", \"Attack\", \"Attack\", \"Attack\", \"Attack\", \"Attack\", \"Attack\", \"Attack\", \"Attack\", \"Attack\", \"Attack\", \"Attack\", \"Attack\", \"Attack\", \"Attack\", \"Attack\", \"Attack\", \"Attack\", \"Attack\", \"Attack\", \"Attack\", \"Attack\", \"Attack\", \"Attack\", \"Attack\", \"Attack\", \"Attack\", \"Attack\", \"Attack\", \"Attack\", \"Attack\", \"Attack\", \"Attack\", \"Attack\", \"Attack\", \"Attack\", \"Attack\", \"Attack\", \"Attack\", \"Attack\", \"Attack\", \"Attack\", \"Attack\", \"Attack\", \"Attack\", \"Attack\", \"Attack\", \"Attack\", \"Attack\", \"Defense\", \"Defense\", \"Defense\", \"Defense\", \"Defense\", \"Defense\", \"Defense\", \"Defense\", \"Defense\", \"Defense\", \"Defense\", \"Defense\", \"Defense\", \"Defense\", \"Defense\", \"Defense\", \"Defense\", \"Defense\", \"Defense\", \"Defense\", \"Defense\", \"Defense\", \"Defense\", \"Defense\", \"Defense\", \"Defense\", \"Defense\", \"Defense\", \"Defense\", \"Defense\", \"Defense\", \"Defense\", \"Defense\", \"Defense\", \"Defense\", \"Defense\", \"Defense\", \"Defense\", \"Defense\", \"Defense\", \"Defense\", \"Defense\", \"Defense\", \"Defense\", \"Defense\", \"Defense\", \"Defense\", \"Defense\", \"Defense\", \"Defense\", \"Defense\", \"Defense\", \"Defense\", \"Defense\", \"Defense\", \"Defense\", \"Defense\", \"Defense\", \"Defense\", \"Defense\", \"Defense\", \"Defense\", \"Defense\", \"Defense\", \"Defense\", \"Defense\", \"Defense\", \"Defense\", \"Defense\", \"Defense\", \"Defense\", \"Defense\", \"Defense\", \"Defense\", \"Defense\", \"Defense\", \"Defense\", \"Defense\", \"Defense\", \"Defense\", \"Defense\", \"Defense\", \"Defense\", \"Defense\", \"Defense\", \"Defense\", \"Defense\", \"Defense\", \"Defense\", \"Defense\", \"Defense\", \"Defense\", \"Defense\", \"Defense\", \"Defense\", \"Defense\", \"Defense\", \"Defense\", \"Defense\", \"Defense\", \"Defense\", \"Defense\", \"Defense\", \"Defense\", \"Defense\", \"Defense\", \"Defense\", \"Defense\", \"Defense\", \"Defense\", \"Defense\", \"Defense\", \"Defense\", \"Defense\", \"Defense\", \"Defense\", \"Defense\", \"Defense\", \"Defense\", \"Defense\", \"Defense\", \"Defense\", \"Defense\", \"Defense\", \"Defense\", \"Defense\", \"Defense\", \"Defense\", \"Defense\", \"Defense\", \"Defense\", \"Defense\", \"Defense\", \"Defense\", \"Defense\", \"Defense\", \"Defense\", \"Defense\", \"Defense\", \"Defense\", \"Defense\", \"Defense\", \"Defense\", \"Defense\", \"Defense\", \"Defense\", \"Defense\", \"Defense\", \"Defense\", \"Defense\", \"Defense\", \"Sp. Atk\", \"Sp. Atk\", \"Sp. Atk\", \"Sp. Atk\", \"Sp. Atk\", \"Sp. Atk\", \"Sp. Atk\", \"Sp. Atk\", \"Sp. Atk\", \"Sp. Atk\", \"Sp. Atk\", \"Sp. Atk\", \"Sp. Atk\", \"Sp. Atk\", \"Sp. Atk\", \"Sp. Atk\", \"Sp. Atk\", \"Sp. Atk\", \"Sp. Atk\", \"Sp. Atk\", \"Sp. Atk\", \"Sp. Atk\", \"Sp. Atk\", \"Sp. Atk\", \"Sp. Atk\", \"Sp. Atk\", \"Sp. Atk\", \"Sp. Atk\", \"Sp. Atk\", \"Sp. Atk\", \"Sp. Atk\", \"Sp. Atk\", \"Sp. Atk\", \"Sp. Atk\", \"Sp. Atk\", \"Sp. Atk\", \"Sp. Atk\", \"Sp. Atk\", \"Sp. Atk\", \"Sp. Atk\", \"Sp. Atk\", \"Sp. Atk\", \"Sp. Atk\", \"Sp. Atk\", \"Sp. Atk\", \"Sp. Atk\", \"Sp. Atk\", \"Sp. Atk\", \"Sp. Atk\", \"Sp. Atk\", \"Sp. Atk\", \"Sp. Atk\", \"Sp. Atk\", \"Sp. Atk\", \"Sp. Atk\", \"Sp. Atk\", \"Sp. Atk\", \"Sp. Atk\", \"Sp. Atk\", \"Sp. Atk\", \"Sp. Atk\", \"Sp. Atk\", \"Sp. Atk\", \"Sp. Atk\", \"Sp. Atk\", \"Sp. Atk\", \"Sp. Atk\", \"Sp. Atk\", \"Sp. Atk\", \"Sp. Atk\", \"Sp. Atk\", \"Sp. Atk\", \"Sp. Atk\", \"Sp. Atk\", \"Sp. Atk\", \"Sp. Atk\", \"Sp. Atk\", \"Sp. Atk\", \"Sp. Atk\", \"Sp. Atk\", \"Sp. Atk\", \"Sp. Atk\", \"Sp. Atk\", \"Sp. Atk\", \"Sp. Atk\", \"Sp. Atk\", \"Sp. Atk\", \"Sp. Atk\", \"Sp. Atk\", \"Sp. Atk\", \"Sp. Atk\", \"Sp. Atk\", \"Sp. Atk\", \"Sp. Atk\", \"Sp. Atk\", \"Sp. Atk\", \"Sp. Atk\", \"Sp. Atk\", \"Sp. Atk\", \"Sp. Atk\", \"Sp. Atk\", \"Sp. Atk\", \"Sp. Atk\", \"Sp. Atk\", \"Sp. Atk\", \"Sp. Atk\", \"Sp. Atk\", \"Sp. Atk\", \"Sp. Atk\", \"Sp. Atk\", \"Sp. Atk\", \"Sp. Atk\", \"Sp. Atk\", \"Sp. Atk\", \"Sp. Atk\", \"Sp. Atk\", \"Sp. Atk\", \"Sp. Atk\", \"Sp. Atk\", \"Sp. Atk\", \"Sp. Atk\", \"Sp. Atk\", \"Sp. Atk\", \"Sp. Atk\", \"Sp. Atk\", \"Sp. Atk\", \"Sp. Atk\", \"Sp. Atk\", \"Sp. Atk\", \"Sp. Atk\", \"Sp. Atk\", \"Sp. Atk\", \"Sp. Atk\", \"Sp. Atk\", \"Sp. Atk\", \"Sp. Atk\", \"Sp. Atk\", \"Sp. Atk\", \"Sp. Atk\", \"Sp. Atk\", \"Sp. Atk\", \"Sp. Atk\", \"Sp. Atk\", \"Sp. Atk\", \"Sp. Atk\", \"Sp. Atk\", \"Sp. Atk\", \"Sp. Atk\", \"Sp. Atk\", \"Sp. Atk\", \"Sp. Atk\", \"Sp. Def\", \"Sp. Def\", \"Sp. Def\", \"Sp. Def\", \"Sp. Def\", \"Sp. Def\", \"Sp. Def\", \"Sp. Def\", \"Sp. Def\", \"Sp. Def\", \"Sp. Def\", \"Sp. Def\", \"Sp. Def\", \"Sp. Def\", \"Sp. Def\", \"Sp. Def\", \"Sp. Def\", \"Sp. Def\", \"Sp. Def\", \"Sp. Def\", \"Sp. Def\", \"Sp. Def\", \"Sp. Def\", \"Sp. Def\", \"Sp. Def\", \"Sp. Def\", \"Sp. Def\", \"Sp. Def\", \"Sp. Def\", \"Sp. Def\", \"Sp. Def\", \"Sp. Def\", \"Sp. Def\", \"Sp. Def\", \"Sp. Def\", \"Sp. Def\", \"Sp. Def\", \"Sp. Def\", \"Sp. Def\", \"Sp. Def\", \"Sp. Def\", \"Sp. Def\", \"Sp. Def\", \"Sp. Def\", \"Sp. Def\", \"Sp. Def\", \"Sp. Def\", \"Sp. Def\", \"Sp. Def\", \"Sp. Def\", \"Sp. Def\", \"Sp. Def\", \"Sp. Def\", \"Sp. Def\", \"Sp. Def\", \"Sp. Def\", \"Sp. Def\", \"Sp. Def\", \"Sp. Def\", \"Sp. Def\", \"Sp. Def\", \"Sp. Def\", \"Sp. Def\", \"Sp. Def\", \"Sp. Def\", \"Sp. Def\", \"Sp. Def\", \"Sp. Def\", \"Sp. Def\", \"Sp. Def\", \"Sp. Def\", \"Sp. Def\", \"Sp. Def\", \"Sp. Def\", \"Sp. Def\", \"Sp. Def\", \"Sp. Def\", \"Sp. Def\", \"Sp. Def\", \"Sp. Def\", \"Sp. Def\", \"Sp. Def\", \"Sp. Def\", \"Sp. Def\", \"Sp. Def\", \"Sp. Def\", \"Sp. Def\", \"Sp. Def\", \"Sp. Def\", \"Sp. Def\", \"Sp. Def\", \"Sp. Def\", \"Sp. Def\", \"Sp. Def\", \"Sp. Def\", \"Sp. Def\", \"Sp. Def\", \"Sp. Def\", \"Sp. Def\", \"Sp. Def\", \"Sp. Def\", \"Sp. Def\", \"Sp. Def\", \"Sp. Def\", \"Sp. Def\", \"Sp. Def\", \"Sp. Def\", \"Sp. Def\", \"Sp. Def\", \"Sp. Def\", \"Sp. Def\", \"Sp. Def\", \"Sp. Def\", \"Sp. Def\", \"Sp. Def\", \"Sp. Def\", \"Sp. Def\", \"Sp. Def\", \"Sp. Def\", \"Sp. Def\", \"Sp. Def\", \"Sp. Def\", \"Sp. Def\", \"Sp. Def\", \"Sp. Def\", \"Sp. Def\", \"Sp. Def\", \"Sp. Def\", \"Sp. Def\", \"Sp. Def\", \"Sp. Def\", \"Sp. Def\", \"Sp. Def\", \"Sp. Def\", \"Sp. Def\", \"Sp. Def\", \"Sp. Def\", \"Sp. Def\", \"Sp. Def\", \"Sp. Def\", \"Sp. Def\", \"Sp. Def\", \"Sp. Def\", \"Sp. Def\", \"Sp. Def\", \"Sp. Def\", \"Sp. Def\", \"Sp. Def\", \"Sp. Def\", \"Sp. Def\", \"Sp. Def\", \"Speed\", \"Speed\", \"Speed\", \"Speed\", \"Speed\", \"Speed\", \"Speed\", \"Speed\", \"Speed\", \"Speed\", \"Speed\", \"Speed\", \"Speed\", \"Speed\", \"Speed\", \"Speed\", \"Speed\", \"Speed\", \"Speed\", \"Speed\", \"Speed\", \"Speed\", \"Speed\", \"Speed\", \"Speed\", \"Speed\", \"Speed\", \"Speed\", \"Speed\", \"Speed\", \"Speed\", \"Speed\", \"Speed\", \"Speed\", \"Speed\", \"Speed\", \"Speed\", \"Speed\", \"Speed\", \"Speed\", \"Speed\", \"Speed\", \"Speed\", \"Speed\", \"Speed\", \"Speed\", \"Speed\", \"Speed\", \"Speed\", \"Speed\", \"Speed\", \"Speed\", \"Speed\", \"Speed\", \"Speed\", \"Speed\", \"Speed\", \"Speed\", \"Speed\", \"Speed\", \"Speed\", \"Speed\", \"Speed\", \"Speed\", \"Speed\", \"Speed\", \"Speed\", \"Speed\", \"Speed\", \"Speed\", \"Speed\", \"Speed\", \"Speed\", \"Speed\", \"Speed\", \"Speed\", \"Speed\", \"Speed\", \"Speed\", \"Speed\", \"Speed\", \"Speed\", \"Speed\", \"Speed\", \"Speed\", \"Speed\", \"Speed\", \"Speed\", \"Speed\", \"Speed\", \"Speed\", \"Speed\", \"Speed\", \"Speed\", \"Speed\", \"Speed\", \"Speed\", \"Speed\", \"Speed\", \"Speed\", \"Speed\", \"Speed\", \"Speed\", \"Speed\", \"Speed\", \"Speed\", \"Speed\", \"Speed\", \"Speed\", \"Speed\", \"Speed\", \"Speed\", \"Speed\", \"Speed\", \"Speed\", \"Speed\", \"Speed\", \"Speed\", \"Speed\", \"Speed\", \"Speed\", \"Speed\", \"Speed\", \"Speed\", \"Speed\", \"Speed\", \"Speed\", \"Speed\", \"Speed\", \"Speed\", \"Speed\", \"Speed\", \"Speed\", \"Speed\", \"Speed\", \"Speed\", \"Speed\", \"Speed\", \"Speed\", \"Speed\", \"Speed\", \"Speed\", \"Speed\", \"Speed\", \"Speed\", \"Speed\", \"Speed\", \"Speed\", \"Speed\", \"Speed\", \"Speed\"], \"x0\": \" \", \"xaxis\": \"x\", \"y\": [45, 60, 80, 39, 58, 78, 44, 59, 79, 45, 50, 60, 40, 45, 65, 40, 63, 83, 30, 55, 40, 65, 35, 60, 35, 60, 50, 75, 55, 70, 90, 46, 61, 81, 70, 95, 38, 73, 115, 140, 40, 75, 45, 60, 75, 35, 60, 60, 70, 10, 35, 40, 65, 50, 80, 40, 65, 55, 90, 40, 65, 90, 25, 40, 55, 70, 80, 90, 50, 65, 80, 40, 80, 40, 55, 80, 50, 65, 90, 95, 25, 50, 52, 35, 60, 65, 90, 80, 105, 30, 50, 30, 45, 60, 35, 60, 85, 30, 55, 40, 60, 60, 95, 50, 60, 50, 50, 90, 40, 65, 80, 105, 250, 65, 105, 30, 55, 45, 80, 30, 60, 40, 70, 65, 65, 65, 65, 75, 20, 95, 130, 48, 55, 130, 65, 65, 65, 35, 70, 30, 60, 80, 160, 90, 90, 90, 41, 61, 91, 106, 100, 49, 62, 82, 52, 64, 84, 48, 63, 83, 30, 20, 45, 35, 25, 90, 45, 60, 80, 56, 81, 60, 90, 60, 85, 55, 90, 75, 100, 47, 62, 92, 57, 72, 102, 45, 70, 41, 76, 45, 70, 45, 80, 50, 65, 80, 70, 95, 55, 65, 55, 80, 45, 70, 52, 82, 80, 105, 70, 110, 50, 65, 95, 20, 35, 50, 80, 100, 130, 75, 90, 105, 40, 70, 80, 95, 120, 85, 100, 65, 75, 35, 60, 65, 85, 110, 45, 70, 80, 105, 65, 95, 35, 50, 65, 45, 48, 73, 105, 130, 30, 50, 40, 95, 50, 80, 120, 105, 55, 65, 90, 85, 130, 5, 55, 95, 40, 65, 67, 92, 45, 75, 45, 110, 50, 83, 95, 125, 100, 10, 125, 85, 48, 55, 65, 65, 130, 60, 40, 60, 80, 115, 105, 110, 85, 90, 100, 64, 84, 134, 110, 100, 49, 63, 83, 43, 58, 78, 65, 80, 100, 35, 55, 50, 30, 50, 40, 40, 55, 75, 35, 60, 30, 65, 44, 69, 40, 55, 85, 110, 52, 67, 87, 40, 57, 77, 48, 73, 40, 75, 20, 45, 35, 70, 55, 70, 85, 55, 80, 50, 60, 25, 50, 35, 60, 48, 78, 35, 60, 45, 80, 40, 65, 95, 15, 30, 45, 50, 70, 80, 35, 50, 65, 35, 65, 100, 115, 130, 55, 70, 65, 110, 70, 95, 55, 45, 70, 55, 80, 50, 75, 100, 180, 30, 45, 60, 160, 45, 70, 90, 115, 50, 70, 80, 85, 95, 110, 53, 79, 75, 95, 120, 95, 120, 5, 115, 80, 70, 95, 60, 65, 55, 85, 65, 80, 35, 57, 57, 100, 95, 55, 79, 80, 48, 50, 60, 60, 60, 70, 100, 125, 90, 105, 65, 65, 100, 85, 90, 45, 65, 95, 90, 100, 65, 80, 100, 60, 80, 109, 50, 65, 85, 20, 25, 90, 20, 25, 45, 35, 50, 70, 25, 50, 31, 61, 40, 65, 50, 90, 20, 45, 40, 55, 75, 40, 55, 85, 60, 95, 50, 81, 45, 85, 30, 65, 75, 85, 110, 45, 60, 40, 90, 35, 50, 40, 65, 65, 95, 35, 60, 70, 100, 40, 50, 70, 105, 120, 135, 35, 50, 65, 70, 85, 100, 50, 80, 30, 45, 55, 65, 80, 40, 100, 95, 120, 58, 35, 60, 45, 70, 40, 65, 45, 85, 100, 115, 130, 30, 43, 73, 25, 50, 55, 80, 60, 125, 40, 50, 35, 35, 60, 60, 85, 30, 45, 35, 100, 40, 70, 95, 35, 65, 70, 100, 100, 55, 115, 95, 100, 55, 40, 15, 60, 85, 48, 45, 110, 110, 95, 85, 90, 115, 55, 65, 60, 65, 95, 125, 125, 50, 70, 100, 154, 100, 65, 80, 100, 50, 65, 85, 64, 80, 105, 20, 25, 80, 20, 25, 80, 35, 50, 70, 35, 70, 31, 61, 54, 79, 50, 80, 30, 55, 40, 55, 85, 40, 55, 75, 65, 90, 65, 100, 25, 50, 40, 75, 65, 75, 90, 55, 80, 55, 75, 45, 70, 40, 65, 50, 80, 45, 70, 50, 80, 40, 50, 90, 55, 70, 95, 35, 60, 85, 30, 45, 70, 100, 120, 30, 45, 65, 65, 80, 40, 80, 55, 70, 62, 35, 60, 70, 95, 50, 100, 25, 45, 35, 55, 75, 45, 90, 115, 25, 50, 55, 80, 45, 65, 50, 80, 110, 110, 75, 45, 70, 30, 45, 105, 40, 80, 25, 45, 50, 80, 55, 85, 120, 80, 95, 85, 85, 70, 70, 20, 100, 95, 48, 65, 95, 95, 110, 75, 55, 70, 45, 70, 75, 110, 125, 90, 85, 50, 70, 100, 90, 100, 45, 60, 80, 65, 80, 100, 43, 58, 78, 45, 30, 70, 50, 35, 75, 56, 71, 101, 72, 97, 70, 100, 55, 80, 90, 110, 40, 65, 41, 56, 76, 50, 65, 85, 35, 60, 65, 100, 20, 45, 55, 90, 30, 40, 50, 25, 30, 45, 90, 95, 120, 90, 115, 55, 85, 70, 95, 60, 95, 90, 90, 70, 90, 105, 120, 35, 45, 55, 40, 55, 70, 70, 100, 20, 35, 45, 90, 105, 15, 30, 45, 70, 60, 75, 100, 45, 70, 25, 50, 40, 70, 80, 95, 110, 70, 42, 67, 50, 75, 100, 140, 40, 55, 35, 45, 87, 76, 30, 35, 60, 25, 40, 50, 60, 90, 60, 85, 63, 68, 85, 115, 90, 105, 95, 105, 93, 85, 110, 80, 81, 60, 48, 55, 65, 130, 65, 40, 35, 55, 55, 80, 130, 30, 85, 100, 90, 50, 70, 80, 130, 100], \"y0\": \" \", \"yaxis\": \"y\"}],                        {\"boxmode\": \"group\", \"legend\": {\"tracegroupgap\": 0}, \"margin\": {\"t\": 60}, \"template\": {\"data\": {\"bar\": [{\"error_x\": {\"color\": \"#2a3f5f\"}, \"error_y\": {\"color\": \"#2a3f5f\"}, \"marker\": {\"line\": {\"color\": \"#E5ECF6\", \"width\": 0.5}}, \"type\": \"bar\"}], \"barpolar\": [{\"marker\": {\"line\": {\"color\": \"#E5ECF6\", \"width\": 0.5}}, \"type\": \"barpolar\"}], \"carpet\": [{\"aaxis\": {\"endlinecolor\": \"#2a3f5f\", \"gridcolor\": \"white\", \"linecolor\": \"white\", \"minorgridcolor\": \"white\", \"startlinecolor\": \"#2a3f5f\"}, \"baxis\": {\"endlinecolor\": \"#2a3f5f\", \"gridcolor\": \"white\", \"linecolor\": \"white\", \"minorgridcolor\": \"white\", \"startlinecolor\": \"#2a3f5f\"}, \"type\": \"carpet\"}], \"choropleth\": [{\"colorbar\": {\"outlinewidth\": 0, \"ticks\": \"\"}, \"type\": \"choropleth\"}], \"contour\": [{\"colorbar\": {\"outlinewidth\": 0, \"ticks\": \"\"}, \"colorscale\": [[0.0, \"#0d0887\"], [0.1111111111111111, \"#46039f\"], [0.2222222222222222, \"#7201a8\"], [0.3333333333333333, \"#9c179e\"], [0.4444444444444444, \"#bd3786\"], [0.5555555555555556, \"#d8576b\"], [0.6666666666666666, \"#ed7953\"], [0.7777777777777778, \"#fb9f3a\"], [0.8888888888888888, \"#fdca26\"], [1.0, \"#f0f921\"]], \"type\": \"contour\"}], \"contourcarpet\": [{\"colorbar\": {\"outlinewidth\": 0, \"ticks\": \"\"}, \"type\": \"contourcarpet\"}], \"heatmap\": [{\"colorbar\": {\"outlinewidth\": 0, \"ticks\": \"\"}, \"colorscale\": [[0.0, \"#0d0887\"], [0.1111111111111111, \"#46039f\"], [0.2222222222222222, \"#7201a8\"], [0.3333333333333333, \"#9c179e\"], [0.4444444444444444, \"#bd3786\"], [0.5555555555555556, \"#d8576b\"], [0.6666666666666666, \"#ed7953\"], [0.7777777777777778, \"#fb9f3a\"], [0.8888888888888888, \"#fdca26\"], [1.0, \"#f0f921\"]], \"type\": \"heatmap\"}], \"heatmapgl\": [{\"colorbar\": {\"outlinewidth\": 0, \"ticks\": \"\"}, \"colorscale\": [[0.0, \"#0d0887\"], [0.1111111111111111, \"#46039f\"], [0.2222222222222222, \"#7201a8\"], [0.3333333333333333, \"#9c179e\"], [0.4444444444444444, \"#bd3786\"], [0.5555555555555556, \"#d8576b\"], [0.6666666666666666, \"#ed7953\"], [0.7777777777777778, \"#fb9f3a\"], [0.8888888888888888, \"#fdca26\"], [1.0, \"#f0f921\"]], \"type\": \"heatmapgl\"}], \"histogram\": [{\"marker\": {\"colorbar\": {\"outlinewidth\": 0, \"ticks\": \"\"}}, \"type\": \"histogram\"}], \"histogram2d\": [{\"colorbar\": {\"outlinewidth\": 0, \"ticks\": \"\"}, \"colorscale\": [[0.0, \"#0d0887\"], [0.1111111111111111, \"#46039f\"], [0.2222222222222222, \"#7201a8\"], [0.3333333333333333, \"#9c179e\"], [0.4444444444444444, \"#bd3786\"], [0.5555555555555556, \"#d8576b\"], [0.6666666666666666, \"#ed7953\"], [0.7777777777777778, \"#fb9f3a\"], [0.8888888888888888, \"#fdca26\"], [1.0, \"#f0f921\"]], \"type\": \"histogram2d\"}], \"histogram2dcontour\": [{\"colorbar\": {\"outlinewidth\": 0, \"ticks\": \"\"}, \"colorscale\": [[0.0, \"#0d0887\"], [0.1111111111111111, \"#46039f\"], [0.2222222222222222, \"#7201a8\"], [0.3333333333333333, \"#9c179e\"], [0.4444444444444444, \"#bd3786\"], [0.5555555555555556, \"#d8576b\"], [0.6666666666666666, \"#ed7953\"], [0.7777777777777778, \"#fb9f3a\"], [0.8888888888888888, \"#fdca26\"], [1.0, \"#f0f921\"]], \"type\": \"histogram2dcontour\"}], \"mesh3d\": [{\"colorbar\": {\"outlinewidth\": 0, \"ticks\": \"\"}, \"type\": \"mesh3d\"}], \"parcoords\": [{\"line\": {\"colorbar\": {\"outlinewidth\": 0, \"ticks\": \"\"}}, \"type\": \"parcoords\"}], \"pie\": [{\"automargin\": true, \"type\": \"pie\"}], \"scatter\": [{\"marker\": {\"colorbar\": {\"outlinewidth\": 0, \"ticks\": \"\"}}, \"type\": \"scatter\"}], \"scatter3d\": [{\"line\": {\"colorbar\": {\"outlinewidth\": 0, \"ticks\": \"\"}}, \"marker\": {\"colorbar\": {\"outlinewidth\": 0, \"ticks\": \"\"}}, \"type\": \"scatter3d\"}], \"scattercarpet\": [{\"marker\": {\"colorbar\": {\"outlinewidth\": 0, \"ticks\": \"\"}}, \"type\": \"scattercarpet\"}], \"scattergeo\": [{\"marker\": {\"colorbar\": {\"outlinewidth\": 0, \"ticks\": \"\"}}, \"type\": \"scattergeo\"}], \"scattergl\": [{\"marker\": {\"colorbar\": {\"outlinewidth\": 0, \"ticks\": \"\"}}, \"type\": \"scattergl\"}], \"scattermapbox\": [{\"marker\": {\"colorbar\": {\"outlinewidth\": 0, \"ticks\": \"\"}}, \"type\": \"scattermapbox\"}], \"scatterpolar\": [{\"marker\": {\"colorbar\": {\"outlinewidth\": 0, \"ticks\": \"\"}}, \"type\": \"scatterpolar\"}], \"scatterpolargl\": [{\"marker\": {\"colorbar\": {\"outlinewidth\": 0, \"ticks\": \"\"}}, \"type\": \"scatterpolargl\"}], \"scatterternary\": [{\"marker\": {\"colorbar\": {\"outlinewidth\": 0, \"ticks\": \"\"}}, \"type\": \"scatterternary\"}], \"surface\": [{\"colorbar\": {\"outlinewidth\": 0, \"ticks\": \"\"}, \"colorscale\": [[0.0, \"#0d0887\"], [0.1111111111111111, \"#46039f\"], [0.2222222222222222, \"#7201a8\"], [0.3333333333333333, \"#9c179e\"], [0.4444444444444444, \"#bd3786\"], [0.5555555555555556, \"#d8576b\"], [0.6666666666666666, \"#ed7953\"], [0.7777777777777778, \"#fb9f3a\"], [0.8888888888888888, \"#fdca26\"], [1.0, \"#f0f921\"]], \"type\": \"surface\"}], \"table\": [{\"cells\": {\"fill\": {\"color\": \"#EBF0F8\"}, \"line\": {\"color\": \"white\"}}, \"header\": {\"fill\": {\"color\": \"#C8D4E3\"}, \"line\": {\"color\": \"white\"}}, \"type\": \"table\"}]}, \"layout\": {\"annotationdefaults\": {\"arrowcolor\": \"#2a3f5f\", \"arrowhead\": 0, \"arrowwidth\": 1}, \"autotypenumbers\": \"strict\", \"coloraxis\": {\"colorbar\": {\"outlinewidth\": 0, \"ticks\": \"\"}}, \"colorscale\": {\"diverging\": [[0, \"#8e0152\"], [0.1, \"#c51b7d\"], [0.2, \"#de77ae\"], [0.3, \"#f1b6da\"], [0.4, \"#fde0ef\"], [0.5, \"#f7f7f7\"], [0.6, \"#e6f5d0\"], [0.7, \"#b8e186\"], [0.8, \"#7fbc41\"], [0.9, \"#4d9221\"], [1, \"#276419\"]], \"sequential\": [[0.0, \"#0d0887\"], [0.1111111111111111, \"#46039f\"], [0.2222222222222222, \"#7201a8\"], [0.3333333333333333, \"#9c179e\"], [0.4444444444444444, \"#bd3786\"], [0.5555555555555556, \"#d8576b\"], [0.6666666666666666, \"#ed7953\"], [0.7777777777777778, \"#fb9f3a\"], [0.8888888888888888, \"#fdca26\"], [1.0, \"#f0f921\"]], \"sequentialminus\": [[0.0, \"#0d0887\"], [0.1111111111111111, \"#46039f\"], [0.2222222222222222, \"#7201a8\"], [0.3333333333333333, \"#9c179e\"], [0.4444444444444444, \"#bd3786\"], [0.5555555555555556, \"#d8576b\"], [0.6666666666666666, \"#ed7953\"], [0.7777777777777778, \"#fb9f3a\"], [0.8888888888888888, \"#fdca26\"], [1.0, \"#f0f921\"]]}, \"colorway\": [\"#636efa\", \"#EF553B\", \"#00cc96\", \"#ab63fa\", \"#FFA15A\", \"#19d3f3\", \"#FF6692\", \"#B6E880\", \"#FF97FF\", \"#FECB52\"], \"font\": {\"color\": \"#2a3f5f\"}, \"geo\": {\"bgcolor\": \"white\", \"lakecolor\": \"white\", \"landcolor\": \"#E5ECF6\", \"showlakes\": true, \"showland\": true, \"subunitcolor\": \"white\"}, \"hoverlabel\": {\"align\": \"left\"}, \"hovermode\": \"closest\", \"mapbox\": {\"style\": \"light\"}, \"paper_bgcolor\": \"white\", \"plot_bgcolor\": \"#E5ECF6\", \"polar\": {\"angularaxis\": {\"gridcolor\": \"white\", \"linecolor\": \"white\", \"ticks\": \"\"}, \"bgcolor\": \"#E5ECF6\", \"radialaxis\": {\"gridcolor\": \"white\", \"linecolor\": \"white\", \"ticks\": \"\"}}, \"scene\": {\"xaxis\": {\"backgroundcolor\": \"#E5ECF6\", \"gridcolor\": \"white\", \"gridwidth\": 2, \"linecolor\": \"white\", \"showbackground\": true, \"ticks\": \"\", \"zerolinecolor\": \"white\"}, \"yaxis\": {\"backgroundcolor\": \"#E5ECF6\", \"gridcolor\": \"white\", \"gridwidth\": 2, \"linecolor\": \"white\", \"showbackground\": true, \"ticks\": \"\", \"zerolinecolor\": \"white\"}, \"zaxis\": {\"backgroundcolor\": \"#E5ECF6\", \"gridcolor\": \"white\", \"gridwidth\": 2, \"linecolor\": \"white\", \"showbackground\": true, \"ticks\": \"\", \"zerolinecolor\": \"white\"}}, \"shapedefaults\": {\"line\": {\"color\": \"#2a3f5f\"}}, \"ternary\": {\"aaxis\": {\"gridcolor\": \"white\", \"linecolor\": \"white\", \"ticks\": \"\"}, \"baxis\": {\"gridcolor\": \"white\", \"linecolor\": \"white\", \"ticks\": \"\"}, \"bgcolor\": \"#E5ECF6\", \"caxis\": {\"gridcolor\": \"white\", \"linecolor\": \"white\", \"ticks\": \"\"}}, \"title\": {\"x\": 0.05}, \"xaxis\": {\"automargin\": true, \"gridcolor\": \"white\", \"linecolor\": \"white\", \"ticks\": \"\", \"title\": {\"standoff\": 15}, \"zerolinecolor\": \"white\", \"zerolinewidth\": 2}, \"yaxis\": {\"automargin\": true, \"gridcolor\": \"white\", \"linecolor\": \"white\", \"ticks\": \"\", \"title\": {\"standoff\": 15}, \"zerolinecolor\": \"white\", \"zerolinewidth\": 2}}}, \"xaxis\": {\"anchor\": \"y\", \"domain\": [0.0, 1.0], \"title\": {\"text\": \"variable\"}}, \"yaxis\": {\"anchor\": \"x\", \"domain\": [0.0, 1.0], \"title\": {\"text\": \"value\"}}},                        {\"responsive\": true}                    ).then(function(){\n",
       "                            \n",
       "var gd = document.getElementById('1bd47929-8597-4f43-95c0-e7a1b8d788f4');\n",
       "var x = new MutationObserver(function (mutations, observer) {{\n",
       "        var display = window.getComputedStyle(gd).display;\n",
       "        if (!display || display === 'none') {{\n",
       "            console.log([gd, 'removed!']);\n",
       "            Plotly.purge(gd);\n",
       "            observer.disconnect();\n",
       "        }}\n",
       "}});\n",
       "\n",
       "// Listen for the removal of the full notebook cells\n",
       "var notebookContainer = gd.closest('#notebook-container');\n",
       "if (notebookContainer) {{\n",
       "    x.observe(notebookContainer, {childList: true});\n",
       "}}\n",
       "\n",
       "// Listen for the clearing of the current output cell\n",
       "var outputEl = gd.closest('.output');\n",
       "if (outputEl) {{\n",
       "    x.observe(outputEl, {childList: true});\n",
       "}}\n",
       "\n",
       "                        })                };                });            </script>        </div>"
      ]
     },
     "metadata": {},
     "output_type": "display_data"
    }
   ],
   "source": [
    "df_copy = df.drop(['Name', 'Type 1', 'Type 2', 'Total', 'Stage', 'Legendary'], axis = 1)\n",
    "                   \n",
    "fig =  px.box(df_copy)\n",
    "fig.show()"
   ]
  },
  {
   "cell_type": "code",
   "execution_count": 19,
   "metadata": {},
   "outputs": [
    {
     "data": {
      "application/vnd.plotly.v1+json": {
       "config": {
        "plotlyServerURL": "https://plot.ly"
       },
       "data": [
        {
         "alignmentgroup": "True",
         "box": {
          "visible": false
         },
         "hovertemplate": "variable=%{x}<br>value=%{y}<extra></extra>",
         "legendgroup": "",
         "marker": {
          "color": "#636efa"
         },
         "name": "",
         "offsetgroup": "",
         "orientation": "v",
         "scalegroup": "True",
         "showlegend": false,
         "type": "violin",
         "x": [
          "HP",
          "HP",
          "HP",
          "HP",
          "HP",
          "HP",
          "HP",
          "HP",
          "HP",
          "HP",
          "HP",
          "HP",
          "HP",
          "HP",
          "HP",
          "HP",
          "HP",
          "HP",
          "HP",
          "HP",
          "HP",
          "HP",
          "HP",
          "HP",
          "HP",
          "HP",
          "HP",
          "HP",
          "HP",
          "HP",
          "HP",
          "HP",
          "HP",
          "HP",
          "HP",
          "HP",
          "HP",
          "HP",
          "HP",
          "HP",
          "HP",
          "HP",
          "HP",
          "HP",
          "HP",
          "HP",
          "HP",
          "HP",
          "HP",
          "HP",
          "HP",
          "HP",
          "HP",
          "HP",
          "HP",
          "HP",
          "HP",
          "HP",
          "HP",
          "HP",
          "HP",
          "HP",
          "HP",
          "HP",
          "HP",
          "HP",
          "HP",
          "HP",
          "HP",
          "HP",
          "HP",
          "HP",
          "HP",
          "HP",
          "HP",
          "HP",
          "HP",
          "HP",
          "HP",
          "HP",
          "HP",
          "HP",
          "HP",
          "HP",
          "HP",
          "HP",
          "HP",
          "HP",
          "HP",
          "HP",
          "HP",
          "HP",
          "HP",
          "HP",
          "HP",
          "HP",
          "HP",
          "HP",
          "HP",
          "HP",
          "HP",
          "HP",
          "HP",
          "HP",
          "HP",
          "HP",
          "HP",
          "HP",
          "HP",
          "HP",
          "HP",
          "HP",
          "HP",
          "HP",
          "HP",
          "HP",
          "HP",
          "HP",
          "HP",
          "HP",
          "HP",
          "HP",
          "HP",
          "HP",
          "HP",
          "HP",
          "HP",
          "HP",
          "HP",
          "HP",
          "HP",
          "HP",
          "HP",
          "HP",
          "HP",
          "HP",
          "HP",
          "HP",
          "HP",
          "HP",
          "HP",
          "HP",
          "HP",
          "HP",
          "HP",
          "HP",
          "HP",
          "HP",
          "HP",
          "HP",
          "HP",
          "Attack",
          "Attack",
          "Attack",
          "Attack",
          "Attack",
          "Attack",
          "Attack",
          "Attack",
          "Attack",
          "Attack",
          "Attack",
          "Attack",
          "Attack",
          "Attack",
          "Attack",
          "Attack",
          "Attack",
          "Attack",
          "Attack",
          "Attack",
          "Attack",
          "Attack",
          "Attack",
          "Attack",
          "Attack",
          "Attack",
          "Attack",
          "Attack",
          "Attack",
          "Attack",
          "Attack",
          "Attack",
          "Attack",
          "Attack",
          "Attack",
          "Attack",
          "Attack",
          "Attack",
          "Attack",
          "Attack",
          "Attack",
          "Attack",
          "Attack",
          "Attack",
          "Attack",
          "Attack",
          "Attack",
          "Attack",
          "Attack",
          "Attack",
          "Attack",
          "Attack",
          "Attack",
          "Attack",
          "Attack",
          "Attack",
          "Attack",
          "Attack",
          "Attack",
          "Attack",
          "Attack",
          "Attack",
          "Attack",
          "Attack",
          "Attack",
          "Attack",
          "Attack",
          "Attack",
          "Attack",
          "Attack",
          "Attack",
          "Attack",
          "Attack",
          "Attack",
          "Attack",
          "Attack",
          "Attack",
          "Attack",
          "Attack",
          "Attack",
          "Attack",
          "Attack",
          "Attack",
          "Attack",
          "Attack",
          "Attack",
          "Attack",
          "Attack",
          "Attack",
          "Attack",
          "Attack",
          "Attack",
          "Attack",
          "Attack",
          "Attack",
          "Attack",
          "Attack",
          "Attack",
          "Attack",
          "Attack",
          "Attack",
          "Attack",
          "Attack",
          "Attack",
          "Attack",
          "Attack",
          "Attack",
          "Attack",
          "Attack",
          "Attack",
          "Attack",
          "Attack",
          "Attack",
          "Attack",
          "Attack",
          "Attack",
          "Attack",
          "Attack",
          "Attack",
          "Attack",
          "Attack",
          "Attack",
          "Attack",
          "Attack",
          "Attack",
          "Attack",
          "Attack",
          "Attack",
          "Attack",
          "Attack",
          "Attack",
          "Attack",
          "Attack",
          "Attack",
          "Attack",
          "Attack",
          "Attack",
          "Attack",
          "Attack",
          "Attack",
          "Attack",
          "Attack",
          "Attack",
          "Attack",
          "Attack",
          "Attack",
          "Attack",
          "Attack",
          "Attack",
          "Attack",
          "Attack",
          "Defense",
          "Defense",
          "Defense",
          "Defense",
          "Defense",
          "Defense",
          "Defense",
          "Defense",
          "Defense",
          "Defense",
          "Defense",
          "Defense",
          "Defense",
          "Defense",
          "Defense",
          "Defense",
          "Defense",
          "Defense",
          "Defense",
          "Defense",
          "Defense",
          "Defense",
          "Defense",
          "Defense",
          "Defense",
          "Defense",
          "Defense",
          "Defense",
          "Defense",
          "Defense",
          "Defense",
          "Defense",
          "Defense",
          "Defense",
          "Defense",
          "Defense",
          "Defense",
          "Defense",
          "Defense",
          "Defense",
          "Defense",
          "Defense",
          "Defense",
          "Defense",
          "Defense",
          "Defense",
          "Defense",
          "Defense",
          "Defense",
          "Defense",
          "Defense",
          "Defense",
          "Defense",
          "Defense",
          "Defense",
          "Defense",
          "Defense",
          "Defense",
          "Defense",
          "Defense",
          "Defense",
          "Defense",
          "Defense",
          "Defense",
          "Defense",
          "Defense",
          "Defense",
          "Defense",
          "Defense",
          "Defense",
          "Defense",
          "Defense",
          "Defense",
          "Defense",
          "Defense",
          "Defense",
          "Defense",
          "Defense",
          "Defense",
          "Defense",
          "Defense",
          "Defense",
          "Defense",
          "Defense",
          "Defense",
          "Defense",
          "Defense",
          "Defense",
          "Defense",
          "Defense",
          "Defense",
          "Defense",
          "Defense",
          "Defense",
          "Defense",
          "Defense",
          "Defense",
          "Defense",
          "Defense",
          "Defense",
          "Defense",
          "Defense",
          "Defense",
          "Defense",
          "Defense",
          "Defense",
          "Defense",
          "Defense",
          "Defense",
          "Defense",
          "Defense",
          "Defense",
          "Defense",
          "Defense",
          "Defense",
          "Defense",
          "Defense",
          "Defense",
          "Defense",
          "Defense",
          "Defense",
          "Defense",
          "Defense",
          "Defense",
          "Defense",
          "Defense",
          "Defense",
          "Defense",
          "Defense",
          "Defense",
          "Defense",
          "Defense",
          "Defense",
          "Defense",
          "Defense",
          "Defense",
          "Defense",
          "Defense",
          "Defense",
          "Defense",
          "Defense",
          "Defense",
          "Defense",
          "Defense",
          "Defense",
          "Defense",
          "Defense",
          "Defense",
          "Defense",
          "Defense",
          "Defense",
          "Sp. Atk",
          "Sp. Atk",
          "Sp. Atk",
          "Sp. Atk",
          "Sp. Atk",
          "Sp. Atk",
          "Sp. Atk",
          "Sp. Atk",
          "Sp. Atk",
          "Sp. Atk",
          "Sp. Atk",
          "Sp. Atk",
          "Sp. Atk",
          "Sp. Atk",
          "Sp. Atk",
          "Sp. Atk",
          "Sp. Atk",
          "Sp. Atk",
          "Sp. Atk",
          "Sp. Atk",
          "Sp. Atk",
          "Sp. Atk",
          "Sp. Atk",
          "Sp. Atk",
          "Sp. Atk",
          "Sp. Atk",
          "Sp. Atk",
          "Sp. Atk",
          "Sp. Atk",
          "Sp. Atk",
          "Sp. Atk",
          "Sp. Atk",
          "Sp. Atk",
          "Sp. Atk",
          "Sp. Atk",
          "Sp. Atk",
          "Sp. Atk",
          "Sp. Atk",
          "Sp. Atk",
          "Sp. Atk",
          "Sp. Atk",
          "Sp. Atk",
          "Sp. Atk",
          "Sp. Atk",
          "Sp. Atk",
          "Sp. Atk",
          "Sp. Atk",
          "Sp. Atk",
          "Sp. Atk",
          "Sp. Atk",
          "Sp. Atk",
          "Sp. Atk",
          "Sp. Atk",
          "Sp. Atk",
          "Sp. Atk",
          "Sp. Atk",
          "Sp. Atk",
          "Sp. Atk",
          "Sp. Atk",
          "Sp. Atk",
          "Sp. Atk",
          "Sp. Atk",
          "Sp. Atk",
          "Sp. Atk",
          "Sp. Atk",
          "Sp. Atk",
          "Sp. Atk",
          "Sp. Atk",
          "Sp. Atk",
          "Sp. Atk",
          "Sp. Atk",
          "Sp. Atk",
          "Sp. Atk",
          "Sp. Atk",
          "Sp. Atk",
          "Sp. Atk",
          "Sp. Atk",
          "Sp. Atk",
          "Sp. Atk",
          "Sp. Atk",
          "Sp. Atk",
          "Sp. Atk",
          "Sp. Atk",
          "Sp. Atk",
          "Sp. Atk",
          "Sp. Atk",
          "Sp. Atk",
          "Sp. Atk",
          "Sp. Atk",
          "Sp. Atk",
          "Sp. Atk",
          "Sp. Atk",
          "Sp. Atk",
          "Sp. Atk",
          "Sp. Atk",
          "Sp. Atk",
          "Sp. Atk",
          "Sp. Atk",
          "Sp. Atk",
          "Sp. Atk",
          "Sp. Atk",
          "Sp. Atk",
          "Sp. Atk",
          "Sp. Atk",
          "Sp. Atk",
          "Sp. Atk",
          "Sp. Atk",
          "Sp. Atk",
          "Sp. Atk",
          "Sp. Atk",
          "Sp. Atk",
          "Sp. Atk",
          "Sp. Atk",
          "Sp. Atk",
          "Sp. Atk",
          "Sp. Atk",
          "Sp. Atk",
          "Sp. Atk",
          "Sp. Atk",
          "Sp. Atk",
          "Sp. Atk",
          "Sp. Atk",
          "Sp. Atk",
          "Sp. Atk",
          "Sp. Atk",
          "Sp. Atk",
          "Sp. Atk",
          "Sp. Atk",
          "Sp. Atk",
          "Sp. Atk",
          "Sp. Atk",
          "Sp. Atk",
          "Sp. Atk",
          "Sp. Atk",
          "Sp. Atk",
          "Sp. Atk",
          "Sp. Atk",
          "Sp. Atk",
          "Sp. Atk",
          "Sp. Atk",
          "Sp. Atk",
          "Sp. Atk",
          "Sp. Atk",
          "Sp. Atk",
          "Sp. Atk",
          "Sp. Atk",
          "Sp. Atk",
          "Sp. Atk",
          "Sp. Atk",
          "Sp. Atk",
          "Sp. Atk",
          "Sp. Def",
          "Sp. Def",
          "Sp. Def",
          "Sp. Def",
          "Sp. Def",
          "Sp. Def",
          "Sp. Def",
          "Sp. Def",
          "Sp. Def",
          "Sp. Def",
          "Sp. Def",
          "Sp. Def",
          "Sp. Def",
          "Sp. Def",
          "Sp. Def",
          "Sp. Def",
          "Sp. Def",
          "Sp. Def",
          "Sp. Def",
          "Sp. Def",
          "Sp. Def",
          "Sp. Def",
          "Sp. Def",
          "Sp. Def",
          "Sp. Def",
          "Sp. Def",
          "Sp. Def",
          "Sp. Def",
          "Sp. Def",
          "Sp. Def",
          "Sp. Def",
          "Sp. Def",
          "Sp. Def",
          "Sp. Def",
          "Sp. Def",
          "Sp. Def",
          "Sp. Def",
          "Sp. Def",
          "Sp. Def",
          "Sp. Def",
          "Sp. Def",
          "Sp. Def",
          "Sp. Def",
          "Sp. Def",
          "Sp. Def",
          "Sp. Def",
          "Sp. Def",
          "Sp. Def",
          "Sp. Def",
          "Sp. Def",
          "Sp. Def",
          "Sp. Def",
          "Sp. Def",
          "Sp. Def",
          "Sp. Def",
          "Sp. Def",
          "Sp. Def",
          "Sp. Def",
          "Sp. Def",
          "Sp. Def",
          "Sp. Def",
          "Sp. Def",
          "Sp. Def",
          "Sp. Def",
          "Sp. Def",
          "Sp. Def",
          "Sp. Def",
          "Sp. Def",
          "Sp. Def",
          "Sp. Def",
          "Sp. Def",
          "Sp. Def",
          "Sp. Def",
          "Sp. Def",
          "Sp. Def",
          "Sp. Def",
          "Sp. Def",
          "Sp. Def",
          "Sp. Def",
          "Sp. Def",
          "Sp. Def",
          "Sp. Def",
          "Sp. Def",
          "Sp. Def",
          "Sp. Def",
          "Sp. Def",
          "Sp. Def",
          "Sp. Def",
          "Sp. Def",
          "Sp. Def",
          "Sp. Def",
          "Sp. Def",
          "Sp. Def",
          "Sp. Def",
          "Sp. Def",
          "Sp. Def",
          "Sp. Def",
          "Sp. Def",
          "Sp. Def",
          "Sp. Def",
          "Sp. Def",
          "Sp. Def",
          "Sp. Def",
          "Sp. Def",
          "Sp. Def",
          "Sp. Def",
          "Sp. Def",
          "Sp. Def",
          "Sp. Def",
          "Sp. Def",
          "Sp. Def",
          "Sp. Def",
          "Sp. Def",
          "Sp. Def",
          "Sp. Def",
          "Sp. Def",
          "Sp. Def",
          "Sp. Def",
          "Sp. Def",
          "Sp. Def",
          "Sp. Def",
          "Sp. Def",
          "Sp. Def",
          "Sp. Def",
          "Sp. Def",
          "Sp. Def",
          "Sp. Def",
          "Sp. Def",
          "Sp. Def",
          "Sp. Def",
          "Sp. Def",
          "Sp. Def",
          "Sp. Def",
          "Sp. Def",
          "Sp. Def",
          "Sp. Def",
          "Sp. Def",
          "Sp. Def",
          "Sp. Def",
          "Sp. Def",
          "Sp. Def",
          "Sp. Def",
          "Sp. Def",
          "Sp. Def",
          "Sp. Def",
          "Sp. Def",
          "Sp. Def",
          "Sp. Def",
          "Sp. Def",
          "Sp. Def",
          "Sp. Def",
          "Speed",
          "Speed",
          "Speed",
          "Speed",
          "Speed",
          "Speed",
          "Speed",
          "Speed",
          "Speed",
          "Speed",
          "Speed",
          "Speed",
          "Speed",
          "Speed",
          "Speed",
          "Speed",
          "Speed",
          "Speed",
          "Speed",
          "Speed",
          "Speed",
          "Speed",
          "Speed",
          "Speed",
          "Speed",
          "Speed",
          "Speed",
          "Speed",
          "Speed",
          "Speed",
          "Speed",
          "Speed",
          "Speed",
          "Speed",
          "Speed",
          "Speed",
          "Speed",
          "Speed",
          "Speed",
          "Speed",
          "Speed",
          "Speed",
          "Speed",
          "Speed",
          "Speed",
          "Speed",
          "Speed",
          "Speed",
          "Speed",
          "Speed",
          "Speed",
          "Speed",
          "Speed",
          "Speed",
          "Speed",
          "Speed",
          "Speed",
          "Speed",
          "Speed",
          "Speed",
          "Speed",
          "Speed",
          "Speed",
          "Speed",
          "Speed",
          "Speed",
          "Speed",
          "Speed",
          "Speed",
          "Speed",
          "Speed",
          "Speed",
          "Speed",
          "Speed",
          "Speed",
          "Speed",
          "Speed",
          "Speed",
          "Speed",
          "Speed",
          "Speed",
          "Speed",
          "Speed",
          "Speed",
          "Speed",
          "Speed",
          "Speed",
          "Speed",
          "Speed",
          "Speed",
          "Speed",
          "Speed",
          "Speed",
          "Speed",
          "Speed",
          "Speed",
          "Speed",
          "Speed",
          "Speed",
          "Speed",
          "Speed",
          "Speed",
          "Speed",
          "Speed",
          "Speed",
          "Speed",
          "Speed",
          "Speed",
          "Speed",
          "Speed",
          "Speed",
          "Speed",
          "Speed",
          "Speed",
          "Speed",
          "Speed",
          "Speed",
          "Speed",
          "Speed",
          "Speed",
          "Speed",
          "Speed",
          "Speed",
          "Speed",
          "Speed",
          "Speed",
          "Speed",
          "Speed",
          "Speed",
          "Speed",
          "Speed",
          "Speed",
          "Speed",
          "Speed",
          "Speed",
          "Speed",
          "Speed",
          "Speed",
          "Speed",
          "Speed",
          "Speed",
          "Speed",
          "Speed",
          "Speed",
          "Speed",
          "Speed",
          "Speed",
          "Speed",
          "Speed",
          "Speed",
          "Speed"
         ],
         "x0": " ",
         "xaxis": "x",
         "y": [
          45,
          60,
          80,
          39,
          58,
          78,
          44,
          59,
          79,
          45,
          50,
          60,
          40,
          45,
          65,
          40,
          63,
          83,
          30,
          55,
          40,
          65,
          35,
          60,
          35,
          60,
          50,
          75,
          55,
          70,
          90,
          46,
          61,
          81,
          70,
          95,
          38,
          73,
          115,
          140,
          40,
          75,
          45,
          60,
          75,
          35,
          60,
          60,
          70,
          10,
          35,
          40,
          65,
          50,
          80,
          40,
          65,
          55,
          90,
          40,
          65,
          90,
          25,
          40,
          55,
          70,
          80,
          90,
          50,
          65,
          80,
          40,
          80,
          40,
          55,
          80,
          50,
          65,
          90,
          95,
          25,
          50,
          52,
          35,
          60,
          65,
          90,
          80,
          105,
          30,
          50,
          30,
          45,
          60,
          35,
          60,
          85,
          30,
          55,
          40,
          60,
          60,
          95,
          50,
          60,
          50,
          50,
          90,
          40,
          65,
          80,
          105,
          250,
          65,
          105,
          30,
          55,
          45,
          80,
          30,
          60,
          40,
          70,
          65,
          65,
          65,
          65,
          75,
          20,
          95,
          130,
          48,
          55,
          130,
          65,
          65,
          65,
          35,
          70,
          30,
          60,
          80,
          160,
          90,
          90,
          90,
          41,
          61,
          91,
          106,
          100,
          49,
          62,
          82,
          52,
          64,
          84,
          48,
          63,
          83,
          30,
          20,
          45,
          35,
          25,
          90,
          45,
          60,
          80,
          56,
          81,
          60,
          90,
          60,
          85,
          55,
          90,
          75,
          100,
          47,
          62,
          92,
          57,
          72,
          102,
          45,
          70,
          41,
          76,
          45,
          70,
          45,
          80,
          50,
          65,
          80,
          70,
          95,
          55,
          65,
          55,
          80,
          45,
          70,
          52,
          82,
          80,
          105,
          70,
          110,
          50,
          65,
          95,
          20,
          35,
          50,
          80,
          100,
          130,
          75,
          90,
          105,
          40,
          70,
          80,
          95,
          120,
          85,
          100,
          65,
          75,
          35,
          60,
          65,
          85,
          110,
          45,
          70,
          80,
          105,
          65,
          95,
          35,
          50,
          65,
          45,
          48,
          73,
          105,
          130,
          30,
          50,
          40,
          95,
          50,
          80,
          120,
          105,
          55,
          65,
          90,
          85,
          130,
          5,
          55,
          95,
          40,
          65,
          67,
          92,
          45,
          75,
          45,
          110,
          50,
          83,
          95,
          125,
          100,
          10,
          125,
          85,
          48,
          55,
          65,
          65,
          130,
          60,
          40,
          60,
          80,
          115,
          105,
          110,
          85,
          90,
          100,
          64,
          84,
          134,
          110,
          100,
          49,
          63,
          83,
          43,
          58,
          78,
          65,
          80,
          100,
          35,
          55,
          50,
          30,
          50,
          40,
          40,
          55,
          75,
          35,
          60,
          30,
          65,
          44,
          69,
          40,
          55,
          85,
          110,
          52,
          67,
          87,
          40,
          57,
          77,
          48,
          73,
          40,
          75,
          20,
          45,
          35,
          70,
          55,
          70,
          85,
          55,
          80,
          50,
          60,
          25,
          50,
          35,
          60,
          48,
          78,
          35,
          60,
          45,
          80,
          40,
          65,
          95,
          15,
          30,
          45,
          50,
          70,
          80,
          35,
          50,
          65,
          35,
          65,
          100,
          115,
          130,
          55,
          70,
          65,
          110,
          70,
          95,
          55,
          45,
          70,
          55,
          80,
          50,
          75,
          100,
          180,
          30,
          45,
          60,
          160,
          45,
          70,
          90,
          115,
          50,
          70,
          80,
          85,
          95,
          110,
          53,
          79,
          75,
          95,
          120,
          95,
          120,
          5,
          115,
          80,
          70,
          95,
          60,
          65,
          55,
          85,
          65,
          80,
          35,
          57,
          57,
          100,
          95,
          55,
          79,
          80,
          48,
          50,
          60,
          60,
          60,
          70,
          100,
          125,
          90,
          105,
          65,
          65,
          100,
          85,
          90,
          45,
          65,
          95,
          90,
          100,
          65,
          80,
          100,
          60,
          80,
          109,
          50,
          65,
          85,
          20,
          25,
          90,
          20,
          25,
          45,
          35,
          50,
          70,
          25,
          50,
          31,
          61,
          40,
          65,
          50,
          90,
          20,
          45,
          40,
          55,
          75,
          40,
          55,
          85,
          60,
          95,
          50,
          81,
          45,
          85,
          30,
          65,
          75,
          85,
          110,
          45,
          60,
          40,
          90,
          35,
          50,
          40,
          65,
          65,
          95,
          35,
          60,
          70,
          100,
          40,
          50,
          70,
          105,
          120,
          135,
          35,
          50,
          65,
          70,
          85,
          100,
          50,
          80,
          30,
          45,
          55,
          65,
          80,
          40,
          100,
          95,
          120,
          58,
          35,
          60,
          45,
          70,
          40,
          65,
          45,
          85,
          100,
          115,
          130,
          30,
          43,
          73,
          25,
          50,
          55,
          80,
          60,
          125,
          40,
          50,
          35,
          35,
          60,
          60,
          85,
          30,
          45,
          35,
          100,
          40,
          70,
          95,
          35,
          65,
          70,
          100,
          100,
          55,
          115,
          95,
          100,
          55,
          40,
          15,
          60,
          85,
          48,
          45,
          110,
          110,
          95,
          85,
          90,
          115,
          55,
          65,
          60,
          65,
          95,
          125,
          125,
          50,
          70,
          100,
          154,
          100,
          65,
          80,
          100,
          50,
          65,
          85,
          64,
          80,
          105,
          20,
          25,
          80,
          20,
          25,
          80,
          35,
          50,
          70,
          35,
          70,
          31,
          61,
          54,
          79,
          50,
          80,
          30,
          55,
          40,
          55,
          85,
          40,
          55,
          75,
          65,
          90,
          65,
          100,
          25,
          50,
          40,
          75,
          65,
          75,
          90,
          55,
          80,
          55,
          75,
          45,
          70,
          40,
          65,
          50,
          80,
          45,
          70,
          50,
          80,
          40,
          50,
          90,
          55,
          70,
          95,
          35,
          60,
          85,
          30,
          45,
          70,
          100,
          120,
          30,
          45,
          65,
          65,
          80,
          40,
          80,
          55,
          70,
          62,
          35,
          60,
          70,
          95,
          50,
          100,
          25,
          45,
          35,
          55,
          75,
          45,
          90,
          115,
          25,
          50,
          55,
          80,
          45,
          65,
          50,
          80,
          110,
          110,
          75,
          45,
          70,
          30,
          45,
          105,
          40,
          80,
          25,
          45,
          50,
          80,
          55,
          85,
          120,
          80,
          95,
          85,
          85,
          70,
          70,
          20,
          100,
          95,
          48,
          65,
          95,
          95,
          110,
          75,
          55,
          70,
          45,
          70,
          75,
          110,
          125,
          90,
          85,
          50,
          70,
          100,
          90,
          100,
          45,
          60,
          80,
          65,
          80,
          100,
          43,
          58,
          78,
          45,
          30,
          70,
          50,
          35,
          75,
          56,
          71,
          101,
          72,
          97,
          70,
          100,
          55,
          80,
          90,
          110,
          40,
          65,
          41,
          56,
          76,
          50,
          65,
          85,
          35,
          60,
          65,
          100,
          20,
          45,
          55,
          90,
          30,
          40,
          50,
          25,
          30,
          45,
          90,
          95,
          120,
          90,
          115,
          55,
          85,
          70,
          95,
          60,
          95,
          90,
          90,
          70,
          90,
          105,
          120,
          35,
          45,
          55,
          40,
          55,
          70,
          70,
          100,
          20,
          35,
          45,
          90,
          105,
          15,
          30,
          45,
          70,
          60,
          75,
          100,
          45,
          70,
          25,
          50,
          40,
          70,
          80,
          95,
          110,
          70,
          42,
          67,
          50,
          75,
          100,
          140,
          40,
          55,
          35,
          45,
          87,
          76,
          30,
          35,
          60,
          25,
          40,
          50,
          60,
          90,
          60,
          85,
          63,
          68,
          85,
          115,
          90,
          105,
          95,
          105,
          93,
          85,
          110,
          80,
          81,
          60,
          48,
          55,
          65,
          130,
          65,
          40,
          35,
          55,
          55,
          80,
          130,
          30,
          85,
          100,
          90,
          50,
          70,
          80,
          130,
          100
         ],
         "y0": " ",
         "yaxis": "y"
        }
       ],
       "layout": {
        "legend": {
         "tracegroupgap": 0
        },
        "margin": {
         "t": 60
        },
        "template": {
         "data": {
          "bar": [
           {
            "error_x": {
             "color": "#2a3f5f"
            },
            "error_y": {
             "color": "#2a3f5f"
            },
            "marker": {
             "line": {
              "color": "#E5ECF6",
              "width": 0.5
             }
            },
            "type": "bar"
           }
          ],
          "barpolar": [
           {
            "marker": {
             "line": {
              "color": "#E5ECF6",
              "width": 0.5
             }
            },
            "type": "barpolar"
           }
          ],
          "carpet": [
           {
            "aaxis": {
             "endlinecolor": "#2a3f5f",
             "gridcolor": "white",
             "linecolor": "white",
             "minorgridcolor": "white",
             "startlinecolor": "#2a3f5f"
            },
            "baxis": {
             "endlinecolor": "#2a3f5f",
             "gridcolor": "white",
             "linecolor": "white",
             "minorgridcolor": "white",
             "startlinecolor": "#2a3f5f"
            },
            "type": "carpet"
           }
          ],
          "choropleth": [
           {
            "colorbar": {
             "outlinewidth": 0,
             "ticks": ""
            },
            "type": "choropleth"
           }
          ],
          "contour": [
           {
            "colorbar": {
             "outlinewidth": 0,
             "ticks": ""
            },
            "colorscale": [
             [
              0,
              "#0d0887"
             ],
             [
              0.1111111111111111,
              "#46039f"
             ],
             [
              0.2222222222222222,
              "#7201a8"
             ],
             [
              0.3333333333333333,
              "#9c179e"
             ],
             [
              0.4444444444444444,
              "#bd3786"
             ],
             [
              0.5555555555555556,
              "#d8576b"
             ],
             [
              0.6666666666666666,
              "#ed7953"
             ],
             [
              0.7777777777777778,
              "#fb9f3a"
             ],
             [
              0.8888888888888888,
              "#fdca26"
             ],
             [
              1,
              "#f0f921"
             ]
            ],
            "type": "contour"
           }
          ],
          "contourcarpet": [
           {
            "colorbar": {
             "outlinewidth": 0,
             "ticks": ""
            },
            "type": "contourcarpet"
           }
          ],
          "heatmap": [
           {
            "colorbar": {
             "outlinewidth": 0,
             "ticks": ""
            },
            "colorscale": [
             [
              0,
              "#0d0887"
             ],
             [
              0.1111111111111111,
              "#46039f"
             ],
             [
              0.2222222222222222,
              "#7201a8"
             ],
             [
              0.3333333333333333,
              "#9c179e"
             ],
             [
              0.4444444444444444,
              "#bd3786"
             ],
             [
              0.5555555555555556,
              "#d8576b"
             ],
             [
              0.6666666666666666,
              "#ed7953"
             ],
             [
              0.7777777777777778,
              "#fb9f3a"
             ],
             [
              0.8888888888888888,
              "#fdca26"
             ],
             [
              1,
              "#f0f921"
             ]
            ],
            "type": "heatmap"
           }
          ],
          "heatmapgl": [
           {
            "colorbar": {
             "outlinewidth": 0,
             "ticks": ""
            },
            "colorscale": [
             [
              0,
              "#0d0887"
             ],
             [
              0.1111111111111111,
              "#46039f"
             ],
             [
              0.2222222222222222,
              "#7201a8"
             ],
             [
              0.3333333333333333,
              "#9c179e"
             ],
             [
              0.4444444444444444,
              "#bd3786"
             ],
             [
              0.5555555555555556,
              "#d8576b"
             ],
             [
              0.6666666666666666,
              "#ed7953"
             ],
             [
              0.7777777777777778,
              "#fb9f3a"
             ],
             [
              0.8888888888888888,
              "#fdca26"
             ],
             [
              1,
              "#f0f921"
             ]
            ],
            "type": "heatmapgl"
           }
          ],
          "histogram": [
           {
            "marker": {
             "colorbar": {
              "outlinewidth": 0,
              "ticks": ""
             }
            },
            "type": "histogram"
           }
          ],
          "histogram2d": [
           {
            "colorbar": {
             "outlinewidth": 0,
             "ticks": ""
            },
            "colorscale": [
             [
              0,
              "#0d0887"
             ],
             [
              0.1111111111111111,
              "#46039f"
             ],
             [
              0.2222222222222222,
              "#7201a8"
             ],
             [
              0.3333333333333333,
              "#9c179e"
             ],
             [
              0.4444444444444444,
              "#bd3786"
             ],
             [
              0.5555555555555556,
              "#d8576b"
             ],
             [
              0.6666666666666666,
              "#ed7953"
             ],
             [
              0.7777777777777778,
              "#fb9f3a"
             ],
             [
              0.8888888888888888,
              "#fdca26"
             ],
             [
              1,
              "#f0f921"
             ]
            ],
            "type": "histogram2d"
           }
          ],
          "histogram2dcontour": [
           {
            "colorbar": {
             "outlinewidth": 0,
             "ticks": ""
            },
            "colorscale": [
             [
              0,
              "#0d0887"
             ],
             [
              0.1111111111111111,
              "#46039f"
             ],
             [
              0.2222222222222222,
              "#7201a8"
             ],
             [
              0.3333333333333333,
              "#9c179e"
             ],
             [
              0.4444444444444444,
              "#bd3786"
             ],
             [
              0.5555555555555556,
              "#d8576b"
             ],
             [
              0.6666666666666666,
              "#ed7953"
             ],
             [
              0.7777777777777778,
              "#fb9f3a"
             ],
             [
              0.8888888888888888,
              "#fdca26"
             ],
             [
              1,
              "#f0f921"
             ]
            ],
            "type": "histogram2dcontour"
           }
          ],
          "mesh3d": [
           {
            "colorbar": {
             "outlinewidth": 0,
             "ticks": ""
            },
            "type": "mesh3d"
           }
          ],
          "parcoords": [
           {
            "line": {
             "colorbar": {
              "outlinewidth": 0,
              "ticks": ""
             }
            },
            "type": "parcoords"
           }
          ],
          "pie": [
           {
            "automargin": true,
            "type": "pie"
           }
          ],
          "scatter": [
           {
            "marker": {
             "colorbar": {
              "outlinewidth": 0,
              "ticks": ""
             }
            },
            "type": "scatter"
           }
          ],
          "scatter3d": [
           {
            "line": {
             "colorbar": {
              "outlinewidth": 0,
              "ticks": ""
             }
            },
            "marker": {
             "colorbar": {
              "outlinewidth": 0,
              "ticks": ""
             }
            },
            "type": "scatter3d"
           }
          ],
          "scattercarpet": [
           {
            "marker": {
             "colorbar": {
              "outlinewidth": 0,
              "ticks": ""
             }
            },
            "type": "scattercarpet"
           }
          ],
          "scattergeo": [
           {
            "marker": {
             "colorbar": {
              "outlinewidth": 0,
              "ticks": ""
             }
            },
            "type": "scattergeo"
           }
          ],
          "scattergl": [
           {
            "marker": {
             "colorbar": {
              "outlinewidth": 0,
              "ticks": ""
             }
            },
            "type": "scattergl"
           }
          ],
          "scattermapbox": [
           {
            "marker": {
             "colorbar": {
              "outlinewidth": 0,
              "ticks": ""
             }
            },
            "type": "scattermapbox"
           }
          ],
          "scatterpolar": [
           {
            "marker": {
             "colorbar": {
              "outlinewidth": 0,
              "ticks": ""
             }
            },
            "type": "scatterpolar"
           }
          ],
          "scatterpolargl": [
           {
            "marker": {
             "colorbar": {
              "outlinewidth": 0,
              "ticks": ""
             }
            },
            "type": "scatterpolargl"
           }
          ],
          "scatterternary": [
           {
            "marker": {
             "colorbar": {
              "outlinewidth": 0,
              "ticks": ""
             }
            },
            "type": "scatterternary"
           }
          ],
          "surface": [
           {
            "colorbar": {
             "outlinewidth": 0,
             "ticks": ""
            },
            "colorscale": [
             [
              0,
              "#0d0887"
             ],
             [
              0.1111111111111111,
              "#46039f"
             ],
             [
              0.2222222222222222,
              "#7201a8"
             ],
             [
              0.3333333333333333,
              "#9c179e"
             ],
             [
              0.4444444444444444,
              "#bd3786"
             ],
             [
              0.5555555555555556,
              "#d8576b"
             ],
             [
              0.6666666666666666,
              "#ed7953"
             ],
             [
              0.7777777777777778,
              "#fb9f3a"
             ],
             [
              0.8888888888888888,
              "#fdca26"
             ],
             [
              1,
              "#f0f921"
             ]
            ],
            "type": "surface"
           }
          ],
          "table": [
           {
            "cells": {
             "fill": {
              "color": "#EBF0F8"
             },
             "line": {
              "color": "white"
             }
            },
            "header": {
             "fill": {
              "color": "#C8D4E3"
             },
             "line": {
              "color": "white"
             }
            },
            "type": "table"
           }
          ]
         },
         "layout": {
          "annotationdefaults": {
           "arrowcolor": "#2a3f5f",
           "arrowhead": 0,
           "arrowwidth": 1
          },
          "autotypenumbers": "strict",
          "coloraxis": {
           "colorbar": {
            "outlinewidth": 0,
            "ticks": ""
           }
          },
          "colorscale": {
           "diverging": [
            [
             0,
             "#8e0152"
            ],
            [
             0.1,
             "#c51b7d"
            ],
            [
             0.2,
             "#de77ae"
            ],
            [
             0.3,
             "#f1b6da"
            ],
            [
             0.4,
             "#fde0ef"
            ],
            [
             0.5,
             "#f7f7f7"
            ],
            [
             0.6,
             "#e6f5d0"
            ],
            [
             0.7,
             "#b8e186"
            ],
            [
             0.8,
             "#7fbc41"
            ],
            [
             0.9,
             "#4d9221"
            ],
            [
             1,
             "#276419"
            ]
           ],
           "sequential": [
            [
             0,
             "#0d0887"
            ],
            [
             0.1111111111111111,
             "#46039f"
            ],
            [
             0.2222222222222222,
             "#7201a8"
            ],
            [
             0.3333333333333333,
             "#9c179e"
            ],
            [
             0.4444444444444444,
             "#bd3786"
            ],
            [
             0.5555555555555556,
             "#d8576b"
            ],
            [
             0.6666666666666666,
             "#ed7953"
            ],
            [
             0.7777777777777778,
             "#fb9f3a"
            ],
            [
             0.8888888888888888,
             "#fdca26"
            ],
            [
             1,
             "#f0f921"
            ]
           ],
           "sequentialminus": [
            [
             0,
             "#0d0887"
            ],
            [
             0.1111111111111111,
             "#46039f"
            ],
            [
             0.2222222222222222,
             "#7201a8"
            ],
            [
             0.3333333333333333,
             "#9c179e"
            ],
            [
             0.4444444444444444,
             "#bd3786"
            ],
            [
             0.5555555555555556,
             "#d8576b"
            ],
            [
             0.6666666666666666,
             "#ed7953"
            ],
            [
             0.7777777777777778,
             "#fb9f3a"
            ],
            [
             0.8888888888888888,
             "#fdca26"
            ],
            [
             1,
             "#f0f921"
            ]
           ]
          },
          "colorway": [
           "#636efa",
           "#EF553B",
           "#00cc96",
           "#ab63fa",
           "#FFA15A",
           "#19d3f3",
           "#FF6692",
           "#B6E880",
           "#FF97FF",
           "#FECB52"
          ],
          "font": {
           "color": "#2a3f5f"
          },
          "geo": {
           "bgcolor": "white",
           "lakecolor": "white",
           "landcolor": "#E5ECF6",
           "showlakes": true,
           "showland": true,
           "subunitcolor": "white"
          },
          "hoverlabel": {
           "align": "left"
          },
          "hovermode": "closest",
          "mapbox": {
           "style": "light"
          },
          "paper_bgcolor": "white",
          "plot_bgcolor": "#E5ECF6",
          "polar": {
           "angularaxis": {
            "gridcolor": "white",
            "linecolor": "white",
            "ticks": ""
           },
           "bgcolor": "#E5ECF6",
           "radialaxis": {
            "gridcolor": "white",
            "linecolor": "white",
            "ticks": ""
           }
          },
          "scene": {
           "xaxis": {
            "backgroundcolor": "#E5ECF6",
            "gridcolor": "white",
            "gridwidth": 2,
            "linecolor": "white",
            "showbackground": true,
            "ticks": "",
            "zerolinecolor": "white"
           },
           "yaxis": {
            "backgroundcolor": "#E5ECF6",
            "gridcolor": "white",
            "gridwidth": 2,
            "linecolor": "white",
            "showbackground": true,
            "ticks": "",
            "zerolinecolor": "white"
           },
           "zaxis": {
            "backgroundcolor": "#E5ECF6",
            "gridcolor": "white",
            "gridwidth": 2,
            "linecolor": "white",
            "showbackground": true,
            "ticks": "",
            "zerolinecolor": "white"
           }
          },
          "shapedefaults": {
           "line": {
            "color": "#2a3f5f"
           }
          },
          "ternary": {
           "aaxis": {
            "gridcolor": "white",
            "linecolor": "white",
            "ticks": ""
           },
           "baxis": {
            "gridcolor": "white",
            "linecolor": "white",
            "ticks": ""
           },
           "bgcolor": "#E5ECF6",
           "caxis": {
            "gridcolor": "white",
            "linecolor": "white",
            "ticks": ""
           }
          },
          "title": {
           "x": 0.05
          },
          "xaxis": {
           "automargin": true,
           "gridcolor": "white",
           "linecolor": "white",
           "ticks": "",
           "title": {
            "standoff": 15
           },
           "zerolinecolor": "white",
           "zerolinewidth": 2
          },
          "yaxis": {
           "automargin": true,
           "gridcolor": "white",
           "linecolor": "white",
           "ticks": "",
           "title": {
            "standoff": 15
           },
           "zerolinecolor": "white",
           "zerolinewidth": 2
          }
         }
        },
        "violinmode": "group",
        "xaxis": {
         "anchor": "y",
         "domain": [
          0,
          1
         ],
         "title": {
          "text": "variable"
         }
        },
        "yaxis": {
         "anchor": "x",
         "domain": [
          0,
          1
         ],
         "title": {
          "text": "value"
         }
        }
       }
      },
      "text/html": [
       "<div>                            <div id=\"1e298db8-2b43-47c7-ba9f-1e6ae224e0c4\" class=\"plotly-graph-div\" style=\"height:525px; width:100%;\"></div>            <script type=\"text/javascript\">                require([\"plotly\"], function(Plotly) {                    window.PLOTLYENV=window.PLOTLYENV || {};                                    if (document.getElementById(\"1e298db8-2b43-47c7-ba9f-1e6ae224e0c4\")) {                    Plotly.newPlot(                        \"1e298db8-2b43-47c7-ba9f-1e6ae224e0c4\",                        [{\"alignmentgroup\": \"True\", \"box\": {\"visible\": false}, \"hovertemplate\": \"variable=%{x}<br>value=%{y}<extra></extra>\", \"legendgroup\": \"\", \"marker\": {\"color\": \"#636efa\"}, \"name\": \"\", \"offsetgroup\": \"\", \"orientation\": \"v\", \"scalegroup\": \"True\", \"showlegend\": false, \"type\": \"violin\", \"x\": [\"HP\", \"HP\", \"HP\", \"HP\", \"HP\", \"HP\", \"HP\", \"HP\", \"HP\", \"HP\", \"HP\", \"HP\", \"HP\", \"HP\", \"HP\", \"HP\", \"HP\", \"HP\", \"HP\", \"HP\", \"HP\", \"HP\", \"HP\", \"HP\", \"HP\", \"HP\", \"HP\", \"HP\", \"HP\", \"HP\", \"HP\", \"HP\", \"HP\", \"HP\", \"HP\", \"HP\", \"HP\", \"HP\", \"HP\", \"HP\", \"HP\", \"HP\", \"HP\", \"HP\", \"HP\", \"HP\", \"HP\", \"HP\", \"HP\", \"HP\", \"HP\", \"HP\", \"HP\", \"HP\", \"HP\", \"HP\", \"HP\", \"HP\", \"HP\", \"HP\", \"HP\", \"HP\", \"HP\", \"HP\", \"HP\", \"HP\", \"HP\", \"HP\", \"HP\", \"HP\", \"HP\", \"HP\", \"HP\", \"HP\", \"HP\", \"HP\", \"HP\", \"HP\", \"HP\", \"HP\", \"HP\", \"HP\", \"HP\", \"HP\", \"HP\", \"HP\", \"HP\", \"HP\", \"HP\", \"HP\", \"HP\", \"HP\", \"HP\", \"HP\", \"HP\", \"HP\", \"HP\", \"HP\", \"HP\", \"HP\", \"HP\", \"HP\", \"HP\", \"HP\", \"HP\", \"HP\", \"HP\", \"HP\", \"HP\", \"HP\", \"HP\", \"HP\", \"HP\", \"HP\", \"HP\", \"HP\", \"HP\", \"HP\", \"HP\", \"HP\", \"HP\", \"HP\", \"HP\", \"HP\", \"HP\", \"HP\", \"HP\", \"HP\", \"HP\", \"HP\", \"HP\", \"HP\", \"HP\", \"HP\", \"HP\", \"HP\", \"HP\", \"HP\", \"HP\", \"HP\", \"HP\", \"HP\", \"HP\", \"HP\", \"HP\", \"HP\", \"HP\", \"HP\", \"HP\", \"HP\", \"HP\", \"Attack\", \"Attack\", \"Attack\", \"Attack\", \"Attack\", \"Attack\", \"Attack\", \"Attack\", \"Attack\", \"Attack\", \"Attack\", \"Attack\", \"Attack\", \"Attack\", \"Attack\", \"Attack\", \"Attack\", \"Attack\", \"Attack\", \"Attack\", \"Attack\", \"Attack\", \"Attack\", \"Attack\", \"Attack\", \"Attack\", \"Attack\", \"Attack\", \"Attack\", \"Attack\", \"Attack\", \"Attack\", \"Attack\", \"Attack\", \"Attack\", \"Attack\", \"Attack\", \"Attack\", \"Attack\", \"Attack\", \"Attack\", \"Attack\", \"Attack\", \"Attack\", \"Attack\", \"Attack\", \"Attack\", \"Attack\", \"Attack\", \"Attack\", \"Attack\", \"Attack\", \"Attack\", \"Attack\", \"Attack\", \"Attack\", \"Attack\", \"Attack\", \"Attack\", \"Attack\", \"Attack\", \"Attack\", \"Attack\", \"Attack\", \"Attack\", \"Attack\", \"Attack\", \"Attack\", \"Attack\", \"Attack\", \"Attack\", \"Attack\", \"Attack\", \"Attack\", \"Attack\", \"Attack\", \"Attack\", \"Attack\", \"Attack\", \"Attack\", \"Attack\", \"Attack\", \"Attack\", \"Attack\", \"Attack\", \"Attack\", \"Attack\", \"Attack\", \"Attack\", \"Attack\", \"Attack\", \"Attack\", \"Attack\", \"Attack\", \"Attack\", \"Attack\", \"Attack\", \"Attack\", \"Attack\", \"Attack\", \"Attack\", \"Attack\", \"Attack\", \"Attack\", \"Attack\", \"Attack\", \"Attack\", \"Attack\", \"Attack\", \"Attack\", \"Attack\", \"Attack\", \"Attack\", \"Attack\", \"Attack\", \"Attack\", \"Attack\", \"Attack\", \"Attack\", \"Attack\", \"Attack\", \"Attack\", \"Attack\", \"Attack\", \"Attack\", \"Attack\", \"Attack\", \"Attack\", \"Attack\", \"Attack\", \"Attack\", \"Attack\", \"Attack\", \"Attack\", \"Attack\", \"Attack\", \"Attack\", \"Attack\", \"Attack\", \"Attack\", \"Attack\", \"Attack\", \"Attack\", \"Attack\", \"Attack\", \"Attack\", \"Attack\", \"Attack\", \"Attack\", \"Attack\", \"Attack\", \"Defense\", \"Defense\", \"Defense\", \"Defense\", \"Defense\", \"Defense\", \"Defense\", \"Defense\", \"Defense\", \"Defense\", \"Defense\", \"Defense\", \"Defense\", \"Defense\", \"Defense\", \"Defense\", \"Defense\", \"Defense\", \"Defense\", \"Defense\", \"Defense\", \"Defense\", \"Defense\", \"Defense\", \"Defense\", \"Defense\", \"Defense\", \"Defense\", \"Defense\", \"Defense\", \"Defense\", \"Defense\", \"Defense\", \"Defense\", \"Defense\", \"Defense\", \"Defense\", \"Defense\", \"Defense\", \"Defense\", \"Defense\", \"Defense\", \"Defense\", \"Defense\", \"Defense\", \"Defense\", \"Defense\", \"Defense\", \"Defense\", \"Defense\", \"Defense\", \"Defense\", \"Defense\", \"Defense\", \"Defense\", \"Defense\", \"Defense\", \"Defense\", \"Defense\", \"Defense\", \"Defense\", \"Defense\", \"Defense\", \"Defense\", \"Defense\", \"Defense\", \"Defense\", \"Defense\", \"Defense\", \"Defense\", \"Defense\", \"Defense\", \"Defense\", \"Defense\", \"Defense\", \"Defense\", \"Defense\", \"Defense\", \"Defense\", \"Defense\", \"Defense\", \"Defense\", \"Defense\", \"Defense\", \"Defense\", \"Defense\", \"Defense\", \"Defense\", \"Defense\", \"Defense\", \"Defense\", \"Defense\", \"Defense\", \"Defense\", \"Defense\", \"Defense\", \"Defense\", \"Defense\", \"Defense\", \"Defense\", \"Defense\", \"Defense\", \"Defense\", \"Defense\", \"Defense\", \"Defense\", \"Defense\", \"Defense\", \"Defense\", \"Defense\", \"Defense\", \"Defense\", \"Defense\", \"Defense\", \"Defense\", \"Defense\", \"Defense\", \"Defense\", \"Defense\", \"Defense\", \"Defense\", \"Defense\", \"Defense\", \"Defense\", \"Defense\", \"Defense\", \"Defense\", \"Defense\", \"Defense\", \"Defense\", \"Defense\", \"Defense\", \"Defense\", \"Defense\", \"Defense\", \"Defense\", \"Defense\", \"Defense\", \"Defense\", \"Defense\", \"Defense\", \"Defense\", \"Defense\", \"Defense\", \"Defense\", \"Defense\", \"Defense\", \"Defense\", \"Defense\", \"Defense\", \"Defense\", \"Sp. Atk\", \"Sp. Atk\", \"Sp. Atk\", \"Sp. Atk\", \"Sp. Atk\", \"Sp. Atk\", \"Sp. Atk\", \"Sp. Atk\", \"Sp. Atk\", \"Sp. Atk\", \"Sp. Atk\", \"Sp. Atk\", \"Sp. Atk\", \"Sp. Atk\", \"Sp. Atk\", \"Sp. Atk\", \"Sp. Atk\", \"Sp. Atk\", \"Sp. Atk\", \"Sp. Atk\", \"Sp. Atk\", \"Sp. Atk\", \"Sp. Atk\", \"Sp. Atk\", \"Sp. Atk\", \"Sp. Atk\", \"Sp. Atk\", \"Sp. Atk\", \"Sp. Atk\", \"Sp. Atk\", \"Sp. Atk\", \"Sp. Atk\", \"Sp. Atk\", \"Sp. Atk\", \"Sp. Atk\", \"Sp. Atk\", \"Sp. Atk\", \"Sp. Atk\", \"Sp. Atk\", \"Sp. Atk\", \"Sp. Atk\", \"Sp. Atk\", \"Sp. Atk\", \"Sp. Atk\", \"Sp. Atk\", \"Sp. Atk\", \"Sp. Atk\", \"Sp. Atk\", \"Sp. Atk\", \"Sp. Atk\", \"Sp. Atk\", \"Sp. Atk\", \"Sp. Atk\", \"Sp. Atk\", \"Sp. Atk\", \"Sp. Atk\", \"Sp. Atk\", \"Sp. Atk\", \"Sp. Atk\", \"Sp. Atk\", \"Sp. Atk\", \"Sp. Atk\", \"Sp. Atk\", \"Sp. Atk\", \"Sp. Atk\", \"Sp. Atk\", \"Sp. Atk\", \"Sp. Atk\", \"Sp. Atk\", \"Sp. Atk\", \"Sp. Atk\", \"Sp. Atk\", \"Sp. Atk\", \"Sp. Atk\", \"Sp. Atk\", \"Sp. Atk\", \"Sp. Atk\", \"Sp. Atk\", \"Sp. Atk\", \"Sp. Atk\", \"Sp. Atk\", \"Sp. Atk\", \"Sp. Atk\", \"Sp. Atk\", \"Sp. Atk\", \"Sp. Atk\", \"Sp. Atk\", \"Sp. Atk\", \"Sp. Atk\", \"Sp. Atk\", \"Sp. Atk\", \"Sp. Atk\", \"Sp. Atk\", \"Sp. Atk\", \"Sp. Atk\", \"Sp. Atk\", \"Sp. Atk\", \"Sp. Atk\", \"Sp. Atk\", \"Sp. Atk\", \"Sp. Atk\", \"Sp. Atk\", \"Sp. Atk\", \"Sp. Atk\", \"Sp. Atk\", \"Sp. Atk\", \"Sp. Atk\", \"Sp. Atk\", \"Sp. Atk\", \"Sp. Atk\", \"Sp. Atk\", \"Sp. Atk\", \"Sp. Atk\", \"Sp. Atk\", \"Sp. Atk\", \"Sp. Atk\", \"Sp. Atk\", \"Sp. Atk\", \"Sp. Atk\", \"Sp. Atk\", \"Sp. Atk\", \"Sp. Atk\", \"Sp. Atk\", \"Sp. Atk\", \"Sp. Atk\", \"Sp. Atk\", \"Sp. Atk\", \"Sp. Atk\", \"Sp. Atk\", \"Sp. Atk\", \"Sp. Atk\", \"Sp. Atk\", \"Sp. Atk\", \"Sp. Atk\", \"Sp. Atk\", \"Sp. Atk\", \"Sp. Atk\", \"Sp. Atk\", \"Sp. Atk\", \"Sp. Atk\", \"Sp. Atk\", \"Sp. Atk\", \"Sp. Atk\", \"Sp. Atk\", \"Sp. Atk\", \"Sp. Atk\", \"Sp. Atk\", \"Sp. Atk\", \"Sp. Atk\", \"Sp. Atk\", \"Sp. Atk\", \"Sp. Def\", \"Sp. Def\", \"Sp. Def\", \"Sp. Def\", \"Sp. Def\", \"Sp. Def\", \"Sp. Def\", \"Sp. Def\", \"Sp. Def\", \"Sp. Def\", \"Sp. Def\", \"Sp. Def\", \"Sp. Def\", \"Sp. Def\", \"Sp. Def\", \"Sp. Def\", \"Sp. Def\", \"Sp. Def\", \"Sp. Def\", \"Sp. Def\", \"Sp. Def\", \"Sp. Def\", \"Sp. Def\", \"Sp. Def\", \"Sp. Def\", \"Sp. Def\", \"Sp. Def\", \"Sp. Def\", \"Sp. Def\", \"Sp. Def\", \"Sp. Def\", \"Sp. Def\", \"Sp. Def\", \"Sp. Def\", \"Sp. Def\", \"Sp. Def\", \"Sp. Def\", \"Sp. Def\", \"Sp. Def\", \"Sp. Def\", \"Sp. Def\", \"Sp. Def\", \"Sp. Def\", \"Sp. Def\", \"Sp. Def\", \"Sp. Def\", \"Sp. Def\", \"Sp. Def\", \"Sp. Def\", \"Sp. Def\", \"Sp. Def\", \"Sp. Def\", \"Sp. Def\", \"Sp. Def\", \"Sp. Def\", \"Sp. Def\", \"Sp. Def\", \"Sp. Def\", \"Sp. Def\", \"Sp. Def\", \"Sp. Def\", \"Sp. Def\", \"Sp. Def\", \"Sp. Def\", \"Sp. Def\", \"Sp. Def\", \"Sp. Def\", \"Sp. Def\", \"Sp. Def\", \"Sp. Def\", \"Sp. Def\", \"Sp. Def\", \"Sp. Def\", \"Sp. Def\", \"Sp. Def\", \"Sp. Def\", \"Sp. Def\", \"Sp. Def\", \"Sp. Def\", \"Sp. Def\", \"Sp. Def\", \"Sp. Def\", \"Sp. Def\", \"Sp. Def\", \"Sp. Def\", \"Sp. Def\", \"Sp. Def\", \"Sp. Def\", \"Sp. Def\", \"Sp. Def\", \"Sp. Def\", \"Sp. Def\", \"Sp. Def\", \"Sp. Def\", \"Sp. Def\", \"Sp. Def\", \"Sp. Def\", \"Sp. Def\", \"Sp. Def\", \"Sp. Def\", \"Sp. Def\", \"Sp. Def\", \"Sp. Def\", \"Sp. Def\", \"Sp. Def\", \"Sp. Def\", \"Sp. Def\", \"Sp. Def\", \"Sp. Def\", \"Sp. Def\", \"Sp. Def\", \"Sp. Def\", \"Sp. Def\", \"Sp. Def\", \"Sp. Def\", \"Sp. Def\", \"Sp. Def\", \"Sp. Def\", \"Sp. Def\", \"Sp. Def\", \"Sp. Def\", \"Sp. Def\", \"Sp. Def\", \"Sp. Def\", \"Sp. Def\", \"Sp. Def\", \"Sp. Def\", \"Sp. Def\", \"Sp. Def\", \"Sp. Def\", \"Sp. Def\", \"Sp. Def\", \"Sp. Def\", \"Sp. Def\", \"Sp. Def\", \"Sp. Def\", \"Sp. Def\", \"Sp. Def\", \"Sp. Def\", \"Sp. Def\", \"Sp. Def\", \"Sp. Def\", \"Sp. Def\", \"Sp. Def\", \"Sp. Def\", \"Sp. Def\", \"Sp. Def\", \"Sp. Def\", \"Sp. Def\", \"Sp. Def\", \"Sp. Def\", \"Speed\", \"Speed\", \"Speed\", \"Speed\", \"Speed\", \"Speed\", \"Speed\", \"Speed\", \"Speed\", \"Speed\", \"Speed\", \"Speed\", \"Speed\", \"Speed\", \"Speed\", \"Speed\", \"Speed\", \"Speed\", \"Speed\", \"Speed\", \"Speed\", \"Speed\", \"Speed\", \"Speed\", \"Speed\", \"Speed\", \"Speed\", \"Speed\", \"Speed\", \"Speed\", \"Speed\", \"Speed\", \"Speed\", \"Speed\", \"Speed\", \"Speed\", \"Speed\", \"Speed\", \"Speed\", \"Speed\", \"Speed\", \"Speed\", \"Speed\", \"Speed\", \"Speed\", \"Speed\", \"Speed\", \"Speed\", \"Speed\", \"Speed\", \"Speed\", \"Speed\", \"Speed\", \"Speed\", \"Speed\", \"Speed\", \"Speed\", \"Speed\", \"Speed\", \"Speed\", \"Speed\", \"Speed\", \"Speed\", \"Speed\", \"Speed\", \"Speed\", \"Speed\", \"Speed\", \"Speed\", \"Speed\", \"Speed\", \"Speed\", \"Speed\", \"Speed\", \"Speed\", \"Speed\", \"Speed\", \"Speed\", \"Speed\", \"Speed\", \"Speed\", \"Speed\", \"Speed\", \"Speed\", \"Speed\", \"Speed\", \"Speed\", \"Speed\", \"Speed\", \"Speed\", \"Speed\", \"Speed\", \"Speed\", \"Speed\", \"Speed\", \"Speed\", \"Speed\", \"Speed\", \"Speed\", \"Speed\", \"Speed\", \"Speed\", \"Speed\", \"Speed\", \"Speed\", \"Speed\", \"Speed\", \"Speed\", \"Speed\", \"Speed\", \"Speed\", \"Speed\", \"Speed\", \"Speed\", \"Speed\", \"Speed\", \"Speed\", \"Speed\", \"Speed\", \"Speed\", \"Speed\", \"Speed\", \"Speed\", \"Speed\", \"Speed\", \"Speed\", \"Speed\", \"Speed\", \"Speed\", \"Speed\", \"Speed\", \"Speed\", \"Speed\", \"Speed\", \"Speed\", \"Speed\", \"Speed\", \"Speed\", \"Speed\", \"Speed\", \"Speed\", \"Speed\", \"Speed\", \"Speed\", \"Speed\", \"Speed\", \"Speed\", \"Speed\", \"Speed\", \"Speed\", \"Speed\"], \"x0\": \" \", \"xaxis\": \"x\", \"y\": [45, 60, 80, 39, 58, 78, 44, 59, 79, 45, 50, 60, 40, 45, 65, 40, 63, 83, 30, 55, 40, 65, 35, 60, 35, 60, 50, 75, 55, 70, 90, 46, 61, 81, 70, 95, 38, 73, 115, 140, 40, 75, 45, 60, 75, 35, 60, 60, 70, 10, 35, 40, 65, 50, 80, 40, 65, 55, 90, 40, 65, 90, 25, 40, 55, 70, 80, 90, 50, 65, 80, 40, 80, 40, 55, 80, 50, 65, 90, 95, 25, 50, 52, 35, 60, 65, 90, 80, 105, 30, 50, 30, 45, 60, 35, 60, 85, 30, 55, 40, 60, 60, 95, 50, 60, 50, 50, 90, 40, 65, 80, 105, 250, 65, 105, 30, 55, 45, 80, 30, 60, 40, 70, 65, 65, 65, 65, 75, 20, 95, 130, 48, 55, 130, 65, 65, 65, 35, 70, 30, 60, 80, 160, 90, 90, 90, 41, 61, 91, 106, 100, 49, 62, 82, 52, 64, 84, 48, 63, 83, 30, 20, 45, 35, 25, 90, 45, 60, 80, 56, 81, 60, 90, 60, 85, 55, 90, 75, 100, 47, 62, 92, 57, 72, 102, 45, 70, 41, 76, 45, 70, 45, 80, 50, 65, 80, 70, 95, 55, 65, 55, 80, 45, 70, 52, 82, 80, 105, 70, 110, 50, 65, 95, 20, 35, 50, 80, 100, 130, 75, 90, 105, 40, 70, 80, 95, 120, 85, 100, 65, 75, 35, 60, 65, 85, 110, 45, 70, 80, 105, 65, 95, 35, 50, 65, 45, 48, 73, 105, 130, 30, 50, 40, 95, 50, 80, 120, 105, 55, 65, 90, 85, 130, 5, 55, 95, 40, 65, 67, 92, 45, 75, 45, 110, 50, 83, 95, 125, 100, 10, 125, 85, 48, 55, 65, 65, 130, 60, 40, 60, 80, 115, 105, 110, 85, 90, 100, 64, 84, 134, 110, 100, 49, 63, 83, 43, 58, 78, 65, 80, 100, 35, 55, 50, 30, 50, 40, 40, 55, 75, 35, 60, 30, 65, 44, 69, 40, 55, 85, 110, 52, 67, 87, 40, 57, 77, 48, 73, 40, 75, 20, 45, 35, 70, 55, 70, 85, 55, 80, 50, 60, 25, 50, 35, 60, 48, 78, 35, 60, 45, 80, 40, 65, 95, 15, 30, 45, 50, 70, 80, 35, 50, 65, 35, 65, 100, 115, 130, 55, 70, 65, 110, 70, 95, 55, 45, 70, 55, 80, 50, 75, 100, 180, 30, 45, 60, 160, 45, 70, 90, 115, 50, 70, 80, 85, 95, 110, 53, 79, 75, 95, 120, 95, 120, 5, 115, 80, 70, 95, 60, 65, 55, 85, 65, 80, 35, 57, 57, 100, 95, 55, 79, 80, 48, 50, 60, 60, 60, 70, 100, 125, 90, 105, 65, 65, 100, 85, 90, 45, 65, 95, 90, 100, 65, 80, 100, 60, 80, 109, 50, 65, 85, 20, 25, 90, 20, 25, 45, 35, 50, 70, 25, 50, 31, 61, 40, 65, 50, 90, 20, 45, 40, 55, 75, 40, 55, 85, 60, 95, 50, 81, 45, 85, 30, 65, 75, 85, 110, 45, 60, 40, 90, 35, 50, 40, 65, 65, 95, 35, 60, 70, 100, 40, 50, 70, 105, 120, 135, 35, 50, 65, 70, 85, 100, 50, 80, 30, 45, 55, 65, 80, 40, 100, 95, 120, 58, 35, 60, 45, 70, 40, 65, 45, 85, 100, 115, 130, 30, 43, 73, 25, 50, 55, 80, 60, 125, 40, 50, 35, 35, 60, 60, 85, 30, 45, 35, 100, 40, 70, 95, 35, 65, 70, 100, 100, 55, 115, 95, 100, 55, 40, 15, 60, 85, 48, 45, 110, 110, 95, 85, 90, 115, 55, 65, 60, 65, 95, 125, 125, 50, 70, 100, 154, 100, 65, 80, 100, 50, 65, 85, 64, 80, 105, 20, 25, 80, 20, 25, 80, 35, 50, 70, 35, 70, 31, 61, 54, 79, 50, 80, 30, 55, 40, 55, 85, 40, 55, 75, 65, 90, 65, 100, 25, 50, 40, 75, 65, 75, 90, 55, 80, 55, 75, 45, 70, 40, 65, 50, 80, 45, 70, 50, 80, 40, 50, 90, 55, 70, 95, 35, 60, 85, 30, 45, 70, 100, 120, 30, 45, 65, 65, 80, 40, 80, 55, 70, 62, 35, 60, 70, 95, 50, 100, 25, 45, 35, 55, 75, 45, 90, 115, 25, 50, 55, 80, 45, 65, 50, 80, 110, 110, 75, 45, 70, 30, 45, 105, 40, 80, 25, 45, 50, 80, 55, 85, 120, 80, 95, 85, 85, 70, 70, 20, 100, 95, 48, 65, 95, 95, 110, 75, 55, 70, 45, 70, 75, 110, 125, 90, 85, 50, 70, 100, 90, 100, 45, 60, 80, 65, 80, 100, 43, 58, 78, 45, 30, 70, 50, 35, 75, 56, 71, 101, 72, 97, 70, 100, 55, 80, 90, 110, 40, 65, 41, 56, 76, 50, 65, 85, 35, 60, 65, 100, 20, 45, 55, 90, 30, 40, 50, 25, 30, 45, 90, 95, 120, 90, 115, 55, 85, 70, 95, 60, 95, 90, 90, 70, 90, 105, 120, 35, 45, 55, 40, 55, 70, 70, 100, 20, 35, 45, 90, 105, 15, 30, 45, 70, 60, 75, 100, 45, 70, 25, 50, 40, 70, 80, 95, 110, 70, 42, 67, 50, 75, 100, 140, 40, 55, 35, 45, 87, 76, 30, 35, 60, 25, 40, 50, 60, 90, 60, 85, 63, 68, 85, 115, 90, 105, 95, 105, 93, 85, 110, 80, 81, 60, 48, 55, 65, 130, 65, 40, 35, 55, 55, 80, 130, 30, 85, 100, 90, 50, 70, 80, 130, 100], \"y0\": \" \", \"yaxis\": \"y\"}],                        {\"legend\": {\"tracegroupgap\": 0}, \"margin\": {\"t\": 60}, \"template\": {\"data\": {\"bar\": [{\"error_x\": {\"color\": \"#2a3f5f\"}, \"error_y\": {\"color\": \"#2a3f5f\"}, \"marker\": {\"line\": {\"color\": \"#E5ECF6\", \"width\": 0.5}}, \"type\": \"bar\"}], \"barpolar\": [{\"marker\": {\"line\": {\"color\": \"#E5ECF6\", \"width\": 0.5}}, \"type\": \"barpolar\"}], \"carpet\": [{\"aaxis\": {\"endlinecolor\": \"#2a3f5f\", \"gridcolor\": \"white\", \"linecolor\": \"white\", \"minorgridcolor\": \"white\", \"startlinecolor\": \"#2a3f5f\"}, \"baxis\": {\"endlinecolor\": \"#2a3f5f\", \"gridcolor\": \"white\", \"linecolor\": \"white\", \"minorgridcolor\": \"white\", \"startlinecolor\": \"#2a3f5f\"}, \"type\": \"carpet\"}], \"choropleth\": [{\"colorbar\": {\"outlinewidth\": 0, \"ticks\": \"\"}, \"type\": \"choropleth\"}], \"contour\": [{\"colorbar\": {\"outlinewidth\": 0, \"ticks\": \"\"}, \"colorscale\": [[0.0, \"#0d0887\"], [0.1111111111111111, \"#46039f\"], [0.2222222222222222, \"#7201a8\"], [0.3333333333333333, \"#9c179e\"], [0.4444444444444444, \"#bd3786\"], [0.5555555555555556, \"#d8576b\"], [0.6666666666666666, \"#ed7953\"], [0.7777777777777778, \"#fb9f3a\"], [0.8888888888888888, \"#fdca26\"], [1.0, \"#f0f921\"]], \"type\": \"contour\"}], \"contourcarpet\": [{\"colorbar\": {\"outlinewidth\": 0, \"ticks\": \"\"}, \"type\": \"contourcarpet\"}], \"heatmap\": [{\"colorbar\": {\"outlinewidth\": 0, \"ticks\": \"\"}, \"colorscale\": [[0.0, \"#0d0887\"], [0.1111111111111111, \"#46039f\"], [0.2222222222222222, \"#7201a8\"], [0.3333333333333333, \"#9c179e\"], [0.4444444444444444, \"#bd3786\"], [0.5555555555555556, \"#d8576b\"], [0.6666666666666666, \"#ed7953\"], [0.7777777777777778, \"#fb9f3a\"], [0.8888888888888888, \"#fdca26\"], [1.0, \"#f0f921\"]], \"type\": \"heatmap\"}], \"heatmapgl\": [{\"colorbar\": {\"outlinewidth\": 0, \"ticks\": \"\"}, \"colorscale\": [[0.0, \"#0d0887\"], [0.1111111111111111, \"#46039f\"], [0.2222222222222222, \"#7201a8\"], [0.3333333333333333, \"#9c179e\"], [0.4444444444444444, \"#bd3786\"], [0.5555555555555556, \"#d8576b\"], [0.6666666666666666, \"#ed7953\"], [0.7777777777777778, \"#fb9f3a\"], [0.8888888888888888, \"#fdca26\"], [1.0, \"#f0f921\"]], \"type\": \"heatmapgl\"}], \"histogram\": [{\"marker\": {\"colorbar\": {\"outlinewidth\": 0, \"ticks\": \"\"}}, \"type\": \"histogram\"}], \"histogram2d\": [{\"colorbar\": {\"outlinewidth\": 0, \"ticks\": \"\"}, \"colorscale\": [[0.0, \"#0d0887\"], [0.1111111111111111, \"#46039f\"], [0.2222222222222222, \"#7201a8\"], [0.3333333333333333, \"#9c179e\"], [0.4444444444444444, \"#bd3786\"], [0.5555555555555556, \"#d8576b\"], [0.6666666666666666, \"#ed7953\"], [0.7777777777777778, \"#fb9f3a\"], [0.8888888888888888, \"#fdca26\"], [1.0, \"#f0f921\"]], \"type\": \"histogram2d\"}], \"histogram2dcontour\": [{\"colorbar\": {\"outlinewidth\": 0, \"ticks\": \"\"}, \"colorscale\": [[0.0, \"#0d0887\"], [0.1111111111111111, \"#46039f\"], [0.2222222222222222, \"#7201a8\"], [0.3333333333333333, \"#9c179e\"], [0.4444444444444444, \"#bd3786\"], [0.5555555555555556, \"#d8576b\"], [0.6666666666666666, \"#ed7953\"], [0.7777777777777778, \"#fb9f3a\"], [0.8888888888888888, \"#fdca26\"], [1.0, \"#f0f921\"]], \"type\": \"histogram2dcontour\"}], \"mesh3d\": [{\"colorbar\": {\"outlinewidth\": 0, \"ticks\": \"\"}, \"type\": \"mesh3d\"}], \"parcoords\": [{\"line\": {\"colorbar\": {\"outlinewidth\": 0, \"ticks\": \"\"}}, \"type\": \"parcoords\"}], \"pie\": [{\"automargin\": true, \"type\": \"pie\"}], \"scatter\": [{\"marker\": {\"colorbar\": {\"outlinewidth\": 0, \"ticks\": \"\"}}, \"type\": \"scatter\"}], \"scatter3d\": [{\"line\": {\"colorbar\": {\"outlinewidth\": 0, \"ticks\": \"\"}}, \"marker\": {\"colorbar\": {\"outlinewidth\": 0, \"ticks\": \"\"}}, \"type\": \"scatter3d\"}], \"scattercarpet\": [{\"marker\": {\"colorbar\": {\"outlinewidth\": 0, \"ticks\": \"\"}}, \"type\": \"scattercarpet\"}], \"scattergeo\": [{\"marker\": {\"colorbar\": {\"outlinewidth\": 0, \"ticks\": \"\"}}, \"type\": \"scattergeo\"}], \"scattergl\": [{\"marker\": {\"colorbar\": {\"outlinewidth\": 0, \"ticks\": \"\"}}, \"type\": \"scattergl\"}], \"scattermapbox\": [{\"marker\": {\"colorbar\": {\"outlinewidth\": 0, \"ticks\": \"\"}}, \"type\": \"scattermapbox\"}], \"scatterpolar\": [{\"marker\": {\"colorbar\": {\"outlinewidth\": 0, \"ticks\": \"\"}}, \"type\": \"scatterpolar\"}], \"scatterpolargl\": [{\"marker\": {\"colorbar\": {\"outlinewidth\": 0, \"ticks\": \"\"}}, \"type\": \"scatterpolargl\"}], \"scatterternary\": [{\"marker\": {\"colorbar\": {\"outlinewidth\": 0, \"ticks\": \"\"}}, \"type\": \"scatterternary\"}], \"surface\": [{\"colorbar\": {\"outlinewidth\": 0, \"ticks\": \"\"}, \"colorscale\": [[0.0, \"#0d0887\"], [0.1111111111111111, \"#46039f\"], [0.2222222222222222, \"#7201a8\"], [0.3333333333333333, \"#9c179e\"], [0.4444444444444444, \"#bd3786\"], [0.5555555555555556, \"#d8576b\"], [0.6666666666666666, \"#ed7953\"], [0.7777777777777778, \"#fb9f3a\"], [0.8888888888888888, \"#fdca26\"], [1.0, \"#f0f921\"]], \"type\": \"surface\"}], \"table\": [{\"cells\": {\"fill\": {\"color\": \"#EBF0F8\"}, \"line\": {\"color\": \"white\"}}, \"header\": {\"fill\": {\"color\": \"#C8D4E3\"}, \"line\": {\"color\": \"white\"}}, \"type\": \"table\"}]}, \"layout\": {\"annotationdefaults\": {\"arrowcolor\": \"#2a3f5f\", \"arrowhead\": 0, \"arrowwidth\": 1}, \"autotypenumbers\": \"strict\", \"coloraxis\": {\"colorbar\": {\"outlinewidth\": 0, \"ticks\": \"\"}}, \"colorscale\": {\"diverging\": [[0, \"#8e0152\"], [0.1, \"#c51b7d\"], [0.2, \"#de77ae\"], [0.3, \"#f1b6da\"], [0.4, \"#fde0ef\"], [0.5, \"#f7f7f7\"], [0.6, \"#e6f5d0\"], [0.7, \"#b8e186\"], [0.8, \"#7fbc41\"], [0.9, \"#4d9221\"], [1, \"#276419\"]], \"sequential\": [[0.0, \"#0d0887\"], [0.1111111111111111, \"#46039f\"], [0.2222222222222222, \"#7201a8\"], [0.3333333333333333, \"#9c179e\"], [0.4444444444444444, \"#bd3786\"], [0.5555555555555556, \"#d8576b\"], [0.6666666666666666, \"#ed7953\"], [0.7777777777777778, \"#fb9f3a\"], [0.8888888888888888, \"#fdca26\"], [1.0, \"#f0f921\"]], \"sequentialminus\": [[0.0, \"#0d0887\"], [0.1111111111111111, \"#46039f\"], [0.2222222222222222, \"#7201a8\"], [0.3333333333333333, \"#9c179e\"], [0.4444444444444444, \"#bd3786\"], [0.5555555555555556, \"#d8576b\"], [0.6666666666666666, \"#ed7953\"], [0.7777777777777778, \"#fb9f3a\"], [0.8888888888888888, \"#fdca26\"], [1.0, \"#f0f921\"]]}, \"colorway\": [\"#636efa\", \"#EF553B\", \"#00cc96\", \"#ab63fa\", \"#FFA15A\", \"#19d3f3\", \"#FF6692\", \"#B6E880\", \"#FF97FF\", \"#FECB52\"], \"font\": {\"color\": \"#2a3f5f\"}, \"geo\": {\"bgcolor\": \"white\", \"lakecolor\": \"white\", \"landcolor\": \"#E5ECF6\", \"showlakes\": true, \"showland\": true, \"subunitcolor\": \"white\"}, \"hoverlabel\": {\"align\": \"left\"}, \"hovermode\": \"closest\", \"mapbox\": {\"style\": \"light\"}, \"paper_bgcolor\": \"white\", \"plot_bgcolor\": \"#E5ECF6\", \"polar\": {\"angularaxis\": {\"gridcolor\": \"white\", \"linecolor\": \"white\", \"ticks\": \"\"}, \"bgcolor\": \"#E5ECF6\", \"radialaxis\": {\"gridcolor\": \"white\", \"linecolor\": \"white\", \"ticks\": \"\"}}, \"scene\": {\"xaxis\": {\"backgroundcolor\": \"#E5ECF6\", \"gridcolor\": \"white\", \"gridwidth\": 2, \"linecolor\": \"white\", \"showbackground\": true, \"ticks\": \"\", \"zerolinecolor\": \"white\"}, \"yaxis\": {\"backgroundcolor\": \"#E5ECF6\", \"gridcolor\": \"white\", \"gridwidth\": 2, \"linecolor\": \"white\", \"showbackground\": true, \"ticks\": \"\", \"zerolinecolor\": \"white\"}, \"zaxis\": {\"backgroundcolor\": \"#E5ECF6\", \"gridcolor\": \"white\", \"gridwidth\": 2, \"linecolor\": \"white\", \"showbackground\": true, \"ticks\": \"\", \"zerolinecolor\": \"white\"}}, \"shapedefaults\": {\"line\": {\"color\": \"#2a3f5f\"}}, \"ternary\": {\"aaxis\": {\"gridcolor\": \"white\", \"linecolor\": \"white\", \"ticks\": \"\"}, \"baxis\": {\"gridcolor\": \"white\", \"linecolor\": \"white\", \"ticks\": \"\"}, \"bgcolor\": \"#E5ECF6\", \"caxis\": {\"gridcolor\": \"white\", \"linecolor\": \"white\", \"ticks\": \"\"}}, \"title\": {\"x\": 0.05}, \"xaxis\": {\"automargin\": true, \"gridcolor\": \"white\", \"linecolor\": \"white\", \"ticks\": \"\", \"title\": {\"standoff\": 15}, \"zerolinecolor\": \"white\", \"zerolinewidth\": 2}, \"yaxis\": {\"automargin\": true, \"gridcolor\": \"white\", \"linecolor\": \"white\", \"ticks\": \"\", \"title\": {\"standoff\": 15}, \"zerolinecolor\": \"white\", \"zerolinewidth\": 2}}}, \"violinmode\": \"group\", \"xaxis\": {\"anchor\": \"y\", \"domain\": [0.0, 1.0], \"title\": {\"text\": \"variable\"}}, \"yaxis\": {\"anchor\": \"x\", \"domain\": [0.0, 1.0], \"title\": {\"text\": \"value\"}}},                        {\"responsive\": true}                    ).then(function(){\n",
       "                            \n",
       "var gd = document.getElementById('1e298db8-2b43-47c7-ba9f-1e6ae224e0c4');\n",
       "var x = new MutationObserver(function (mutations, observer) {{\n",
       "        var display = window.getComputedStyle(gd).display;\n",
       "        if (!display || display === 'none') {{\n",
       "            console.log([gd, 'removed!']);\n",
       "            Plotly.purge(gd);\n",
       "            observer.disconnect();\n",
       "        }}\n",
       "}});\n",
       "\n",
       "// Listen for the removal of the full notebook cells\n",
       "var notebookContainer = gd.closest('#notebook-container');\n",
       "if (notebookContainer) {{\n",
       "    x.observe(notebookContainer, {childList: true});\n",
       "}}\n",
       "\n",
       "// Listen for the clearing of the current output cell\n",
       "var outputEl = gd.closest('.output');\n",
       "if (outputEl) {{\n",
       "    x.observe(outputEl, {childList: true});\n",
       "}}\n",
       "\n",
       "                        })                };                });            </script>        </div>"
      ]
     },
     "metadata": {},
     "output_type": "display_data"
    }
   ],
   "source": [
    "fig = px.violin(df_copy)\n",
    "fig.show()"
   ]
  },
  {
   "cell_type": "code",
   "execution_count": 21,
   "metadata": {},
   "outputs": [
    {
     "data": {
      "application/vnd.plotly.v1+json": {
       "config": {
        "plotlyServerURL": "https://plot.ly"
       },
       "data": [
        {
         "alignmentgroup": "True",
         "box": {
          "visible": false
         },
         "hovertemplate": "Type 1=%{x}<br>Attack=%{y}<extra></extra>",
         "legendgroup": "Grass",
         "marker": {
          "color": "#636efa"
         },
         "name": "Grass",
         "offsetgroup": "Grass",
         "orientation": "v",
         "scalegroup": "True",
         "showlegend": true,
         "type": "violin",
         "x": [
          "Grass",
          "Grass",
          "Grass",
          "Grass",
          "Grass",
          "Grass",
          "Grass",
          "Grass",
          "Grass",
          "Grass",
          "Grass",
          "Grass"
         ],
         "x0": " ",
         "xaxis": "x",
         "y": [
          49,
          62,
          82,
          50,
          65,
          80,
          75,
          90,
          105,
          40,
          95,
          55
         ],
         "y0": " ",
         "yaxis": "y"
        },
        {
         "alignmentgroup": "True",
         "box": {
          "visible": false
         },
         "hovertemplate": "Type 1=%{x}<br>Attack=%{y}<extra></extra>",
         "legendgroup": "Fire",
         "marker": {
          "color": "#EF553B"
         },
         "name": "Fire",
         "offsetgroup": "Fire",
         "orientation": "v",
         "scalegroup": "True",
         "showlegend": true,
         "type": "violin",
         "x": [
          "Fire",
          "Fire",
          "Fire",
          "Fire",
          "Fire",
          "Fire",
          "Fire",
          "Fire",
          "Fire",
          "Fire",
          "Fire",
          "Fire"
         ],
         "x0": " ",
         "xaxis": "x",
         "y": [
          52,
          64,
          84,
          41,
          76,
          70,
          110,
          85,
          100,
          95,
          130,
          100
         ],
         "y0": " ",
         "yaxis": "y"
        },
        {
         "alignmentgroup": "True",
         "box": {
          "visible": false
         },
         "hovertemplate": "Type 1=%{x}<br>Attack=%{y}<extra></extra>",
         "legendgroup": "Water",
         "marker": {
          "color": "#00cc96"
         },
         "name": "Water",
         "offsetgroup": "Water",
         "orientation": "v",
         "scalegroup": "True",
         "showlegend": true,
         "type": "violin",
         "x": [
          "Water",
          "Water",
          "Water",
          "Water",
          "Water",
          "Water",
          "Water",
          "Water",
          "Water",
          "Water",
          "Water",
          "Water",
          "Water",
          "Water",
          "Water",
          "Water",
          "Water",
          "Water",
          "Water",
          "Water",
          "Water",
          "Water",
          "Water",
          "Water",
          "Water",
          "Water",
          "Water",
          "Water"
         ],
         "x0": " ",
         "xaxis": "x",
         "y": [
          48,
          63,
          83,
          52,
          82,
          50,
          65,
          95,
          40,
          70,
          65,
          75,
          45,
          70,
          65,
          95,
          105,
          130,
          40,
          65,
          67,
          92,
          45,
          75,
          10,
          125,
          85,
          65
         ],
         "y0": " ",
         "yaxis": "y"
        },
        {
         "alignmentgroup": "True",
         "box": {
          "visible": false
         },
         "hovertemplate": "Type 1=%{x}<br>Attack=%{y}<extra></extra>",
         "legendgroup": "Bug",
         "marker": {
          "color": "#ab63fa"
         },
         "name": "Bug",
         "offsetgroup": "Bug",
         "orientation": "v",
         "scalegroup": "True",
         "showlegend": true,
         "type": "violin",
         "x": [
          "Bug",
          "Bug",
          "Bug",
          "Bug",
          "Bug",
          "Bug",
          "Bug",
          "Bug",
          "Bug",
          "Bug",
          "Bug",
          "Bug"
         ],
         "x0": " ",
         "xaxis": "x",
         "y": [
          30,
          20,
          45,
          35,
          25,
          90,
          70,
          95,
          55,
          65,
          110,
          125
         ],
         "y0": " ",
         "yaxis": "y"
        },
        {
         "alignmentgroup": "True",
         "box": {
          "visible": false
         },
         "hovertemplate": "Type 1=%{x}<br>Attack=%{y}<extra></extra>",
         "legendgroup": "Normal",
         "marker": {
          "color": "#FFA15A"
         },
         "name": "Normal",
         "offsetgroup": "Normal",
         "orientation": "v",
         "scalegroup": "True",
         "showlegend": true,
         "type": "violin",
         "x": [
          "Normal",
          "Normal",
          "Normal",
          "Normal",
          "Normal",
          "Normal",
          "Normal",
          "Normal",
          "Normal",
          "Normal",
          "Normal",
          "Normal",
          "Normal",
          "Normal",
          "Normal",
          "Normal",
          "Normal",
          "Normal",
          "Normal",
          "Normal",
          "Normal",
          "Normal"
         ],
         "x0": " ",
         "xaxis": "x",
         "y": [
          45,
          60,
          80,
          56,
          81,
          60,
          90,
          45,
          70,
          45,
          70,
          65,
          85,
          110,
          55,
          5,
          95,
          100,
          48,
          55,
          60,
          110
         ],
         "y0": " ",
         "yaxis": "y"
        },
        {
         "alignmentgroup": "True",
         "box": {
          "visible": false
         },
         "hovertemplate": "Type 1=%{x}<br>Attack=%{y}<extra></extra>",
         "legendgroup": "Poison",
         "marker": {
          "color": "#19d3f3"
         },
         "name": "Poison",
         "offsetgroup": "Poison",
         "orientation": "v",
         "scalegroup": "True",
         "showlegend": true,
         "type": "violin",
         "x": [
          "Poison",
          "Poison",
          "Poison",
          "Poison",
          "Poison",
          "Poison",
          "Poison",
          "Poison",
          "Poison",
          "Poison",
          "Poison",
          "Poison",
          "Poison",
          "Poison"
         ],
         "x0": " ",
         "xaxis": "x",
         "y": [
          60,
          85,
          47,
          62,
          92,
          57,
          72,
          102,
          45,
          80,
          80,
          105,
          65,
          90
         ],
         "y0": " ",
         "yaxis": "y"
        },
        {
         "alignmentgroup": "True",
         "box": {
          "visible": false
         },
         "hovertemplate": "Type 1=%{x}<br>Attack=%{y}<extra></extra>",
         "legendgroup": "Electric",
         "marker": {
          "color": "#FF6692"
         },
         "name": "Electric",
         "offsetgroup": "Electric",
         "orientation": "v",
         "scalegroup": "True",
         "showlegend": true,
         "type": "violin",
         "x": [
          "Electric",
          "Electric",
          "Electric",
          "Electric",
          "Electric",
          "Electric",
          "Electric",
          "Electric",
          "Electric"
         ],
         "x0": " ",
         "xaxis": "x",
         "y": [
          55,
          90,
          35,
          60,
          30,
          50,
          83,
          65,
          90
         ],
         "y0": " ",
         "yaxis": "y"
        },
        {
         "alignmentgroup": "True",
         "box": {
          "visible": false
         },
         "hovertemplate": "Type 1=%{x}<br>Attack=%{y}<extra></extra>",
         "legendgroup": "Ground",
         "marker": {
          "color": "#B6E880"
         },
         "name": "Ground",
         "offsetgroup": "Ground",
         "orientation": "v",
         "scalegroup": "True",
         "showlegend": true,
         "type": "violin",
         "x": [
          "Ground",
          "Ground",
          "Ground",
          "Ground",
          "Ground",
          "Ground",
          "Ground",
          "Ground"
         ],
         "x0": " ",
         "xaxis": "x",
         "y": [
          75,
          100,
          55,
          80,
          50,
          80,
          85,
          130
         ],
         "y0": " ",
         "yaxis": "y"
        },
        {
         "alignmentgroup": "True",
         "box": {
          "visible": false
         },
         "hovertemplate": "Type 1=%{x}<br>Attack=%{y}<extra></extra>",
         "legendgroup": "Fairy",
         "marker": {
          "color": "#FF97FF"
         },
         "name": "Fairy",
         "offsetgroup": "Fairy",
         "orientation": "v",
         "scalegroup": "True",
         "showlegend": true,
         "type": "violin",
         "x": [
          "Fairy",
          "Fairy"
         ],
         "x0": " ",
         "xaxis": "x",
         "y": [
          45,
          70
         ],
         "y0": " ",
         "yaxis": "y"
        },
        {
         "alignmentgroup": "True",
         "box": {
          "visible": false
         },
         "hovertemplate": "Type 1=%{x}<br>Attack=%{y}<extra></extra>",
         "legendgroup": "Fighting",
         "marker": {
          "color": "#FECB52"
         },
         "name": "Fighting",
         "offsetgroup": "Fighting",
         "orientation": "v",
         "scalegroup": "True",
         "showlegend": true,
         "type": "violin",
         "x": [
          "Fighting",
          "Fighting",
          "Fighting",
          "Fighting",
          "Fighting",
          "Fighting",
          "Fighting"
         ],
         "x0": " ",
         "xaxis": "x",
         "y": [
          80,
          105,
          80,
          100,
          130,
          120,
          105
         ],
         "y0": " ",
         "yaxis": "y"
        },
        {
         "alignmentgroup": "True",
         "box": {
          "visible": false
         },
         "hovertemplate": "Type 1=%{x}<br>Attack=%{y}<extra></extra>",
         "legendgroup": "Psychic",
         "marker": {
          "color": "#636efa"
         },
         "name": "Psychic",
         "offsetgroup": "Psychic",
         "orientation": "v",
         "scalegroup": "True",
         "showlegend": true,
         "type": "violin",
         "x": [
          "Psychic",
          "Psychic",
          "Psychic",
          "Psychic",
          "Psychic",
          "Psychic",
          "Psychic",
          "Psychic"
         ],
         "x0": " ",
         "xaxis": "x",
         "y": [
          20,
          35,
          50,
          48,
          73,
          45,
          110,
          100
         ],
         "y0": " ",
         "yaxis": "y"
        },
        {
         "alignmentgroup": "True",
         "box": {
          "visible": false
         },
         "hovertemplate": "Type 1=%{x}<br>Attack=%{y}<extra></extra>",
         "legendgroup": "Rock",
         "marker": {
          "color": "#EF553B"
         },
         "name": "Rock",
         "offsetgroup": "Rock",
         "orientation": "v",
         "scalegroup": "True",
         "showlegend": true,
         "type": "violin",
         "x": [
          "Rock",
          "Rock",
          "Rock",
          "Rock",
          "Rock",
          "Rock",
          "Rock",
          "Rock",
          "Rock"
         ],
         "x0": " ",
         "xaxis": "x",
         "y": [
          80,
          95,
          120,
          45,
          40,
          60,
          80,
          115,
          105
         ],
         "y0": " ",
         "yaxis": "y"
        },
        {
         "alignmentgroup": "True",
         "box": {
          "visible": false
         },
         "hovertemplate": "Type 1=%{x}<br>Attack=%{y}<extra></extra>",
         "legendgroup": "Ghost",
         "marker": {
          "color": "#00cc96"
         },
         "name": "Ghost",
         "offsetgroup": "Ghost",
         "orientation": "v",
         "scalegroup": "True",
         "showlegend": true,
         "type": "violin",
         "x": [
          "Ghost",
          "Ghost",
          "Ghost"
         ],
         "x0": " ",
         "xaxis": "x",
         "y": [
          35,
          50,
          65
         ],
         "y0": " ",
         "yaxis": "y"
        },
        {
         "alignmentgroup": "True",
         "box": {
          "visible": false
         },
         "hovertemplate": "Type 1=%{x}<br>Attack=%{y}<extra></extra>",
         "legendgroup": "Ice",
         "marker": {
          "color": "#ab63fa"
         },
         "name": "Ice",
         "offsetgroup": "Ice",
         "orientation": "v",
         "scalegroup": "True",
         "showlegend": true,
         "type": "violin",
         "x": [
          "Ice",
          "Ice"
         ],
         "x0": " ",
         "xaxis": "x",
         "y": [
          50,
          85
         ],
         "y0": " ",
         "yaxis": "y"
        },
        {
         "alignmentgroup": "True",
         "box": {
          "visible": false
         },
         "hovertemplate": "Type 1=%{x}<br>Attack=%{y}<extra></extra>",
         "legendgroup": "Dragon",
         "marker": {
          "color": "#FFA15A"
         },
         "name": "Dragon",
         "offsetgroup": "Dragon",
         "orientation": "v",
         "scalegroup": "True",
         "showlegend": true,
         "type": "violin",
         "x": [
          "Dragon",
          "Dragon",
          "Dragon"
         ],
         "x0": " ",
         "xaxis": "x",
         "y": [
          64,
          84,
          134
         ],
         "y0": " ",
         "yaxis": "y"
        }
       ],
       "layout": {
        "legend": {
         "title": {
          "text": "Type 1"
         },
         "tracegroupgap": 0
        },
        "margin": {
         "t": 60
        },
        "template": {
         "data": {
          "bar": [
           {
            "error_x": {
             "color": "#2a3f5f"
            },
            "error_y": {
             "color": "#2a3f5f"
            },
            "marker": {
             "line": {
              "color": "#E5ECF6",
              "width": 0.5
             }
            },
            "type": "bar"
           }
          ],
          "barpolar": [
           {
            "marker": {
             "line": {
              "color": "#E5ECF6",
              "width": 0.5
             }
            },
            "type": "barpolar"
           }
          ],
          "carpet": [
           {
            "aaxis": {
             "endlinecolor": "#2a3f5f",
             "gridcolor": "white",
             "linecolor": "white",
             "minorgridcolor": "white",
             "startlinecolor": "#2a3f5f"
            },
            "baxis": {
             "endlinecolor": "#2a3f5f",
             "gridcolor": "white",
             "linecolor": "white",
             "minorgridcolor": "white",
             "startlinecolor": "#2a3f5f"
            },
            "type": "carpet"
           }
          ],
          "choropleth": [
           {
            "colorbar": {
             "outlinewidth": 0,
             "ticks": ""
            },
            "type": "choropleth"
           }
          ],
          "contour": [
           {
            "colorbar": {
             "outlinewidth": 0,
             "ticks": ""
            },
            "colorscale": [
             [
              0,
              "#0d0887"
             ],
             [
              0.1111111111111111,
              "#46039f"
             ],
             [
              0.2222222222222222,
              "#7201a8"
             ],
             [
              0.3333333333333333,
              "#9c179e"
             ],
             [
              0.4444444444444444,
              "#bd3786"
             ],
             [
              0.5555555555555556,
              "#d8576b"
             ],
             [
              0.6666666666666666,
              "#ed7953"
             ],
             [
              0.7777777777777778,
              "#fb9f3a"
             ],
             [
              0.8888888888888888,
              "#fdca26"
             ],
             [
              1,
              "#f0f921"
             ]
            ],
            "type": "contour"
           }
          ],
          "contourcarpet": [
           {
            "colorbar": {
             "outlinewidth": 0,
             "ticks": ""
            },
            "type": "contourcarpet"
           }
          ],
          "heatmap": [
           {
            "colorbar": {
             "outlinewidth": 0,
             "ticks": ""
            },
            "colorscale": [
             [
              0,
              "#0d0887"
             ],
             [
              0.1111111111111111,
              "#46039f"
             ],
             [
              0.2222222222222222,
              "#7201a8"
             ],
             [
              0.3333333333333333,
              "#9c179e"
             ],
             [
              0.4444444444444444,
              "#bd3786"
             ],
             [
              0.5555555555555556,
              "#d8576b"
             ],
             [
              0.6666666666666666,
              "#ed7953"
             ],
             [
              0.7777777777777778,
              "#fb9f3a"
             ],
             [
              0.8888888888888888,
              "#fdca26"
             ],
             [
              1,
              "#f0f921"
             ]
            ],
            "type": "heatmap"
           }
          ],
          "heatmapgl": [
           {
            "colorbar": {
             "outlinewidth": 0,
             "ticks": ""
            },
            "colorscale": [
             [
              0,
              "#0d0887"
             ],
             [
              0.1111111111111111,
              "#46039f"
             ],
             [
              0.2222222222222222,
              "#7201a8"
             ],
             [
              0.3333333333333333,
              "#9c179e"
             ],
             [
              0.4444444444444444,
              "#bd3786"
             ],
             [
              0.5555555555555556,
              "#d8576b"
             ],
             [
              0.6666666666666666,
              "#ed7953"
             ],
             [
              0.7777777777777778,
              "#fb9f3a"
             ],
             [
              0.8888888888888888,
              "#fdca26"
             ],
             [
              1,
              "#f0f921"
             ]
            ],
            "type": "heatmapgl"
           }
          ],
          "histogram": [
           {
            "marker": {
             "colorbar": {
              "outlinewidth": 0,
              "ticks": ""
             }
            },
            "type": "histogram"
           }
          ],
          "histogram2d": [
           {
            "colorbar": {
             "outlinewidth": 0,
             "ticks": ""
            },
            "colorscale": [
             [
              0,
              "#0d0887"
             ],
             [
              0.1111111111111111,
              "#46039f"
             ],
             [
              0.2222222222222222,
              "#7201a8"
             ],
             [
              0.3333333333333333,
              "#9c179e"
             ],
             [
              0.4444444444444444,
              "#bd3786"
             ],
             [
              0.5555555555555556,
              "#d8576b"
             ],
             [
              0.6666666666666666,
              "#ed7953"
             ],
             [
              0.7777777777777778,
              "#fb9f3a"
             ],
             [
              0.8888888888888888,
              "#fdca26"
             ],
             [
              1,
              "#f0f921"
             ]
            ],
            "type": "histogram2d"
           }
          ],
          "histogram2dcontour": [
           {
            "colorbar": {
             "outlinewidth": 0,
             "ticks": ""
            },
            "colorscale": [
             [
              0,
              "#0d0887"
             ],
             [
              0.1111111111111111,
              "#46039f"
             ],
             [
              0.2222222222222222,
              "#7201a8"
             ],
             [
              0.3333333333333333,
              "#9c179e"
             ],
             [
              0.4444444444444444,
              "#bd3786"
             ],
             [
              0.5555555555555556,
              "#d8576b"
             ],
             [
              0.6666666666666666,
              "#ed7953"
             ],
             [
              0.7777777777777778,
              "#fb9f3a"
             ],
             [
              0.8888888888888888,
              "#fdca26"
             ],
             [
              1,
              "#f0f921"
             ]
            ],
            "type": "histogram2dcontour"
           }
          ],
          "mesh3d": [
           {
            "colorbar": {
             "outlinewidth": 0,
             "ticks": ""
            },
            "type": "mesh3d"
           }
          ],
          "parcoords": [
           {
            "line": {
             "colorbar": {
              "outlinewidth": 0,
              "ticks": ""
             }
            },
            "type": "parcoords"
           }
          ],
          "pie": [
           {
            "automargin": true,
            "type": "pie"
           }
          ],
          "scatter": [
           {
            "marker": {
             "colorbar": {
              "outlinewidth": 0,
              "ticks": ""
             }
            },
            "type": "scatter"
           }
          ],
          "scatter3d": [
           {
            "line": {
             "colorbar": {
              "outlinewidth": 0,
              "ticks": ""
             }
            },
            "marker": {
             "colorbar": {
              "outlinewidth": 0,
              "ticks": ""
             }
            },
            "type": "scatter3d"
           }
          ],
          "scattercarpet": [
           {
            "marker": {
             "colorbar": {
              "outlinewidth": 0,
              "ticks": ""
             }
            },
            "type": "scattercarpet"
           }
          ],
          "scattergeo": [
           {
            "marker": {
             "colorbar": {
              "outlinewidth": 0,
              "ticks": ""
             }
            },
            "type": "scattergeo"
           }
          ],
          "scattergl": [
           {
            "marker": {
             "colorbar": {
              "outlinewidth": 0,
              "ticks": ""
             }
            },
            "type": "scattergl"
           }
          ],
          "scattermapbox": [
           {
            "marker": {
             "colorbar": {
              "outlinewidth": 0,
              "ticks": ""
             }
            },
            "type": "scattermapbox"
           }
          ],
          "scatterpolar": [
           {
            "marker": {
             "colorbar": {
              "outlinewidth": 0,
              "ticks": ""
             }
            },
            "type": "scatterpolar"
           }
          ],
          "scatterpolargl": [
           {
            "marker": {
             "colorbar": {
              "outlinewidth": 0,
              "ticks": ""
             }
            },
            "type": "scatterpolargl"
           }
          ],
          "scatterternary": [
           {
            "marker": {
             "colorbar": {
              "outlinewidth": 0,
              "ticks": ""
             }
            },
            "type": "scatterternary"
           }
          ],
          "surface": [
           {
            "colorbar": {
             "outlinewidth": 0,
             "ticks": ""
            },
            "colorscale": [
             [
              0,
              "#0d0887"
             ],
             [
              0.1111111111111111,
              "#46039f"
             ],
             [
              0.2222222222222222,
              "#7201a8"
             ],
             [
              0.3333333333333333,
              "#9c179e"
             ],
             [
              0.4444444444444444,
              "#bd3786"
             ],
             [
              0.5555555555555556,
              "#d8576b"
             ],
             [
              0.6666666666666666,
              "#ed7953"
             ],
             [
              0.7777777777777778,
              "#fb9f3a"
             ],
             [
              0.8888888888888888,
              "#fdca26"
             ],
             [
              1,
              "#f0f921"
             ]
            ],
            "type": "surface"
           }
          ],
          "table": [
           {
            "cells": {
             "fill": {
              "color": "#EBF0F8"
             },
             "line": {
              "color": "white"
             }
            },
            "header": {
             "fill": {
              "color": "#C8D4E3"
             },
             "line": {
              "color": "white"
             }
            },
            "type": "table"
           }
          ]
         },
         "layout": {
          "annotationdefaults": {
           "arrowcolor": "#2a3f5f",
           "arrowhead": 0,
           "arrowwidth": 1
          },
          "autotypenumbers": "strict",
          "coloraxis": {
           "colorbar": {
            "outlinewidth": 0,
            "ticks": ""
           }
          },
          "colorscale": {
           "diverging": [
            [
             0,
             "#8e0152"
            ],
            [
             0.1,
             "#c51b7d"
            ],
            [
             0.2,
             "#de77ae"
            ],
            [
             0.3,
             "#f1b6da"
            ],
            [
             0.4,
             "#fde0ef"
            ],
            [
             0.5,
             "#f7f7f7"
            ],
            [
             0.6,
             "#e6f5d0"
            ],
            [
             0.7,
             "#b8e186"
            ],
            [
             0.8,
             "#7fbc41"
            ],
            [
             0.9,
             "#4d9221"
            ],
            [
             1,
             "#276419"
            ]
           ],
           "sequential": [
            [
             0,
             "#0d0887"
            ],
            [
             0.1111111111111111,
             "#46039f"
            ],
            [
             0.2222222222222222,
             "#7201a8"
            ],
            [
             0.3333333333333333,
             "#9c179e"
            ],
            [
             0.4444444444444444,
             "#bd3786"
            ],
            [
             0.5555555555555556,
             "#d8576b"
            ],
            [
             0.6666666666666666,
             "#ed7953"
            ],
            [
             0.7777777777777778,
             "#fb9f3a"
            ],
            [
             0.8888888888888888,
             "#fdca26"
            ],
            [
             1,
             "#f0f921"
            ]
           ],
           "sequentialminus": [
            [
             0,
             "#0d0887"
            ],
            [
             0.1111111111111111,
             "#46039f"
            ],
            [
             0.2222222222222222,
             "#7201a8"
            ],
            [
             0.3333333333333333,
             "#9c179e"
            ],
            [
             0.4444444444444444,
             "#bd3786"
            ],
            [
             0.5555555555555556,
             "#d8576b"
            ],
            [
             0.6666666666666666,
             "#ed7953"
            ],
            [
             0.7777777777777778,
             "#fb9f3a"
            ],
            [
             0.8888888888888888,
             "#fdca26"
            ],
            [
             1,
             "#f0f921"
            ]
           ]
          },
          "colorway": [
           "#636efa",
           "#EF553B",
           "#00cc96",
           "#ab63fa",
           "#FFA15A",
           "#19d3f3",
           "#FF6692",
           "#B6E880",
           "#FF97FF",
           "#FECB52"
          ],
          "font": {
           "color": "#2a3f5f"
          },
          "geo": {
           "bgcolor": "white",
           "lakecolor": "white",
           "landcolor": "#E5ECF6",
           "showlakes": true,
           "showland": true,
           "subunitcolor": "white"
          },
          "hoverlabel": {
           "align": "left"
          },
          "hovermode": "closest",
          "mapbox": {
           "style": "light"
          },
          "paper_bgcolor": "white",
          "plot_bgcolor": "#E5ECF6",
          "polar": {
           "angularaxis": {
            "gridcolor": "white",
            "linecolor": "white",
            "ticks": ""
           },
           "bgcolor": "#E5ECF6",
           "radialaxis": {
            "gridcolor": "white",
            "linecolor": "white",
            "ticks": ""
           }
          },
          "scene": {
           "xaxis": {
            "backgroundcolor": "#E5ECF6",
            "gridcolor": "white",
            "gridwidth": 2,
            "linecolor": "white",
            "showbackground": true,
            "ticks": "",
            "zerolinecolor": "white"
           },
           "yaxis": {
            "backgroundcolor": "#E5ECF6",
            "gridcolor": "white",
            "gridwidth": 2,
            "linecolor": "white",
            "showbackground": true,
            "ticks": "",
            "zerolinecolor": "white"
           },
           "zaxis": {
            "backgroundcolor": "#E5ECF6",
            "gridcolor": "white",
            "gridwidth": 2,
            "linecolor": "white",
            "showbackground": true,
            "ticks": "",
            "zerolinecolor": "white"
           }
          },
          "shapedefaults": {
           "line": {
            "color": "#2a3f5f"
           }
          },
          "ternary": {
           "aaxis": {
            "gridcolor": "white",
            "linecolor": "white",
            "ticks": ""
           },
           "baxis": {
            "gridcolor": "white",
            "linecolor": "white",
            "ticks": ""
           },
           "bgcolor": "#E5ECF6",
           "caxis": {
            "gridcolor": "white",
            "linecolor": "white",
            "ticks": ""
           }
          },
          "title": {
           "x": 0.05
          },
          "xaxis": {
           "automargin": true,
           "gridcolor": "white",
           "linecolor": "white",
           "ticks": "",
           "title": {
            "standoff": 15
           },
           "zerolinecolor": "white",
           "zerolinewidth": 2
          },
          "yaxis": {
           "automargin": true,
           "gridcolor": "white",
           "linecolor": "white",
           "ticks": "",
           "title": {
            "standoff": 15
           },
           "zerolinecolor": "white",
           "zerolinewidth": 2
          }
         }
        },
        "violinmode": "overlay",
        "xaxis": {
         "anchor": "y",
         "categoryarray": [
          "Grass",
          "Fire",
          "Water",
          "Bug",
          "Normal",
          "Poison",
          "Electric",
          "Ground",
          "Fairy",
          "Fighting",
          "Psychic",
          "Rock",
          "Ghost",
          "Ice",
          "Dragon"
         ],
         "categoryorder": "array",
         "domain": [
          0,
          1
         ],
         "title": {
          "text": "Type 1"
         }
        },
        "yaxis": {
         "anchor": "x",
         "domain": [
          0,
          1
         ],
         "title": {
          "text": "Attack"
         }
        }
       }
      },
      "text/html": [
       "<div>                            <div id=\"3528d996-e24c-45d6-9094-d6af650b136a\" class=\"plotly-graph-div\" style=\"height:525px; width:100%;\"></div>            <script type=\"text/javascript\">                require([\"plotly\"], function(Plotly) {                    window.PLOTLYENV=window.PLOTLYENV || {};                                    if (document.getElementById(\"3528d996-e24c-45d6-9094-d6af650b136a\")) {                    Plotly.newPlot(                        \"3528d996-e24c-45d6-9094-d6af650b136a\",                        [{\"alignmentgroup\": \"True\", \"box\": {\"visible\": false}, \"hovertemplate\": \"Type 1=%{x}<br>Attack=%{y}<extra></extra>\", \"legendgroup\": \"Grass\", \"marker\": {\"color\": \"#636efa\"}, \"name\": \"Grass\", \"offsetgroup\": \"Grass\", \"orientation\": \"v\", \"scalegroup\": \"True\", \"showlegend\": true, \"type\": \"violin\", \"x\": [\"Grass\", \"Grass\", \"Grass\", \"Grass\", \"Grass\", \"Grass\", \"Grass\", \"Grass\", \"Grass\", \"Grass\", \"Grass\", \"Grass\"], \"x0\": \" \", \"xaxis\": \"x\", \"y\": [49, 62, 82, 50, 65, 80, 75, 90, 105, 40, 95, 55], \"y0\": \" \", \"yaxis\": \"y\"}, {\"alignmentgroup\": \"True\", \"box\": {\"visible\": false}, \"hovertemplate\": \"Type 1=%{x}<br>Attack=%{y}<extra></extra>\", \"legendgroup\": \"Fire\", \"marker\": {\"color\": \"#EF553B\"}, \"name\": \"Fire\", \"offsetgroup\": \"Fire\", \"orientation\": \"v\", \"scalegroup\": \"True\", \"showlegend\": true, \"type\": \"violin\", \"x\": [\"Fire\", \"Fire\", \"Fire\", \"Fire\", \"Fire\", \"Fire\", \"Fire\", \"Fire\", \"Fire\", \"Fire\", \"Fire\", \"Fire\"], \"x0\": \" \", \"xaxis\": \"x\", \"y\": [52, 64, 84, 41, 76, 70, 110, 85, 100, 95, 130, 100], \"y0\": \" \", \"yaxis\": \"y\"}, {\"alignmentgroup\": \"True\", \"box\": {\"visible\": false}, \"hovertemplate\": \"Type 1=%{x}<br>Attack=%{y}<extra></extra>\", \"legendgroup\": \"Water\", \"marker\": {\"color\": \"#00cc96\"}, \"name\": \"Water\", \"offsetgroup\": \"Water\", \"orientation\": \"v\", \"scalegroup\": \"True\", \"showlegend\": true, \"type\": \"violin\", \"x\": [\"Water\", \"Water\", \"Water\", \"Water\", \"Water\", \"Water\", \"Water\", \"Water\", \"Water\", \"Water\", \"Water\", \"Water\", \"Water\", \"Water\", \"Water\", \"Water\", \"Water\", \"Water\", \"Water\", \"Water\", \"Water\", \"Water\", \"Water\", \"Water\", \"Water\", \"Water\", \"Water\", \"Water\"], \"x0\": \" \", \"xaxis\": \"x\", \"y\": [48, 63, 83, 52, 82, 50, 65, 95, 40, 70, 65, 75, 45, 70, 65, 95, 105, 130, 40, 65, 67, 92, 45, 75, 10, 125, 85, 65], \"y0\": \" \", \"yaxis\": \"y\"}, {\"alignmentgroup\": \"True\", \"box\": {\"visible\": false}, \"hovertemplate\": \"Type 1=%{x}<br>Attack=%{y}<extra></extra>\", \"legendgroup\": \"Bug\", \"marker\": {\"color\": \"#ab63fa\"}, \"name\": \"Bug\", \"offsetgroup\": \"Bug\", \"orientation\": \"v\", \"scalegroup\": \"True\", \"showlegend\": true, \"type\": \"violin\", \"x\": [\"Bug\", \"Bug\", \"Bug\", \"Bug\", \"Bug\", \"Bug\", \"Bug\", \"Bug\", \"Bug\", \"Bug\", \"Bug\", \"Bug\"], \"x0\": \" \", \"xaxis\": \"x\", \"y\": [30, 20, 45, 35, 25, 90, 70, 95, 55, 65, 110, 125], \"y0\": \" \", \"yaxis\": \"y\"}, {\"alignmentgroup\": \"True\", \"box\": {\"visible\": false}, \"hovertemplate\": \"Type 1=%{x}<br>Attack=%{y}<extra></extra>\", \"legendgroup\": \"Normal\", \"marker\": {\"color\": \"#FFA15A\"}, \"name\": \"Normal\", \"offsetgroup\": \"Normal\", \"orientation\": \"v\", \"scalegroup\": \"True\", \"showlegend\": true, \"type\": \"violin\", \"x\": [\"Normal\", \"Normal\", \"Normal\", \"Normal\", \"Normal\", \"Normal\", \"Normal\", \"Normal\", \"Normal\", \"Normal\", \"Normal\", \"Normal\", \"Normal\", \"Normal\", \"Normal\", \"Normal\", \"Normal\", \"Normal\", \"Normal\", \"Normal\", \"Normal\", \"Normal\"], \"x0\": \" \", \"xaxis\": \"x\", \"y\": [45, 60, 80, 56, 81, 60, 90, 45, 70, 45, 70, 65, 85, 110, 55, 5, 95, 100, 48, 55, 60, 110], \"y0\": \" \", \"yaxis\": \"y\"}, {\"alignmentgroup\": \"True\", \"box\": {\"visible\": false}, \"hovertemplate\": \"Type 1=%{x}<br>Attack=%{y}<extra></extra>\", \"legendgroup\": \"Poison\", \"marker\": {\"color\": \"#19d3f3\"}, \"name\": \"Poison\", \"offsetgroup\": \"Poison\", \"orientation\": \"v\", \"scalegroup\": \"True\", \"showlegend\": true, \"type\": \"violin\", \"x\": [\"Poison\", \"Poison\", \"Poison\", \"Poison\", \"Poison\", \"Poison\", \"Poison\", \"Poison\", \"Poison\", \"Poison\", \"Poison\", \"Poison\", \"Poison\", \"Poison\"], \"x0\": \" \", \"xaxis\": \"x\", \"y\": [60, 85, 47, 62, 92, 57, 72, 102, 45, 80, 80, 105, 65, 90], \"y0\": \" \", \"yaxis\": \"y\"}, {\"alignmentgroup\": \"True\", \"box\": {\"visible\": false}, \"hovertemplate\": \"Type 1=%{x}<br>Attack=%{y}<extra></extra>\", \"legendgroup\": \"Electric\", \"marker\": {\"color\": \"#FF6692\"}, \"name\": \"Electric\", \"offsetgroup\": \"Electric\", \"orientation\": \"v\", \"scalegroup\": \"True\", \"showlegend\": true, \"type\": \"violin\", \"x\": [\"Electric\", \"Electric\", \"Electric\", \"Electric\", \"Electric\", \"Electric\", \"Electric\", \"Electric\", \"Electric\"], \"x0\": \" \", \"xaxis\": \"x\", \"y\": [55, 90, 35, 60, 30, 50, 83, 65, 90], \"y0\": \" \", \"yaxis\": \"y\"}, {\"alignmentgroup\": \"True\", \"box\": {\"visible\": false}, \"hovertemplate\": \"Type 1=%{x}<br>Attack=%{y}<extra></extra>\", \"legendgroup\": \"Ground\", \"marker\": {\"color\": \"#B6E880\"}, \"name\": \"Ground\", \"offsetgroup\": \"Ground\", \"orientation\": \"v\", \"scalegroup\": \"True\", \"showlegend\": true, \"type\": \"violin\", \"x\": [\"Ground\", \"Ground\", \"Ground\", \"Ground\", \"Ground\", \"Ground\", \"Ground\", \"Ground\"], \"x0\": \" \", \"xaxis\": \"x\", \"y\": [75, 100, 55, 80, 50, 80, 85, 130], \"y0\": \" \", \"yaxis\": \"y\"}, {\"alignmentgroup\": \"True\", \"box\": {\"visible\": false}, \"hovertemplate\": \"Type 1=%{x}<br>Attack=%{y}<extra></extra>\", \"legendgroup\": \"Fairy\", \"marker\": {\"color\": \"#FF97FF\"}, \"name\": \"Fairy\", \"offsetgroup\": \"Fairy\", \"orientation\": \"v\", \"scalegroup\": \"True\", \"showlegend\": true, \"type\": \"violin\", \"x\": [\"Fairy\", \"Fairy\"], \"x0\": \" \", \"xaxis\": \"x\", \"y\": [45, 70], \"y0\": \" \", \"yaxis\": \"y\"}, {\"alignmentgroup\": \"True\", \"box\": {\"visible\": false}, \"hovertemplate\": \"Type 1=%{x}<br>Attack=%{y}<extra></extra>\", \"legendgroup\": \"Fighting\", \"marker\": {\"color\": \"#FECB52\"}, \"name\": \"Fighting\", \"offsetgroup\": \"Fighting\", \"orientation\": \"v\", \"scalegroup\": \"True\", \"showlegend\": true, \"type\": \"violin\", \"x\": [\"Fighting\", \"Fighting\", \"Fighting\", \"Fighting\", \"Fighting\", \"Fighting\", \"Fighting\"], \"x0\": \" \", \"xaxis\": \"x\", \"y\": [80, 105, 80, 100, 130, 120, 105], \"y0\": \" \", \"yaxis\": \"y\"}, {\"alignmentgroup\": \"True\", \"box\": {\"visible\": false}, \"hovertemplate\": \"Type 1=%{x}<br>Attack=%{y}<extra></extra>\", \"legendgroup\": \"Psychic\", \"marker\": {\"color\": \"#636efa\"}, \"name\": \"Psychic\", \"offsetgroup\": \"Psychic\", \"orientation\": \"v\", \"scalegroup\": \"True\", \"showlegend\": true, \"type\": \"violin\", \"x\": [\"Psychic\", \"Psychic\", \"Psychic\", \"Psychic\", \"Psychic\", \"Psychic\", \"Psychic\", \"Psychic\"], \"x0\": \" \", \"xaxis\": \"x\", \"y\": [20, 35, 50, 48, 73, 45, 110, 100], \"y0\": \" \", \"yaxis\": \"y\"}, {\"alignmentgroup\": \"True\", \"box\": {\"visible\": false}, \"hovertemplate\": \"Type 1=%{x}<br>Attack=%{y}<extra></extra>\", \"legendgroup\": \"Rock\", \"marker\": {\"color\": \"#EF553B\"}, \"name\": \"Rock\", \"offsetgroup\": \"Rock\", \"orientation\": \"v\", \"scalegroup\": \"True\", \"showlegend\": true, \"type\": \"violin\", \"x\": [\"Rock\", \"Rock\", \"Rock\", \"Rock\", \"Rock\", \"Rock\", \"Rock\", \"Rock\", \"Rock\"], \"x0\": \" \", \"xaxis\": \"x\", \"y\": [80, 95, 120, 45, 40, 60, 80, 115, 105], \"y0\": \" \", \"yaxis\": \"y\"}, {\"alignmentgroup\": \"True\", \"box\": {\"visible\": false}, \"hovertemplate\": \"Type 1=%{x}<br>Attack=%{y}<extra></extra>\", \"legendgroup\": \"Ghost\", \"marker\": {\"color\": \"#00cc96\"}, \"name\": \"Ghost\", \"offsetgroup\": \"Ghost\", \"orientation\": \"v\", \"scalegroup\": \"True\", \"showlegend\": true, \"type\": \"violin\", \"x\": [\"Ghost\", \"Ghost\", \"Ghost\"], \"x0\": \" \", \"xaxis\": \"x\", \"y\": [35, 50, 65], \"y0\": \" \", \"yaxis\": \"y\"}, {\"alignmentgroup\": \"True\", \"box\": {\"visible\": false}, \"hovertemplate\": \"Type 1=%{x}<br>Attack=%{y}<extra></extra>\", \"legendgroup\": \"Ice\", \"marker\": {\"color\": \"#ab63fa\"}, \"name\": \"Ice\", \"offsetgroup\": \"Ice\", \"orientation\": \"v\", \"scalegroup\": \"True\", \"showlegend\": true, \"type\": \"violin\", \"x\": [\"Ice\", \"Ice\"], \"x0\": \" \", \"xaxis\": \"x\", \"y\": [50, 85], \"y0\": \" \", \"yaxis\": \"y\"}, {\"alignmentgroup\": \"True\", \"box\": {\"visible\": false}, \"hovertemplate\": \"Type 1=%{x}<br>Attack=%{y}<extra></extra>\", \"legendgroup\": \"Dragon\", \"marker\": {\"color\": \"#FFA15A\"}, \"name\": \"Dragon\", \"offsetgroup\": \"Dragon\", \"orientation\": \"v\", \"scalegroup\": \"True\", \"showlegend\": true, \"type\": \"violin\", \"x\": [\"Dragon\", \"Dragon\", \"Dragon\"], \"x0\": \" \", \"xaxis\": \"x\", \"y\": [64, 84, 134], \"y0\": \" \", \"yaxis\": \"y\"}],                        {\"legend\": {\"title\": {\"text\": \"Type 1\"}, \"tracegroupgap\": 0}, \"margin\": {\"t\": 60}, \"template\": {\"data\": {\"bar\": [{\"error_x\": {\"color\": \"#2a3f5f\"}, \"error_y\": {\"color\": \"#2a3f5f\"}, \"marker\": {\"line\": {\"color\": \"#E5ECF6\", \"width\": 0.5}}, \"type\": \"bar\"}], \"barpolar\": [{\"marker\": {\"line\": {\"color\": \"#E5ECF6\", \"width\": 0.5}}, \"type\": \"barpolar\"}], \"carpet\": [{\"aaxis\": {\"endlinecolor\": \"#2a3f5f\", \"gridcolor\": \"white\", \"linecolor\": \"white\", \"minorgridcolor\": \"white\", \"startlinecolor\": \"#2a3f5f\"}, \"baxis\": {\"endlinecolor\": \"#2a3f5f\", \"gridcolor\": \"white\", \"linecolor\": \"white\", \"minorgridcolor\": \"white\", \"startlinecolor\": \"#2a3f5f\"}, \"type\": \"carpet\"}], \"choropleth\": [{\"colorbar\": {\"outlinewidth\": 0, \"ticks\": \"\"}, \"type\": \"choropleth\"}], \"contour\": [{\"colorbar\": {\"outlinewidth\": 0, \"ticks\": \"\"}, \"colorscale\": [[0.0, \"#0d0887\"], [0.1111111111111111, \"#46039f\"], [0.2222222222222222, \"#7201a8\"], [0.3333333333333333, \"#9c179e\"], [0.4444444444444444, \"#bd3786\"], [0.5555555555555556, \"#d8576b\"], [0.6666666666666666, \"#ed7953\"], [0.7777777777777778, \"#fb9f3a\"], [0.8888888888888888, \"#fdca26\"], [1.0, \"#f0f921\"]], \"type\": \"contour\"}], \"contourcarpet\": [{\"colorbar\": {\"outlinewidth\": 0, \"ticks\": \"\"}, \"type\": \"contourcarpet\"}], \"heatmap\": [{\"colorbar\": {\"outlinewidth\": 0, \"ticks\": \"\"}, \"colorscale\": [[0.0, \"#0d0887\"], [0.1111111111111111, \"#46039f\"], [0.2222222222222222, \"#7201a8\"], [0.3333333333333333, \"#9c179e\"], [0.4444444444444444, \"#bd3786\"], [0.5555555555555556, \"#d8576b\"], [0.6666666666666666, \"#ed7953\"], [0.7777777777777778, \"#fb9f3a\"], [0.8888888888888888, \"#fdca26\"], [1.0, \"#f0f921\"]], \"type\": \"heatmap\"}], \"heatmapgl\": [{\"colorbar\": {\"outlinewidth\": 0, \"ticks\": \"\"}, \"colorscale\": [[0.0, \"#0d0887\"], [0.1111111111111111, \"#46039f\"], [0.2222222222222222, \"#7201a8\"], [0.3333333333333333, \"#9c179e\"], [0.4444444444444444, \"#bd3786\"], [0.5555555555555556, \"#d8576b\"], [0.6666666666666666, \"#ed7953\"], [0.7777777777777778, \"#fb9f3a\"], [0.8888888888888888, \"#fdca26\"], [1.0, \"#f0f921\"]], \"type\": \"heatmapgl\"}], \"histogram\": [{\"marker\": {\"colorbar\": {\"outlinewidth\": 0, \"ticks\": \"\"}}, \"type\": \"histogram\"}], \"histogram2d\": [{\"colorbar\": {\"outlinewidth\": 0, \"ticks\": \"\"}, \"colorscale\": [[0.0, \"#0d0887\"], [0.1111111111111111, \"#46039f\"], [0.2222222222222222, \"#7201a8\"], [0.3333333333333333, \"#9c179e\"], [0.4444444444444444, \"#bd3786\"], [0.5555555555555556, \"#d8576b\"], [0.6666666666666666, \"#ed7953\"], [0.7777777777777778, \"#fb9f3a\"], [0.8888888888888888, \"#fdca26\"], [1.0, \"#f0f921\"]], \"type\": \"histogram2d\"}], \"histogram2dcontour\": [{\"colorbar\": {\"outlinewidth\": 0, \"ticks\": \"\"}, \"colorscale\": [[0.0, \"#0d0887\"], [0.1111111111111111, \"#46039f\"], [0.2222222222222222, \"#7201a8\"], [0.3333333333333333, \"#9c179e\"], [0.4444444444444444, \"#bd3786\"], [0.5555555555555556, \"#d8576b\"], [0.6666666666666666, \"#ed7953\"], [0.7777777777777778, \"#fb9f3a\"], [0.8888888888888888, \"#fdca26\"], [1.0, \"#f0f921\"]], \"type\": \"histogram2dcontour\"}], \"mesh3d\": [{\"colorbar\": {\"outlinewidth\": 0, \"ticks\": \"\"}, \"type\": \"mesh3d\"}], \"parcoords\": [{\"line\": {\"colorbar\": {\"outlinewidth\": 0, \"ticks\": \"\"}}, \"type\": \"parcoords\"}], \"pie\": [{\"automargin\": true, \"type\": \"pie\"}], \"scatter\": [{\"marker\": {\"colorbar\": {\"outlinewidth\": 0, \"ticks\": \"\"}}, \"type\": \"scatter\"}], \"scatter3d\": [{\"line\": {\"colorbar\": {\"outlinewidth\": 0, \"ticks\": \"\"}}, \"marker\": {\"colorbar\": {\"outlinewidth\": 0, \"ticks\": \"\"}}, \"type\": \"scatter3d\"}], \"scattercarpet\": [{\"marker\": {\"colorbar\": {\"outlinewidth\": 0, \"ticks\": \"\"}}, \"type\": \"scattercarpet\"}], \"scattergeo\": [{\"marker\": {\"colorbar\": {\"outlinewidth\": 0, \"ticks\": \"\"}}, \"type\": \"scattergeo\"}], \"scattergl\": [{\"marker\": {\"colorbar\": {\"outlinewidth\": 0, \"ticks\": \"\"}}, \"type\": \"scattergl\"}], \"scattermapbox\": [{\"marker\": {\"colorbar\": {\"outlinewidth\": 0, \"ticks\": \"\"}}, \"type\": \"scattermapbox\"}], \"scatterpolar\": [{\"marker\": {\"colorbar\": {\"outlinewidth\": 0, \"ticks\": \"\"}}, \"type\": \"scatterpolar\"}], \"scatterpolargl\": [{\"marker\": {\"colorbar\": {\"outlinewidth\": 0, \"ticks\": \"\"}}, \"type\": \"scatterpolargl\"}], \"scatterternary\": [{\"marker\": {\"colorbar\": {\"outlinewidth\": 0, \"ticks\": \"\"}}, \"type\": \"scatterternary\"}], \"surface\": [{\"colorbar\": {\"outlinewidth\": 0, \"ticks\": \"\"}, \"colorscale\": [[0.0, \"#0d0887\"], [0.1111111111111111, \"#46039f\"], [0.2222222222222222, \"#7201a8\"], [0.3333333333333333, \"#9c179e\"], [0.4444444444444444, \"#bd3786\"], [0.5555555555555556, \"#d8576b\"], [0.6666666666666666, \"#ed7953\"], [0.7777777777777778, \"#fb9f3a\"], [0.8888888888888888, \"#fdca26\"], [1.0, \"#f0f921\"]], \"type\": \"surface\"}], \"table\": [{\"cells\": {\"fill\": {\"color\": \"#EBF0F8\"}, \"line\": {\"color\": \"white\"}}, \"header\": {\"fill\": {\"color\": \"#C8D4E3\"}, \"line\": {\"color\": \"white\"}}, \"type\": \"table\"}]}, \"layout\": {\"annotationdefaults\": {\"arrowcolor\": \"#2a3f5f\", \"arrowhead\": 0, \"arrowwidth\": 1}, \"autotypenumbers\": \"strict\", \"coloraxis\": {\"colorbar\": {\"outlinewidth\": 0, \"ticks\": \"\"}}, \"colorscale\": {\"diverging\": [[0, \"#8e0152\"], [0.1, \"#c51b7d\"], [0.2, \"#de77ae\"], [0.3, \"#f1b6da\"], [0.4, \"#fde0ef\"], [0.5, \"#f7f7f7\"], [0.6, \"#e6f5d0\"], [0.7, \"#b8e186\"], [0.8, \"#7fbc41\"], [0.9, \"#4d9221\"], [1, \"#276419\"]], \"sequential\": [[0.0, \"#0d0887\"], [0.1111111111111111, \"#46039f\"], [0.2222222222222222, \"#7201a8\"], [0.3333333333333333, \"#9c179e\"], [0.4444444444444444, \"#bd3786\"], [0.5555555555555556, \"#d8576b\"], [0.6666666666666666, \"#ed7953\"], [0.7777777777777778, \"#fb9f3a\"], [0.8888888888888888, \"#fdca26\"], [1.0, \"#f0f921\"]], \"sequentialminus\": [[0.0, \"#0d0887\"], [0.1111111111111111, \"#46039f\"], [0.2222222222222222, \"#7201a8\"], [0.3333333333333333, \"#9c179e\"], [0.4444444444444444, \"#bd3786\"], [0.5555555555555556, \"#d8576b\"], [0.6666666666666666, \"#ed7953\"], [0.7777777777777778, \"#fb9f3a\"], [0.8888888888888888, \"#fdca26\"], [1.0, \"#f0f921\"]]}, \"colorway\": [\"#636efa\", \"#EF553B\", \"#00cc96\", \"#ab63fa\", \"#FFA15A\", \"#19d3f3\", \"#FF6692\", \"#B6E880\", \"#FF97FF\", \"#FECB52\"], \"font\": {\"color\": \"#2a3f5f\"}, \"geo\": {\"bgcolor\": \"white\", \"lakecolor\": \"white\", \"landcolor\": \"#E5ECF6\", \"showlakes\": true, \"showland\": true, \"subunitcolor\": \"white\"}, \"hoverlabel\": {\"align\": \"left\"}, \"hovermode\": \"closest\", \"mapbox\": {\"style\": \"light\"}, \"paper_bgcolor\": \"white\", \"plot_bgcolor\": \"#E5ECF6\", \"polar\": {\"angularaxis\": {\"gridcolor\": \"white\", \"linecolor\": \"white\", \"ticks\": \"\"}, \"bgcolor\": \"#E5ECF6\", \"radialaxis\": {\"gridcolor\": \"white\", \"linecolor\": \"white\", \"ticks\": \"\"}}, \"scene\": {\"xaxis\": {\"backgroundcolor\": \"#E5ECF6\", \"gridcolor\": \"white\", \"gridwidth\": 2, \"linecolor\": \"white\", \"showbackground\": true, \"ticks\": \"\", \"zerolinecolor\": \"white\"}, \"yaxis\": {\"backgroundcolor\": \"#E5ECF6\", \"gridcolor\": \"white\", \"gridwidth\": 2, \"linecolor\": \"white\", \"showbackground\": true, \"ticks\": \"\", \"zerolinecolor\": \"white\"}, \"zaxis\": {\"backgroundcolor\": \"#E5ECF6\", \"gridcolor\": \"white\", \"gridwidth\": 2, \"linecolor\": \"white\", \"showbackground\": true, \"ticks\": \"\", \"zerolinecolor\": \"white\"}}, \"shapedefaults\": {\"line\": {\"color\": \"#2a3f5f\"}}, \"ternary\": {\"aaxis\": {\"gridcolor\": \"white\", \"linecolor\": \"white\", \"ticks\": \"\"}, \"baxis\": {\"gridcolor\": \"white\", \"linecolor\": \"white\", \"ticks\": \"\"}, \"bgcolor\": \"#E5ECF6\", \"caxis\": {\"gridcolor\": \"white\", \"linecolor\": \"white\", \"ticks\": \"\"}}, \"title\": {\"x\": 0.05}, \"xaxis\": {\"automargin\": true, \"gridcolor\": \"white\", \"linecolor\": \"white\", \"ticks\": \"\", \"title\": {\"standoff\": 15}, \"zerolinecolor\": \"white\", \"zerolinewidth\": 2}, \"yaxis\": {\"automargin\": true, \"gridcolor\": \"white\", \"linecolor\": \"white\", \"ticks\": \"\", \"title\": {\"standoff\": 15}, \"zerolinecolor\": \"white\", \"zerolinewidth\": 2}}}, \"violinmode\": \"overlay\", \"xaxis\": {\"anchor\": \"y\", \"categoryarray\": [\"Grass\", \"Fire\", \"Water\", \"Bug\", \"Normal\", \"Poison\", \"Electric\", \"Ground\", \"Fairy\", \"Fighting\", \"Psychic\", \"Rock\", \"Ghost\", \"Ice\", \"Dragon\"], \"categoryorder\": \"array\", \"domain\": [0.0, 1.0], \"title\": {\"text\": \"Type 1\"}}, \"yaxis\": {\"anchor\": \"x\", \"domain\": [0.0, 1.0], \"title\": {\"text\": \"Attack\"}}},                        {\"responsive\": true}                    ).then(function(){\n",
       "                            \n",
       "var gd = document.getElementById('3528d996-e24c-45d6-9094-d6af650b136a');\n",
       "var x = new MutationObserver(function (mutations, observer) {{\n",
       "        var display = window.getComputedStyle(gd).display;\n",
       "        if (!display || display === 'none') {{\n",
       "            console.log([gd, 'removed!']);\n",
       "            Plotly.purge(gd);\n",
       "            observer.disconnect();\n",
       "        }}\n",
       "}});\n",
       "\n",
       "// Listen for the removal of the full notebook cells\n",
       "var notebookContainer = gd.closest('#notebook-container');\n",
       "if (notebookContainer) {{\n",
       "    x.observe(notebookContainer, {childList: true});\n",
       "}}\n",
       "\n",
       "// Listen for the clearing of the current output cell\n",
       "var outputEl = gd.closest('.output');\n",
       "if (outputEl) {{\n",
       "    x.observe(outputEl, {childList: true});\n",
       "}}\n",
       "\n",
       "                        })                };                });            </script>        </div>"
      ]
     },
     "metadata": {},
     "output_type": "display_data"
    }
   ],
   "source": [
    "fig = px.violin(df, x = 'Type 1', y = 'Attack', color= 'Type 1')\n",
    "fig.show()"
   ]
  }
 ],
 "metadata": {
  "kernelspec": {
   "display_name": "Python 3",
   "language": "python",
   "name": "python3"
  },
  "language_info": {
   "codemirror_mode": {
    "name": "ipython",
    "version": 3
   },
   "file_extension": ".py",
   "mimetype": "text/x-python",
   "name": "python",
   "nbconvert_exporter": "python",
   "pygments_lexer": "ipython3",
   "version": "3.8.5"
  }
 },
 "nbformat": 4,
 "nbformat_minor": 4
}
