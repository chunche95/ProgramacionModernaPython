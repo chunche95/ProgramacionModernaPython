{
 "cells": [
  {
   "cell_type": "markdown",
   "metadata": {},
   "source": [
    "# Questions of this task.\n",
    "- Make a distribution plot (histogram) of the 'Fare' attribute of the data using Matplotlib\n",
    "\n",
    "- Make a distribution plot of the 'Fare' attribute of the data using Seaborn\n",
    "\n",
    "- Make a joint plot comparing the 'Fare' and 'Age' attributes of the data using Seaborn.\n",
    "\n",
    "- Make a box plot comparing the 'Pclass' attribute (x axis) with the 'Age' attribute (y axis) using Seaborn\n",
    "\n",
    "- Make a violin plot comparing the 'Embarked' attribute (x axis) with the 'Age' attribute (y axis) using Seaborn\n",
    "\n",
    "- Make a count plot of the 'Pclass' attribute using Seaborn to display the number of passengers in each class\n",
    "\n",
    "- Calculate the correlation of the DataFrame using Pandas, and make a heatmap of the correlation using Plotly (Don't forget to add the labels of the dataframe to the x and y axis).\n",
    "\n",
    "- Make a violin plot comparing the 'Pclass' attribute (x axis) with the 'Age' attribute of the data using Plotly\n",
    "\n",
    "- Make a density heatmap comparing the 'Pclass' attribute with the 'Survived' attribute using Plotly to see the number of people that survived or didn't survive in each passenger class\n",
    "\n",
    "# Preguntas de esta tarea\n",
    "- Haga una gráfica de distribución ( histograma ) del atributo 'Tarifa' de los datos usando Matplotlib\n",
    "\n",
    "- Haga una gráfica de distribución del atributo 'Tarifa' de los datos usando Seaborn\n",
    "\n",
    "- Haga una gráfica conjunta comparando los atributos 'Tarifa' y 'Edad' de los datos usando Seaborn .\n",
    "\n",
    "- Haga un diagrama de caja comparando el atributo 'Pclass' (eje x) con el atributo 'Edad' (eje y) usando Seaborn\n",
    "\n",
    "- Haga un diagrama de violín comparando el atributo 'Embarked' (eje x) con el atributo 'Edad' (eje y) usando  Seaborn\n",
    "\n",
    "- Haga un gráfico de recuento del atributo 'Pclass' utilizando Seaborn para mostrar el número de pasajeros en cada clase\n",
    "\n",
    "- Calcule la correlación del DataFrame usando Pandas y haga un mapa de calor de la correlación usando Plotly (No olvide agregar las etiquetas del dataframe al eje xey).\n",
    "\n",
    "- Haga un diagrama de violín comparando el atributo 'Pclass' (eje x) con el atributo 'Edad' de los datos usando Plotly\n",
    "\n",
    "- Haga un mapa de calor de densidad comparando el atributo 'Pclass' con el atributo 'Sobrevivido' usando Plotly para ver la cantidad de personas que sobrevivieron o no sobrevivieron en cada clase de pasajero"
   ]
  },
  {
   "cell_type": "code",
   "execution_count": null,
   "metadata": {},
   "outputs": [],
   "source": []
  }
 ],
 "metadata": {
  "kernelspec": {
   "display_name": "Python 3",
   "language": "python",
   "name": "python3"
  },
  "language_info": {
   "codemirror_mode": {
    "name": "ipython",
    "version": 3
   },
   "file_extension": ".py",
   "mimetype": "text/x-python",
   "name": "python",
   "nbconvert_exporter": "python",
   "pygments_lexer": "ipython3",
   "version": "3.8.5"
  }
 },
 "nbformat": 4,
 "nbformat_minor": 4
}
