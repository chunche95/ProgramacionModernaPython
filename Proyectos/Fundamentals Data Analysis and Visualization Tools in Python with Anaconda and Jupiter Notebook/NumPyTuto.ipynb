{
 "cells": [
  {
   "cell_type": "code",
   "execution_count": 2,
   "metadata": {},
   "outputs": [],
   "source": [
    "import numpy as np"
   ]
  },
  {
   "cell_type": "code",
   "execution_count": 9,
   "metadata": {},
   "outputs": [
    {
     "name": "stdout",
     "output_type": "stream",
     "text": [
      "[1 2 3]\n",
      "(3,)\n",
      "1 2 3\n",
      "[6 2 3]\n",
      "[[1 2 3]\n",
      " [4 5 6]]\n",
      "(2, 3)\n",
      "1\n",
      "['12.43' '198300000.0' '1e-08' '3e+23' '0' '4' 'patatas']\n"
     ]
    }
   ],
   "source": [
    "a = np.array([1,2,3])\n",
    "print(a)\n",
    "print(a.shape)\n",
    "print(a[0],a[1],a[2])\n",
    "a[0]= 6\n",
    "print(a)\n",
    "b = np.array([[1,2,3] , [4,5,6]])\n",
    "print(b)\n",
    "print(b.shape)\n",
    "print(b[0,0])\n",
    "\n",
    "c = np.array([12.43 , 1983e5 , 0.00000001 , 3e+23 , 0 , 4 , 'patatas'])\n",
    "print(c)"
   ]
  },
  {
   "cell_type": "code",
   "execution_count": 17,
   "metadata": {},
   "outputs": [
    {
     "name": "stdout",
     "output_type": "stream",
     "text": [
      "[[0. 0. 0.]\n",
      " [0. 0. 0.]]\n",
      "[[1. 1.]\n",
      " [1. 1.]\n",
      " [1. 1.]\n",
      " [1. 1.]\n",
      " [1. 1.]]\n",
      "[[9 9 9 9 9 9 9 9]\n",
      " [9 9 9 9 9 9 9 9]]\n",
      "[[0.54340983 0.88060159 0.5481108  0.71732408]\n",
      " [0.94480577 0.36123886 0.60848148 0.09398633]\n",
      " [0.50249318 0.11304732 0.53933011 0.26691398]]\n"
     ]
    }
   ],
   "source": [
    "a = np.zeros((2,3))\n",
    "print(a)\n",
    "\n",
    "b =  np.ones((5,2))\n",
    "print(b)\n",
    "\n",
    "c = np.full((2,8) , 9)\n",
    "print(c)\n",
    "\n",
    "d = np.random.random((3,4))\n",
    "print(d)\n"
   ]
  },
  {
   "cell_type": "code",
   "execution_count": 25,
   "metadata": {},
   "outputs": [
    {
     "name": "stdout",
     "output_type": "stream",
     "text": [
      "[['1' '4' '78' '9']\n",
      " ['34.54' '65.76' '98.09' '76.687']\n",
      " ['python' 'data' 'numpy' 'jupyter']]\n",
      "\n",
      "[['4' '78']\n",
      " ['65.76' '98.09']]\n"
     ]
    }
   ],
   "source": [
    " a = np.array([\n",
    "     [1,4,78,9], \n",
    "     [34.54,65.76,98.09,76.687],\n",
    "     ['python','data','numpy', 'jupyter']\n",
    " ])\n",
    "\n",
    "print (a)\n",
    "print()\n",
    "b = a[:2 , 1:3]    \n",
    "print(b)"
   ]
  },
  {
   "cell_type": "code",
   "execution_count": 30,
   "metadata": {},
   "outputs": [
    {
     "name": "stdout",
     "output_type": "stream",
     "text": [
      "[[11 11 11 11 11]\n",
      " [11 11 11 11 11]]\n",
      "---------------------\n",
      "[[11 11 11 11 11]\n",
      " [11 11 11 11 11]]\n",
      "---------------------\n",
      "[[-9 -7 -5 -3 -1]\n",
      " [ 1  3  5  7  9]]\n",
      "---------------------\n",
      "[[10 18 24 28 30]\n",
      " [30 28 24 18 10]]\n",
      "---------------------\n",
      "[[ 0.1         0.22222222  0.375       0.57142857  0.83333333]\n",
      " [ 1.2         1.75        2.66666667  4.5        10.        ]]\n",
      "---------------------\n",
      "55\n",
      "---------------------\n",
      "[ 7  9 11 13 15]\n",
      "[15 40]\n",
      "---------------------\n",
      "[15 13 11  9  7]\n",
      "[40 15]\n"
     ]
    }
   ],
   "source": [
    "# Operaciones de arrays\n",
    "x = np.array([[1,2,3,4,5], [6,7,8,9,10]])\n",
    "y = np.array([[10,9,8,7,6] , [5,4,3,2,1]])\n",
    "\n",
    "print (x+y)\n",
    "print(\"---------------------\")\n",
    "print (np.add(x,y))\n",
    "print(\"---------------------\")\n",
    "print (np.subtract(x,y))\n",
    "print(\"---------------------\")\n",
    "print (np.multiply(x,y))\n",
    "print(\"---------------------\")\n",
    "print (np.divide(x,y))\n",
    "print(\"---------------------\")\n",
    "print (np.sum(x))\n",
    "print(\"---------------------\")\n",
    "print(np.sum(x , axis = 0))\n",
    "print(np.sum(x , axis = 1))\n",
    "print(\"---------------------\")\n",
    "print(np.sum(y , axis = 0))\n",
    "print(np.sum(y , axis = 1))"
   ]
  },
  {
   "cell_type": "code",
   "execution_count": null,
   "metadata": {},
   "outputs": [],
   "source": []
  }
 ],
 "metadata": {
  "kernelspec": {
   "display_name": "Python 3",
   "language": "python",
   "name": "python3"
  },
  "language_info": {
   "codemirror_mode": {
    "name": "ipython",
    "version": 3
   },
   "file_extension": ".py",
   "mimetype": "text/x-python",
   "name": "python",
   "nbconvert_exporter": "python",
   "pygments_lexer": "ipython3",
   "version": "3.8.5"
  }
 },
 "nbformat": 4,
 "nbformat_minor": 4
}
