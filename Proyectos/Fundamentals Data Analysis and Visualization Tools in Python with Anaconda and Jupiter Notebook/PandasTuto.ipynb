{
 "cells": [
  {
   "cell_type": "code",
   "execution_count": 1,
   "metadata": {},
   "outputs": [],
   "source": [
    "import pandas as pd"
   ]
  },
  {
   "cell_type": "code",
   "execution_count": 4,
   "metadata": {},
   "outputs": [
    {
     "name": "stdout",
     "output_type": "stream",
     "text": [
      "0      Mari\n",
      "1     Sonia\n",
      "2    Julian\n",
      "3    Felipe\n",
      "4    Juanjo\n",
      "dtype: object\n",
      "···············\n",
      "Mari\n",
      "···············\n",
      "1     Sonia\n",
      "2    Julian\n",
      "3    Felipe\n",
      "dtype: object\n",
      "···············\n",
      "0      Mari\n",
      "1     Sonia\n",
      "3    Felipe\n",
      "dtype: object\n",
      "1     Sonia\n",
      "2    Julian\n",
      "3    Felipe\n",
      "4    Juanjo\n",
      "dtype: object\n"
     ]
    }
   ],
   "source": [
    "s = pd.Series(['Mari', 'Sonia', 'Julian', 'Felipe', 'Juanjo'])\n",
    "\n",
    "print(s)\n",
    "print (\"···············\")\n",
    "print(s[0])\n",
    "print (\"···············\")\n",
    "print(s[1:4])\n",
    "print (\"···············\")\n",
    "print(s[[0,1,3]])\n",
    "\n",
    "param = s != 'Mari'\n",
    "\n",
    "print(s[param])"
   ]
  },
  {
   "cell_type": "code",
   "execution_count": null,
   "metadata": {},
   "outputs": [],
   "source": []
  },
  {
   "cell_type": "code",
   "execution_count": null,
   "metadata": {},
   "outputs": [],
   "source": []
  },
  {
   "cell_type": "code",
   "execution_count": null,
   "metadata": {},
   "outputs": [],
   "source": []
  }
 ],
 "metadata": {
  "kernelspec": {
   "display_name": "Python 3",
   "language": "python",
   "name": "python3"
  },
  "language_info": {
   "codemirror_mode": {
    "name": "ipython",
    "version": 3
   },
   "file_extension": ".py",
   "mimetype": "text/x-python",
   "name": "python",
   "nbconvert_exporter": "python",
   "pygments_lexer": "ipython3",
   "version": "3.8.5"
  }
 },
 "nbformat": 4,
 "nbformat_minor": 4
}
