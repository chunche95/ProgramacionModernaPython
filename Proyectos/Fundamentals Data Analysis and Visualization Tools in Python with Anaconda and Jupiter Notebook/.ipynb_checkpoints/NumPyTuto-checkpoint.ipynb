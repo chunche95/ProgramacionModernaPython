{
 "cells": [
  {
   "cell_type": "code",
   "execution_count": 2,
   "metadata": {},
   "outputs": [],
   "source": [
    "import numpy as np"
   ]
  },
  {
   "cell_type": "code",
   "execution_count": 9,
   "metadata": {},
   "outputs": [
    {
     "name": "stdout",
     "output_type": "stream",
     "text": [
      "[1 2 3]\n",
      "(3,)\n",
      "1 2 3\n",
      "[6 2 3]\n",
      "[[1 2 3]\n",
      " [4 5 6]]\n",
      "(2, 3)\n",
      "1\n",
      "['12.43' '198300000.0' '1e-08' '3e+23' '0' '4' 'patatas']\n"
     ]
    }
   ],
   "source": [
    "a = np.array([1,2,3])\n",
    "print(a)\n",
    "print(a.shape)\n",
    "print(a[0],a[1],a[2])\n",
    "a[0]= 6\n",
    "print(a)\n",
    "b = np.array([[1,2,3] , [4,5,6]])\n",
    "print(b)\n",
    "print(b.shape)\n",
    "print(b[0,0])\n",
    "\n",
    "c = np.array([12.43 , 1983e5 , 0.00000001 , 3e+23 , 0 , 4 , 'patatas'])\n",
    "print(c)"
   ]
  },
  {
   "cell_type": "code",
   "execution_count": 17,
   "metadata": {},
   "outputs": [
    {
     "name": "stdout",
     "output_type": "stream",
     "text": [
      "[[0. 0. 0.]\n",
      " [0. 0. 0.]]\n",
      "[[1. 1.]\n",
      " [1. 1.]\n",
      " [1. 1.]\n",
      " [1. 1.]\n",
      " [1. 1.]]\n",
      "[[9 9 9 9 9 9 9 9]\n",
      " [9 9 9 9 9 9 9 9]]\n",
      "[[0.54340983 0.88060159 0.5481108  0.71732408]\n",
      " [0.94480577 0.36123886 0.60848148 0.09398633]\n",
      " [0.50249318 0.11304732 0.53933011 0.26691398]]\n"
     ]
    }
   ],
   "source": [
    "a = np.zeros((2,3))\n",
    "print(a)\n",
    "\n",
    "b =  np.ones((5,2))\n",
    "print(b)\n",
    "\n",
    "c = np.full((2,8) , 9)\n",
    "print(c)\n",
    "\n",
    "d = np.random.random((3,4))\n",
    "print(d)\n"
   ]
  },
  {
   "cell_type": "code",
   "execution_count": 23,
   "metadata": {},
   "outputs": [
    {
     "name": "stdout",
     "output_type": "stream",
     "text": [
      "[['1' '4' '78' '9']\n",
      " ['34.54' '65.76' '98.09' '76.687']\n",
      " ['python' 'data' 'numpy' 'jupyter']]\n"
     ]
    }
   ],
   "source": [
    " a = np.array([\n",
    "     [1,4,78,9], \n",
    "     [34.54,65.76,98.09,76.687],\n",
    "     ['python','data','numpy', 'jupyter']\n",
    " ])\n",
    "\n",
    "print (a)\n",
    "    "
   ]
  },
  {
   "cell_type": "code",
   "execution_count": null,
   "metadata": {},
   "outputs": [],
   "source": []
  },
  {
   "cell_type": "code",
   "execution_count": null,
   "metadata": {},
   "outputs": [],
   "source": []
  }
 ],
 "metadata": {
  "kernelspec": {
   "display_name": "Python 3",
   "language": "python",
   "name": "python3"
  },
  "language_info": {
   "codemirror_mode": {
    "name": "ipython",
    "version": 3
   },
   "file_extension": ".py",
   "mimetype": "text/x-python",
   "name": "python",
   "nbconvert_exporter": "python",
   "pygments_lexer": "ipython3",
   "version": "3.8.5"
  }
 },
 "nbformat": 4,
 "nbformat_minor": 4
}
